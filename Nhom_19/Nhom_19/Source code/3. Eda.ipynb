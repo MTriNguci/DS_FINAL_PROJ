{
 "cells": [
  {
   "cell_type": "markdown",
   "metadata": {},
   "source": [
    "# 3. Explore the data & using data to answer meaningful Question (EDA)"
   ]
  },
  {
   "cell_type": "code",
   "execution_count": 1,
   "metadata": {},
   "outputs": [],
   "source": [
    "# import library\n",
    "import pandas as pd\n",
    "from datetime import datetime\n",
    "import numpy as np\n",
    "import plotly.express as px\n",
    "import plotly.graph_objects as go\n",
    "import matplotlib.pyplot as plt\n",
    "import seaborn as sns\n",
    "from sklearn.preprocessing import MinMaxScaler\n",
    "from plotly.subplots import make_subplots"
   ]
  },
  {
   "cell_type": "markdown",
   "metadata": {},
   "source": [
    "### First, let's read our data and take a quick view"
   ]
  },
  {
   "cell_type": "code",
   "execution_count": 2,
   "metadata": {},
   "outputs": [
    {
     "data": {
      "text/html": [
       "<div>\n",
       "<style scoped>\n",
       "    .dataframe tbody tr th:only-of-type {\n",
       "        vertical-align: middle;\n",
       "    }\n",
       "\n",
       "    .dataframe tbody tr th {\n",
       "        vertical-align: top;\n",
       "    }\n",
       "\n",
       "    .dataframe thead th {\n",
       "        text-align: right;\n",
       "    }\n",
       "</style>\n",
       "<table border=\"1\" class=\"dataframe\">\n",
       "  <thead>\n",
       "    <tr style=\"text-align: right;\">\n",
       "      <th></th>\n",
       "      <th>CARNAME</th>\n",
       "      <th>ID</th>\n",
       "      <th>Make</th>\n",
       "      <th>Model</th>\n",
       "      <th>Body color</th>\n",
       "      <th>Interior color</th>\n",
       "      <th>Interior material</th>\n",
       "      <th>Body</th>\n",
       "      <th>Doors</th>\n",
       "      <th>Seats</th>\n",
       "      <th>...</th>\n",
       "      <th>CO2 emissions(g/km)</th>\n",
       "      <th>Emission class</th>\n",
       "      <th>Mileage(km)</th>\n",
       "      <th>First registration</th>\n",
       "      <th>Condition</th>\n",
       "      <th>Consumption(l/100km or kWh/100km)</th>\n",
       "      <th>Price(EUR)</th>\n",
       "      <th>Tags</th>\n",
       "      <th>Engine capacity(ccm)</th>\n",
       "      <th>Previous owners</th>\n",
       "    </tr>\n",
       "  </thead>\n",
       "  <tbody>\n",
       "    <tr>\n",
       "      <th>0</th>\n",
       "      <td>hyundai kona</td>\n",
       "      <td>61032325</td>\n",
       "      <td>Hyundai</td>\n",
       "      <td>Kona</td>\n",
       "      <td>Grey</td>\n",
       "      <td>Black interior</td>\n",
       "      <td>Full leather interior</td>\n",
       "      <td>SUV / offroad</td>\n",
       "      <td>4/5 doors</td>\n",
       "      <td>5.0</td>\n",
       "      <td>...</td>\n",
       "      <td>0</td>\n",
       "      <td>No emission class</td>\n",
       "      <td>10</td>\n",
       "      <td>2023-09-01</td>\n",
       "      <td>New</td>\n",
       "      <td>5.908385</td>\n",
       "      <td>53099</td>\n",
       "      <td>Ventilated front seats; Heated rear seats; Par...</td>\n",
       "      <td>1499.0</td>\n",
       "      <td>0.0</td>\n",
       "    </tr>\n",
       "    <tr>\n",
       "      <th>1</th>\n",
       "      <td>volkswagen up!</td>\n",
       "      <td>61032250</td>\n",
       "      <td>Volkswagen</td>\n",
       "      <td>up!</td>\n",
       "      <td>Black</td>\n",
       "      <td>Other interior color</td>\n",
       "      <td>Cloth interior</td>\n",
       "      <td>Hatchback</td>\n",
       "      <td>4/5 doors</td>\n",
       "      <td>4.0</td>\n",
       "      <td>...</td>\n",
       "      <td>112</td>\n",
       "      <td>Euro 6d</td>\n",
       "      <td>35</td>\n",
       "      <td>2023-09-01</td>\n",
       "      <td>New</td>\n",
       "      <td>5.500000</td>\n",
       "      <td>27749</td>\n",
       "      <td>Heated front seats; Bluetooth; Automatic A/C; ...</td>\n",
       "      <td>999.0</td>\n",
       "      <td>0.0</td>\n",
       "    </tr>\n",
       "    <tr>\n",
       "      <th>2</th>\n",
       "      <td>seat ibiza</td>\n",
       "      <td>61032203</td>\n",
       "      <td>Seat</td>\n",
       "      <td>Ibiza</td>\n",
       "      <td>Black</td>\n",
       "      <td>Grey interior</td>\n",
       "      <td>Cloth interior</td>\n",
       "      <td>Hatchback</td>\n",
       "      <td>4/5 doors</td>\n",
       "      <td>5.0</td>\n",
       "      <td>...</td>\n",
       "      <td>110</td>\n",
       "      <td>Euro 6</td>\n",
       "      <td>2855</td>\n",
       "      <td>2023-06-01</td>\n",
       "      <td>Demonstration car</td>\n",
       "      <td>4.800000</td>\n",
       "      <td>27549</td>\n",
       "      <td>LED headlights; Digital cockpit; Keyless entry...</td>\n",
       "      <td>999.0</td>\n",
       "      <td>0.0</td>\n",
       "    </tr>\n",
       "    <tr>\n",
       "      <th>3</th>\n",
       "      <td>ford kuga</td>\n",
       "      <td>61032104</td>\n",
       "      <td>Ford</td>\n",
       "      <td>Kuga</td>\n",
       "      <td>Silver</td>\n",
       "      <td>Black interior</td>\n",
       "      <td>Cloth interior</td>\n",
       "      <td>SUV / offroad</td>\n",
       "      <td>4/5 doors</td>\n",
       "      <td>5.0</td>\n",
       "      <td>...</td>\n",
       "      <td>125</td>\n",
       "      <td>Euro 6d</td>\n",
       "      <td>8</td>\n",
       "      <td>2023-04-01</td>\n",
       "      <td>New</td>\n",
       "      <td>6.600000</td>\n",
       "      <td>37249</td>\n",
       "      <td>Heated rear seats; LED headlights; Digital coc...</td>\n",
       "      <td>1496.0</td>\n",
       "      <td>1.0</td>\n",
       "    </tr>\n",
       "    <tr>\n",
       "      <th>4</th>\n",
       "      <td>dodge nitro</td>\n",
       "      <td>61032099</td>\n",
       "      <td>Dodge</td>\n",
       "      <td>Nitro</td>\n",
       "      <td>White</td>\n",
       "      <td>Black interior</td>\n",
       "      <td>Full leather interior</td>\n",
       "      <td>SUV / offroad</td>\n",
       "      <td>4/5 doors</td>\n",
       "      <td>5.0</td>\n",
       "      <td>...</td>\n",
       "      <td>288</td>\n",
       "      <td>Euro 4</td>\n",
       "      <td>158863</td>\n",
       "      <td>2011-04-01</td>\n",
       "      <td>Used</td>\n",
       "      <td>12.100000</td>\n",
       "      <td>14799</td>\n",
       "      <td>Electric adjustable front seats; Heated front ...</td>\n",
       "      <td>3952.0</td>\n",
       "      <td>2.0</td>\n",
       "    </tr>\n",
       "  </tbody>\n",
       "</table>\n",
       "<p>5 rows × 24 columns</p>\n",
       "</div>"
      ],
      "text/plain": [
       "          CARNAME        ID        Make  Model Body color  \\\n",
       "0    hyundai kona  61032325     Hyundai   Kona       Grey   \n",
       "1  volkswagen up!  61032250  Volkswagen    up!      Black   \n",
       "2      seat ibiza  61032203        Seat  Ibiza      Black   \n",
       "3       ford kuga  61032104        Ford   Kuga     Silver   \n",
       "4     dodge nitro  61032099       Dodge  Nitro      White   \n",
       "\n",
       "         Interior color      Interior material           Body      Doors  \\\n",
       "0        Black interior  Full leather interior  SUV / offroad  4/5 doors   \n",
       "1  Other interior color         Cloth interior      Hatchback  4/5 doors   \n",
       "2         Grey interior         Cloth interior      Hatchback  4/5 doors   \n",
       "3        Black interior         Cloth interior  SUV / offroad  4/5 doors   \n",
       "4        Black interior  Full leather interior  SUV / offroad  4/5 doors   \n",
       "\n",
       "   Seats  ... CO2 emissions(g/km)     Emission class Mileage(km)  \\\n",
       "0    5.0  ...                   0  No emission class          10   \n",
       "1    4.0  ...                 112            Euro 6d          35   \n",
       "2    5.0  ...                 110             Euro 6        2855   \n",
       "3    5.0  ...                 125            Euro 6d           8   \n",
       "4    5.0  ...                 288             Euro 4      158863   \n",
       "\n",
       "   First registration          Condition Consumption(l/100km or kWh/100km)  \\\n",
       "0          2023-09-01                New                          5.908385   \n",
       "1          2023-09-01                New                          5.500000   \n",
       "2          2023-06-01  Demonstration car                          4.800000   \n",
       "3          2023-04-01                New                          6.600000   \n",
       "4          2011-04-01               Used                         12.100000   \n",
       "\n",
       "   Price(EUR)                                               Tags  \\\n",
       "0       53099  Ventilated front seats; Heated rear seats; Par...   \n",
       "1       27749  Heated front seats; Bluetooth; Automatic A/C; ...   \n",
       "2       27549  LED headlights; Digital cockpit; Keyless entry...   \n",
       "3       37249  Heated rear seats; LED headlights; Digital coc...   \n",
       "4       14799  Electric adjustable front seats; Heated front ...   \n",
       "\n",
       "  Engine capacity(ccm)  Previous owners  \n",
       "0               1499.0              0.0  \n",
       "1                999.0              0.0  \n",
       "2                999.0              0.0  \n",
       "3               1496.0              1.0  \n",
       "4               3952.0              2.0  \n",
       "\n",
       "[5 rows x 24 columns]"
      ]
     },
     "execution_count": 2,
     "metadata": {},
     "output_type": "execute_result"
    }
   ],
   "source": [
    "data = pd.read_csv('data\\cleaned_data.csv')\n",
    "data.head(5)"
   ]
  },
  {
   "cell_type": "markdown",
   "metadata": {},
   "source": [
    "- Check Dtype of columns"
   ]
  },
  {
   "cell_type": "code",
   "execution_count": 3,
   "metadata": {},
   "outputs": [
    {
     "name": "stdout",
     "output_type": "stream",
     "text": [
      "<class 'pandas.core.frame.DataFrame'>\n",
      "RangeIndex: 2293 entries, 0 to 2292\n",
      "Data columns (total 24 columns):\n",
      " #   Column                             Non-Null Count  Dtype  \n",
      "---  ------                             --------------  -----  \n",
      " 0   CARNAME                            2293 non-null   object \n",
      " 1   ID                                 2293 non-null   int64  \n",
      " 2   Make                               2293 non-null   object \n",
      " 3   Model                              2293 non-null   object \n",
      " 4   Body color                         2293 non-null   object \n",
      " 5   Interior color                     2293 non-null   object \n",
      " 6   Interior material                  2293 non-null   object \n",
      " 7   Body                               2293 non-null   object \n",
      " 8   Doors                              2293 non-null   object \n",
      " 9   Seats                              2293 non-null   float64\n",
      " 10  Fuel                               2293 non-null   object \n",
      " 11  Transmission                       2293 non-null   object \n",
      " 12  Drive type                         2293 non-null   object \n",
      " 13  Power(kW)                          2293 non-null   int64  \n",
      " 14  CO2 emissions(g/km)                2293 non-null   int64  \n",
      " 15  Emission class                     2293 non-null   object \n",
      " 16  Mileage(km)                        2293 non-null   int64  \n",
      " 17  First registration                 2293 non-null   object \n",
      " 18  Condition                          2293 non-null   object \n",
      " 19  Consumption(l/100km or kWh/100km)  2293 non-null   float64\n",
      " 20  Price(EUR)                         2293 non-null   int64  \n",
      " 21  Tags                               2293 non-null   object \n",
      " 22  Engine capacity(ccm)               2293 non-null   float64\n",
      " 23  Previous owners                    2293 non-null   float64\n",
      "dtypes: float64(4), int64(5), object(15)\n",
      "memory usage: 430.1+ KB\n"
     ]
    }
   ],
   "source": [
    "data.info()"
   ]
  },
  {
   "cell_type": "markdown",
   "metadata": {},
   "source": [
    "# 3.1 Exploratory data analysis: Analyze, identify patterns, and explore the data."
   ]
  },
  {
   "cell_type": "markdown",
   "metadata": {},
   "source": [
    "## 3.1.1 Numerical analysis using descriptive statistics"
   ]
  },
  {
   "cell_type": "markdown",
   "metadata": {},
   "source": [
    "Descriptive statistics show the characteristics of numerical features. It shows us the information such as:\n",
    "- The mean (and you can go further with advanced techiques as Arithmetic mean, Geometric mean, Harmonic mean)\n",
    "- The median\n",
    "- The mode\n",
    "- Quantiles (Quartiles, Percentiles, Deciles, Crocodiles?)\n",
    "- Range and IQR (Interquartile Range) (you might find that its relation to box plots)\n"
   ]
  },
  {
   "cell_type": "code",
   "execution_count": 4,
   "metadata": {},
   "outputs": [
    {
     "data": {
      "text/html": [
       "<div>\n",
       "<style scoped>\n",
       "    .dataframe tbody tr th:only-of-type {\n",
       "        vertical-align: middle;\n",
       "    }\n",
       "\n",
       "    .dataframe tbody tr th {\n",
       "        vertical-align: top;\n",
       "    }\n",
       "\n",
       "    .dataframe thead th {\n",
       "        text-align: right;\n",
       "    }\n",
       "</style>\n",
       "<table border=\"1\" class=\"dataframe\">\n",
       "  <thead>\n",
       "    <tr style=\"text-align: right;\">\n",
       "      <th></th>\n",
       "      <th>Seats</th>\n",
       "      <th>Power(kW)</th>\n",
       "      <th>CO2 emissions(g/km)</th>\n",
       "      <th>Mileage(km)</th>\n",
       "      <th>Consumption(l/100km or kWh/100km)</th>\n",
       "      <th>Price(EUR)</th>\n",
       "      <th>Engine capacity(ccm)</th>\n",
       "      <th>Previous owners</th>\n",
       "    </tr>\n",
       "  </thead>\n",
       "  <tbody>\n",
       "    <tr>\n",
       "      <th>count</th>\n",
       "      <td>2293.000000</td>\n",
       "      <td>2293.000000</td>\n",
       "      <td>2293.000000</td>\n",
       "      <td>2293.000000</td>\n",
       "      <td>2293.000000</td>\n",
       "      <td>2293.000000</td>\n",
       "      <td>2293.000000</td>\n",
       "      <td>2293.000000</td>\n",
       "    </tr>\n",
       "    <tr>\n",
       "      <th>mean</th>\n",
       "      <td>4.905364</td>\n",
       "      <td>131.575229</td>\n",
       "      <td>108.428696</td>\n",
       "      <td>37857.470126</td>\n",
       "      <td>5.908385</td>\n",
       "      <td>37116.182730</td>\n",
       "      <td>1704.461774</td>\n",
       "      <td>0.484954</td>\n",
       "    </tr>\n",
       "    <tr>\n",
       "      <th>std</th>\n",
       "      <td>0.726122</td>\n",
       "      <td>77.668851</td>\n",
       "      <td>63.398122</td>\n",
       "      <td>40990.258289</td>\n",
       "      <td>2.334615</td>\n",
       "      <td>34042.486755</td>\n",
       "      <td>704.612149</td>\n",
       "      <td>0.653468</td>\n",
       "    </tr>\n",
       "    <tr>\n",
       "      <th>min</th>\n",
       "      <td>2.000000</td>\n",
       "      <td>33.000000</td>\n",
       "      <td>0.000000</td>\n",
       "      <td>0.000000</td>\n",
       "      <td>0.800000</td>\n",
       "      <td>5399.000000</td>\n",
       "      <td>830.000000</td>\n",
       "      <td>0.000000</td>\n",
       "    </tr>\n",
       "    <tr>\n",
       "      <th>25%</th>\n",
       "      <td>5.000000</td>\n",
       "      <td>85.000000</td>\n",
       "      <td>97.000000</td>\n",
       "      <td>150.000000</td>\n",
       "      <td>4.700000</td>\n",
       "      <td>20899.000000</td>\n",
       "      <td>1332.000000</td>\n",
       "      <td>0.000000</td>\n",
       "    </tr>\n",
       "    <tr>\n",
       "      <th>50%</th>\n",
       "      <td>5.000000</td>\n",
       "      <td>110.000000</td>\n",
       "      <td>117.000000</td>\n",
       "      <td>25000.000000</td>\n",
       "      <td>5.500000</td>\n",
       "      <td>29399.000000</td>\n",
       "      <td>1499.000000</td>\n",
       "      <td>0.000000</td>\n",
       "    </tr>\n",
       "    <tr>\n",
       "      <th>75%</th>\n",
       "      <td>5.000000</td>\n",
       "      <td>150.000000</td>\n",
       "      <td>137.000000</td>\n",
       "      <td>62000.000000</td>\n",
       "      <td>6.000000</td>\n",
       "      <td>42199.000000</td>\n",
       "      <td>1968.000000</td>\n",
       "      <td>1.000000</td>\n",
       "    </tr>\n",
       "    <tr>\n",
       "      <th>max</th>\n",
       "      <td>7.000000</td>\n",
       "      <td>750.000000</td>\n",
       "      <td>394.000000</td>\n",
       "      <td>174215.000000</td>\n",
       "      <td>32.000000</td>\n",
       "      <td>692499.000000</td>\n",
       "      <td>6749.000000</td>\n",
       "      <td>5.000000</td>\n",
       "    </tr>\n",
       "    <tr>\n",
       "      <th>IQR</th>\n",
       "      <td>0.000000</td>\n",
       "      <td>65.000000</td>\n",
       "      <td>40.000000</td>\n",
       "      <td>61850.000000</td>\n",
       "      <td>1.300000</td>\n",
       "      <td>21300.000000</td>\n",
       "      <td>636.000000</td>\n",
       "      <td>1.000000</td>\n",
       "    </tr>\n",
       "  </tbody>\n",
       "</table>\n",
       "</div>"
      ],
      "text/plain": [
       "             Seats    Power(kW)  CO2 emissions(g/km)    Mileage(km)  \\\n",
       "count  2293.000000  2293.000000          2293.000000    2293.000000   \n",
       "mean      4.905364   131.575229           108.428696   37857.470126   \n",
       "std       0.726122    77.668851            63.398122   40990.258289   \n",
       "min       2.000000    33.000000             0.000000       0.000000   \n",
       "25%       5.000000    85.000000            97.000000     150.000000   \n",
       "50%       5.000000   110.000000           117.000000   25000.000000   \n",
       "75%       5.000000   150.000000           137.000000   62000.000000   \n",
       "max       7.000000   750.000000           394.000000  174215.000000   \n",
       "IQR       0.000000    65.000000            40.000000   61850.000000   \n",
       "\n",
       "       Consumption(l/100km or kWh/100km)     Price(EUR)  Engine capacity(ccm)  \\\n",
       "count                        2293.000000    2293.000000           2293.000000   \n",
       "mean                            5.908385   37116.182730           1704.461774   \n",
       "std                             2.334615   34042.486755            704.612149   \n",
       "min                             0.800000    5399.000000            830.000000   \n",
       "25%                             4.700000   20899.000000           1332.000000   \n",
       "50%                             5.500000   29399.000000           1499.000000   \n",
       "75%                             6.000000   42199.000000           1968.000000   \n",
       "max                            32.000000  692499.000000           6749.000000   \n",
       "IQR                             1.300000   21300.000000            636.000000   \n",
       "\n",
       "       Previous owners  \n",
       "count      2293.000000  \n",
       "mean          0.484954  \n",
       "std           0.653468  \n",
       "min           0.000000  \n",
       "25%           0.000000  \n",
       "50%           0.000000  \n",
       "75%           1.000000  \n",
       "max           5.000000  \n",
       "IQR           1.000000  "
      ]
     },
     "execution_count": 4,
     "metadata": {},
     "output_type": "execute_result"
    }
   ],
   "source": [
    "# Tạo bản sao của clean_df\n",
    "df_copy = data.copy()\n",
    "# # Chỉ giữ lại các cột có kiểu dữ liệu là int hoặc float\n",
    "df_copy = df_copy.select_dtypes(include=['int64', 'float64'])\n",
    "# Because dtype of \"ID\" is int, but this column is meaningless, so i also drop it.\n",
    "df_copy = df_copy.drop(['ID'], axis=1)\n",
    "\n",
    "\n",
    "df_analyze = df_copy.describe()\n",
    "# Tính IQR\n",
    "Q1 = df_copy.quantile(0.25)\n",
    "Q3 = df_copy.quantile(0.75)\n",
    "IQR = Q3 - Q1\n",
    "\n",
    "# Thêm IQR vào cuối df_analyze\n",
    "df_analyze.loc['IQR'] = IQR\n",
    "\n",
    "df_analyze"
   ]
  },
  {
   "cell_type": "markdown",
   "metadata": {},
   "source": [
    "**Comment**:\n",
    "\n",
    "The descriptive statistics provides an overview of the characteristics of numerical data:\n",
    "- Count: Each variable has 2289.00000 observations, indicating that the dataset has sufficient data for analysis.\n",
    "- Mean: Indicates the average value of each variable. For example, the average power (Power(kW)) is 131.53421.\n",
    "- Standard Deviation (std): Shows the level of dispersion of the data around the mean. For 'CO2 emissions(g/km)', the standard deviation is 63.392364, meaning there is significant variation in emissions.\n",
    "- Minimum and Maximum: Shows the smallest and largest values of each variable.\n",
    "- Quartiles (25%, 50%, 75%): Provides points dividing the data into four equal parts. 50% is also known as the median.\n",
    "- Range: Calculated by subtracting the smallest value from the largest value.\n",
    "- Interquartile Range (IQR): It is the difference between the third quartile (Q3) and the first quartile (Q1), helping to determine the spread of 50% of the data in between. In the table, the IQR for 'Seats' is 0.00000, which could indicate either no dispersion in this data or some ambiguity in the data."
   ]
  },
  {
   "cell_type": "markdown",
   "metadata": {},
   "source": [
    "## 3.1.2 Describe the correlation between features in the dataset"
   ]
  },
  {
   "cell_type": "code",
   "execution_count": 5,
   "metadata": {},
   "outputs": [
    {
     "data": {
      "image/png": "[encoded data removed]",
      "text/plain": [
       "<Figure size 2000x2000 with 2 Axes>"
      ]
     },
     "metadata": {},
     "output_type": "display_data"
    }
   ],
   "source": [
    "\n",
    "corr_matrix = df_copy.corr()\n",
    "\n",
    "plt.figure(figsize = (20, 20))\n",
    "sns.heatmap(corr_matrix, annot = True, cmap = 'coolwarm', cbar = True)\n",
    "plt.show()"
   ]
  },
  {
   "cell_type": "markdown",
   "metadata": {},
   "source": [
    "**Comment:**\n",
    "- Between Power and Engine capacity, Power and Price, there is a strong positive correlation, meaning that the stronger the engine, the larger its capacity, and the higher the pric.\n",
    "- Notice that Seats have the weakest relationship, almost a predominantly negative correlation, but not overly strong."
   ]
  },
  {
   "cell_type": "markdown",
   "metadata": {},
   "source": [
    "### **Question 01:** How does the correlation between different vehicle specifications vary across the top 10 cars with the highest price(EUR)?"
   ]
  },
  {
   "cell_type": "code",
   "execution_count": 6,
   "metadata": {},
   "outputs": [
    {
     "data": {
      "image/png": "[encoded data removed]",
      "text/plain": [
       "<Figure size 1000x800 with 2 Axes>"
      ]
     },
     "metadata": {},
     "output_type": "display_data"
    }
   ],
   "source": [
    "# Chọn ra 10 xe có giá cao nhất\n",
    "top_10_expensive_cars = data.nlargest(10, 'Price(EUR)')\n",
    "\n",
    "# Chọn tất cả các cột chứa thông số chi tiết của xe ở dạng numeric\n",
    "vehicle_specifications = top_10_expensive_cars.select_dtypes(include=np.number)\n",
    "\n",
    "# Tính ma trận tương quan\n",
    "correlation_matrix = vehicle_specifications.corr()\n",
    "\n",
    "# Vẽ heatmap cho ma trận tương quan\n",
    "plt.figure(figsize=(10, 8))\n",
    "sns.heatmap(correlation_matrix, annot=True, cmap='coolwarm', fmt=\".2f\")\n",
    "plt.title(\"Correlation Matrix for Top 10 Most Expensive Cars\")\n",
    "plt.show()"
   ]
  },
  {
   "cell_type": "markdown",
   "metadata": {},
   "source": [
    "**Comment:**\n",
    "\n",
    "- ID and other attributes: The correlation between ID and other attributes is unclear, possibly because the ID does not reflect any specific characteristics of the car and is merely an identification label.\n",
    "- Seats: There is a strong negative correlation (-0.74) between the number of seats and power. It can be inferred that cars with higher power typically have fewer seats. There is also a negative correlation with engine capacity (-0.49), suggesting that cars with fewer seats might be sportier or high-performance models with larger engines.\n",
    "- Power: There is a strong positive correlation with CO2 emissions (0.57), indicating that cars with higher power tend to emit more CO2.\n",
    "- CO2 emissions: There is a strong positive correlation (1.00) with itself as expected, and other correlations are not significant.\n",
    "- Battery warranty and Battery capacity: There is no data available to assess their correlation.\n",
    "- Mileage: There is a strong positive correlation (1.00) with itself and a slight negative correlation with price (-0.30), suggesting that cars with higher mileage tend to have lower prices.\n",
    "- Price: Apart from a positive correlation with engine capacity (0.81), price also has a slight negative correlation with the number of seats (-0.30). This might imply that more expensive cars might have fewer seats, akin to premium sports models.\n",
    "- Engine capacity: There is a positive correlation with power (0.73) and CO2 emissions (0.74), indicating that cars with larger engines are typically more powerful and emit more.\n",
    "- Previous owners: There are very few notable correlations with other attributes.\n",
    "- Weight: There is a perfect positive correlation (1.00) with itself but no strong correlation with other attributes."
   ]
  },
  {
   "cell_type": "markdown",
   "metadata": {},
   "source": [
    "### **Question 02:** How does the mileage (km) vary concerning the number of previous owners, fuel type for cars which is used in the dataset?"
   ]
  },
  {
   "cell_type": "code",
   "execution_count": 7,
   "metadata": {},
   "outputs": [
    {
     "data": {
      "image/png": "[encoded data removed]",
      "text/plain": [
       "<Figure size 1000x800 with 2 Axes>"
      ]
     },
     "metadata": {},
     "output_type": "display_data"
    }
   ],
   "source": [
    "# Tạo một bản sao của clean_df\n",
    "copy1_df = data.copy()\n",
    "\n",
    "# Thực hiện One-Hot Encoding cho cột 'Fuel'\n",
    "encoded_fuel = pd.get_dummies(copy1_df['Fuel'])\n",
    "\n",
    "# Thêm các cột mã hóa vào DataFrame copy1_df\n",
    "copy1_df = pd.concat([copy1_df, encoded_fuel], axis=1)\n",
    "\n",
    "# Xóa cột 'Fuel' gốc vì đã được mã hóa thành các cột mới\n",
    "copy1_df.drop('Fuel', axis=1, inplace=True)\n",
    "\n",
    "# Tương tự, thực hiện xử lý cho các cột 'Consumption' và 'First registration'\n",
    "\n",
    "# Chọn các cột quan tâm, bao gồm cả các cột đã mã hóa\n",
    "columns_of_interest = ['Mileage(km)', 'Previous owners'] + list(encoded_fuel.columns)\n",
    "\n",
    "# Tạo DataFrame mới từ các cột quan tâm\n",
    "data_of_interest = copy1_df[columns_of_interest]\n",
    "\n",
    "# Tính ma trận tương quan\n",
    "correlation_matrix = data_of_interest.corr()\n",
    "\n",
    "# Vẽ heatmap\n",
    "plt.figure(figsize=(10, 8))\n",
    "sns.heatmap(correlation_matrix, annot=True, cmap='coolwarm', fmt=\".2f\")\n",
    "plt.title(\"Correlation Matrix for Mileage, Previous Owners, and Fuel Types\")\n",
    "plt.show()"
   ]
  },
  {
   "cell_type": "markdown",
   "metadata": {},
   "source": [
    "**Comment:**\n",
    "\n",
    "- Mileage and Diesel: There is a strong positive correlation (0.37) between mileage and vehicles running on diesel. This might indicate that diesel cars are typically used for longer distances or have higher vehicle age.\n",
    "- Petrol and Diesel: There is a strong negative correlation (-0.65) between petrol and diesel cars. This might reflect consumer tendencies to opt for either petrol or diesel, rather than both.\n",
    "- Electric and Mileage: There's a slight negative relationship (-0.23) between electric cars and mileage, possibly indicating that electric cars are either newer or primarily used in urban settings with shorter distances.\n",
    "- Hybrid and Other Fuel Types: A slight negative relationship (-0.20) between hybrid cars and other fuel types might suggest that hybrids are less likely to use fuel other than petrol or electricity.\n",
    "- LPG and Other Fuel Types: Both fuel types have very weak relationships with other attributes, indicating that they might not be prevalent or particularly relevant concerning the mileage covered or the number of previous owners."
   ]
  },
  {
   "cell_type": "markdown",
   "metadata": {},
   "source": [
    "## 3.1.3 Some questions to explore relationship between variables"
   ]
  },
  {
   "cell_type": "markdown",
   "metadata": {},
   "source": [
    "### **Question 1:** What is the average power of vehicles for each fuel type?"
   ]
  },
  {
   "cell_type": "code",
   "execution_count": 8,
   "metadata": {},
   "outputs": [
    {
     "data": {
      "application/vnd.plotly.v1+json": {
       "config": {
        "plotlyServerURL": "https://plot.ly"
       },
       "data": [
        {
         "alignmentgroup": "True",
         "hovertemplate": "Fuel=%{x}<br>Power(kW)=%{y}<extra></extra>",
         "legendgroup": "",
         "marker": {
          "color": "#636efa",
          "pattern": {
           "shape": ""
          }
         },
         "name": "",
         "offsetgroup": "",
         "orientation": "v",
         "showlegend": false,
         "textposition": "auto",
         "type": "bar",
         "x": [
          "CNG",
          "Diesel",
          "Electric",
          "Hybrid",
          "LPG",
          "Other fuel type",
          "Petrol"
         ],
         "xaxis": "x",
         "y": [
          77.25,
          124.77973568281938,
          170.43951612903226,
          158.4048780487805,
          70.8,
          119.375,
          123.0738137082601
         ],
         "yaxis": "y"
        }
       ],
       "layout": {
        "barmode": "relative",
        "legend": {
         "tracegroupgap": 0
        },
        "template": {
         "data": {
          "bar": [
           {
            "error_x": {
             "color": "#2a3f5f"
            },
            "error_y": {
             "color": "#2a3f5f"
            },
            "marker": {
             "line": {
              "color": "#E5ECF6",
              "width": 0.5
             },
             "pattern": {
              "fillmode": "overlay",
              "size": 10,
              "solidity": 0.2
             }
            },
            "type": "bar"
           }
          ],
          "barpolar": [
           {
            "marker": {
             "line": {
              "color": "#E5ECF6",
              "width": 0.5
             },
             "pattern": {
              "fillmode": "overlay",
              "size": 10,
              "solidity": 0.2
             }
            },
            "type": "barpolar"
           }
          ],
          "carpet": [
           {
            "aaxis": {
             "endlinecolor": "#2a3f5f",
             "gridcolor": "white",
             "linecolor": "white",
             "minorgridcolor": "white",
             "startlinecolor": "#2a3f5f"
            },
            "baxis": {
             "endlinecolor": "#2a3f5f",
             "gridcolor": "white",
             "linecolor": "white",
             "minorgridcolor": "white",
             "startlinecolor": "#2a3f5f"
            },
            "type": "carpet"
           }
          ],
          "choropleth": [
           {
            "colorbar": {
             "outlinewidth": 0,
             "ticks": ""
            },
            "type": "choropleth"
           }
          ],
          "contour": [
           {
            "colorbar": {
             "outlinewidth": 0,
             "ticks": ""
            },
            "colorscale": [
             [
              0,
              "#0d0887"
             ],
             [
              0.1111111111111111,
              "#46039f"
             ],
             [
              0.2222222222222222,
              "#7201a8"
             ],
             [
              0.3333333333333333,
              "#9c179e"
             ],
             [
              0.4444444444444444,
              "#bd3786"
             ],
             [
              0.5555555555555556,
              "#d8576b"
             ],
             [
              0.6666666666666666,
              "#ed7953"
             ],
             [
              0.7777777777777778,
              "#fb9f3a"
             ],
             [
              0.8888888888888888,
              "#fdca26"
             ],
             [
              1,
              "#f0f921"
             ]
            ],
            "type": "contour"
           }
          ],
          "contourcarpet": [
           {
            "colorbar": {
             "outlinewidth": 0,
             "ticks": ""
            },
            "type": "contourcarpet"
           }
          ],
          "heatmap": [
           {
            "colorbar": {
             "outlinewidth": 0,
             "ticks": ""
            },
            "colorscale": [
             [
              0,
              "#0d0887"
             ],
             [
              0.1111111111111111,
              "#46039f"
             ],
             [
              0.2222222222222222,
              "#7201a8"
             ],
             [
              0.3333333333333333,
              "#9c179e"
             ],
             [
              0.4444444444444444,
              "#bd3786"
             ],
             [
              0.5555555555555556,
              "#d8576b"
             ],
             [
              0.6666666666666666,
              "#ed7953"
             ],
             [
              0.7777777777777778,
              "#fb9f3a"
             ],
             [
              0.8888888888888888,
              "#fdca26"
             ],
             [
              1,
              "#f0f921"
             ]
            ],
            "type": "heatmap"
           }
          ],
          "heatmapgl": [
           {
            "colorbar": {
             "outlinewidth": 0,
             "ticks": ""
            },
            "colorscale": [
             [
              0,
              "#0d0887"
             ],
             [
              0.1111111111111111,
              "#46039f"
             ],
             [
              0.2222222222222222,
              "#7201a8"
             ],
             [
              0.3333333333333333,
              "#9c179e"
             ],
             [
              0.4444444444444444,
              "#bd3786"
             ],
             [
              0.5555555555555556,
              "#d8576b"
             ],
             [
              0.6666666666666666,
              "#ed7953"
             ],
             [
              0.7777777777777778,
              "#fb9f3a"
             ],
             [
              0.8888888888888888,
              "#fdca26"
             ],
             [
              1,
              "#f0f921"
             ]
            ],
            "type": "heatmapgl"
           }
          ],
          "histogram": [
           {
            "marker": {
             "pattern": {
              "fillmode": "overlay",
              "size": 10,
              "solidity": 0.2
             }
            },
            "type": "histogram"
           }
          ],
          "histogram2d": [
           {
            "colorbar": {
             "outlinewidth": 0,
             "ticks": ""
            },
            "colorscale": [
             [
              0,
              "#0d0887"
             ],
             [
              0.1111111111111111,
              "#46039f"
             ],
             [
              0.2222222222222222,
              "#7201a8"
             ],
             [
              0.3333333333333333,
              "#9c179e"
             ],
             [
              0.4444444444444444,
              "#bd3786"
             ],
             [
              0.5555555555555556,
              "#d8576b"
             ],
             [
              0.6666666666666666,
              "#ed7953"
             ],
             [
              0.7777777777777778,
              "#fb9f3a"
             ],
             [
              0.8888888888888888,
              "#fdca26"
             ],
             [
              1,
              "#f0f921"
             ]
            ],
            "type": "histogram2d"
           }
          ],
          "histogram2dcontour": [
           {
            "colorbar": {
             "outlinewidth": 0,
             "ticks": ""
            },
            "colorscale": [
             [
              0,
              "#0d0887"
             ],
             [
              0.1111111111111111,
              "#46039f"
             ],
             [
              0.2222222222222222,
              "#7201a8"
             ],
             [
              0.3333333333333333,
              "#9c179e"
             ],
             [
              0.4444444444444444,
              "#bd3786"
             ],
             [
              0.5555555555555556,
              "#d8576b"
             ],
             [
              0.6666666666666666,
              "#ed7953"
             ],
             [
              0.7777777777777778,
              "#fb9f3a"
             ],
             [
              0.8888888888888888,
              "#fdca26"
             ],
             [
              1,
              "#f0f921"
             ]
            ],
            "type": "histogram2dcontour"
           }
          ],
          "mesh3d": [
           {
            "colorbar": {
             "outlinewidth": 0,
             "ticks": ""
            },
            "type": "mesh3d"
           }
          ],
          "parcoords": [
           {
            "line": {
             "colorbar": {
              "outlinewidth": 0,
              "ticks": ""
             }
            },
            "type": "parcoords"
           }
          ],
          "pie": [
           {
            "automargin": true,
            "type": "pie"
           }
          ],
          "scatter": [
           {
            "fillpattern": {
             "fillmode": "overlay",
             "size": 10,
             "solidity": 0.2
            },
            "type": "scatter"
           }
          ],
          "scatter3d": [
           {
            "line": {
             "colorbar": {
              "outlinewidth": 0,
              "ticks": ""
             }
            },
            "marker": {
             "colorbar": {
              "outlinewidth": 0,
              "ticks": ""
             }
            },
            "type": "scatter3d"
           }
          ],
          "scattercarpet": [
           {
            "marker": {
             "colorbar": {
              "outlinewidth": 0,
              "ticks": ""
             }
            },
            "type": "scattercarpet"
           }
          ],
          "scattergeo": [
           {
            "marker": {
             "colorbar": {
              "outlinewidth": 0,
              "ticks": ""
             }
            },
            "type": "scattergeo"
           }
          ],
          "scattergl": [
           {
            "marker": {
             "colorbar": {
              "outlinewidth": 0,
              "ticks": ""
             }
            },
            "type": "scattergl"
           }
          ],
          "scattermapbox": [
           {
            "marker": {
             "colorbar": {
              "outlinewidth": 0,
              "ticks": ""
             }
            },
            "type": "scattermapbox"
           }
          ],
          "scatterpolar": [
           {
            "marker": {
             "colorbar": {
              "outlinewidth": 0,
              "ticks": ""
             }
            },
            "type": "scatterpolar"
           }
          ],
          "scatterpolargl": [
           {
            "marker": {
             "colorbar": {
              "outlinewidth": 0,
              "ticks": ""
             }
            },
            "type": "scatterpolargl"
           }
          ],
          "scatterternary": [
           {
            "marker": {
             "colorbar": {
              "outlinewidth": 0,
              "ticks": ""
             }
            },
            "type": "scatterternary"
           }
          ],
          "surface": [
           {
            "colorbar": {
             "outlinewidth": 0,
             "ticks": ""
            },
            "colorscale": [
             [
              0,
              "#0d0887"
             ],
             [
              0.1111111111111111,
              "#46039f"
             ],
             [
              0.2222222222222222,
              "#7201a8"
             ],
             [
              0.3333333333333333,
              "#9c179e"
             ],
             [
              0.4444444444444444,
              "#bd3786"
             ],
             [
              0.5555555555555556,
              "#d8576b"
             ],
             [
              0.6666666666666666,
              "#ed7953"
             ],
             [
              0.7777777777777778,
              "#fb9f3a"
             ],
             [
              0.8888888888888888,
              "#fdca26"
             ],
             [
              1,
              "#f0f921"
             ]
            ],
            "type": "surface"
           }
          ],
          "table": [
           {
            "cells": {
             "fill": {
              "color": "#EBF0F8"
             },
             "line": {
              "color": "white"
             }
            },
            "header": {
             "fill": {
              "color": "#C8D4E3"
             },
             "line": {
              "color": "white"
             }
            },
            "type": "table"
           }
          ]
         },
         "layout": {
          "annotationdefaults": {
           "arrowcolor": "#2a3f5f",
           "arrowhead": 0,
           "arrowwidth": 1
          },
          "autotypenumbers": "strict",
          "coloraxis": {
           "colorbar": {
            "outlinewidth": 0,
            "ticks": ""
           }
          },
          "colorscale": {
           "diverging": [
            [
             0,
             "#8e0152"
            ],
            [
             0.1,
             "#c51b7d"
            ],
            [
             0.2,
             "#de77ae"
            ],
            [
             0.3,
             "#f1b6da"
            ],
            [
             0.4,
             "#fde0ef"
            ],
            [
             0.5,
             "#f7f7f7"
            ],
            [
             0.6,
             "#e6f5d0"
            ],
            [
             0.7,
             "#b8e186"
            ],
            [
             0.8,
             "#7fbc41"
            ],
            [
             0.9,
             "#4d9221"
            ],
            [
             1,
             "#276419"
            ]
           ],
           "sequential": [
            [
             0,
             "#0d0887"
            ],
            [
             0.1111111111111111,
             "#46039f"
            ],
            [
             0.2222222222222222,
             "#7201a8"
            ],
            [
             0.3333333333333333,
             "#9c179e"
            ],
            [
             0.4444444444444444,
             "#bd3786"
            ],
            [
             0.5555555555555556,
             "#d8576b"
            ],
            [
             0.6666666666666666,
             "#ed7953"
            ],
            [
             0.7777777777777778,
             "#fb9f3a"
            ],
            [
             0.8888888888888888,
             "#fdca26"
            ],
            [
             1,
             "#f0f921"
            ]
           ],
           "sequentialminus": [
            [
             0,
             "#0d0887"
            ],
            [
             0.1111111111111111,
             "#46039f"
            ],
            [
             0.2222222222222222,
             "#7201a8"
            ],
            [
             0.3333333333333333,
             "#9c179e"
            ],
            [
             0.4444444444444444,
             "#bd3786"
            ],
            [
             0.5555555555555556,
             "#d8576b"
            ],
            [
             0.6666666666666666,
             "#ed7953"
            ],
            [
             0.7777777777777778,
             "#fb9f3a"
            ],
            [
             0.8888888888888888,
             "#fdca26"
            ],
            [
             1,
             "#f0f921"
            ]
           ]
          },
          "colorway": [
           "#636efa",
           "#EF553B",
           "#00cc96",
           "#ab63fa",
           "#FFA15A",
           "#19d3f3",
           "#FF6692",
           "#B6E880",
           "#FF97FF",
           "#FECB52"
          ],
          "font": {
           "color": "#2a3f5f"
          },
          "geo": {
           "bgcolor": "white",
           "lakecolor": "white",
           "landcolor": "#E5ECF6",
           "showlakes": true,
           "showland": true,
           "subunitcolor": "white"
          },
          "hoverlabel": {
           "align": "left"
          },
          "hovermode": "closest",
          "mapbox": {
           "style": "light"
          },
          "paper_bgcolor": "white",
          "plot_bgcolor": "#E5ECF6",
          "polar": {
           "angularaxis": {
            "gridcolor": "white",
            "linecolor": "white",
            "ticks": ""
           },
           "bgcolor": "#E5ECF6",
           "radialaxis": {
            "gridcolor": "white",
            "linecolor": "white",
            "ticks": ""
           }
          },
          "scene": {
           "xaxis": {
            "backgroundcolor": "#E5ECF6",
            "gridcolor": "white",
            "gridwidth": 2,
            "linecolor": "white",
            "showbackground": true,
            "ticks": "",
            "zerolinecolor": "white"
           },
           "yaxis": {
            "backgroundcolor": "#E5ECF6",
            "gridcolor": "white",
            "gridwidth": 2,
            "linecolor": "white",
            "showbackground": true,
            "ticks": "",
            "zerolinecolor": "white"
           },
           "zaxis": {
            "backgroundcolor": "#E5ECF6",
            "gridcolor": "white",
            "gridwidth": 2,
            "linecolor": "white",
            "showbackground": true,
            "ticks": "",
            "zerolinecolor": "white"
           }
          },
          "shapedefaults": {
           "line": {
            "color": "#2a3f5f"
           }
          },
          "ternary": {
           "aaxis": {
            "gridcolor": "white",
            "linecolor": "white",
            "ticks": ""
           },
           "baxis": {
            "gridcolor": "white",
            "linecolor": "white",
            "ticks": ""
           },
           "bgcolor": "#E5ECF6",
           "caxis": {
            "gridcolor": "white",
            "linecolor": "white",
            "ticks": ""
           }
          },
          "title": {
           "x": 0.05
          },
          "xaxis": {
           "automargin": true,
           "gridcolor": "white",
           "linecolor": "white",
           "ticks": "",
           "title": {
            "standoff": 15
           },
           "zerolinecolor": "white",
           "zerolinewidth": 2
          },
          "yaxis": {
           "automargin": true,
           "gridcolor": "white",
           "linecolor": "white",
           "ticks": "",
           "title": {
            "standoff": 15
           },
           "zerolinecolor": "white",
           "zerolinewidth": 2
          }
         }
        },
        "title": {
         "text": "Average Power by Fuel Type"
        },
        "xaxis": {
         "anchor": "y",
         "categoryorder": "total descending",
         "domain": [
          0,
          1
         ],
         "title": {
          "text": "Fuel"
         }
        },
        "yaxis": {
         "anchor": "x",
         "domain": [
          0,
          1
         ],
         "title": {
          "text": "Power(kW)"
         }
        }
       }
      }
     },
     "metadata": {},
     "output_type": "display_data"
    }
   ],
   "source": [
    "# Tính trung bình công suất cho từng loại nhiên liệu\n",
    "average_power_by_fuel = data.groupby('Fuel')['Power(kW)'].mean().reset_index()\n",
    "\n",
    "# Biểu đồ cột hiển thị trung bình công suất theo loại nhiên liệu\n",
    "fig = px.bar(average_power_by_fuel, x='Fuel', y='Power(kW)', title='Average Power by Fuel Type')\n",
    "fig.update_xaxes(categoryorder='total descending')  # Sắp xếp loại nhiên liệu theo thứ tự giảm dần của công suất trung bình\n",
    "fig.show()"
   ]
  },
  {
   "cell_type": "markdown",
   "metadata": {},
   "source": [
    "**Comment:**\n",
    "\n",
    "- Electric cars display the highest average power among different fuel types, as depicted by the tallest bar in the chart. This reflects the ability of electric cars to deliver substantial power right from the start.\n",
    "- Hybrid cars have the second-highest average power, lower than electric vehicles but still higher than other traditional fuel types.\n",
    "- Diesel and petrol (gasoline) cars exhibit similar power levels, both sitting at an average level among the compared fuel types. This reflects the widespread use of both fuel types in modern car models.\n",
    "- The \"Other fuel type\" category demonstrates lower power compared to diesel and petrol, possibly encompassing alternative fuels not separately listed.\n",
    "- CNG and LPG showcase the lowest average power, represented by the shortest bars in the chart. This might indicate their limited prevalence in high-powered car models or that they are fuel-efficient types intended for different purposes."
   ]
  },
  {
   "cell_type": "markdown",
   "metadata": {},
   "source": [
    "### **Question 2:** How does the engine capacity and power relate to CO2 emissions?"
   ]
  },
  {
   "cell_type": "code",
   "execution_count": 9,
   "metadata": {},
   "outputs": [
    {
     "data": {
      "application/vnd.plotly.v1+json": {
       "config": {
        "plotlyServerURL": "https://plot.ly"
       },
       "data": [
        {
         "hovertemplate": "Engine capacity(ccm)=%{x}<br>Power(kW)=%{y}<br>CO2 emissions(g/km)=%{marker.color}<extra></extra>",
         "legendgroup": "",
         "marker": {
          "color": [
           0,
           112,
           110,
           125,
           288,
           139,
           0,
           179,
           191,
           185,
           0,
           130,
           219,
           246,
           146,
           111,
           127,
           133,
           140,
           0,
           122,
           138,
           98,
           119,
           168,
           112,
           0,
           174,
           129,
           127,
           132,
           123,
           134,
           125,
           149,
           132,
           208,
           0,
           154,
           135,
           138,
           102,
           156,
           127,
           0,
           142,
           147,
           165,
           173,
           199,
           112,
           98,
           110,
           125,
           171,
           137,
           138,
           136,
           342,
           102,
           0,
           111,
           88,
           130,
           177,
           193,
           115,
           131,
           176,
           209,
           118,
           159,
           127,
           114,
           115,
           125,
           169,
           0,
           131,
           121,
           116,
           219,
           119,
           115,
           125,
           259,
           159,
           0,
           0,
           117,
           134,
           0,
           134,
           0,
           120,
           126,
           134,
           124,
           128,
           127,
           114,
           130,
           162,
           248,
           104,
           185,
           119,
           0,
           108,
           0,
           119,
           148,
           113,
           125,
           0,
           131,
           164,
           23,
           0,
           394,
           148,
           111,
           156,
           128,
           122,
           122,
           132,
           376,
           162,
           121,
           132,
           171,
           0,
           144,
           114,
           0,
           112,
           42,
           124,
           146,
           152,
           121,
           113,
           106,
           118,
           116,
           117,
           164,
           289,
           172,
           109,
           130,
           184,
           110,
           139,
           150,
           116,
           97,
           139,
           104,
           100,
           168,
           0,
           167,
           0,
           199,
           126,
           113,
           133,
           117,
           133,
           124,
           186,
           112,
           114,
           124,
           109,
           28,
           127,
           89,
           0,
           100,
           131,
           0,
           281,
           107,
           213,
           117,
           168,
           37,
           179,
           164,
           130,
           130,
           102,
           0,
           112,
           121,
           131,
           115,
           153,
           0,
           85,
           94,
           170,
           0,
           111,
           0,
           19,
           123,
           164,
           179,
           187,
           206,
           0,
           175,
           0,
           0,
           117,
           0,
           128,
           0,
           136,
           97,
           123,
           101,
           219,
           112,
           0,
           111,
           187,
           0,
           103,
           0,
           96,
           121,
           117,
           197,
           0,
           122,
           292,
           0,
           159,
           0,
           121,
           174,
           0,
           121,
           97,
           115,
           105,
           348,
           133,
           113,
           125,
           117,
           99,
           0,
           0,
           146,
           129,
           0,
           88,
           0,
           194,
           173,
           207,
           90,
           92,
           220,
           98,
           0,
           109,
           130,
           125,
           125,
           75,
           110,
           122,
           93,
           88,
           110,
           161,
           112,
           127,
           135,
           0,
           111,
           178,
           0,
           97,
           140,
           112,
           0,
           0,
           141,
           97,
           0,
           94,
           135,
           173,
           0,
           109,
           107,
           146,
           0,
           0,
           132,
           95,
           133,
           170,
           0,
           108,
           125,
           105,
           85,
           108,
           87,
           0,
           125,
           129,
           109,
           108,
           106,
           172,
           232,
           226,
           160,
           127,
           115,
           127,
           115,
           252,
           0,
           87,
           132,
           121,
           121,
           142,
           108,
           112,
           0,
           104,
           129,
           116,
           117,
           126,
           277,
           126,
           112,
           117,
           141,
           126,
           88,
           119,
           103,
           151,
           169,
           117,
           112,
           120,
           119,
           0,
           0,
           163,
           124,
           0,
           110,
           115,
           145,
           133,
           126,
           124,
           125,
           291,
           0,
           0,
           173,
           290,
           0,
           144,
           148,
           119,
           134,
           117,
           0,
           137,
           185,
           207,
           129,
           108,
           181,
           144,
           108,
           131,
           176,
           109,
           171,
           131,
           85,
           109,
           201,
           131,
           100,
           169,
           115,
           124,
           0,
           109,
           156,
           0,
           212,
           120,
           186,
           124,
           193,
           183,
           125,
           139,
           127,
           115,
           121,
           117,
           142,
           92,
           0,
           128,
           136,
           226,
           0,
           89,
           132,
           0,
           0,
           170,
           148,
           97,
           136,
           122,
           201,
           113,
           172,
           105,
           149,
           129,
           102,
           116,
           154,
           0,
           98,
           0,
           227,
           123,
           134,
           188,
           0,
           163,
           163,
           174,
           174,
           108,
           120,
           185,
           112,
           109,
           0,
           125,
           0,
           161,
           0,
           219,
           0,
           0,
           119,
           147,
           154,
           113,
           24,
           187,
           175,
           205,
           122,
           115,
           124,
           130,
           143,
           110,
           0,
           0,
           101,
           162,
           183,
           0,
           39,
           159,
           134,
           194,
           107,
           169,
           98,
           145,
           156,
           155,
           195,
           139,
           0,
           127,
           140,
           119,
           0,
           116,
           108,
           144,
           127,
           124,
           0,
           129,
           153,
           0,
           0,
           241,
           157,
           99,
           117,
           0,
           161,
           121,
           120,
           0,
           137,
           0,
           141,
           183,
           0,
           129,
           134,
           143,
           135,
           109,
           164,
           106,
           140,
           116,
           129,
           0,
           97,
           0,
           186,
           146,
           0,
           112,
           94,
           122,
           115,
           150,
           132,
           107,
           172,
           179,
           156,
           108,
           248,
           141,
           284,
           303,
           122,
           130,
           126,
           130,
           109,
           111,
           120,
           185,
           122,
           118,
           0,
           0,
           94,
           112,
           127,
           125,
           89,
           109,
           165,
           0,
           280,
           129,
           106,
           0,
           28,
           191,
           96,
           0,
           119,
           148,
           291,
           178,
           135,
           170,
           94,
           114,
           132,
           122,
           95,
           89,
           0,
           356,
           101,
           222,
           119,
           0,
           0,
           99,
           166,
           0,
           116,
           97,
           135,
           140,
           115,
           126,
           270,
           0,
           119,
           125,
           0,
           0,
           0,
           152,
           111,
           119,
           0,
           104,
           152,
           167,
           117,
           127,
           121,
           164,
           103,
           0,
           111,
           108,
           139,
           0,
           120,
           99,
           212,
           139,
           178,
           106,
           289,
           141,
           140,
           117,
           125,
           124,
           96,
           110,
           175,
           116,
           0,
           18,
           153,
           103,
           47,
           105,
           134,
           129,
           126,
           180,
           115,
           180,
           137,
           95,
           106,
           108,
           118,
           143,
           96,
           109,
           149,
           113,
           93,
           99,
           125,
           105,
           118,
           124,
           148,
           151,
           115,
           0,
           148,
           0,
           151,
           109,
           154,
           116,
           231,
           134,
           0,
           186,
           0,
           129,
           116,
           163,
           150,
           0,
           166,
           238,
           0,
           88,
           0,
           112,
           0,
           0,
           0,
           285,
           127,
           111,
           152,
           178,
           105,
           138,
           112,
           134,
           271,
           0,
           124,
           106,
           110,
           121,
           0,
           102,
           0,
           124,
           0,
           171,
           337,
           126,
           121,
           164,
           122,
           146,
           103,
           168,
           128,
           116,
           109,
           124,
           185,
           105,
           114,
           160,
           129,
           0,
           186,
           135,
           0,
           142,
           124,
           97,
           123,
           90,
           114,
           199,
           99,
           146,
           164,
           0,
           163,
           104,
           123,
           0,
           47,
           0,
           114,
           123,
           105,
           135,
           0,
           0,
           181,
           151,
           181,
           151,
           0,
           108,
           122,
           114,
           0,
           154,
           0,
           0,
           116,
           0,
           0,
           119,
           106,
           0,
           118,
           203,
           291,
           109,
           0,
           100,
           109,
           109,
           106,
           298,
           109,
           95,
           108,
           0,
           0,
           124,
           124,
           94,
           0,
           132,
           0,
           113,
           109,
           118,
           160,
           0,
           148,
           0,
           99,
           99,
           99,
           108,
           135,
           109,
           113,
           131,
           0,
           112,
           112,
           142,
           106,
           0,
           25,
           165,
           1,
           135,
           134,
           134,
           117,
           125,
           125,
           141,
           130,
           128,
           0,
           0,
           0,
           149,
           102,
           125,
           104,
           97,
           104,
           84,
           0,
           0,
           0,
           142,
           0,
           149,
           101,
           0,
           99,
           124,
           129,
           129,
           110,
           106,
           122,
           115,
           115,
           121,
           137,
           0,
           0,
           144,
           142,
           159,
           0,
           152,
           105,
           98,
           112,
           284,
           0,
           118,
           99,
           0,
           123,
           113,
           104,
           125,
           160,
           119,
           126,
           95,
           138,
           0,
           111,
           132,
           0,
           90,
           0,
           124,
           109,
           144,
           112,
           90,
           139,
           122,
           0,
           125,
           185,
           158,
           164,
           132,
           0,
           0,
           0,
           173,
           0,
           99,
           0,
           105,
           119,
           114,
           137,
           96,
           0,
           151,
           126,
           0,
           99,
           132,
           100,
           0,
           0,
           158,
           99,
           0,
           111,
           106,
           0,
           125,
           142,
           112,
           168,
           104,
           138,
           170,
           128,
           144,
           106,
           141,
           35,
           117,
           138,
           0,
           137,
           105,
           150,
           105,
           0,
           135,
           112,
           110,
           113,
           159,
           162,
           113,
           96,
           161,
           109,
           137,
           109,
           114,
           115,
           138,
           111,
           138,
           111,
           130,
           102,
           164,
           0,
           121,
           147,
           100,
           0,
           114,
           128,
           113,
           158,
           0,
           119,
           117,
           0,
           98,
           0,
           104,
           129,
           155,
           105,
           175,
           106,
           0,
           100,
           119,
           126,
           119,
           111,
           195,
           115,
           128,
           246,
           131,
           0,
           0,
           109,
           122,
           96,
           108,
           129,
           248,
           0,
           131,
           98,
           144,
           98,
           0,
           123,
           187,
           130,
           0,
           121,
           88,
           94,
           96,
           133,
           93,
           259,
           66,
           116,
           152,
           95,
           0,
           363,
           108,
           146,
           184,
           97,
           108,
           117,
           112,
           113,
           121,
           215,
           0,
           115,
           143,
           122,
           116,
           85,
           0,
           244,
           119,
           85,
           115,
           0,
           0,
           178,
           147,
           126,
           105,
           128,
           0,
           95,
           112,
           126,
           106,
           0,
           0,
           106,
           133,
           251,
           148,
           38,
           88,
           139,
           88,
           124,
           120,
           0,
           129,
           139,
           251,
           0,
           129,
           104,
           134,
           0,
           169,
           115,
           117,
           106,
           0,
           0,
           118,
           142,
           0,
           135,
           111,
           93,
           0,
           88,
           150,
           0,
           149,
           0,
           184,
           126,
           0,
           128,
           122,
           147,
           126,
           0,
           0,
           154,
           26,
           105,
           0,
           92,
           114,
           115,
           111,
           0,
           168,
           114,
           0,
           112,
           0,
           0,
           110,
           110,
           134,
           0,
           0,
           114,
           120,
           0,
           0,
           106,
           0,
           0,
           102,
           134,
           86,
           0,
           105,
           0,
           0,
           113,
           154,
           120,
           134,
           111,
           116,
           139,
           176,
           144,
           129,
           109,
           115,
           132,
           118,
           75,
           0,
           132,
           104,
           105,
           0,
           112,
           139,
           163,
           0,
           117,
           142,
           129,
           195,
           109,
           124,
           0,
           219,
           135,
           122,
           0,
           99,
           0,
           352,
           94,
           146,
           94,
           106,
           153,
           104,
           98,
           0,
           0,
           0,
           0,
           179,
           109,
           0,
           147,
           126,
           97,
           106,
           269,
           136,
           120,
           106,
           114,
           122,
           104,
           124,
           31,
           111,
           0,
           0,
           126,
           169,
           104,
           122,
           129,
           86,
           112,
           161,
           255,
           0,
           0,
           114,
           0,
           92,
           106,
           181,
           0,
           174,
           185,
           110,
           109,
           106,
           120,
           34,
           120,
           106,
           126,
           127,
           108,
           122,
           127,
           149,
           245,
           140,
           0,
           0,
           95,
           197,
           117,
           0,
           95,
           174,
           0,
           108,
           95,
           125,
           141,
           119,
           107,
           130,
           156,
           219,
           109,
           142,
           0,
           0,
           153,
           153,
           0,
           117,
           0,
           186,
           154,
           167,
           0,
           0,
           123,
           0,
           154,
           142,
           147,
           143,
           102,
           137,
           0,
           128,
           109,
           88,
           136,
           108,
           107,
           139,
           111,
           118,
           0,
           251,
           134,
           98,
           0,
           115,
           110,
           101,
           0,
           142,
           0,
           138,
           128,
           118,
           0,
           113,
           116,
           0,
           131,
           109,
           0,
           125,
           279,
           133,
           315,
           115,
           0,
           98,
           195,
           0,
           125,
           179,
           114,
           95,
           0,
           115,
           167,
           125,
           127,
           89,
           73,
           118,
           123,
           130,
           105,
           102,
           159,
           118,
           196,
           0,
           117,
           104,
           102,
           164,
           100,
           153,
           103,
           118,
           116,
           0,
           134,
           112,
           133,
           131,
           98,
           100,
           127,
           185,
           124,
           124,
           106,
           0,
           120,
           129,
           114,
           110,
           0,
           0,
           170,
           132,
           128,
           114,
           147,
           146,
           116,
           150,
           111,
           103,
           100,
           117,
           156,
           156,
           0,
           143,
           0,
           104,
           110,
           155,
           135,
           114,
           153,
           100,
           123,
           111,
           140,
           108,
           125,
           157,
           128,
           93,
           104,
           130,
           195,
           130,
           94,
           189,
           119,
           117,
           149,
           108,
           118,
           94,
           225,
           102,
           233,
           157,
           123,
           114,
           123,
           93,
           291,
           0,
           109,
           134,
           109,
           141,
           126,
           31,
           121,
           110,
           130,
           0,
           20,
           222,
           0,
           138,
           123,
           122,
           127,
           194,
           155,
           99,
           24,
           104,
           118,
           154,
           356,
           95,
           117,
           121,
           0,
           130,
           115,
           128,
           0,
           109,
           25,
           112,
           89,
           174,
           125,
           241,
           121,
           121,
           179,
           117,
           174,
           86,
           0,
           123,
           121,
           0,
           106,
           119,
           157,
           188,
           115,
           97,
           113,
           153,
           103,
           122,
           144,
           114,
           114,
           145,
           97,
           128,
           149,
           281,
           175,
           130,
           132,
           157,
           142,
           0,
           178,
           112,
           119,
           119,
           123,
           104,
           111,
           226,
           129,
           105,
           0,
           0,
           0,
           157,
           134,
           112,
           122,
           127,
           144,
           107,
           156,
           121,
           138,
           0,
           133,
           126,
           211,
           152,
           143,
           0,
           130,
           0,
           135,
           0,
           179,
           106,
           188,
           0,
           128,
           104,
           0,
           98,
           179,
           162,
           122,
           206,
           171,
           0,
           108,
           85,
           112,
           0,
           128,
           123,
           94,
           0,
           123,
           127,
           125,
           141,
           159,
           122,
           114,
           0,
           104,
           184,
           122,
           114,
           0,
           0,
           0,
           154,
           234,
           234,
           133,
           125,
           110,
           104,
           0,
           96,
           93,
           207,
           0,
           112,
           158,
           155,
           102,
           88,
           117,
           101,
           112,
           124,
           102,
           158,
           144,
           119,
           138,
           0,
           0,
           101,
           105,
           0,
           108,
           0,
           88,
           96,
           126,
           110,
           158,
           117,
           127,
           109,
           0,
           111,
           100,
           107,
           134,
           145,
           145,
           22,
           0,
           0,
           99,
           131,
           0,
           0,
           109,
           0,
           118,
           149,
           0,
           138,
           230,
           120,
           110,
           129,
           134,
           125,
           175,
           104,
           105,
           152,
           134,
           106,
           0,
           169,
           164,
           97,
           1,
           111,
           0,
           100,
           103,
           122,
           136,
           0,
           124,
           133,
           126,
           112,
           0,
           108,
           0,
           122,
           149,
           121,
           125,
           111,
           122,
           129,
           93,
           173,
           93,
           101,
           128,
           139,
           113,
           113,
           127,
           129,
           252,
           138,
           128,
           86,
           138,
           0,
           0,
           159,
           0,
           119,
           125,
           112,
           125,
           130,
           112,
           99,
           197,
           109,
           0,
           199,
           0,
           135,
           93,
           106,
           126,
           107,
           107,
           161,
           121,
           122,
           98,
           116,
           0,
           108,
           124,
           158,
           82,
           116,
           0,
           119,
           0,
           0,
           106,
           175,
           106,
           129,
           110,
           109,
           123,
           99,
           206,
           207,
           96,
           130,
           99,
           109,
           145,
           0,
           0,
           142,
           119,
           147,
           109,
           116,
           85,
           125,
           98,
           79,
           118,
           124,
           185,
           95,
           116,
           148,
           130,
           134,
           0,
           115,
           107,
           143,
           118,
           128,
           0,
           145,
           16,
           111,
           133,
           0,
           119,
           94,
           112,
           120,
           125,
           149,
           121,
           117,
           165,
           0,
           122,
           136,
           0,
           0,
           114,
           0,
           0,
           112,
           126,
           0,
           0,
           131,
           132,
           110,
           90,
           130,
           136,
           104,
           0,
           106,
           94,
           0,
           0,
           154,
           0,
           159,
           0,
           109,
           27,
           114,
           169,
           131,
           186,
           201,
           139,
           155,
           0,
           102,
           155,
           219,
           0,
           89,
           66,
           203,
           122,
           125,
           0,
           121,
           156,
           88,
           0,
           0,
           115,
           130,
           139,
           147,
           181,
           108,
           107,
           135,
           0,
           89,
           114,
           186,
           175,
           115,
           0,
           153,
           108,
           108,
           133,
           132,
           98,
           93,
           0,
           155,
           111,
           110,
           155,
           0,
           97,
           111,
           126,
           0,
           0,
           0,
           124,
           0,
           114,
           140,
           111,
           182,
           86,
           175,
           109,
           121,
           0,
           135,
           139,
           125,
           0,
           146,
           99,
           0,
           130,
           0,
           171,
           103,
           110,
           122,
           136,
           0,
           211,
           123,
           97,
           133,
           117,
           77,
           0,
           130,
           95,
           130,
           95,
           105,
           111,
           119,
           121,
           121,
           120,
           137,
           153,
           143,
           113,
           110,
           151,
           88,
           0,
           90,
           121,
           0,
           131,
           22,
           111,
           119,
           186,
           147,
           89,
           104,
           291,
           93,
           91,
           133,
           253,
           108,
           0,
           118,
           91,
           148,
           0,
           125,
           123,
           111,
           100,
           164,
           122,
           132,
           0,
           138,
           120,
           0,
           139,
           139,
           181,
           117,
           111,
           161,
           109,
           107,
           139,
           117,
           105,
           0,
           111,
           216,
           121,
           109,
           132,
           125,
           25,
           127,
           142,
           124,
           192,
           129,
           110,
           128,
           77,
           114,
           0,
           160,
           155,
           117,
           164,
           0,
           135,
           170,
           116,
           0,
           105,
           99,
           111,
           106,
           122,
           116,
           141,
           122,
           120,
           0,
           158,
           159,
           169,
           111,
           110,
           108,
           110,
           277,
           125,
           145,
           73,
           109,
           93,
           0,
           142,
           147,
           104,
           109,
           84,
           0,
           121,
           101,
           0,
           113,
           0,
           99,
           103,
           111,
           104,
           157,
           116,
           125,
           117,
           0,
           248,
           148,
           111,
           117,
           105,
           0,
           118,
           106,
           121,
           134,
           96,
           0,
           0,
           121,
           138,
           115,
           247,
           112,
           120,
           103,
           94,
           104,
           199,
           120,
           116,
           132,
           111,
           0,
           123,
           121,
           121,
           104,
           0,
           172,
           0,
           133,
           107,
           120,
           97,
           122,
           127,
           127,
           122,
           144,
           119,
           101,
           103,
           135,
           185,
           0,
           110,
           119,
           0,
           116,
           141,
           175,
           106,
           129,
           0,
           135,
           184,
           127,
           89,
           199,
           0,
           131,
           185,
           131,
           125,
           97,
           0,
           141,
           108,
           115,
           0,
           128,
           138,
           0,
           0,
           0,
           119,
           225,
           197,
           0,
           304,
           109,
           102,
           120,
           98,
           109,
           130,
           0,
           0,
           118,
           123,
           153,
           159,
           149,
           167,
           257,
           136,
           201,
           112,
           127,
           117,
           134,
           0,
           172,
           209,
           0,
           0,
           179,
           107,
           135,
           0,
           141,
           108,
           116,
           263,
           0,
           130,
           119,
           143,
           150,
           132,
           0,
           59,
           126,
           118,
           0,
           122,
           110,
           117,
           356,
           0,
           106,
           160,
           0,
           0,
           107,
           108,
           0,
           131,
           116,
           85,
           21,
           101,
           115,
           117,
           106,
           115,
           138,
           0,
           116,
           0,
           112,
           121,
           107,
           105,
           143,
           0,
           124,
           126,
           149,
           114,
           102,
           223,
           179,
           126,
           108,
           107,
           156,
           124,
           104,
           133,
           110,
           98,
           125,
           127,
           117,
           115,
           125,
           214,
           0,
           152,
           110,
           0,
           122,
           105,
           158,
           0,
           152,
           122,
           184,
           137,
           158,
           97,
           0,
           111,
           123,
           132,
           105,
           180,
           118,
           125,
           140,
           132,
           108,
           119,
           0,
           0,
           0,
           115,
           135,
           179,
           64,
           99,
           0,
           0,
           184,
           0,
           92,
           97,
           222,
           112,
           102,
           263,
           0,
           0,
           0,
           124,
           157
          ],
          "coloraxis": "coloraxis",
          "symbol": "circle"
         },
         "mode": "markers",
         "name": "",
         "showlegend": false,
         "type": "scattergl",
         "x": [
          1499,
          999,
          999,
          1496,
          3952,
          1598,
          1499,
          1968,
          2143,
          2987,
          1499,
          1199,
          1968,
          1690,
          1333,
          999,
          1498,
          2993,
          1950,
          1499,
          1199,
          1991,
          999,
          1199,
          1984,
          999,
          1499,
          1950,
          1598,
          1395,
          1968,
          1333,
          1498,
          1968,
          1199,
          1332,
          3982,
          3604,
          1969,
          1598,
          1993,
          1998,
          1998,
          999,
          1998,
          1995,
          1950,
          1968,
          1462,
          4134,
          999,
          999,
          999,
          1496,
          1969,
          1598,
          3456,
          1598,
          3982,
          1499,
          1499,
          1499,
          999,
          1991,
          1984,
          1950,
          1500,
          1332,
          1996,
          1950,
          2488,
          2989,
          1149,
          999,
          1499,
          1598,
          1997,
          1499,
          1984,
          2000,
          1968,
          1968,
          1199,
          999,
          1199,
          3982,
          1984,
          1499,
          830,
          1498,
          1950,
          2998,
          999,
          1499,
          999,
          1995,
          1950,
          1998,
          1399,
          1968,
          1499,
          1332,
          2967,
          4395,
          1197,
          1997,
          1498,
          1499,
          998,
          1499,
          1993,
          1498,
          1499,
          1199,
          1998,
          999,
          1498,
          1332,
          2996,
          6498,
          1995,
          999,
          2967,
          1598,
          1499,
          1332,
          1598,
          6749,
          2967,
          1199,
          1598,
          1968,
          2989,
          1364,
          1199,
          3996,
          1500,
          1499,
          1968,
          1995,
          2143,
          1199,
          1499,
          999,
          898,
          1498,
          1998,
          1968,
          3982,
          1950,
          999,
          1968,
          2967,
          999,
          1998,
          1498,
          1968,
          1199,
          1390,
          1193,
          999,
          1968,
          5461,
          1968,
          1499,
          1969,
          1498,
          1193,
          1332,
          1498,
          2993,
          1498,
          2993,
          999,
          1560,
          1197,
          1199,
          1598,
          1332,
          1197,
          1499,
          999,
          1332,
          1499,
          3982,
          1598,
          2999,
          998,
          1984,
          2998,
          1968,
          1984,
          1968,
          1500,
          998,
          1499,
          999,
          1798,
          1332,
          1498,
          2993,
          1499,
          1499,
          1499,
          2967,
          1499,
          1498,
          999,
          1499,
          1242,
          1968,
          1968,
          2967,
          2755,
          1998,
          1984,
          1499,
          999,
          1498,
          1499,
          1499,
          1499,
          1998,
          1580,
          1968,
          1499,
          1968,
          999,
          1499,
          1461,
          2967,
          1598,
          1560,
          1591,
          999,
          1498,
          1199,
          2925,
          1499,
          1968,
          4395,
          2360,
          1598,
          1499,
          1498,
          1984,
          1499,
          1499,
          998,
          1199,
          999,
          5204,
          1332,
          998,
          1332,
          1499,
          1200,
          1499,
          1598,
          1999,
          1498,
          1950,
          999,
          1469,
          1991,
          1462,
          2299,
          875,
          1490,
          2996,
          2500,
          1499,
          1995,
          1199,
          1496,
          1496,
          2995,
          1997,
          1968,
          1560,
          999,
          999,
          1497,
          999,
          1498,
          2967,
          1469,
          1199,
          2967,
          1490,
          1798,
          1332,
          999,
          1497,
          1499,
          1469,
          1499,
          1461,
          1199,
          999,
          1750,
          1598,
          1395,
          999,
          1333,
          1995,
          3000,
          1995,
          1461,
          1490,
          1499,
          1499,
          999,
          1968,
          1499,
          1499,
          1499,
          1560,
          1499,
          1496,
          1498,
          1199,
          1600,
          1199,
          1000,
          4395,
          2393,
          1368,
          999,
          1498,
          1498,
          999,
          4395,
          1499,
          1499,
          1332,
          1498,
          1499,
          1987,
          1500,
          999,
          1499,
          1197,
          1499,
          1987,
          1598,
          1995,
          2792,
          1968,
          999,
          1500,
          1368,
          1498,
          999,
          1968,
          1461,
          1950,
          1598,
          1395,
          1496,
          1197,
          1199,
          1499,
          1499,
          1984,
          1461,
          1997,
          1498,
          1199,
          2993,
          1997,
          1332,
          1968,
          1598,
          4395,
          1499,
          1368,
          1462,
          5000,
          1598,
          1368,
          1995,
          999,
          1968,
          1498,
          1461,
          1498,
          2993,
          2000,
          1499,
          1499,
          2998,
          1368,
          1598,
          1969,
          1798,
          1995,
          1968,
          1984,
          998,
          1461,
          3498,
          998,
          1199,
          1997,
          1968,
          1498,
          1499,
          999,
          1332,
          1499,
          2999,
          1395,
          2993,
          1598,
          1968,
          2993,
          1199,
          1598,
          1968,
          1499,
          1997,
          1499,
          1968,
          1598,
          1995,
          1598,
          2993,
          4395,
          3000,
          1197,
          1598,
          1499,
          1499,
          1991,
          1498,
          998,
          1482,
          1199,
          1991,
          1499,
          1950,
          999,
          1984,
          1598,
          1199,
          1197,
          1462,
          1499,
          999,
          1332,
          1950,
          1332,
          1950,
          2993,
          1499,
          1950,
          1368,
          2998,
          2998,
          998,
          1968,
          2993,
          999,
          999,
          1499,
          1496,
          1499,
          1999,
          1995,
          3993,
          1499,
          1499,
          1995,
          1950,
          1462,
          1499,
          1332,
          2998,
          1950,
          2995,
          1199,
          1968,
          1498,
          1498,
          1950,
          999,
          1499,
          1998,
          999,
          2967,
          1995,
          1499,
          1998,
          1968,
          1499,
          2998,
          1499,
          2967,
          999,
          1950,
          2488,
          2967,
          2143,
          1968,
          1499,
          1199,
          998,
          1395,
          1499,
          2993,
          1995,
          1984,
          1968,
          1968,
          2925,
          999,
          2993,
          2993,
          1499,
          2996,
          1984,
          999,
          1498,
          1499,
          1950,
          1199,
          1395,
          1499,
          2191,
          1998,
          1969,
          1991,
          1995,
          1498,
          1950,
          1984,
          1390,
          1969,
          1498,
          1498,
          1969,
          1199,
          2191,
          1998,
          998,
          2998,
          2993,
          1991,
          1499,
          999,
          998,
          1199,
          1199,
          1598,
          1598,
          999,
          2967,
          1996,
          1968,
          1499,
          2993,
          1332,
          4395,
          4395,
          1968,
          998,
          1498,
          1490,
          1598,
          1461,
          1997,
          1984,
          1968,
          999,
          1499,
          1499,
          1496,
          999,
          1995,
          1598,
          999,
          1199,
          2998,
          1499,
          4395,
          1498,
          999,
          1499,
          1580,
          2967,
          1499,
          1499,
          1499,
          1498,
          4395,
          2996,
          1332,
          2998,
          1499,
          1998,
          1598,
          999,
          999,
          1987,
          1499,
          6496,
          1999,
          2179,
          1968,
          998,
          999,
          1199,
          1984,
          1499,
          1197,
          1199,
          1498,
          1984,
          1498,
          2191,
          5038,
          4395,
          1598,
          1984,
          1499,
          999,
          1499,
          1991,
          1598,
          1199,
          1368,
          1461,
          1368,
          1328,
          1499,
          1395,
          999,
          2993,
          1199,
          6417,
          1199,
          1199,
          1999,
          1499,
          1199,
          1199,
          2480,
          1984,
          2298,
          1199,
          4951,
          1968,
          1968,
          1199,
          1598,
          999,
          1499,
          1499,
          1598,
          1500,
          1995,
          2996,
          1950,
          1496,
          1499,
          999,
          999,
          1950,
          1598,
          2993,
          1199,
          1998,
          1998,
          1598,
          1395,
          999,
          1968,
          1498,
          1560,
          1995,
          2967,
          998,
          1199,
          1499,
          999,
          999,
          1498,
          1997,
          1969,
          1998,
          1598,
          1499,
          1998,
          1499,
          1984,
          1461,
          2268,
          1199,
          2967,
          1598,
          1499,
          2993,
          1373,
          1199,
          1998,
          1598,
          1968,
          999,
          1969,
          2993,
          1499,
          999,
          1499,
          999,
          1373,
          1499,
          1499,
          3982,
          999,
          1199,
          1998,
          2993,
          1598,
          1333,
          1498,
          1950,
          2996,
          1499,
          1598,
          1395,
          1395,
          1968,
          1482,
          1084,
          1499,
          1499,
          1499,
          1968,
          3982,
          1498,
          1798,
          1598,
          999,
          1999,
          1987,
          1995,
          1984,
          1998,
          1498,
          1968,
          2967,
          1598,
          999,
          2967,
          1968,
          1499,
          2993,
          1332,
          1499,
          1477,
          1968,
          1199,
          1498,
          1580,
          1598,
          2925,
          1598,
          1332,
          1998,
          1998,
          1704.461773700306,
          1499,
          1968,
          1499,
          1998,
          1499,
          1199,
          1998,
          1995,
          1968,
          1499,
          1499,
          1968,
          2184,
          1968,
          2184,
          1499,
          2143,
          1968,
          1995,
          1499,
          1498,
          1499,
          1997,
          999,
          1499,
          1499,
          1995,
          999,
          2993,
          1968,
          2298,
          4395,
          1248,
          1469,
          1461,
          1199,
          898,
          1199,
          3982,
          1500,
          998,
          1499,
          1499,
          1499,
          1591,
          1591,
          1499,
          1499,
          1598,
          1499,
          1560,
          999,
          999,
          1332,
          1193,
          1497,
          2998,
          1199,
          1199,
          1199,
          1482,
          1498,
          999,
          1968,
          1984,
          2987,
          999,
          999,
          1461,
          1199,
          4395,
          1598,
          1984,
          1500,
          1969,
          1499,
          1499,
          1498,
          999,
          1598,
          1991,
          1329,
          1499,
          1482,
          1499,
          1499,
          1998,
          1199,
          1199,
          999,
          1199,
          1199,
          1461,
          1499,
          1499,
          1368,
          1968,
          1499,
          2967,
          1598,
          1469,
          1461,
          1968,
          1598,
          1598,
          998,
          1395,
          1998,
          1968,
          1395,
          999,
          1998,
          999,
          2360,
          1968,
          1499,
          1390,
          1998,
          1984,
          999,
          1199,
          998,
          3982,
          1499,
          1968,
          999,
          1950,
          1332,
          1498,
          1968,
          1199,
          1984,
          1968,
          1499,
          998,
          1995,
          1499,
          999,
          1598,
          1499,
          999,
          1499,
          1968,
          1598,
          1998,
          999,
          1560,
          1968,
          1199,
          1499,
          998,
          2993,
          1798,
          1969,
          1368,
          1499,
          1499,
          1332,
          1998,
          2999,
          2000,
          999,
          1968,
          999,
          1995,
          999,
          1497,
          1499,
          2000,
          1498,
          1499,
          1968,
          1598,
          1199,
          1499,
          1950,
          1591,
          999,
          1950,
          1199,
          1395,
          1499,
          1199,
          1950,
          999,
          1968,
          1500,
          1248,
          1968,
          2143,
          1498,
          1499,
          1332,
          1598,
          1499,
          1968,
          1499,
          1332,
          999,
          1968,
          999,
          999,
          1498,
          1199,
          999,
          1498,
          1984,
          1995,
          1461,
          1499,
          1591,
          1199,
          999,
          1495,
          1995,
          1199,
          1968,
          1499,
          1968,
          1499,
          1995,
          1199,
          1956,
          1499,
          1332,
          1364,
          1199,
          1499,
          1968,
          1499,
          1242,
          1968,
          1499,
          999,
          1199,
          1997,
          1199,
          1499,
          1499,
          1199,
          2967,
          999,
          1984,
          1598,
          1499,
          1199,
          1968,
          1998,
          1968,
          1499,
          2996,
          1498,
          1950,
          1690,
          1332,
          1499,
          1499,
          999,
          1499,
          1499,
          1995,
          898,
          4395,
          1499,
          1984,
          999,
          1968,
          999,
          1500,
          1995,
          2993,
          1498,
          2998,
          999,
          999,
          1499,
          1497,
          1498,
          1199,
          3982,
          2894,
          999,
          1950,
          1499,
          1499,
          3982,
          1395,
          1984,
          3000,
          1499,
          999,
          1498,
          999,
          1598,
          1332,
          2981,
          1499,
          1598,
          2143,
          1199,
          1987,
          998,
          1499,
          3982,
          1199,
          999,
          999,
          999,
          999,
          2967,
          1969,
          1498,
          1968,
          1395,
          2360,
          998,
          998,
          1461,
          1199,
          1499,
          1499,
          1395,
          2987,
          2993,
          1461,
          1499,
          999,
          1332,
          999,
          998,
          1395,
          1995,
          1598,
          1969,
          4395,
          1499,
          1199,
          1968,
          1950,
          1499,
          2993,
          1498,
          1499,
          1395,
          1499,
          999,
          1496,
          1591,
          1499,
          999,
          999,
          999,
          1499,
          999,
          2151,
          1598,
          1950,
          1499,
          1997,
          1332,
          1499,
          1499,
          999,
          1477,
          1498,
          1499,
          1598,
          1333,
          1598,
          1499,
          1993,
          1499,
          1199,
          1498,
          999,
          1499,
          1984,
          999,
          1332,
          999,
          1499,
          999,
          1199,
          1199,
          1498,
          1950,
          1499,
          1998,
          1395,
          1368,
          1499,
          999,
          1499,
          1499,
          999,
          1498,
          1580,
          1469,
          1199,
          1499,
          1995,
          1498,
          1498,
          1598,
          998,
          898,
          1498,
          1997,
          1998,
          1968,
          1968,
          999,
          1199,
          1598,
          1968,
          1497,
          1499,
          1332,
          1499,
          1199,
          1499,
          999,
          1364,
          1998,
          1499,
          1968,
          2191,
          1984,
          1997,
          999,
          1968,
          1598,
          1968,
          1984,
          1499,
          1469,
          1496,
          1499,
          5654,
          1000,
          1332,
          1199,
          1395,
          1333,
          998,
          999,
          1499,
          1490,
          1499,
          1499,
          1968,
          999,
          1499,
          1477,
          1498,
          1199,
          1498,
          5000,
          1598,
          1969,
          1461,
          1199,
          1477,
          998,
          1968,
          1598,
          1995,
          1499,
          1496,
          1498,
          1984,
          1461,
          1199,
          1498,
          1499,
          1598,
          1368,
          4663,
          1332,
          1497,
          1200,
          1332,
          1490,
          1395,
          2993,
          1499,
          2987,
          1984,
          1197,
          1499,
          1499,
          1462,
          1598,
          1199,
          1395,
          1598,
          1149,
          1199,
          1499,
          1969,
          1950,
          2198,
          1395,
          1499,
          1499,
          1560,
          2995,
          1968,
          1704.461773700306,
          998,
          1984,
          1499,
          999,
          1499,
          1598,
          1469,
          1498,
          999,
          1499,
          1998,
          2497,
          1395,
          1999,
          1499,
          1998,
          1333,
          1984,
          1499,
          1498,
          1499,
          2993,
          1462,
          2299,
          1998,
          1499,
          1498,
          1499,
          1368,
          1969,
          1968,
          1984,
          1499,
          999,
          1499,
          1395,
          1395,
          999,
          1499,
          1499,
          1598,
          1333,
          1499,
          2488,
          1499,
          4395,
          1998,
          1499,
          1499,
          1498,
          2143,
          999,
          1499,
          1477,
          1499,
          1332,
          1998,
          1197,
          1600,
          1968,
          999,
          1499,
          1229,
          1499,
          1193,
          1199,
          4951,
          1968,
          2956,
          1598,
          1499,
          999,
          1898,
          1499,
          1199,
          1997,
          1968,
          1498,
          1998,
          1498,
          1995,
          1199,
          1395,
          1798,
          1490,
          1199,
          1599,
          1498,
          1598,
          999,
          1598,
          1968,
          1997,
          1598,
          1499,
          1461,
          999,
          1956,
          1461,
          1397,
          1499,
          1398,
          1499,
          1499,
          1498,
          999,
          1332,
          1499,
          1461,
          1199,
          1968,
          2993,
          998,
          1598,
          1461,
          1499,
          1598,
          1598,
          1199,
          1598,
          1499,
          1499,
          2993,
          1968,
          1968,
          1199,
          2993,
          1332,
          1199,
          1968,
          1499,
          1499,
          1199,
          1395,
          1984,
          1968,
          2360,
          1598,
          1998,
          998,
          999,
          1968,
          1332,
          898,
          1968,
          1461,
          1968,
          999,
          1995,
          1199,
          1200,
          1984,
          1991,
          998,
          1968,
          1598,
          1996,
          1469,
          1199,
          1968,
          999,
          1499,
          1984,
          1199,
          1199,
          1499,
          4395,
          1968,
          1996,
          1598,
          1968,
          999,
          1332,
          998,
          4395,
          1499,
          1461,
          1498,
          1395,
          1995,
          999,
          1598,
          1498,
          999,
          1398,
          1499,
          2996,
          2179,
          998,
          1595,
          1997,
          1199,
          999,
          3956,
          1998,
          1199,
          1332,
          998,
          1199,
          1498,
          6496,
          998,
          1498,
          999,
          1499,
          1598,
          1598,
          1998,
          1499,
          999,
          1969,
          1995,
          1798,
          1984,
          898,
          4395,
          1333,
          1332,
          1968,
          1084,
          1598,
          1798,
          1499,
          1968,
          1498,
          1490,
          1395,
          1199,
          1984,
          1461,
          1499,
          998,
          898,
          1333,
          1199,
          1499,
          1984,
          1560,
          1560,
          1499,
          1199,
          1984,
          1984,
          4951,
          1984,
          1997,
          1598,
          2998,
          1969,
          1499,
          1998,
          1197,
          1968,
          1968,
          1998,
          999,
          999,
          4395,
          1685,
          1199,
          999,
          1193,
          1991,
          1969,
          1330,
          999,
          1199,
          1199,
          1368,
          1199,
          1598,
          1968,
          1968,
          1499,
          1968,
          1198,
          2298,
          2191,
          1968,
          1499,
          1998,
          1499,
          999,
          1499,
          1968,
          1199,
          2480,
          1499,
          1984,
          1461,
          1368,
          1199,
          1996,
          1991,
          1199,
          1704.461773700306,
          1984,
          830,
          1461,
          998,
          1499,
          1499,
          1997,
          1498,
          999,
          1499,
          1598,
          999,
          1199,
          1968,
          2993,
          1499,
          1995,
          1499,
          998,
          2925,
          1497,
          998,
          1332,
          2956,
          1499,
          1995,
          2143,
          2143,
          1498,
          1598,
          1598,
          1199,
          1995,
          1560,
          1499,
          2143,
          1499,
          999,
          1991,
          1998,
          1199,
          999,
          1998,
          999,
          1199,
          1969,
          1598,
          1598,
          1968,
          1199,
          1595,
          1499,
          1499,
          1461,
          1499,
          1499,
          999,
          999,
          999,
          1498,
          1498,
          1968,
          2967,
          1499,
          1968,
          999,
          1998,
          1499,
          1498,
          1199,
          1798,
          1498,
          1991,
          2487,
          1499,
          1499,
          1199,
          1490,
          3996,
          1499,
          1199,
          1499,
          2488,
          1968,
          1482,
          1995,
          3982,
          1598,
          999,
          1498,
          1968,
          999,
          2993,
          1373,
          999,
          1984,
          999,
          999,
          1995,
          1984,
          2993,
          1197,
          1500,
          1197,
          3000,
          1461,
          1199,
          1199,
          1248,
          1499,
          1200,
          1998,
          1498,
          1199,
          1499,
          1461,
          999,
          1987,
          1991,
          1498,
          1598,
          1373,
          999,
          1498,
          999,
          2967,
          1199,
          1580,
          1499,
          1368,
          999,
          999,
          1498,
          1950,
          4395,
          1332,
          1332,
          1499,
          1995,
          2997,
          1499,
          2993,
          1499,
          1968,
          1332,
          1199,
          1968,
          1968,
          1499,
          875,
          2995,
          999,
          1332,
          2198,
          1499,
          1498,
          998,
          1498,
          1968,
          1199,
          1199,
          1368,
          1332,
          1199,
          1199,
          1199,
          2487,
          1498,
          998,
          1991,
          1497,
          998,
          1499,
          1998,
          1499,
          1598,
          1798,
          2184,
          1800,
          1498,
          999,
          1598,
          1998,
          1582,
          2993,
          2981,
          1987,
          1598,
          1598,
          999,
          1598,
          1499,
          1499,
          1499,
          999,
          1969,
          1950,
          999,
          998,
          1199,
          1242,
          1497,
          999,
          1598,
          1956,
          1560,
          1200,
          1498,
          1598,
          1498,
          1499,
          1199,
          1598,
          1499,
          999,
          1995,
          6162,
          1332,
          1499,
          999,
          1499,
          1499,
          998,
          998,
          999,
          1968,
          898,
          2143,
          999,
          999,
          1984,
          1499,
          1199,
          1598,
          1499,
          999,
          1498,
          1998,
          1482,
          1199,
          1461,
          1998,
          1993,
          1498,
          1373,
          1199,
          999,
          1332,
          1968,
          1199,
          1499,
          1395,
          1499,
          1499,
          1997,
          1333,
          4735,
          1984,
          1499,
          1461,
          1598,
          1499,
          1984,
          1469,
          2287,
          1997,
          1968,
          2143,
          2925,
          1499,
          1332,
          2996,
          1499,
          999,
          2956,
          2967,
          1499,
          1498,
          2925,
          999,
          2993,
          999,
          4395,
          1499,
          1968,
          1199,
          1598,
          1968,
          2967,
          999,
          999,
          1332,
          1499,
          1798,
          1395,
          2993,
          1984,
          1199,
          1499,
          1998,
          1482,
          999,
          999,
          1950,
          1199,
          999,
          2488,
          1998,
          1995,
          1499,
          1995,
          1500,
          1798,
          1461,
          1498,
          1499,
          1499,
          1482,
          1395,
          1332,
          1199,
          1498,
          1499,
          2967,
          1499,
          1984,
          999,
          1798,
          1499,
          1968,
          1984,
          999,
          1998,
          999,
          1461,
          1499,
          1598,
          1499,
          2967,
          1499,
          1499,
          999,
          1495,
          1499,
          2981,
          1950,
          998,
          1332,
          1968,
          1798,
          1499,
          1498,
          998,
          1598,
          998,
          1496,
          1199,
          1598,
          1498,
          999,
          1499,
          1995,
          1332,
          1749,
          1968,
          1499,
          1984,
          999,
          2143,
          1560,
          1197,
          1499,
          1969,
          1332,
          1461,
          1499,
          2993,
          1999,
          999,
          999,
          4395,
          999,
          1597,
          1598,
          2993,
          1560,
          1499,
          1968,
          1798,
          1995,
          1482,
          999,
          1333,
          998,
          1461,
          1798,
          2494,
          1598,
          1499,
          1490,
          1498,
          1499,
          1482,
          2987,
          1968,
          1499,
          999,
          1998,
          1199,
          1199,
          1995,
          1498,
          1199,
          1598,
          1560,
          2999,
          1248,
          1395,
          2487,
          1353,
          1598,
          1399,
          1498,
          2993,
          3982,
          999,
          999,
          999,
          1800,
          1199,
          1499,
          1200,
          1997,
          1318,
          2967,
          1499,
          1498,
          1598,
          1498,
          1499,
          999,
          998,
          1499,
          1598,
          1332,
          1499,
          1991,
          1199,
          1498,
          1499,
          1997,
          1984,
          2967,
          998,
          999,
          1199,
          1395,
          3996,
          1993,
          1499,
          1490,
          1395,
          1499,
          1499,
          1482,
          1969,
          998,
          1395,
          1987,
          1499,
          898,
          1999,
          1368,
          1498,
          1499,
          1496,
          1496,
          999,
          999,
          1984,
          999,
          1199,
          1498,
          1499,
          4395,
          1496,
          999,
          1242,
          1968,
          1469,
          1462,
          1395,
          1498,
          1968,
          1499,
          1499,
          1499,
          1498,
          1991,
          1199,
          2999,
          1560,
          1497,
          1199,
          1199,
          1499,
          1997,
          1968,
          1461,
          1598,
          1499,
          1332,
          1968,
          1332,
          1332,
          1197,
          1499,
          2967,
          1950,
          1998,
          1199,
          1199,
          998,
          999,
          1969,
          1399,
          1598,
          1997,
          1200,
          1499,
          1560,
          1498,
          2967,
          1499,
          1499,
          1199,
          1499,
          999,
          1332,
          1997,
          1199,
          1984,
          1499,
          1498,
          2967,
          1749,
          1197,
          2925,
          1499,
          1969,
          1984,
          1199,
          1199,
          898,
          1704.461773700306,
          2000,
          1199,
          1498,
          1499,
          2494,
          1991,
          1499,
          1499,
          1499,
          1199,
          2299,
          2979,
          1499,
          3600,
          999,
          1084,
          1685,
          1499,
          1395,
          1199,
          1499,
          1499,
          898,
          1498,
          1332,
          1968,
          1364,
          2967,
          3745,
          1598,
          1997,
          999,
          1199,
          1968,
          1332,
          1499,
          1996,
          2184,
          1499,
          1499,
          1968,
          1084,
          1968,
          2993,
          1332,
          1461,
          1498,
          3996,
          1499,
          999,
          1968,
          1991,
          1999,
          1332,
          1749,
          1991,
          1200,
          1498,
          1499,
          999,
          1461,
          1998,
          6496,
          1461,
          1395,
          2151,
          1499,
          1499,
          999,
          1580,
          1368,
          875,
          1498,
          998,
          830,
          998,
          1461,
          1998,
          1395,
          1598,
          1968,
          1490,
          999,
          1499,
          1950,
          1998,
          1499,
          1968,
          1991,
          1499,
          898,
          1995,
          2967,
          1598,
          1199,
          1950,
          1996,
          1461,
          998,
          1199,
          1998,
          1995,
          1560,
          1997,
          999,
          1560,
          1333,
          1332,
          1499,
          1199,
          1598,
          1968,
          1499,
          1984,
          1499,
          1499,
          1968,
          1499,
          1969,
          1598,
          1998,
          999,
          1997,
          1968,
          1997,
          1199,
          1499,
          998,
          1500,
          1390,
          1193,
          1796,
          1498,
          1968,
          1968,
          1199,
          1598,
          1461,
          1991,
          1490,
          1499,
          1461,
          1332,
          1996,
          1490,
          1199,
          1499,
          1499,
          1993,
          1499,
          1499,
          1199,
          2179,
          1199,
          1968,
          3996,
          1499,
          1499,
          1469,
          1598,
          1968
         ],
         "xaxis": "x",
         "y": [
          160,
          61,
          81,
          110,
          191,
          169,
          160,
          110,
          100,
          190,
          168,
          81,
          103,
          61,
          116,
          81,
          110,
          210,
          143,
          150,
          81,
          135,
          61,
          96,
          169,
          70,
          33,
          143,
          132,
          110,
          147,
          103,
          84,
          110,
          81,
          103,
          375,
          213,
          173,
          100,
          210,
          132,
          135,
          67,
          131,
          140,
          180,
          110,
          75,
          258,
          51,
          61,
          81,
          110,
          228,
          132,
          230,
          135,
          405,
          96,
          385,
          96,
          51,
          155,
          235,
          180,
          110,
          103,
          100,
          174,
          165,
          270,
          54,
          74,
          96,
          88,
          110,
          33,
          110,
          131,
          110,
          103,
          96,
          66,
          81,
          430,
          221,
          100,
          107,
          96,
          110,
          360,
          70,
          100,
          66,
          140,
          110,
          131,
          74,
          150,
          96,
          103,
          255,
          390,
          62,
          221,
          110,
          140,
          92,
          385,
          147,
          110,
          96,
          96,
          140,
          74,
          110,
          160,
          287,
          545,
          136,
          81,
          210,
          133,
          103,
          120,
          169,
          420,
          255,
          96,
          169,
          110,
          270,
          103,
          96,
          404,
          100,
          165,
          110,
          140,
          130,
          81,
          96,
          70,
          66,
          110,
          90,
          110,
          310,
          176,
          81,
          90,
          170,
          81,
          141,
          84,
          140,
          60,
          63,
          52,
          44,
          176,
          430,
          176,
          168,
          173,
          110,
          52,
          103,
          96,
          210,
          110,
          294,
          81,
          55,
          77,
          81,
          165,
          100,
          61,
          100,
          44,
          103,
          140,
          450,
          106,
          320,
          49,
          169,
          290,
          110,
          220,
          140,
          110,
          74,
          60,
          66,
          103,
          116,
          110,
          195,
          300,
          74,
          81,
          257,
          150,
          110,
          51,
          165,
          60,
          110,
          110,
          210,
          150,
          185,
          228,
          150,
          81,
          96,
          200,
          96,
          150,
          141,
          104,
          90,
          75,
          103,
          81,
          128,
          85,
          210,
          116,
          88,
          150,
          92,
          110,
          96,
          243,
          87,
          90,
          390,
          138,
          110,
          195,
          110,
          228,
          160,
          96,
          53,
          81,
          52,
          470,
          116,
          53,
          110,
          88,
          74,
          230,
          88,
          132,
          110,
          235,
          51,
          96,
          280,
          75,
          81,
          63,
          85,
          270,
          160,
          250,
          110,
          96,
          110,
          110,
          340,
          136,
          90,
          55,
          51,
          55,
          120,
          81,
          110,
          150,
          96,
          81,
          210,
          119,
          90,
          116,
          81,
          140,
          283,
          96,
          74,
          85,
          55,
          54,
          75,
          133,
          180,
          70,
          116,
          110,
          215,
          135,
          63,
          103,
          90,
          221,
          81,
          135,
          96,
          74,
          96,
          73,
          100,
          110,
          110,
          96,
          88,
          61,
          82,
          390,
          110,
          125,
          81,
          110,
          81,
          70,
          390,
          150,
          75,
          103,
          96,
          100,
          129,
          85,
          81,
          250,
          63,
          100,
          145,
          85,
          110,
          239,
          75,
          66,
          110,
          74,
          110,
          51,
          110,
          85,
          180,
          64,
          150,
          90,
          88,
          96,
          160,
          420,
          206,
          81,
          135,
          96,
          96,
          193,
          118,
          100,
          110,
          110,
          390,
          283,
          132,
          75,
          386,
          110,
          70,
          170,
          81,
          150,
          110,
          74,
          110,
          294,
          157,
          88,
          96,
          275,
          70,
          220,
          140,
          221,
          110,
          110,
          110,
          53,
          85,
          225,
          74,
          61,
          110,
          110,
          110,
          132,
          70,
          100,
          100,
          320,
          160,
          294,
          146,
          110,
          190,
          81,
          110,
          150,
          75,
          132,
          96,
          150,
          105,
          140,
          133,
          195,
          390,
          275,
          61,
          169,
          100,
          60,
          145,
          110,
          49,
          118,
          96,
          310,
          100,
          176,
          70,
          180,
          132,
          96,
          62,
          75,
          160,
          48,
          160,
          125,
          120,
          110,
          195,
          168,
          143,
          88,
          250,
          250,
          53,
          140,
          294,
          49,
          81,
          300,
          110,
          33,
          190,
          140,
          331,
          160,
          103,
          110,
          225,
          75,
          96,
          160,
          250,
          180,
          250,
          96,
          140,
          110,
          110,
          225,
          81,
          160,
          180,
          55,
          210,
          96,
          96,
          215,
          110,
          165,
          275,
          75,
          180,
          61,
          143,
          143,
          193,
          100,
          135,
          350,
          81,
          92,
          110,
          150,
          210,
          140,
          140,
          150,
          110,
          243,
          81,
          210,
          250,
          160,
          287,
          180,
          81,
          110,
          33,
          180,
          81,
          160,
          440,
          110,
          131,
          145,
          225,
          110,
          110,
          110,
          150,
          63,
          110,
          110,
          110,
          145,
          96,
          110,
          115,
          49,
          275,
          294,
          235,
          135,
          66,
          70,
          96,
          114,
          88,
          169,
          70,
          255,
          125,
          81,
          98,
          375,
          96,
          390,
          390,
          135,
          54,
          110,
          92,
          66,
          66,
          130,
          180,
          140,
          81,
          221,
          70,
          66,
          81,
          140,
          88,
          51,
          96,
          275,
          70,
          390,
          110,
          92,
          137,
          103,
          180,
          75,
          96,
          88,
          110,
          390,
          270,
          103,
          250,
          96,
          90,
          169,
          81,
          44,
          144,
          70,
          588,
          138,
          121,
          110,
          53,
          81,
          74,
          140,
          96,
          62,
          61,
          110,
          180,
          110,
          135,
          331,
          390,
          195,
          152,
          100,
          66,
          230,
          135,
          88,
          96,
          121,
          66,
          121,
          63,
          96,
          160,
          67,
          250,
          96,
          362,
          96,
          81,
          132,
          100,
          96,
          96,
          287,
          162,
          110,
          96,
          310,
          75,
          150,
          96,
          153,
          49,
          70,
          75,
          61,
          96,
          243,
          375,
          120,
          85,
          165,
          70,
          88,
          110,
          85,
          294,
          81,
          135,
          131,
          59,
          150,
          92,
          150,
          110,
          88,
          110,
          180,
          49,
          55,
          96,
          52,
          81,
          110,
          132,
          140,
          135,
          85,
          60,
          141,
          168,
          180,
          85,
          110,
          96,
          190,
          88,
          150,
          294,
          95,
          96,
          90,
          84,
          140,
          51,
          182,
          294,
          140,
          51,
          125,
          84,
          95,
          100,
          283,
          450,
          66,
          81,
          135,
          155,
          85,
          96,
          110,
          110,
          287,
          385,
          165,
          180,
          155,
          110,
          118,
          55,
          230,
          100,
          73,
          110,
          310,
          110,
          103,
          82,
          67,
          132,
          135,
          130,
          152,
          137,
          96,
          110,
          251,
          85,
          92,
          170,
          110,
          300,
          294,
          103,
          96,
          95,
          110,
          74,
          110,
          104,
          100,
          250,
          59,
          111,
          121,
          141,
          93,
          96,
          150,
          150,
          215,
          100,
          81,
          110,
          110,
          110,
          85,
          160,
          110,
          147,
          110,
          147,
          283,
          125,
          90,
          140,
          96,
          134,
          135,
          130,
          70,
          100,
          230,
          110,
          70,
          294,
          110,
          140,
          390,
          71,
          96,
          85,
          146,
          66,
          61,
          430,
          110,
          51,
          96,
          300,
          60,
          195,
          195,
          96,
          150,
          169,
          115,
          55,
          44,
          81,
          103,
          52,
          115,
          275,
          74,
          74,
          74,
          117,
          110,
          85,
          110,
          110,
          190,
          81,
          84,
          85,
          81,
          390,
          195,
          245,
          92,
          140,
          96,
          96,
          96,
          81,
          96,
          165,
          73,
          100,
          118,
          150,
          230,
          118,
          96,
          81,
          74,
          74,
          81,
          66,
          135,
          140,
          121,
          150,
          87,
          160,
          85,
          96,
          81,
          147,
          96,
          96,
          53,
          180,
          135,
          110,
          150,
          66,
          131,
          84,
          138,
          140,
          101,
          103,
          185,
          150,
          48,
          74,
          74,
          430,
          220,
          150,
          81,
          235,
          103,
          110,
          110,
          81,
          112,
          110,
          101,
          53,
          140,
          100,
          81,
          169,
          210,
          92,
          150,
          90,
          85,
          185,
          66,
          55,
          140,
          96,
          283,
          88,
          294,
          205,
          182,
          70,
          250,
          96,
          118,
          150,
          320,
          147,
          70,
          110,
          81,
          140,
          67,
          74,
          221,
          225,
          110,
          160,
          85,
          169,
          61,
          96,
          235,
          99,
          92,
          235,
          81,
          180,
          750,
          96,
          110,
          74,
          110,
          96,
          59,
          110,
          142,
          110,
          96,
          96,
          165,
          88,
          125,
          33,
          100,
          51,
          176,
          70,
          66,
          110,
          96,
          85,
          110,
          195,
          77,
          85,
          75,
          150,
          60,
          84,
          180,
          140,
          96,
          103,
          96,
          103,
          96,
          110,
          96,
          125,
          128,
          103,
          103,
          61,
          33,
          85,
          88,
          51,
          110,
          220,
          81,
          96,
          81,
          74,
          180,
          82,
          96,
          210,
          70,
          169,
          85,
          195,
          61,
          135,
          137,
          110,
          96,
          270,
          110,
          110,
          61,
          103,
          195,
          150,
          85,
          81,
          75,
          142,
          68,
          390,
          150,
          150,
          48,
          140,
          61,
          96,
          110,
          195,
          84,
          275,
          67,
          51,
          81,
          55,
          110,
          55,
          410,
          340,
          70,
          120,
          96,
          220,
          430,
          180,
          140,
          184,
          81,
          70,
          96,
          81,
          85,
          103,
          283,
          125,
          118,
          154,
          96,
          145,
          53,
          250,
          375,
          96,
          50,
          74,
          81,
          66,
          210,
          173,
          110,
          85,
          82,
          138,
          51,
          92,
          85,
          61,
          70,
          60,
          150,
          190,
          375,
          70,
          162,
          51,
          120,
          51,
          88,
          92,
          140,
          132,
          140,
          390,
          300,
          96,
          110,
          110,
          385,
          221,
          110,
          96,
          150,
          140,
          81,
          85,
          150,
          150,
          86,
          55,
          51,
          100,
          51,
          142,
          220,
          180,
          33,
          221,
          100,
          150,
          101,
          67,
          193,
          110,
          85,
          110,
          75,
          195,
          100,
          147,
          97,
          96,
          110,
          81,
          210,
          169,
          81,
          118,
          66,
          350,
          70,
          96,
          96,
          84,
          110,
          180,
          110,
          160,
          132,
          33,
          70,
          221,
          150,
          85,
          110,
          104,
          96,
          74,
          195,
          140,
          110,
          227,
          132,
          88,
          66,
          110,
          90,
          206,
          140,
          173,
          85,
          81,
          169,
          110,
          55,
          70,
          103,
          96,
          74,
          150,
          59,
          110,
          135,
          150,
          147,
          129,
          110,
          130,
          81,
          147,
          96,
          103,
          140,
          100,
          96,
          85,
          160,
          295,
          114,
          111,
          55,
          150,
          96,
          74,
          81,
          160,
          85,
          125,
          140,
          110,
          59,
          236,
          192,
          110,
          61,
          110,
          423,
          110,
          110,
          103,
          96,
          140,
          74,
          110,
          117,
          110,
          150,
          85,
          110,
          195,
          85,
          96,
          110,
          75,
          85,
          132,
          335,
          103,
          85,
          96,
          120,
          85,
          180,
          294,
          150,
          190,
          180,
          81,
          96,
          96,
          75,
          67,
          96,
          180,
          88,
          54,
          60,
          75,
          288,
          143,
          149,
          110,
          160,
          100,
          74,
          250,
          147,
          239,
          53,
          228,
          162,
          70,
          75,
          110,
          96,
          110,
          71,
          88,
          177,
          257,
          110,
          132,
          170,
          215,
          96,
          213,
          140,
          110,
          150,
          294,
          75,
          140,
          131,
          125,
          110,
          100,
          121,
          234,
          110,
          140,
          96,
          67,
          125,
          180,
          150,
          51,
          103,
          96,
          88,
          103,
          96,
          165,
          420,
          391,
          135,
          81,
          230,
          110,
          100,
          55,
          100,
          120,
          250,
          120,
          90,
          63,
          105,
          110,
          85,
          150,
          51,
          88,
          52,
          81,
          331,
          110,
          215,
          85,
          87,
          61,
          120,
          140,
          81,
          110,
          110,
          96,
          180,
          110,
          95,
          81,
          160,
          90,
          85,
          96,
          96,
          110,
          105,
          114,
          110,
          110,
          107,
          166,
          96,
          66,
          114,
          121,
          85,
          96,
          96,
          66,
          96,
          33,
          110,
          86,
          103,
          103,
          66,
          61,
          75,
          294,
          88,
          96,
          85,
          160,
          118,
          121,
          81,
          70,
          70,
          247,
          280,
          140,
          75,
          96,
          195,
          110,
          96,
          140,
          75,
          96,
          60,
          150,
          140,
          84,
          138,
          75,
          135,
          74,
          52,
          81,
          177,
          66,
          140,
          85,
          100,
          81,
          140,
          81,
          81,
          140,
          135,
          53,
          110,
          100,
          98,
          96,
          55,
          75,
          81,
          96,
          180,
          81,
          96,
          81,
          391,
          110,
          156,
          83,
          110,
          91,
          103,
          53,
          390,
          96,
          85,
          84,
          180,
          142,
          68,
          118,
          110,
          59,
          66,
          150,
          375,
          121,
          88,
          115,
          132,
          96,
          81,
          320,
          170,
          60,
          160,
          74,
          96,
          134,
          588,
          53,
          110,
          68,
          160,
          110,
          85,
          132,
          70,
          81,
          294,
          140,
          90,
          228,
          66,
          390,
          96,
          103,
          110,
          63,
          70,
          90,
          137,
          75,
          110,
          85,
          180,
          96,
          140,
          70,
          88,
          82,
          55,
          96,
          81,
          75,
          180,
          55,
          55,
          100,
          74,
          110,
          180,
          310,
          228,
          147,
          169,
          275,
          145,
          210,
          185,
          62,
          110,
          110,
          90,
          70,
          81,
          390,
          104,
          81,
          66,
          52,
          140,
          187,
          103,
          85,
          81,
          96,
          70,
          60,
          81,
          110,
          140,
          60,
          140,
          74,
          132,
          129,
          110,
          150,
          135,
          96,
          88,
          160,
          110,
          61,
          294,
          87,
          152,
          66,
          121,
          74,
          157,
          165,
          81,
          150,
          180,
          105,
          85,
          53,
          100,
          485,
          132,
          110,
          114,
          283,
          118,
          66,
          81,
          110,
          195,
          75,
          140,
          150,
          74,
          269,
          140,
          88,
          116,
          215,
          168,
          140,
          140,
          140,
          110,
          96,
          107,
          147,
          140,
          85,
          96,
          105,
          170,
          81,
          190,
          135,
          81,
          51,
          132,
          70,
          81,
          140,
          77,
          150,
          120,
          96,
          115,
          150,
          210,
          85,
          96,
          135,
          81,
          51,
          51,
          96,
          110,
          110,
          210,
          88,
          75,
          81,
          185,
          75,
          96,
          96,
          132,
          110,
          140,
          225,
          180,
          160,
          74,
          92,
          373,
          140,
          96,
          198,
          165,
          140,
          117,
          140,
          375,
          132,
          70,
          110,
          135,
          74,
          280,
          95,
          70,
          150,
          88,
          92,
          110,
          228,
          250,
          61,
          85,
          81,
          215,
          85,
          96,
          81,
          66,
          115,
          96,
          190,
          110,
          96,
          230,
          74,
          66,
          145,
          180,
          110,
          110,
          95,
          81,
          110,
          91,
          210,
          55,
          104,
          101,
          107,
          85,
          85,
          110,
          110,
          390,
          103,
          96,
          74,
          112,
          221,
          220,
          190,
          300,
          150,
          103,
          96,
          147,
          90,
          100,
          77,
          254,
          81,
          96,
          92,
          87,
          110,
          53,
          110,
          150,
          96,
          96,
          88,
          116,
          81,
          74,
          96,
          160,
          96,
          88,
          190,
          55,
          88,
          150,
          88,
          195,
          96,
          90,
          143,
          72,
          110,
          86,
          85,
          137,
          100,
          280,
          331,
          131,
          132,
          70,
          85,
          92,
          33,
          250,
          100,
          81,
          287,
          110,
          70,
          53,
          81,
          66,
          55,
          85,
          97,
          125,
          74,
          62,
          110,
          165,
          84,
          160,
          81,
          85,
          103,
          81,
          110,
          339,
          117,
          180,
          81,
          96,
          88,
          74,
          88,
          85,
          110,
          66,
          170,
          66,
          74,
          245,
          125,
          81,
          121,
          283,
          74,
          110,
          225,
          117,
          96,
          85,
          141,
          195,
          110,
          95,
          81,
          50,
          80,
          140,
          81,
          451,
          180,
          81,
          210,
          135,
          75,
          321,
          195,
          87,
          85,
          221,
          96,
          195,
          96,
          88,
          156,
          150,
          150,
          243,
          96,
          96,
          270,
          300,
          51,
          336,
          150,
          100,
          110,
          200,
          67,
          195,
          51,
          390,
          170,
          140,
          96,
          110,
          147,
          170,
          81,
          85,
          103,
          33,
          90,
          90,
          294,
          228,
          96,
          70,
          225,
          118,
          81,
          88,
          85,
          74,
          66,
          241,
          225,
          110,
          75,
          140,
          82,
          90,
          85,
          110,
          283,
          212,
          117,
          110,
          120,
          96,
          110,
          96,
          170,
          75,
          221,
          81,
          103,
          150,
          103,
          221,
          74,
          135,
          74,
          81,
          33,
          151,
          150,
          257,
          75,
          75,
          67,
          110,
          128,
          272,
          140,
          49,
          120,
          147,
          90,
          245,
          84,
          51,
          110,
          53,
          87,
          81,
          85,
          110,
          68,
          96,
          110,
          116,
          110,
          110,
          75,
          221,
          51,
          120,
          74,
          63,
          96,
          110,
          160,
          66,
          100,
          294,
          132,
          52,
          92,
          390,
          66,
          88,
          88,
          375,
          88,
          420,
          150,
          100,
          140,
          117,
          81,
          103,
          88,
          85,
          165,
          145,
          169,
          96,
          121,
          110,
          96,
          118,
          190,
          81,
          96,
          81,
          225,
          50,
          81,
          101,
          110,
          74,
          132,
          73,
          270,
          70,
          110,
          163,
          103,
          195,
          110,
          118,
          210,
          375,
          73,
          59,
          81,
          106,
          96,
          125,
          94,
          118,
          75,
          235,
          300,
          110,
          89,
          110,
          283,
          81,
          92,
          96,
          85,
          116,
          75,
          155,
          96,
          110,
          70,
          96,
          195,
          253,
          88,
          81,
          60,
          150,
          441,
          147,
          101,
          85,
          180,
          96,
          137,
          117,
          173,
          74,
          180,
          132,
          33,
          66,
          138,
          132,
          110,
          283,
          85,
          85,
          85,
          81,
          140,
          70,
          81,
          110,
          245,
          390,
          150,
          81,
          51,
          110,
          96,
          85,
          150,
          110,
          120,
          75,
          150,
          125,
          110,
          135,
          96,
          280,
          74,
          140,
          81,
          55,
          96,
          107,
          150,
          55,
          169,
          96,
          160,
          110,
          103,
          103,
          63,
          96,
          255,
          235,
          141,
          96,
          82,
          49,
          67,
          110,
          110,
          85,
          90,
          96,
          88,
          88,
          110,
          251,
          195,
          75,
          96,
          160,
          74,
          96,
          135,
          81,
          150,
          128,
          110,
          210,
          88,
          61,
          243,
          160,
          110,
          180,
          96,
          81,
          66,
          140,
          89,
          50,
          110,
          96,
          145,
          155,
          70,
          393,
          283,
          96,
          120,
          317,
          195,
          233,
          70,
          55,
          104,
          81,
          150,
          81,
          230,
          230,
          66,
          110,
          120,
          110,
          103,
          251,
          478,
          121,
          107,
          66,
          96,
          140,
          103,
          100,
          111,
          103,
          420,
          300,
          110,
          62,
          140,
          240,
          96,
          85,
          110,
          441,
          135,
          88,
          140,
          135,
          132,
          103,
          110,
          235,
          96,
          110,
          160,
          67,
          85,
          90,
          588,
          74,
          180,
          142,
          100,
          100,
          70,
          104,
          121,
          62,
          110,
          53,
          127,
          49,
          80,
          90,
          180,
          85,
          110,
          85,
          59,
          420,
          143,
          90,
          75,
          110,
          235,
          150,
          66,
          110,
          210,
          105,
          98,
          174,
          151,
          85,
          53,
          96,
          118,
          140,
          88,
          139,
          70,
          68,
          103,
          100,
          88,
          96,
          96,
          130,
          33,
          150,
          75,
          125,
          110,
          96,
          184,
          105,
          135,
          67,
          96,
          140,
          110,
          74,
          150,
          88,
          110,
          118,
          59,
          115,
          110,
          110,
          147,
          96,
          100,
          85,
          310,
          85,
          221,
          85,
          103,
          156,
          85,
          74,
          170,
          180,
          245,
          195,
          70,
          74,
          121,
          96,
          110,
          441,
          96,
          210,
          96,
          221,
          176
         ],
         "yaxis": "y"
        }
       ],
       "layout": {
        "coloraxis": {
         "colorbar": {
          "title": {
           "text": "CO2 emissions(g/km)"
          }
         },
         "colorscale": [
          [
           0,
           "#0d0887"
          ],
          [
           0.1111111111111111,
           "#46039f"
          ],
          [
           0.2222222222222222,
           "#7201a8"
          ],
          [
           0.3333333333333333,
           "#9c179e"
          ],
          [
           0.4444444444444444,
           "#bd3786"
          ],
          [
           0.5555555555555556,
           "#d8576b"
          ],
          [
           0.6666666666666666,
           "#ed7953"
          ],
          [
           0.7777777777777778,
           "#fb9f3a"
          ],
          [
           0.8888888888888888,
           "#fdca26"
          ],
          [
           1,
           "#f0f921"
          ]
         ]
        },
        "legend": {
         "tracegroupgap": 0
        },
        "template": {
         "data": {
          "bar": [
           {
            "error_x": {
             "color": "#2a3f5f"
            },
            "error_y": {
             "color": "#2a3f5f"
            },
            "marker": {
             "line": {
              "color": "#E5ECF6",
              "width": 0.5
             },
             "pattern": {
              "fillmode": "overlay",
              "size": 10,
              "solidity": 0.2
             }
            },
            "type": "bar"
           }
          ],
          "barpolar": [
           {
            "marker": {
             "line": {
              "color": "#E5ECF6",
              "width": 0.5
             },
             "pattern": {
              "fillmode": "overlay",
              "size": 10,
              "solidity": 0.2
             }
            },
            "type": "barpolar"
           }
          ],
          "carpet": [
           {
            "aaxis": {
             "endlinecolor": "#2a3f5f",
             "gridcolor": "white",
             "linecolor": "white",
             "minorgridcolor": "white",
             "startlinecolor": "#2a3f5f"
            },
            "baxis": {
             "endlinecolor": "#2a3f5f",
             "gridcolor": "white",
             "linecolor": "white",
             "minorgridcolor": "white",
             "startlinecolor": "#2a3f5f"
            },
            "type": "carpet"
           }
          ],
          "choropleth": [
           {
            "colorbar": {
             "outlinewidth": 0,
             "ticks": ""
            },
            "type": "choropleth"
           }
          ],
          "contour": [
           {
            "colorbar": {
             "outlinewidth": 0,
             "ticks": ""
            },
            "colorscale": [
             [
              0,
              "#0d0887"
             ],
             [
              0.1111111111111111,
              "#46039f"
             ],
             [
              0.2222222222222222,
              "#7201a8"
             ],
             [
              0.3333333333333333,
              "#9c179e"
             ],
             [
              0.4444444444444444,
              "#bd3786"
             ],
             [
              0.5555555555555556,
              "#d8576b"
             ],
             [
              0.6666666666666666,
              "#ed7953"
             ],
             [
              0.7777777777777778,
              "#fb9f3a"
             ],
             [
              0.8888888888888888,
              "#fdca26"
             ],
             [
              1,
              "#f0f921"
             ]
            ],
            "type": "contour"
           }
          ],
          "contourcarpet": [
           {
            "colorbar": {
             "outlinewidth": 0,
             "ticks": ""
            },
            "type": "contourcarpet"
           }
          ],
          "heatmap": [
           {
            "colorbar": {
             "outlinewidth": 0,
             "ticks": ""
            },
            "colorscale": [
             [
              0,
              "#0d0887"
             ],
             [
              0.1111111111111111,
              "#46039f"
             ],
             [
              0.2222222222222222,
              "#7201a8"
             ],
             [
              0.3333333333333333,
              "#9c179e"
             ],
             [
              0.4444444444444444,
              "#bd3786"
             ],
             [
              0.5555555555555556,
              "#d8576b"
             ],
             [
              0.6666666666666666,
              "#ed7953"
             ],
             [
              0.7777777777777778,
              "#fb9f3a"
             ],
             [
              0.8888888888888888,
              "#fdca26"
             ],
             [
              1,
              "#f0f921"
             ]
            ],
            "type": "heatmap"
           }
          ],
          "heatmapgl": [
           {
            "colorbar": {
             "outlinewidth": 0,
             "ticks": ""
            },
            "colorscale": [
             [
              0,
              "#0d0887"
             ],
             [
              0.1111111111111111,
              "#46039f"
             ],
             [
              0.2222222222222222,
              "#7201a8"
             ],
             [
              0.3333333333333333,
              "#9c179e"
             ],
             [
              0.4444444444444444,
              "#bd3786"
             ],
             [
              0.5555555555555556,
              "#d8576b"
             ],
             [
              0.6666666666666666,
              "#ed7953"
             ],
             [
              0.7777777777777778,
              "#fb9f3a"
             ],
             [
              0.8888888888888888,
              "#fdca26"
             ],
             [
              1,
              "#f0f921"
             ]
            ],
            "type": "heatmapgl"
           }
          ],
          "histogram": [
           {
            "marker": {
             "pattern": {
              "fillmode": "overlay",
              "size": 10,
              "solidity": 0.2
             }
            },
            "type": "histogram"
           }
          ],
          "histogram2d": [
           {
            "colorbar": {
             "outlinewidth": 0,
             "ticks": ""
            },
            "colorscale": [
             [
              0,
              "#0d0887"
             ],
             [
              0.1111111111111111,
              "#46039f"
             ],
             [
              0.2222222222222222,
              "#7201a8"
             ],
             [
              0.3333333333333333,
              "#9c179e"
             ],
             [
              0.4444444444444444,
              "#bd3786"
             ],
             [
              0.5555555555555556,
              "#d8576b"
             ],
             [
              0.6666666666666666,
              "#ed7953"
             ],
             [
              0.7777777777777778,
              "#fb9f3a"
             ],
             [
              0.8888888888888888,
              "#fdca26"
             ],
             [
              1,
              "#f0f921"
             ]
            ],
            "type": "histogram2d"
           }
          ],
          "histogram2dcontour": [
           {
            "colorbar": {
             "outlinewidth": 0,
             "ticks": ""
            },
            "colorscale": [
             [
              0,
              "#0d0887"
             ],
             [
              0.1111111111111111,
              "#46039f"
             ],
             [
              0.2222222222222222,
              "#7201a8"
             ],
             [
              0.3333333333333333,
              "#9c179e"
             ],
             [
              0.4444444444444444,
              "#bd3786"
             ],
             [
              0.5555555555555556,
              "#d8576b"
             ],
             [
              0.6666666666666666,
              "#ed7953"
             ],
             [
              0.7777777777777778,
              "#fb9f3a"
             ],
             [
              0.8888888888888888,
              "#fdca26"
             ],
             [
              1,
              "#f0f921"
             ]
            ],
            "type": "histogram2dcontour"
           }
          ],
          "mesh3d": [
           {
            "colorbar": {
             "outlinewidth": 0,
             "ticks": ""
            },
            "type": "mesh3d"
           }
          ],
          "parcoords": [
           {
            "line": {
             "colorbar": {
              "outlinewidth": 0,
              "ticks": ""
             }
            },
            "type": "parcoords"
           }
          ],
          "pie": [
           {
            "automargin": true,
            "type": "pie"
           }
          ],
          "scatter": [
           {
            "fillpattern": {
             "fillmode": "overlay",
             "size": 10,
             "solidity": 0.2
            },
            "type": "scatter"
           }
          ],
          "scatter3d": [
           {
            "line": {
             "colorbar": {
              "outlinewidth": 0,
              "ticks": ""
             }
            },
            "marker": {
             "colorbar": {
              "outlinewidth": 0,
              "ticks": ""
             }
            },
            "type": "scatter3d"
           }
          ],
          "scattercarpet": [
           {
            "marker": {
             "colorbar": {
              "outlinewidth": 0,
              "ticks": ""
             }
            },
            "type": "scattercarpet"
           }
          ],
          "scattergeo": [
           {
            "marker": {
             "colorbar": {
              "outlinewidth": 0,
              "ticks": ""
             }
            },
            "type": "scattergeo"
           }
          ],
          "scattergl": [
           {
            "marker": {
             "colorbar": {
              "outlinewidth": 0,
              "ticks": ""
             }
            },
            "type": "scattergl"
           }
          ],
          "scattermapbox": [
           {
            "marker": {
             "colorbar": {
              "outlinewidth": 0,
              "ticks": ""
             }
            },
            "type": "scattermapbox"
           }
          ],
          "scatterpolar": [
           {
            "marker": {
             "colorbar": {
              "outlinewidth": 0,
              "ticks": ""
             }
            },
            "type": "scatterpolar"
           }
          ],
          "scatterpolargl": [
           {
            "marker": {
             "colorbar": {
              "outlinewidth": 0,
              "ticks": ""
             }
            },
            "type": "scatterpolargl"
           }
          ],
          "scatterternary": [
           {
            "marker": {
             "colorbar": {
              "outlinewidth": 0,
              "ticks": ""
             }
            },
            "type": "scatterternary"
           }
          ],
          "surface": [
           {
            "colorbar": {
             "outlinewidth": 0,
             "ticks": ""
            },
            "colorscale": [
             [
              0,
              "#0d0887"
             ],
             [
              0.1111111111111111,
              "#46039f"
             ],
             [
              0.2222222222222222,
              "#7201a8"
             ],
             [
              0.3333333333333333,
              "#9c179e"
             ],
             [
              0.4444444444444444,
              "#bd3786"
             ],
             [
              0.5555555555555556,
              "#d8576b"
             ],
             [
              0.6666666666666666,
              "#ed7953"
             ],
             [
              0.7777777777777778,
              "#fb9f3a"
             ],
             [
              0.8888888888888888,
              "#fdca26"
             ],
             [
              1,
              "#f0f921"
             ]
            ],
            "type": "surface"
           }
          ],
          "table": [
           {
            "cells": {
             "fill": {
              "color": "#EBF0F8"
             },
             "line": {
              "color": "white"
             }
            },
            "header": {
             "fill": {
              "color": "#C8D4E3"
             },
             "line": {
              "color": "white"
             }
            },
            "type": "table"
           }
          ]
         },
         "layout": {
          "annotationdefaults": {
           "arrowcolor": "#2a3f5f",
           "arrowhead": 0,
           "arrowwidth": 1
          },
          "autotypenumbers": "strict",
          "coloraxis": {
           "colorbar": {
            "outlinewidth": 0,
            "ticks": ""
           }
          },
          "colorscale": {
           "diverging": [
            [
             0,
             "#8e0152"
            ],
            [
             0.1,
             "#c51b7d"
            ],
            [
             0.2,
             "#de77ae"
            ],
            [
             0.3,
             "#f1b6da"
            ],
            [
             0.4,
             "#fde0ef"
            ],
            [
             0.5,
             "#f7f7f7"
            ],
            [
             0.6,
             "#e6f5d0"
            ],
            [
             0.7,
             "#b8e186"
            ],
            [
             0.8,
             "#7fbc41"
            ],
            [
             0.9,
             "#4d9221"
            ],
            [
             1,
             "#276419"
            ]
           ],
           "sequential": [
            [
             0,
             "#0d0887"
            ],
            [
             0.1111111111111111,
             "#46039f"
            ],
            [
             0.2222222222222222,
             "#7201a8"
            ],
            [
             0.3333333333333333,
             "#9c179e"
            ],
            [
             0.4444444444444444,
             "#bd3786"
            ],
            [
             0.5555555555555556,
             "#d8576b"
            ],
            [
             0.6666666666666666,
             "#ed7953"
            ],
            [
             0.7777777777777778,
             "#fb9f3a"
            ],
            [
             0.8888888888888888,
             "#fdca26"
            ],
            [
             1,
             "#f0f921"
            ]
           ],
           "sequentialminus": [
            [
             0,
             "#0d0887"
            ],
            [
             0.1111111111111111,
             "#46039f"
            ],
            [
             0.2222222222222222,
             "#7201a8"
            ],
            [
             0.3333333333333333,
             "#9c179e"
            ],
            [
             0.4444444444444444,
             "#bd3786"
            ],
            [
             0.5555555555555556,
             "#d8576b"
            ],
            [
             0.6666666666666666,
             "#ed7953"
            ],
            [
             0.7777777777777778,
             "#fb9f3a"
            ],
            [
             0.8888888888888888,
             "#fdca26"
            ],
            [
             1,
             "#f0f921"
            ]
           ]
          },
          "colorway": [
           "#636efa",
           "#EF553B",
           "#00cc96",
           "#ab63fa",
           "#FFA15A",
           "#19d3f3",
           "#FF6692",
           "#B6E880",
           "#FF97FF",
           "#FECB52"
          ],
          "font": {
           "color": "#2a3f5f"
          },
          "geo": {
           "bgcolor": "white",
           "lakecolor": "white",
           "landcolor": "#E5ECF6",
           "showlakes": true,
           "showland": true,
           "subunitcolor": "white"
          },
          "hoverlabel": {
           "align": "left"
          },
          "hovermode": "closest",
          "mapbox": {
           "style": "light"
          },
          "paper_bgcolor": "white",
          "plot_bgcolor": "#E5ECF6",
          "polar": {
           "angularaxis": {
            "gridcolor": "white",
            "linecolor": "white",
            "ticks": ""
           },
           "bgcolor": "#E5ECF6",
           "radialaxis": {
            "gridcolor": "white",
            "linecolor": "white",
            "ticks": ""
           }
          },
          "scene": {
           "xaxis": {
            "backgroundcolor": "#E5ECF6",
            "gridcolor": "white",
            "gridwidth": 2,
            "linecolor": "white",
            "showbackground": true,
            "ticks": "",
            "zerolinecolor": "white"
           },
           "yaxis": {
            "backgroundcolor": "#E5ECF6",
            "gridcolor": "white",
            "gridwidth": 2,
            "linecolor": "white",
            "showbackground": true,
            "ticks": "",
            "zerolinecolor": "white"
           },
           "zaxis": {
            "backgroundcolor": "#E5ECF6",
            "gridcolor": "white",
            "gridwidth": 2,
            "linecolor": "white",
            "showbackground": true,
            "ticks": "",
            "zerolinecolor": "white"
           }
          },
          "shapedefaults": {
           "line": {
            "color": "#2a3f5f"
           }
          },
          "ternary": {
           "aaxis": {
            "gridcolor": "white",
            "linecolor": "white",
            "ticks": ""
           },
           "baxis": {
            "gridcolor": "white",
            "linecolor": "white",
            "ticks": ""
           },
           "bgcolor": "#E5ECF6",
           "caxis": {
            "gridcolor": "white",
            "linecolor": "white",
            "ticks": ""
           }
          },
          "title": {
           "x": 0.05
          },
          "xaxis": {
           "automargin": true,
           "gridcolor": "white",
           "linecolor": "white",
           "ticks": "",
           "title": {
            "standoff": 15
           },
           "zerolinecolor": "white",
           "zerolinewidth": 2
          },
          "yaxis": {
           "automargin": true,
           "gridcolor": "white",
           "linecolor": "white",
           "ticks": "",
           "title": {
            "standoff": 15
           },
           "zerolinecolor": "white",
           "zerolinewidth": 2
          }
         }
        },
        "title": {
         "text": "Relationship between Engine Capacity, Power, and CO2 Emissions"
        },
        "xaxis": {
         "anchor": "y",
         "domain": [
          0,
          1
         ],
         "title": {
          "text": "Engine capacity(ccm)"
         }
        },
        "yaxis": {
         "anchor": "x",
         "domain": [
          0,
          1
         ],
         "title": {
          "text": "Power(kW)"
         }
        }
       }
      }
     },
     "metadata": {},
     "output_type": "display_data"
    }
   ],
   "source": [
    "# Biểu đồ scatter plot để quan sát mối quan hệ giữa công suất, dung tích động cơ và CO2 emission\n",
    "fig = px.scatter(data, x='Engine capacity(ccm)', y='Power(kW)', color='CO2 emissions(g/km)',\n",
    "                 title='Relationship between Engine Capacity, Power, and CO2 Emissions')\n",
    "fig.show()"
   ]
  },
  {
   "cell_type": "markdown",
   "metadata": {},
   "source": [
    "**Comment:**\n",
    "- Engine Capacity and Power: There seems to be a trend of increasing power as the engine capacity rises, demonstrated by the points tending to move higher on the power axis as the engine capacity becomes larger.\n",
    "- CO2 Emissions and Engine Capacity: While there's no clear trend for all points, it appears that some cars with larger engine capacities (around 3000 ccm and above) transition towards a yellow hue, indicating potentially higher CO2 emissions.\n",
    "- Power Distribution: The distribution of power seems quite broad, with the majority of cars concentrated in the range from 0 to around 200 kW. However, there are some points at very high power levels, reaching up to 800 kW, which do not necessarily correlate with extremely large engine capacities.\n",
    "- Outliers: There are some points lying far apart from the majority of other points, which might indicate vehicles with significantly different technical characteristics, such as high-powered sports cars or specialized vehicles."
   ]
  },
  {
   "cell_type": "markdown",
   "metadata": {},
   "source": [
    "# 3.2 Using data to anwer meaningful Question"
   ]
  },
  {
   "cell_type": "markdown",
   "metadata": {},
   "source": [
    "## Question 1: With each price segment, how different are the Power of Electric, Hybrid and traditional fuel cars? \n",
    "\n",
    "- Benefits of the question:\n",
    "    - Helps users easily compare the engine **power** of three **types of vehicles** in the same **price range**.\n",
    "    - Helps users find a vehicle with the desired power, suitable for their needs.\n",
    "- How to answer the question by using data?\n",
    "    - Use a line chart, with the x-axis as price bins and the y-axis as engine power to easily see the difference."
   ]
  },
  {
   "cell_type": "markdown",
   "metadata": {},
   "source": [
    "### Step1: Preprocess data to answer the question \n",
    "\n",
    "- Due to unique value of the `Fuel` column are: 'Electric', 'Petrol', 'Hybrid', 'Diesel', 'LPG', 'CNG' and 'Other fuel type'. We only care about \n",
    "the Fuel type Electric, Hybrid and Fossil Fuel, so\n",
    "    - I will drop any car that has 'Other fuel type'.\n",
    "    - Turn 'Petrol','Diesel', 'LPG', 'CNG' to \"Fossil\".\n",
    "- Because the data has outliers (for luxury/hyper sport cars), and the number of these cars is very small, I will handle outliers by removing values outside the 95% confidence interval to avoid losing important information."
   ]
  },
  {
   "cell_type": "code",
   "execution_count": 10,
   "metadata": {},
   "outputs": [
    {
     "name": "stdout",
     "output_type": "stream",
     "text": [
      "Fuel\n",
      "Fossil      1832\n",
      "Electric     248\n",
      "Hybrid       205\n",
      "Name: count, dtype: int64\n",
      "100000.0\n"
     ]
    }
   ],
   "source": [
    "Fuel_Info = data[[\"Price(EUR)\",\"Power(kW)\",\"Fuel\"]].copy()\n",
    "\n",
    "\n",
    "# Turn 'Petrol','Diesel', 'LPG', 'CNG' to \"Fossil\"\n",
    "Fuel_Info['Fuel'].replace(['Petrol', 'Diesel', 'LPG', 'CNG'], 'Fossil', inplace=True)\n",
    "\n",
    "# drop any car that has 'Other fuel type'.\n",
    "Fuel_Info = Fuel_Info[Fuel_Info['Fuel'] != 'Other fuel type']\n",
    "\n",
    "\n",
    "\n",
    "# Calculate upper_bound_price, base on 95% confidence interval\n",
    "lower_bound_price = Fuel_Info['Price(EUR)'].quantile(0.025)\n",
    "upper_bound_price = Fuel_Info['Price(EUR)'].quantile(0.975)\n",
    "upper_bound_price = np.floor(upper_bound_price / 10000) * 10000\n",
    "\n",
    "print (Fuel_Info.Fuel.value_counts()) \n",
    "print(upper_bound_price)"
   ]
  },
  {
   "cell_type": "markdown",
   "metadata": {},
   "source": [
    "### Step 2: Visualize with line chart \n",
    "\n",
    "- Because the supercars will be excluded from the 95% confidence interval, I will divide the bins into two ranges: \n",
    "    - bin1: for values within the confidence interval - representing the majority of cars\n",
    "    - bin2: for outlier values - representing the expensive cars."
   ]
  },
  {
   "cell_type": "code",
   "execution_count": 11,
   "metadata": {},
   "outputs": [
    {
     "data": {
      "application/vnd.plotly.v1+json": {
       "config": {
        "plotlyServerURL": "https://plot.ly"
       },
       "data": [
        {
         "mode": "lines",
         "name": "Electric",
         "type": "scatter",
         "x": [
          "10000-20000",
          "20000-30000",
          "30000-40000",
          "40000-50000",
          "50000-60000",
          "60000-70000",
          "70000-80000",
          "80000-90000",
          "90000-100000",
          "100000-690000"
         ],
         "y": [
          52.65,
          96.83333333333333,
          124.62962962962963,
          148.88571428571427,
          167.98245614035088,
          191.16666666666666,
          220.0909090909091,
          276.54545454545456,
          396,
          364.6875
         ]
        },
        {
         "mode": "lines",
         "name": "Fossil",
         "type": "scatter",
         "x": [
          "10000-20000",
          "20000-30000",
          "30000-40000",
          "40000-50000",
          "50000-60000",
          "60000-70000",
          "70000-80000",
          "80000-90000",
          "90000-100000",
          "100000-690000"
         ],
         "y": [
          80.10593220338983,
          100.36077057793345,
          120.07182320441989,
          153.4313725490196,
          194.16091954022988,
          221.21621621621622,
          211.27272727272728,
          270.9032258064516,
          342.7857142857143,
          373.65909090909093
         ]
        },
        {
         "mode": "lines",
         "name": "Hybrid",
         "type": "scatter",
         "x": [
          "10000-20000",
          "20000-30000",
          "30000-40000",
          "40000-50000",
          "50000-60000",
          "60000-70000",
          "70000-80000",
          "80000-90000",
          "90000-100000",
          "100000-690000"
         ],
         "y": [
          77.08333333333333,
          128.2741935483871,
          149.52941176470588,
          182.33333333333334,
          194.13333333333333,
          186.71428571428572,
          244,
          278.6666666666667,
          244.5,
          339
         ]
        }
       ],
       "layout": {
        "height": 800,
        "template": {
         "data": {
          "bar": [
           {
            "error_x": {
             "color": "#2a3f5f"
            },
            "error_y": {
             "color": "#2a3f5f"
            },
            "marker": {
             "line": {
              "color": "#E5ECF6",
              "width": 0.5
             },
             "pattern": {
              "fillmode": "overlay",
              "size": 10,
              "solidity": 0.2
             }
            },
            "type": "bar"
           }
          ],
          "barpolar": [
           {
            "marker": {
             "line": {
              "color": "#E5ECF6",
              "width": 0.5
             },
             "pattern": {
              "fillmode": "overlay",
              "size": 10,
              "solidity": 0.2
             }
            },
            "type": "barpolar"
           }
          ],
          "carpet": [
           {
            "aaxis": {
             "endlinecolor": "#2a3f5f",
             "gridcolor": "white",
             "linecolor": "white",
             "minorgridcolor": "white",
             "startlinecolor": "#2a3f5f"
            },
            "baxis": {
             "endlinecolor": "#2a3f5f",
             "gridcolor": "white",
             "linecolor": "white",
             "minorgridcolor": "white",
             "startlinecolor": "#2a3f5f"
            },
            "type": "carpet"
           }
          ],
          "choropleth": [
           {
            "colorbar": {
             "outlinewidth": 0,
             "ticks": ""
            },
            "type": "choropleth"
           }
          ],
          "contour": [
           {
            "colorbar": {
             "outlinewidth": 0,
             "ticks": ""
            },
            "colorscale": [
             [
              0,
              "#0d0887"
             ],
             [
              0.1111111111111111,
              "#46039f"
             ],
             [
              0.2222222222222222,
              "#7201a8"
             ],
             [
              0.3333333333333333,
              "#9c179e"
             ],
             [
              0.4444444444444444,
              "#bd3786"
             ],
             [
              0.5555555555555556,
              "#d8576b"
             ],
             [
              0.6666666666666666,
              "#ed7953"
             ],
             [
              0.7777777777777778,
              "#fb9f3a"
             ],
             [
              0.8888888888888888,
              "#fdca26"
             ],
             [
              1,
              "#f0f921"
             ]
            ],
            "type": "contour"
           }
          ],
          "contourcarpet": [
           {
            "colorbar": {
             "outlinewidth": 0,
             "ticks": ""
            },
            "type": "contourcarpet"
           }
          ],
          "heatmap": [
           {
            "colorbar": {
             "outlinewidth": 0,
             "ticks": ""
            },
            "colorscale": [
             [
              0,
              "#0d0887"
             ],
             [
              0.1111111111111111,
              "#46039f"
             ],
             [
              0.2222222222222222,
              "#7201a8"
             ],
             [
              0.3333333333333333,
              "#9c179e"
             ],
             [
              0.4444444444444444,
              "#bd3786"
             ],
             [
              0.5555555555555556,
              "#d8576b"
             ],
             [
              0.6666666666666666,
              "#ed7953"
             ],
             [
              0.7777777777777778,
              "#fb9f3a"
             ],
             [
              0.8888888888888888,
              "#fdca26"
             ],
             [
              1,
              "#f0f921"
             ]
            ],
            "type": "heatmap"
           }
          ],
          "heatmapgl": [
           {
            "colorbar": {
             "outlinewidth": 0,
             "ticks": ""
            },
            "colorscale": [
             [
              0,
              "#0d0887"
             ],
             [
              0.1111111111111111,
              "#46039f"
             ],
             [
              0.2222222222222222,
              "#7201a8"
             ],
             [
              0.3333333333333333,
              "#9c179e"
             ],
             [
              0.4444444444444444,
              "#bd3786"
             ],
             [
              0.5555555555555556,
              "#d8576b"
             ],
             [
              0.6666666666666666,
              "#ed7953"
             ],
             [
              0.7777777777777778,
              "#fb9f3a"
             ],
             [
              0.8888888888888888,
              "#fdca26"
             ],
             [
              1,
              "#f0f921"
             ]
            ],
            "type": "heatmapgl"
           }
          ],
          "histogram": [
           {
            "marker": {
             "pattern": {
              "fillmode": "overlay",
              "size": 10,
              "solidity": 0.2
             }
            },
            "type": "histogram"
           }
          ],
          "histogram2d": [
           {
            "colorbar": {
             "outlinewidth": 0,
             "ticks": ""
            },
            "colorscale": [
             [
              0,
              "#0d0887"
             ],
             [
              0.1111111111111111,
              "#46039f"
             ],
             [
              0.2222222222222222,
              "#7201a8"
             ],
             [
              0.3333333333333333,
              "#9c179e"
             ],
             [
              0.4444444444444444,
              "#bd3786"
             ],
             [
              0.5555555555555556,
              "#d8576b"
             ],
             [
              0.6666666666666666,
              "#ed7953"
             ],
             [
              0.7777777777777778,
              "#fb9f3a"
             ],
             [
              0.8888888888888888,
              "#fdca26"
             ],
             [
              1,
              "#f0f921"
             ]
            ],
            "type": "histogram2d"
           }
          ],
          "histogram2dcontour": [
           {
            "colorbar": {
             "outlinewidth": 0,
             "ticks": ""
            },
            "colorscale": [
             [
              0,
              "#0d0887"
             ],
             [
              0.1111111111111111,
              "#46039f"
             ],
             [
              0.2222222222222222,
              "#7201a8"
             ],
             [
              0.3333333333333333,
              "#9c179e"
             ],
             [
              0.4444444444444444,
              "#bd3786"
             ],
             [
              0.5555555555555556,
              "#d8576b"
             ],
             [
              0.6666666666666666,
              "#ed7953"
             ],
             [
              0.7777777777777778,
              "#fb9f3a"
             ],
             [
              0.8888888888888888,
              "#fdca26"
             ],
             [
              1,
              "#f0f921"
             ]
            ],
            "type": "histogram2dcontour"
           }
          ],
          "mesh3d": [
           {
            "colorbar": {
             "outlinewidth": 0,
             "ticks": ""
            },
            "type": "mesh3d"
           }
          ],
          "parcoords": [
           {
            "line": {
             "colorbar": {
              "outlinewidth": 0,
              "ticks": ""
             }
            },
            "type": "parcoords"
           }
          ],
          "pie": [
           {
            "automargin": true,
            "type": "pie"
           }
          ],
          "scatter": [
           {
            "fillpattern": {
             "fillmode": "overlay",
             "size": 10,
             "solidity": 0.2
            },
            "type": "scatter"
           }
          ],
          "scatter3d": [
           {
            "line": {
             "colorbar": {
              "outlinewidth": 0,
              "ticks": ""
             }
            },
            "marker": {
             "colorbar": {
              "outlinewidth": 0,
              "ticks": ""
             }
            },
            "type": "scatter3d"
           }
          ],
          "scattercarpet": [
           {
            "marker": {
             "colorbar": {
              "outlinewidth": 0,
              "ticks": ""
             }
            },
            "type": "scattercarpet"
           }
          ],
          "scattergeo": [
           {
            "marker": {
             "colorbar": {
              "outlinewidth": 0,
              "ticks": ""
             }
            },
            "type": "scattergeo"
           }
          ],
          "scattergl": [
           {
            "marker": {
             "colorbar": {
              "outlinewidth": 0,
              "ticks": ""
             }
            },
            "type": "scattergl"
           }
          ],
          "scattermapbox": [
           {
            "marker": {
             "colorbar": {
              "outlinewidth": 0,
              "ticks": ""
             }
            },
            "type": "scattermapbox"
           }
          ],
          "scatterpolar": [
           {
            "marker": {
             "colorbar": {
              "outlinewidth": 0,
              "ticks": ""
             }
            },
            "type": "scatterpolar"
           }
          ],
          "scatterpolargl": [
           {
            "marker": {
             "colorbar": {
              "outlinewidth": 0,
              "ticks": ""
             }
            },
            "type": "scatterpolargl"
           }
          ],
          "scatterternary": [
           {
            "marker": {
             "colorbar": {
              "outlinewidth": 0,
              "ticks": ""
             }
            },
            "type": "scatterternary"
           }
          ],
          "surface": [
           {
            "colorbar": {
             "outlinewidth": 0,
             "ticks": ""
            },
            "colorscale": [
             [
              0,
              "#0d0887"
             ],
             [
              0.1111111111111111,
              "#46039f"
             ],
             [
              0.2222222222222222,
              "#7201a8"
             ],
             [
              0.3333333333333333,
              "#9c179e"
             ],
             [
              0.4444444444444444,
              "#bd3786"
             ],
             [
              0.5555555555555556,
              "#d8576b"
             ],
             [
              0.6666666666666666,
              "#ed7953"
             ],
             [
              0.7777777777777778,
              "#fb9f3a"
             ],
             [
              0.8888888888888888,
              "#fdca26"
             ],
             [
              1,
              "#f0f921"
             ]
            ],
            "type": "surface"
           }
          ],
          "table": [
           {
            "cells": {
             "fill": {
              "color": "#EBF0F8"
             },
             "line": {
              "color": "white"
             }
            },
            "header": {
             "fill": {
              "color": "#C8D4E3"
             },
             "line": {
              "color": "white"
             }
            },
            "type": "table"
           }
          ]
         },
         "layout": {
          "annotationdefaults": {
           "arrowcolor": "#2a3f5f",
           "arrowhead": 0,
           "arrowwidth": 1
          },
          "autotypenumbers": "strict",
          "coloraxis": {
           "colorbar": {
            "outlinewidth": 0,
            "ticks": ""
           }
          },
          "colorscale": {
           "diverging": [
            [
             0,
             "#8e0152"
            ],
            [
             0.1,
             "#c51b7d"
            ],
            [
             0.2,
             "#de77ae"
            ],
            [
             0.3,
             "#f1b6da"
            ],
            [
             0.4,
             "#fde0ef"
            ],
            [
             0.5,
             "#f7f7f7"
            ],
            [
             0.6,
             "#e6f5d0"
            ],
            [
             0.7,
             "#b8e186"
            ],
            [
             0.8,
             "#7fbc41"
            ],
            [
             0.9,
             "#4d9221"
            ],
            [
             1,
             "#276419"
            ]
           ],
           "sequential": [
            [
             0,
             "#0d0887"
            ],
            [
             0.1111111111111111,
             "#46039f"
            ],
            [
             0.2222222222222222,
             "#7201a8"
            ],
            [
             0.3333333333333333,
             "#9c179e"
            ],
            [
             0.4444444444444444,
             "#bd3786"
            ],
            [
             0.5555555555555556,
             "#d8576b"
            ],
            [
             0.6666666666666666,
             "#ed7953"
            ],
            [
             0.7777777777777778,
             "#fb9f3a"
            ],
            [
             0.8888888888888888,
             "#fdca26"
            ],
            [
             1,
             "#f0f921"
            ]
           ],
           "sequentialminus": [
            [
             0,
             "#0d0887"
            ],
            [
             0.1111111111111111,
             "#46039f"
            ],
            [
             0.2222222222222222,
             "#7201a8"
            ],
            [
             0.3333333333333333,
             "#9c179e"
            ],
            [
             0.4444444444444444,
             "#bd3786"
            ],
            [
             0.5555555555555556,
             "#d8576b"
            ],
            [
             0.6666666666666666,
             "#ed7953"
            ],
            [
             0.7777777777777778,
             "#fb9f3a"
            ],
            [
             0.8888888888888888,
             "#fdca26"
            ],
            [
             1,
             "#f0f921"
            ]
           ]
          },
          "colorway": [
           "#636efa",
           "#EF553B",
           "#00cc96",
           "#ab63fa",
           "#FFA15A",
           "#19d3f3",
           "#FF6692",
           "#B6E880",
           "#FF97FF",
           "#FECB52"
          ],
          "font": {
           "color": "#2a3f5f"
          },
          "geo": {
           "bgcolor": "white",
           "lakecolor": "white",
           "landcolor": "#E5ECF6",
           "showlakes": true,
           "showland": true,
           "subunitcolor": "white"
          },
          "hoverlabel": {
           "align": "left"
          },
          "hovermode": "closest",
          "mapbox": {
           "style": "light"
          },
          "paper_bgcolor": "white",
          "plot_bgcolor": "#E5ECF6",
          "polar": {
           "angularaxis": {
            "gridcolor": "white",
            "linecolor": "white",
            "ticks": ""
           },
           "bgcolor": "#E5ECF6",
           "radialaxis": {
            "gridcolor": "white",
            "linecolor": "white",
            "ticks": ""
           }
          },
          "scene": {
           "xaxis": {
            "backgroundcolor": "#E5ECF6",
            "gridcolor": "white",
            "gridwidth": 2,
            "linecolor": "white",
            "showbackground": true,
            "ticks": "",
            "zerolinecolor": "white"
           },
           "yaxis": {
            "backgroundcolor": "#E5ECF6",
            "gridcolor": "white",
            "gridwidth": 2,
            "linecolor": "white",
            "showbackground": true,
            "ticks": "",
            "zerolinecolor": "white"
           },
           "zaxis": {
            "backgroundcolor": "#E5ECF6",
            "gridcolor": "white",
            "gridwidth": 2,
            "linecolor": "white",
            "showbackground": true,
            "ticks": "",
            "zerolinecolor": "white"
           }
          },
          "shapedefaults": {
           "line": {
            "color": "#2a3f5f"
           }
          },
          "ternary": {
           "aaxis": {
            "gridcolor": "white",
            "linecolor": "white",
            "ticks": ""
           },
           "baxis": {
            "gridcolor": "white",
            "linecolor": "white",
            "ticks": ""
           },
           "bgcolor": "#E5ECF6",
           "caxis": {
            "gridcolor": "white",
            "linecolor": "white",
            "ticks": ""
           }
          },
          "title": {
           "x": 0.05
          },
          "xaxis": {
           "automargin": true,
           "gridcolor": "white",
           "linecolor": "white",
           "ticks": "",
           "title": {
            "standoff": 15
           },
           "zerolinecolor": "white",
           "zerolinewidth": 2
          },
          "yaxis": {
           "automargin": true,
           "gridcolor": "white",
           "linecolor": "white",
           "ticks": "",
           "title": {
            "standoff": 15
           },
           "zerolinecolor": "white",
           "zerolinewidth": 2
          }
         }
        },
        "title": {
         "text": "AVG Power for each type of Vehicle in each Price range"
        },
        "xaxis": {
         "title": {
          "text": "Price (EUR)"
         }
        },
        "yaxis": {
         "title": {
          "text": "Power (kW)"
         }
        }
       }
      }
     },
     "metadata": {},
     "output_type": "display_data"
    }
   ],
   "source": [
    "# Define bins for the two ranges\n",
    "bins1 = np.arange(10000, upper_bound_price, 10000)\n",
    "bins2 = np.array([upper_bound_price, np.floor(Fuel_Info[\"Price(EUR)\"].max() / 10000) * 10000  ])\n",
    "\n",
    "# Combine the two bin arrays\n",
    "bins = np.concatenate((bins1, bins2))\n",
    "\n",
    "# Create a new column for price bins\n",
    "Fuel_Info['Price_bin'] = pd.cut(Fuel_Info['Price(EUR)'], bins=bins)\n",
    "\n",
    "# Calculate the average power for each fuel type and price bin\n",
    "average_power = Fuel_Info.groupby(['Fuel', 'Price_bin'])['Power(kW)'].mean().unstack()\n",
    "\n",
    "# Create the line chart for each fuel type\n",
    "fig = go.Figure()\n",
    "for i, fuel_type in enumerate(average_power.index):\n",
    "    fig.add_trace(go.Scatter(x=[f'{int(left)}-{int(right)}' for left, right in zip(bins[:-1], bins[1:])], \n",
    "                             y=average_power.loc[fuel_type], \n",
    "                             mode='lines', \n",
    "                             name=fuel_type))\n",
    "\n",
    "fig.update_layout(title='AVG Power for each type of Vehicle in each Price range',\n",
    "                  xaxis_title='Price (EUR)',\n",
    "                  yaxis_title='Power (kW)',\n",
    "                  height = 800,\n",
    "                  )\n",
    "\n",
    "fig.show()"
   ]
  },
  {
   "cell_type": "markdown",
   "metadata": {},
   "source": [
    "**Comment**\n",
    "- We can see that, in most price ranges (20000 to 80000), Hybrid cars have significantly more engine power than Electric and Fossil fuel cars. \n",
    "- In the higher segment (> 80000), Electric cars will have a significant power difference compared to the other two types of cars.\n"
   ]
  },
  {
   "cell_type": "markdown",
   "metadata": {},
   "source": [
    "## Question 2: The 6 most common special functions and their impact on average price \n",
    "\n",
    "- Benefits of the question:\n",
    "    - Helps to identify the necessary modern functions of a car.\n",
    "    - Find out the impact of these functions on the car price, help buyers to consider whether to buy a car with that feature or not.\n",
    "- How to answer the question by using data?\n",
    "    - From the `Tags` column which is a multiple value column, separate the functions and perform one-hot encoding.\n",
    "    - Calculate the average price for cars equipped with that function."
   ]
  },
  {
   "cell_type": "markdown",
   "metadata": {},
   "source": [
    "### Step 1: One-hot encoding for the top 6 most frequent special functions "
   ]
  },
  {
   "cell_type": "code",
   "execution_count": 12,
   "metadata": {},
   "outputs": [
    {
     "name": "stdout",
     "output_type": "stream",
     "text": [
      "Index(['Price(EUR)', 'Heated front seats', 'LED headlights',\n",
      "       'Navigation system', 'Apple CarPlay', 'Android auto', 'Bluetooth'],\n",
      "      dtype='object')\n",
      "Heated front seats: 1391\n",
      "LED headlights: 1175\n",
      "Navigation system: 1078\n",
      "Apple CarPlay: 1074\n",
      "Android auto: 986\n",
      "Bluetooth: 968\n"
     ]
    }
   ],
   "source": [
    "\n",
    "one_hot_df =  data[[\"Price(EUR)\",\"Tags\"]].copy()\n",
    "\n",
    "# Get each tag in each multiple value row\n",
    "tags = one_hot_df['Tags'].str.split('; ', expand=True)\n",
    "\n",
    "# Stack to make the DataFrame long, then get_dummies and group by index before summing\n",
    "get_dummy = pd.get_dummies(tags.stack()).groupby(level=0).sum()\n",
    "# Find the top 5 most frequent tags\n",
    "top_6_tags = get_dummy.sum().nlargest(6).index\n",
    "# Select only the top 5 most frequent tags\n",
    "get_dummy = get_dummy[top_6_tags]\n",
    "# Join the one-hot encoded DataFrame back to the original DataFrame\n",
    "one_hot_df = one_hot_df.join(get_dummy)\n",
    "\n",
    "# Drop the `Tags` because we dont need it anymore\n",
    "one_hot_df = one_hot_df.drop(\"Tags\",axis=1)\n",
    "\n",
    "\n",
    "print(one_hot_df.columns)\n",
    "for tag in top_6_tags:\n",
    "    print(f\"{tag}: {get_dummy[tag].sum()}\")"
   ]
  },
  {
   "cell_type": "markdown",
   "metadata": {},
   "source": [
    "### Step 2: Draw a bar chart \n"
   ]
  },
  {
   "cell_type": "code",
   "execution_count": 13,
   "metadata": {},
   "outputs": [
    {
     "data": {
      "image/png": "[encoded data removed]",
      "text/plain": [
       "<Figure size 1000x600 with 1 Axes>"
      ]
     },
     "metadata": {},
     "output_type": "display_data"
    }
   ],
   "source": [
    "# Calculate the average price for each feature\n",
    "average_prices = {tag: one_hot_df.loc[one_hot_df[tag] == 1, 'Price(EUR)'].mean() for tag in top_6_tags}\n",
    "\n",
    "# Create a bar chart\n",
    "plt.figure(figsize=(10, 6))\n",
    "plt.bar(average_prices.keys(), average_prices.values(), align='center', alpha=0.5)\n",
    "plt.xticks(rotation=20)\n",
    "plt.ylabel('avg Price (EUR)')\n",
    "plt.title('Aerage Price for each Function')\n",
    "\n",
    "plt.show()"
   ]
  },
  {
   "cell_type": "markdown",
   "metadata": {},
   "source": [
    "- We can see that cars equipped with “Heated front seat” and “Led headlights” have a relatively high average price (>= 40000). \n",
    "- The average price of cars equipped with “Bluetooth” and “Navigation system” is quite low compared to other equipment, possibly because these features have been around for a long time.\n",
    "- Finally, cars equipped with “Apple CarPlay” and “Android auto” usually cost from 35000 to under 40000. Due to the popularity of phones, cars with these features are not too expensive to suit many customers."
   ]
  },
  {
   "cell_type": "markdown",
   "metadata": {},
   "source": [
    "## Question 3: Is there a significant performance difference among cars at different price ranges?\n",
    "Looking at the prices, we can observe a substantial difference between the prices of various cars. For example, 75% of the cars are priced below 42k EUR, while the remaining 25% reach up to 600k EUR. This is not a df input error but rather a characteristic of the automotive goods market, where there is significant fluctuation among brands and models.\n",
    "\n",
    "To analyze whether the price differences correspond to significant performance variations, we can employ the following strategies:\n",
    "\n",
    "- **Benefits of the question**:\n",
    "Answering this question helps clarify whether quality aligns with quantity, addressing the crucial balance between affordability and performance. It aids consumers in making informed decisions, ensuring they acquire products that meet their performance requirements while remaining within their budget.\n",
    "\n",
    "- **How to answer the question by using data?**\n",
    "\n",
    "    - Boxplot Analysis: Identify \"normal\" price ranges and outliers with significantly higher prices using boxplots. Evaluate price distribution within different segments to understand data spread.\n",
    "\n",
    "    - Technical Specifications Analysis: Explore key parameters (horsepower, fuel efficiency, acceleration, etc.)and compare them across price ranges. Create radar charts for visual comparison of performance metrics at different price points.\n",
    "            \n",
    "    - Additional Technical Parameters: Analyze seating capacity, vehicle type, etc., to understand trends among different car types at distinct price levels.\n",
    "        "
   ]
  },
  {
   "cell_type": "markdown",
   "metadata": {},
   "source": [
    "Firstly, we need to observe the distribution of cars based on price to divide them into appropriate price ranges. We will use a boxplot to visualize the distribution of cars according to their prices."
   ]
  },
  {
   "cell_type": "code",
   "execution_count": 14,
   "metadata": {},
   "outputs": [
    {
     "data": {
      "image/png": "[encoded data removed]",
      "text/plain": [
       "<Figure size 1000x600 with 1 Axes>"
      ]
     },
     "metadata": {},
     "output_type": "display_data"
    }
   ],
   "source": [
    "#Vẽ boxplot bằng matplotlib cho cột price(EUR)\n",
    "plt.figure(figsize=(10, 6))\n",
    "sns.boxplot(x=data['Price(EUR)'])\n",
    "plt.title('Boxplot of price(EUR)')\n",
    "plt.show()"
   ]
  },
  {
   "cell_type": "markdown",
   "metadata": {},
   "source": [
    "From the results above, it is evident that there is a significant difference between the price ranges. We will categorize the data into three subsets:\n",
    "\n",
    "- Normal price range: 0 - 70k EUR\n",
    "- Due to substantial outliers, further categorization will be done:\n",
    "  - High price range: 70k - 200k EUR\n",
    "  - Very high price range: greater than 200k EUR"
   ]
  },
  {
   "cell_type": "code",
   "execution_count": 15,
   "metadata": {},
   "outputs": [],
   "source": [
    "df = data.copy()\n",
    "\n",
    "# Tạo cột mới Type để phân loại giá tiền\n",
    "threshold_1 = 70000\n",
    "threshold_2 = 200000\n",
    "df['Type'] = 'Normal'\n",
    "df.loc[(df['Price(EUR)'] > threshold_1 ) & (df['Price(EUR)'] < threshold_2), 'Type'] = 'Expensive'\n",
    "\n",
    "df.loc[df['Price(EUR)'] >= threshold_2, 'Type'] = 'Very Expensive'\n",
    "\n",
    "\n",
    "# rút gọn tên cột để dễ nhìn\n",
    "df = df.rename(columns={\n",
    "    'Power(kW)': 'Power',\n",
    "    'Consumption(l/100km or kWh/100km)': 'Consumption',\n",
    "    'CO2 emissions(g/km)': 'CO2 Emissions',\n",
    "    'Mileage(km)': 'Mileage',\n",
    "    'Engine capacity(ccm)': 'Engine Capacity'\n",
    "})\n"
   ]
  },
  {
   "cell_type": "markdown",
   "metadata": {},
   "source": [
    "After categorization, we will begin calculating the average performance of cars within each group and visualize the results on a chart."
   ]
  },
  {
   "cell_type": "code",
   "execution_count": 16,
   "metadata": {},
   "outputs": [
    {
     "data": {
      "application/vnd.plotly.v1+json": {
       "config": {
        "plotlyServerURL": "https://plot.ly"
       },
       "data": [
        {
         "fill": "toself",
         "name": "Expensive",
         "r": [
          0.5716473005261348,
          0.4146770559406239,
          0.2161865145446922,
          0.4548864368151645,
          0.4115119690842205
         ],
         "theta": [
          "Power",
          "Consumption",
          "CO2 Emissions",
          "Mileage",
          "Engine Capacity"
         ],
         "type": "scatterpolar"
        },
        {
         "fill": "toself",
         "name": "Normal",
         "r": [
          0.1,
          0.1,
          0.1,
          1.0999999999999999,
          0.1
         ],
         "theta": [
          "Power",
          "Consumption",
          "CO2 Emissions",
          "Mileage",
          "Engine Capacity"
         ],
         "type": "scatterpolar"
        },
        {
         "fill": "toself",
         "name": "Very Expensive",
         "r": [
          1.1,
          1.1,
          1.1,
          0.1,
          1.1
         ],
         "theta": [
          "Power",
          "Consumption",
          "CO2 Emissions",
          "Mileage",
          "Engine Capacity"
         ],
         "type": "scatterpolar"
        }
       ],
       "layout": {
        "polar": {
         "radialaxis": {
          "range": [
           0,
           1.1
          ],
          "visible": true
         }
        },
        "showlegend": true,
        "template": {
         "data": {
          "bar": [
           {
            "error_x": {
             "color": "#2a3f5f"
            },
            "error_y": {
             "color": "#2a3f5f"
            },
            "marker": {
             "line": {
              "color": "#E5ECF6",
              "width": 0.5
             },
             "pattern": {
              "fillmode": "overlay",
              "size": 10,
              "solidity": 0.2
             }
            },
            "type": "bar"
           }
          ],
          "barpolar": [
           {
            "marker": {
             "line": {
              "color": "#E5ECF6",
              "width": 0.5
             },
             "pattern": {
              "fillmode": "overlay",
              "size": 10,
              "solidity": 0.2
             }
            },
            "type": "barpolar"
           }
          ],
          "carpet": [
           {
            "aaxis": {
             "endlinecolor": "#2a3f5f",
             "gridcolor": "white",
             "linecolor": "white",
             "minorgridcolor": "white",
             "startlinecolor": "#2a3f5f"
            },
            "baxis": {
             "endlinecolor": "#2a3f5f",
             "gridcolor": "white",
             "linecolor": "white",
             "minorgridcolor": "white",
             "startlinecolor": "#2a3f5f"
            },
            "type": "carpet"
           }
          ],
          "choropleth": [
           {
            "colorbar": {
             "outlinewidth": 0,
             "ticks": ""
            },
            "type": "choropleth"
           }
          ],
          "contour": [
           {
            "colorbar": {
             "outlinewidth": 0,
             "ticks": ""
            },
            "colorscale": [
             [
              0,
              "#0d0887"
             ],
             [
              0.1111111111111111,
              "#46039f"
             ],
             [
              0.2222222222222222,
              "#7201a8"
             ],
             [
              0.3333333333333333,
              "#9c179e"
             ],
             [
              0.4444444444444444,
              "#bd3786"
             ],
             [
              0.5555555555555556,
              "#d8576b"
             ],
             [
              0.6666666666666666,
              "#ed7953"
             ],
             [
              0.7777777777777778,
              "#fb9f3a"
             ],
             [
              0.8888888888888888,
              "#fdca26"
             ],
             [
              1,
              "#f0f921"
             ]
            ],
            "type": "contour"
           }
          ],
          "contourcarpet": [
           {
            "colorbar": {
             "outlinewidth": 0,
             "ticks": ""
            },
            "type": "contourcarpet"
           }
          ],
          "heatmap": [
           {
            "colorbar": {
             "outlinewidth": 0,
             "ticks": ""
            },
            "colorscale": [
             [
              0,
              "#0d0887"
             ],
             [
              0.1111111111111111,
              "#46039f"
             ],
             [
              0.2222222222222222,
              "#7201a8"
             ],
             [
              0.3333333333333333,
              "#9c179e"
             ],
             [
              0.4444444444444444,
              "#bd3786"
             ],
             [
              0.5555555555555556,
              "#d8576b"
             ],
             [
              0.6666666666666666,
              "#ed7953"
             ],
             [
              0.7777777777777778,
              "#fb9f3a"
             ],
             [
              0.8888888888888888,
              "#fdca26"
             ],
             [
              1,
              "#f0f921"
             ]
            ],
            "type": "heatmap"
           }
          ],
          "heatmapgl": [
           {
            "colorbar": {
             "outlinewidth": 0,
             "ticks": ""
            },
            "colorscale": [
             [
              0,
              "#0d0887"
             ],
             [
              0.1111111111111111,
              "#46039f"
             ],
             [
              0.2222222222222222,
              "#7201a8"
             ],
             [
              0.3333333333333333,
              "#9c179e"
             ],
             [
              0.4444444444444444,
              "#bd3786"
             ],
             [
              0.5555555555555556,
              "#d8576b"
             ],
             [
              0.6666666666666666,
              "#ed7953"
             ],
             [
              0.7777777777777778,
              "#fb9f3a"
             ],
             [
              0.8888888888888888,
              "#fdca26"
             ],
             [
              1,
              "#f0f921"
             ]
            ],
            "type": "heatmapgl"
           }
          ],
          "histogram": [
           {
            "marker": {
             "pattern": {
              "fillmode": "overlay",
              "size": 10,
              "solidity": 0.2
             }
            },
            "type": "histogram"
           }
          ],
          "histogram2d": [
           {
            "colorbar": {
             "outlinewidth": 0,
             "ticks": ""
            },
            "colorscale": [
             [
              0,
              "#0d0887"
             ],
             [
              0.1111111111111111,
              "#46039f"
             ],
             [
              0.2222222222222222,
              "#7201a8"
             ],
             [
              0.3333333333333333,
              "#9c179e"
             ],
             [
              0.4444444444444444,
              "#bd3786"
             ],
             [
              0.5555555555555556,
              "#d8576b"
             ],
             [
              0.6666666666666666,
              "#ed7953"
             ],
             [
              0.7777777777777778,
              "#fb9f3a"
             ],
             [
              0.8888888888888888,
              "#fdca26"
             ],
             [
              1,
              "#f0f921"
             ]
            ],
            "type": "histogram2d"
           }
          ],
          "histogram2dcontour": [
           {
            "colorbar": {
             "outlinewidth": 0,
             "ticks": ""
            },
            "colorscale": [
             [
              0,
              "#0d0887"
             ],
             [
              0.1111111111111111,
              "#46039f"
             ],
             [
              0.2222222222222222,
              "#7201a8"
             ],
             [
              0.3333333333333333,
              "#9c179e"
             ],
             [
              0.4444444444444444,
              "#bd3786"
             ],
             [
              0.5555555555555556,
              "#d8576b"
             ],
             [
              0.6666666666666666,
              "#ed7953"
             ],
             [
              0.7777777777777778,
              "#fb9f3a"
             ],
             [
              0.8888888888888888,
              "#fdca26"
             ],
             [
              1,
              "#f0f921"
             ]
            ],
            "type": "histogram2dcontour"
           }
          ],
          "mesh3d": [
           {
            "colorbar": {
             "outlinewidth": 0,
             "ticks": ""
            },
            "type": "mesh3d"
           }
          ],
          "parcoords": [
           {
            "line": {
             "colorbar": {
              "outlinewidth": 0,
              "ticks": ""
             }
            },
            "type": "parcoords"
           }
          ],
          "pie": [
           {
            "automargin": true,
            "type": "pie"
           }
          ],
          "scatter": [
           {
            "fillpattern": {
             "fillmode": "overlay",
             "size": 10,
             "solidity": 0.2
            },
            "type": "scatter"
           }
          ],
          "scatter3d": [
           {
            "line": {
             "colorbar": {
              "outlinewidth": 0,
              "ticks": ""
             }
            },
            "marker": {
             "colorbar": {
              "outlinewidth": 0,
              "ticks": ""
             }
            },
            "type": "scatter3d"
           }
          ],
          "scattercarpet": [
           {
            "marker": {
             "colorbar": {
              "outlinewidth": 0,
              "ticks": ""
             }
            },
            "type": "scattercarpet"
           }
          ],
          "scattergeo": [
           {
            "marker": {
             "colorbar": {
              "outlinewidth": 0,
              "ticks": ""
             }
            },
            "type": "scattergeo"
           }
          ],
          "scattergl": [
           {
            "marker": {
             "colorbar": {
              "outlinewidth": 0,
              "ticks": ""
             }
            },
            "type": "scattergl"
           }
          ],
          "scattermapbox": [
           {
            "marker": {
             "colorbar": {
              "outlinewidth": 0,
              "ticks": ""
             }
            },
            "type": "scattermapbox"
           }
          ],
          "scatterpolar": [
           {
            "marker": {
             "colorbar": {
              "outlinewidth": 0,
              "ticks": ""
             }
            },
            "type": "scatterpolar"
           }
          ],
          "scatterpolargl": [
           {
            "marker": {
             "colorbar": {
              "outlinewidth": 0,
              "ticks": ""
             }
            },
            "type": "scatterpolargl"
           }
          ],
          "scatterternary": [
           {
            "marker": {
             "colorbar": {
              "outlinewidth": 0,
              "ticks": ""
             }
            },
            "type": "scatterternary"
           }
          ],
          "surface": [
           {
            "colorbar": {
             "outlinewidth": 0,
             "ticks": ""
            },
            "colorscale": [
             [
              0,
              "#0d0887"
             ],
             [
              0.1111111111111111,
              "#46039f"
             ],
             [
              0.2222222222222222,
              "#7201a8"
             ],
             [
              0.3333333333333333,
              "#9c179e"
             ],
             [
              0.4444444444444444,
              "#bd3786"
             ],
             [
              0.5555555555555556,
              "#d8576b"
             ],
             [
              0.6666666666666666,
              "#ed7953"
             ],
             [
              0.7777777777777778,
              "#fb9f3a"
             ],
             [
              0.8888888888888888,
              "#fdca26"
             ],
             [
              1,
              "#f0f921"
             ]
            ],
            "type": "surface"
           }
          ],
          "table": [
           {
            "cells": {
             "fill": {
              "color": "#EBF0F8"
             },
             "line": {
              "color": "white"
             }
            },
            "header": {
             "fill": {
              "color": "#C8D4E3"
             },
             "line": {
              "color": "white"
             }
            },
            "type": "table"
           }
          ]
         },
         "layout": {
          "annotationdefaults": {
           "arrowcolor": "#2a3f5f",
           "arrowhead": 0,
           "arrowwidth": 1
          },
          "autotypenumbers": "strict",
          "coloraxis": {
           "colorbar": {
            "outlinewidth": 0,
            "ticks": ""
           }
          },
          "colorscale": {
           "diverging": [
            [
             0,
             "#8e0152"
            ],
            [
             0.1,
             "#c51b7d"
            ],
            [
             0.2,
             "#de77ae"
            ],
            [
             0.3,
             "#f1b6da"
            ],
            [
             0.4,
             "#fde0ef"
            ],
            [
             0.5,
             "#f7f7f7"
            ],
            [
             0.6,
             "#e6f5d0"
            ],
            [
             0.7,
             "#b8e186"
            ],
            [
             0.8,
             "#7fbc41"
            ],
            [
             0.9,
             "#4d9221"
            ],
            [
             1,
             "#276419"
            ]
           ],
           "sequential": [
            [
             0,
             "#0d0887"
            ],
            [
             0.1111111111111111,
             "#46039f"
            ],
            [
             0.2222222222222222,
             "#7201a8"
            ],
            [
             0.3333333333333333,
             "#9c179e"
            ],
            [
             0.4444444444444444,
             "#bd3786"
            ],
            [
             0.5555555555555556,
             "#d8576b"
            ],
            [
             0.6666666666666666,
             "#ed7953"
            ],
            [
             0.7777777777777778,
             "#fb9f3a"
            ],
            [
             0.8888888888888888,
             "#fdca26"
            ],
            [
             1,
             "#f0f921"
            ]
           ],
           "sequentialminus": [
            [
             0,
             "#0d0887"
            ],
            [
             0.1111111111111111,
             "#46039f"
            ],
            [
             0.2222222222222222,
             "#7201a8"
            ],
            [
             0.3333333333333333,
             "#9c179e"
            ],
            [
             0.4444444444444444,
             "#bd3786"
            ],
            [
             0.5555555555555556,
             "#d8576b"
            ],
            [
             0.6666666666666666,
             "#ed7953"
            ],
            [
             0.7777777777777778,
             "#fb9f3a"
            ],
            [
             0.8888888888888888,
             "#fdca26"
            ],
            [
             1,
             "#f0f921"
            ]
           ]
          },
          "colorway": [
           "#636efa",
           "#EF553B",
           "#00cc96",
           "#ab63fa",
           "#FFA15A",
           "#19d3f3",
           "#FF6692",
           "#B6E880",
           "#FF97FF",
           "#FECB52"
          ],
          "font": {
           "color": "#2a3f5f"
          },
          "geo": {
           "bgcolor": "white",
           "lakecolor": "white",
           "landcolor": "#E5ECF6",
           "showlakes": true,
           "showland": true,
           "subunitcolor": "white"
          },
          "hoverlabel": {
           "align": "left"
          },
          "hovermode": "closest",
          "mapbox": {
           "style": "light"
          },
          "paper_bgcolor": "white",
          "plot_bgcolor": "#E5ECF6",
          "polar": {
           "angularaxis": {
            "gridcolor": "white",
            "linecolor": "white",
            "ticks": ""
           },
           "bgcolor": "#E5ECF6",
           "radialaxis": {
            "gridcolor": "white",
            "linecolor": "white",
            "ticks": ""
           }
          },
          "scene": {
           "xaxis": {
            "backgroundcolor": "#E5ECF6",
            "gridcolor": "white",
            "gridwidth": 2,
            "linecolor": "white",
            "showbackground": true,
            "ticks": "",
            "zerolinecolor": "white"
           },
           "yaxis": {
            "backgroundcolor": "#E5ECF6",
            "gridcolor": "white",
            "gridwidth": 2,
            "linecolor": "white",
            "showbackground": true,
            "ticks": "",
            "zerolinecolor": "white"
           },
           "zaxis": {
            "backgroundcolor": "#E5ECF6",
            "gridcolor": "white",
            "gridwidth": 2,
            "linecolor": "white",
            "showbackground": true,
            "ticks": "",
            "zerolinecolor": "white"
           }
          },
          "shapedefaults": {
           "line": {
            "color": "#2a3f5f"
           }
          },
          "ternary": {
           "aaxis": {
            "gridcolor": "white",
            "linecolor": "white",
            "ticks": ""
           },
           "baxis": {
            "gridcolor": "white",
            "linecolor": "white",
            "ticks": ""
           },
           "bgcolor": "#E5ECF6",
           "caxis": {
            "gridcolor": "white",
            "linecolor": "white",
            "ticks": ""
           }
          },
          "title": {
           "x": 0.05
          },
          "xaxis": {
           "automargin": true,
           "gridcolor": "white",
           "linecolor": "white",
           "ticks": "",
           "title": {
            "standoff": 15
           },
           "zerolinecolor": "white",
           "zerolinewidth": 2
          },
          "yaxis": {
           "automargin": true,
           "gridcolor": "white",
           "linecolor": "white",
           "ticks": "",
           "title": {
            "standoff": 15
           },
           "zerolinecolor": "white",
           "zerolinewidth": 2
          }
         }
        },
        "title": {
         "text": "Average Specifications of Each Type of Car"
        }
       }
      }
     },
     "metadata": {},
     "output_type": "display_data"
    }
   ],
   "source": [
    "# Chọn ra các cột thuộc tính sẽ nhận xét\n",
    "selected_columns = ['Power', 'Consumption', 'CO2 Emissions', 'Mileage', 'Engine Capacity']\n",
    "\n",
    "# Tính giá trị trung bình cho mỗi loại xe\n",
    "average_data = df.groupby('Type')[selected_columns].mean().reset_index()\n",
    "\n",
    "# Chuẩn hóa dữ liệu\n",
    "scaler = MinMaxScaler()\n",
    "average_data[selected_columns] = scaler.fit_transform(average_data[selected_columns]) + 0.1 # +0.1 để tránh trường hợp giá trị = 0\n",
    "\n",
    "\n",
    "# Tạo biểu đồ radar\n",
    "fig = go.Figure()\n",
    "\n",
    "for i, row in average_data.iterrows():\n",
    "    fig.add_trace(go.Scatterpolar(\n",
    "        r=row[selected_columns].values.tolist(),\n",
    "        theta=selected_columns,\n",
    "        fill='toself',\n",
    "        name=row['Type']\n",
    "    ))\n",
    "\n",
    "fig.update_layout(\n",
    "    polar=dict(\n",
    "        radialaxis=dict(\n",
    "            visible=True,\n",
    "            range=[0, 1.1]\n",
    "        )),\n",
    "    showlegend=True\n",
    ")\n",
    "\n",
    "#Thêm title\n",
    "fig.update_layout(title='Average Specifications of Each Type of Car')\n",
    "\n",
    "fig.show()\n"
   ]
  },
  {
   "cell_type": "markdown",
   "metadata": {},
   "source": [
    "**Comment**\n",
    "\n",
    "-   Vehicles in the high-priced segment truly excel over other types of vehicles in many aspects. With superior power and engine capacity, these vehicles demonstrate that they are equipped with very powerful engines. However, this results in a larger amount of CO2 emissions and higher fuel consumption than other types of vehicles. Looking at the chart, we see that the mileage in this segment is very low, which could explain why their prices are very high. This suggests that vehicles with lower mileage, which are often newer models, are priced higher due to their superior condition and performance. \n",
    "\n",
    "-   High-priced vehicles fall short of very high-priced vehicles in terms of engine metrics, but they excel in terms of CO2 emissions and energy consumption as they consume and emit less. This could be explained by the fact that these vehicles do not require very powerful engines, thus they do not need to use a lot of fuel and do not require a large engine capacity. These vehicles also have higher power metrics compared to low-priced vehicles.\n",
    "\n",
    "-   Low-priced vehicles have significantly higher mileage compared to vehicles in other categories. This could be a reason why their prices are lower than vehicles in other segments. Vehicles in this segment generally fall short of the other two segments in terms of engine power, but they also consume less energy and emit less CO2.\n",
    "\n",
    "Next, we will analyze additional parameters to examine the distribution trends of cars within different groups."
   ]
  },
  {
   "cell_type": "code",
   "execution_count": 17,
   "metadata": {},
   "outputs": [
    {
     "data": {
      "application/vnd.plotly.v1+json": {
       "config": {
        "plotlyServerURL": "https://plot.ly"
       },
       "data": [
        {
         "name": "Normal",
         "type": "bar",
         "x": [
          5,
          4,
          6,
          7,
          2,
          3
         ],
         "y": [
          84.64454976303317,
          8.246445497630333,
          0.23696682464454977,
          3.1279620853080567,
          1.8957345971563981,
          1.8483412322274881
         ]
        },
        {
         "name": "Expensive",
         "type": "bar",
         "x": [
          5,
          4,
          6,
          7,
          2,
          3
         ],
         "y": [
          62.7906976744186,
          10.465116279069768,
          3.488372093023256,
          19.767441860465116,
          3.488372093023256,
          0
         ]
        },
        {
         "name": "Very Expensive",
         "type": "bar",
         "x": [
          5,
          4,
          6,
          7,
          2,
          3
         ],
         "y": [
          27.27272727272727,
          18.181818181818183,
          0,
          0,
          54.54545454545454,
          0
         ]
        }
       ],
       "layout": {
        "barmode": "group",
        "template": {
         "data": {
          "bar": [
           {
            "error_x": {
             "color": "#2a3f5f"
            },
            "error_y": {
             "color": "#2a3f5f"
            },
            "marker": {
             "line": {
              "color": "#E5ECF6",
              "width": 0.5
             },
             "pattern": {
              "fillmode": "overlay",
              "size": 10,
              "solidity": 0.2
             }
            },
            "type": "bar"
           }
          ],
          "barpolar": [
           {
            "marker": {
             "line": {
              "color": "#E5ECF6",
              "width": 0.5
             },
             "pattern": {
              "fillmode": "overlay",
              "size": 10,
              "solidity": 0.2
             }
            },
            "type": "barpolar"
           }
          ],
          "carpet": [
           {
            "aaxis": {
             "endlinecolor": "#2a3f5f",
             "gridcolor": "white",
             "linecolor": "white",
             "minorgridcolor": "white",
             "startlinecolor": "#2a3f5f"
            },
            "baxis": {
             "endlinecolor": "#2a3f5f",
             "gridcolor": "white",
             "linecolor": "white",
             "minorgridcolor": "white",
             "startlinecolor": "#2a3f5f"
            },
            "type": "carpet"
           }
          ],
          "choropleth": [
           {
            "colorbar": {
             "outlinewidth": 0,
             "ticks": ""
            },
            "type": "choropleth"
           }
          ],
          "contour": [
           {
            "colorbar": {
             "outlinewidth": 0,
             "ticks": ""
            },
            "colorscale": [
             [
              0,
              "#0d0887"
             ],
             [
              0.1111111111111111,
              "#46039f"
             ],
             [
              0.2222222222222222,
              "#7201a8"
             ],
             [
              0.3333333333333333,
              "#9c179e"
             ],
             [
              0.4444444444444444,
              "#bd3786"
             ],
             [
              0.5555555555555556,
              "#d8576b"
             ],
             [
              0.6666666666666666,
              "#ed7953"
             ],
             [
              0.7777777777777778,
              "#fb9f3a"
             ],
             [
              0.8888888888888888,
              "#fdca26"
             ],
             [
              1,
              "#f0f921"
             ]
            ],
            "type": "contour"
           }
          ],
          "contourcarpet": [
           {
            "colorbar": {
             "outlinewidth": 0,
             "ticks": ""
            },
            "type": "contourcarpet"
           }
          ],
          "heatmap": [
           {
            "colorbar": {
             "outlinewidth": 0,
             "ticks": ""
            },
            "colorscale": [
             [
              0,
              "#0d0887"
             ],
             [
              0.1111111111111111,
              "#46039f"
             ],
             [
              0.2222222222222222,
              "#7201a8"
             ],
             [
              0.3333333333333333,
              "#9c179e"
             ],
             [
              0.4444444444444444,
              "#bd3786"
             ],
             [
              0.5555555555555556,
              "#d8576b"
             ],
             [
              0.6666666666666666,
              "#ed7953"
             ],
             [
              0.7777777777777778,
              "#fb9f3a"
             ],
             [
              0.8888888888888888,
              "#fdca26"
             ],
             [
              1,
              "#f0f921"
             ]
            ],
            "type": "heatmap"
           }
          ],
          "heatmapgl": [
           {
            "colorbar": {
             "outlinewidth": 0,
             "ticks": ""
            },
            "colorscale": [
             [
              0,
              "#0d0887"
             ],
             [
              0.1111111111111111,
              "#46039f"
             ],
             [
              0.2222222222222222,
              "#7201a8"
             ],
             [
              0.3333333333333333,
              "#9c179e"
             ],
             [
              0.4444444444444444,
              "#bd3786"
             ],
             [
              0.5555555555555556,
              "#d8576b"
             ],
             [
              0.6666666666666666,
              "#ed7953"
             ],
             [
              0.7777777777777778,
              "#fb9f3a"
             ],
             [
              0.8888888888888888,
              "#fdca26"
             ],
             [
              1,
              "#f0f921"
             ]
            ],
            "type": "heatmapgl"
           }
          ],
          "histogram": [
           {
            "marker": {
             "pattern": {
              "fillmode": "overlay",
              "size": 10,
              "solidity": 0.2
             }
            },
            "type": "histogram"
           }
          ],
          "histogram2d": [
           {
            "colorbar": {
             "outlinewidth": 0,
             "ticks": ""
            },
            "colorscale": [
             [
              0,
              "#0d0887"
             ],
             [
              0.1111111111111111,
              "#46039f"
             ],
             [
              0.2222222222222222,
              "#7201a8"
             ],
             [
              0.3333333333333333,
              "#9c179e"
             ],
             [
              0.4444444444444444,
              "#bd3786"
             ],
             [
              0.5555555555555556,
              "#d8576b"
             ],
             [
              0.6666666666666666,
              "#ed7953"
             ],
             [
              0.7777777777777778,
              "#fb9f3a"
             ],
             [
              0.8888888888888888,
              "#fdca26"
             ],
             [
              1,
              "#f0f921"
             ]
            ],
            "type": "histogram2d"
           }
          ],
          "histogram2dcontour": [
           {
            "colorbar": {
             "outlinewidth": 0,
             "ticks": ""
            },
            "colorscale": [
             [
              0,
              "#0d0887"
             ],
             [
              0.1111111111111111,
              "#46039f"
             ],
             [
              0.2222222222222222,
              "#7201a8"
             ],
             [
              0.3333333333333333,
              "#9c179e"
             ],
             [
              0.4444444444444444,
              "#bd3786"
             ],
             [
              0.5555555555555556,
              "#d8576b"
             ],
             [
              0.6666666666666666,
              "#ed7953"
             ],
             [
              0.7777777777777778,
              "#fb9f3a"
             ],
             [
              0.8888888888888888,
              "#fdca26"
             ],
             [
              1,
              "#f0f921"
             ]
            ],
            "type": "histogram2dcontour"
           }
          ],
          "mesh3d": [
           {
            "colorbar": {
             "outlinewidth": 0,
             "ticks": ""
            },
            "type": "mesh3d"
           }
          ],
          "parcoords": [
           {
            "line": {
             "colorbar": {
              "outlinewidth": 0,
              "ticks": ""
             }
            },
            "type": "parcoords"
           }
          ],
          "pie": [
           {
            "automargin": true,
            "type": "pie"
           }
          ],
          "scatter": [
           {
            "fillpattern": {
             "fillmode": "overlay",
             "size": 10,
             "solidity": 0.2
            },
            "type": "scatter"
           }
          ],
          "scatter3d": [
           {
            "line": {
             "colorbar": {
              "outlinewidth": 0,
              "ticks": ""
             }
            },
            "marker": {
             "colorbar": {
              "outlinewidth": 0,
              "ticks": ""
             }
            },
            "type": "scatter3d"
           }
          ],
          "scattercarpet": [
           {
            "marker": {
             "colorbar": {
              "outlinewidth": 0,
              "ticks": ""
             }
            },
            "type": "scattercarpet"
           }
          ],
          "scattergeo": [
           {
            "marker": {
             "colorbar": {
              "outlinewidth": 0,
              "ticks": ""
             }
            },
            "type": "scattergeo"
           }
          ],
          "scattergl": [
           {
            "marker": {
             "colorbar": {
              "outlinewidth": 0,
              "ticks": ""
             }
            },
            "type": "scattergl"
           }
          ],
          "scattermapbox": [
           {
            "marker": {
             "colorbar": {
              "outlinewidth": 0,
              "ticks": ""
             }
            },
            "type": "scattermapbox"
           }
          ],
          "scatterpolar": [
           {
            "marker": {
             "colorbar": {
              "outlinewidth": 0,
              "ticks": ""
             }
            },
            "type": "scatterpolar"
           }
          ],
          "scatterpolargl": [
           {
            "marker": {
             "colorbar": {
              "outlinewidth": 0,
              "ticks": ""
             }
            },
            "type": "scatterpolargl"
           }
          ],
          "scatterternary": [
           {
            "marker": {
             "colorbar": {
              "outlinewidth": 0,
              "ticks": ""
             }
            },
            "type": "scatterternary"
           }
          ],
          "surface": [
           {
            "colorbar": {
             "outlinewidth": 0,
             "ticks": ""
            },
            "colorscale": [
             [
              0,
              "#0d0887"
             ],
             [
              0.1111111111111111,
              "#46039f"
             ],
             [
              0.2222222222222222,
              "#7201a8"
             ],
             [
              0.3333333333333333,
              "#9c179e"
             ],
             [
              0.4444444444444444,
              "#bd3786"
             ],
             [
              0.5555555555555556,
              "#d8576b"
             ],
             [
              0.6666666666666666,
              "#ed7953"
             ],
             [
              0.7777777777777778,
              "#fb9f3a"
             ],
             [
              0.8888888888888888,
              "#fdca26"
             ],
             [
              1,
              "#f0f921"
             ]
            ],
            "type": "surface"
           }
          ],
          "table": [
           {
            "cells": {
             "fill": {
              "color": "#EBF0F8"
             },
             "line": {
              "color": "white"
             }
            },
            "header": {
             "fill": {
              "color": "#C8D4E3"
             },
             "line": {
              "color": "white"
             }
            },
            "type": "table"
           }
          ]
         },
         "layout": {
          "annotationdefaults": {
           "arrowcolor": "#2a3f5f",
           "arrowhead": 0,
           "arrowwidth": 1
          },
          "autotypenumbers": "strict",
          "coloraxis": {
           "colorbar": {
            "outlinewidth": 0,
            "ticks": ""
           }
          },
          "colorscale": {
           "diverging": [
            [
             0,
             "#8e0152"
            ],
            [
             0.1,
             "#c51b7d"
            ],
            [
             0.2,
             "#de77ae"
            ],
            [
             0.3,
             "#f1b6da"
            ],
            [
             0.4,
             "#fde0ef"
            ],
            [
             0.5,
             "#f7f7f7"
            ],
            [
             0.6,
             "#e6f5d0"
            ],
            [
             0.7,
             "#b8e186"
            ],
            [
             0.8,
             "#7fbc41"
            ],
            [
             0.9,
             "#4d9221"
            ],
            [
             1,
             "#276419"
            ]
           ],
           "sequential": [
            [
             0,
             "#0d0887"
            ],
            [
             0.1111111111111111,
             "#46039f"
            ],
            [
             0.2222222222222222,
             "#7201a8"
            ],
            [
             0.3333333333333333,
             "#9c179e"
            ],
            [
             0.4444444444444444,
             "#bd3786"
            ],
            [
             0.5555555555555556,
             "#d8576b"
            ],
            [
             0.6666666666666666,
             "#ed7953"
            ],
            [
             0.7777777777777778,
             "#fb9f3a"
            ],
            [
             0.8888888888888888,
             "#fdca26"
            ],
            [
             1,
             "#f0f921"
            ]
           ],
           "sequentialminus": [
            [
             0,
             "#0d0887"
            ],
            [
             0.1111111111111111,
             "#46039f"
            ],
            [
             0.2222222222222222,
             "#7201a8"
            ],
            [
             0.3333333333333333,
             "#9c179e"
            ],
            [
             0.4444444444444444,
             "#bd3786"
            ],
            [
             0.5555555555555556,
             "#d8576b"
            ],
            [
             0.6666666666666666,
             "#ed7953"
            ],
            [
             0.7777777777777778,
             "#fb9f3a"
            ],
            [
             0.8888888888888888,
             "#fdca26"
            ],
            [
             1,
             "#f0f921"
            ]
           ]
          },
          "colorway": [
           "#636efa",
           "#EF553B",
           "#00cc96",
           "#ab63fa",
           "#FFA15A",
           "#19d3f3",
           "#FF6692",
           "#B6E880",
           "#FF97FF",
           "#FECB52"
          ],
          "font": {
           "color": "#2a3f5f"
          },
          "geo": {
           "bgcolor": "white",
           "lakecolor": "white",
           "landcolor": "#E5ECF6",
           "showlakes": true,
           "showland": true,
           "subunitcolor": "white"
          },
          "hoverlabel": {
           "align": "left"
          },
          "hovermode": "closest",
          "mapbox": {
           "style": "light"
          },
          "paper_bgcolor": "white",
          "plot_bgcolor": "#E5ECF6",
          "polar": {
           "angularaxis": {
            "gridcolor": "white",
            "linecolor": "white",
            "ticks": ""
           },
           "bgcolor": "#E5ECF6",
           "radialaxis": {
            "gridcolor": "white",
            "linecolor": "white",
            "ticks": ""
           }
          },
          "scene": {
           "xaxis": {
            "backgroundcolor": "#E5ECF6",
            "gridcolor": "white",
            "gridwidth": 2,
            "linecolor": "white",
            "showbackground": true,
            "ticks": "",
            "zerolinecolor": "white"
           },
           "yaxis": {
            "backgroundcolor": "#E5ECF6",
            "gridcolor": "white",
            "gridwidth": 2,
            "linecolor": "white",
            "showbackground": true,
            "ticks": "",
            "zerolinecolor": "white"
           },
           "zaxis": {
            "backgroundcolor": "#E5ECF6",
            "gridcolor": "white",
            "gridwidth": 2,
            "linecolor": "white",
            "showbackground": true,
            "ticks": "",
            "zerolinecolor": "white"
           }
          },
          "shapedefaults": {
           "line": {
            "color": "#2a3f5f"
           }
          },
          "ternary": {
           "aaxis": {
            "gridcolor": "white",
            "linecolor": "white",
            "ticks": ""
           },
           "baxis": {
            "gridcolor": "white",
            "linecolor": "white",
            "ticks": ""
           },
           "bgcolor": "#E5ECF6",
           "caxis": {
            "gridcolor": "white",
            "linecolor": "white",
            "ticks": ""
           }
          },
          "title": {
           "x": 0.05
          },
          "xaxis": {
           "automargin": true,
           "gridcolor": "white",
           "linecolor": "white",
           "ticks": "",
           "title": {
            "standoff": 15
           },
           "zerolinecolor": "white",
           "zerolinewidth": 2
          },
          "yaxis": {
           "automargin": true,
           "gridcolor": "white",
           "linecolor": "white",
           "ticks": "",
           "title": {
            "standoff": 15
           },
           "zerolinecolor": "white",
           "zerolinewidth": 2
          }
         }
        },
        "title": {
         "text": "Group Bar Chart for Seats"
        },
        "xaxis": {
         "title": {
          "text": "Seats"
         }
        },
        "yaxis": {
         "title": {
          "text": "Percentage (%)"
         }
        }
       }
      }
     },
     "metadata": {},
     "output_type": "display_data"
    },
    {
     "data": {
      "application/vnd.plotly.v1+json": {
       "config": {
        "plotlyServerURL": "https://plot.ly"
       },
       "data": [
        {
         "name": "Normal",
         "type": "bar",
         "x": [
          "Electric",
          "Petrol",
          "Hybrid",
          "Diesel",
          "LPG",
          "CNG",
          "Other fuel type"
         ],
         "y": [
          9.715639810426541,
          50.61611374407583,
          8.909952606635072,
          29.763033175355453,
          0.23696682464454977,
          0.37914691943127965,
          0.37914691943127965
         ]
        },
        {
         "name": "Expensive",
         "type": "bar",
         "x": [
          "Electric",
          "Petrol",
          "Hybrid",
          "Diesel",
          "LPG",
          "CNG",
          "Other fuel type"
         ],
         "y": [
          25,
          34.883720930232556,
          9.30232558139535,
          30.813953488372093,
          0,
          0,
          0
         ]
        },
        {
         "name": "Very Expensive",
         "type": "bar",
         "x": [
          "Electric",
          "Petrol",
          "Hybrid",
          "Diesel",
          "LPG",
          "CNG",
          "Other fuel type"
         ],
         "y": [
          0,
          90.9090909090909,
          9.090909090909092,
          0,
          0,
          0,
          0
         ]
        }
       ],
       "layout": {
        "barmode": "group",
        "template": {
         "data": {
          "bar": [
           {
            "error_x": {
             "color": "#2a3f5f"
            },
            "error_y": {
             "color": "#2a3f5f"
            },
            "marker": {
             "line": {
              "color": "#E5ECF6",
              "width": 0.5
             },
             "pattern": {
              "fillmode": "overlay",
              "size": 10,
              "solidity": 0.2
             }
            },
            "type": "bar"
           }
          ],
          "barpolar": [
           {
            "marker": {
             "line": {
              "color": "#E5ECF6",
              "width": 0.5
             },
             "pattern": {
              "fillmode": "overlay",
              "size": 10,
              "solidity": 0.2
             }
            },
            "type": "barpolar"
           }
          ],
          "carpet": [
           {
            "aaxis": {
             "endlinecolor": "#2a3f5f",
             "gridcolor": "white",
             "linecolor": "white",
             "minorgridcolor": "white",
             "startlinecolor": "#2a3f5f"
            },
            "baxis": {
             "endlinecolor": "#2a3f5f",
             "gridcolor": "white",
             "linecolor": "white",
             "minorgridcolor": "white",
             "startlinecolor": "#2a3f5f"
            },
            "type": "carpet"
           }
          ],
          "choropleth": [
           {
            "colorbar": {
             "outlinewidth": 0,
             "ticks": ""
            },
            "type": "choropleth"
           }
          ],
          "contour": [
           {
            "colorbar": {
             "outlinewidth": 0,
             "ticks": ""
            },
            "colorscale": [
             [
              0,
              "#0d0887"
             ],
             [
              0.1111111111111111,
              "#46039f"
             ],
             [
              0.2222222222222222,
              "#7201a8"
             ],
             [
              0.3333333333333333,
              "#9c179e"
             ],
             [
              0.4444444444444444,
              "#bd3786"
             ],
             [
              0.5555555555555556,
              "#d8576b"
             ],
             [
              0.6666666666666666,
              "#ed7953"
             ],
             [
              0.7777777777777778,
              "#fb9f3a"
             ],
             [
              0.8888888888888888,
              "#fdca26"
             ],
             [
              1,
              "#f0f921"
             ]
            ],
            "type": "contour"
           }
          ],
          "contourcarpet": [
           {
            "colorbar": {
             "outlinewidth": 0,
             "ticks": ""
            },
            "type": "contourcarpet"
           }
          ],
          "heatmap": [
           {
            "colorbar": {
             "outlinewidth": 0,
             "ticks": ""
            },
            "colorscale": [
             [
              0,
              "#0d0887"
             ],
             [
              0.1111111111111111,
              "#46039f"
             ],
             [
              0.2222222222222222,
              "#7201a8"
             ],
             [
              0.3333333333333333,
              "#9c179e"
             ],
             [
              0.4444444444444444,
              "#bd3786"
             ],
             [
              0.5555555555555556,
              "#d8576b"
             ],
             [
              0.6666666666666666,
              "#ed7953"
             ],
             [
              0.7777777777777778,
              "#fb9f3a"
             ],
             [
              0.8888888888888888,
              "#fdca26"
             ],
             [
              1,
              "#f0f921"
             ]
            ],
            "type": "heatmap"
           }
          ],
          "heatmapgl": [
           {
            "colorbar": {
             "outlinewidth": 0,
             "ticks": ""
            },
            "colorscale": [
             [
              0,
              "#0d0887"
             ],
             [
              0.1111111111111111,
              "#46039f"
             ],
             [
              0.2222222222222222,
              "#7201a8"
             ],
             [
              0.3333333333333333,
              "#9c179e"
             ],
             [
              0.4444444444444444,
              "#bd3786"
             ],
             [
              0.5555555555555556,
              "#d8576b"
             ],
             [
              0.6666666666666666,
              "#ed7953"
             ],
             [
              0.7777777777777778,
              "#fb9f3a"
             ],
             [
              0.8888888888888888,
              "#fdca26"
             ],
             [
              1,
              "#f0f921"
             ]
            ],
            "type": "heatmapgl"
           }
          ],
          "histogram": [
           {
            "marker": {
             "pattern": {
              "fillmode": "overlay",
              "size": 10,
              "solidity": 0.2
             }
            },
            "type": "histogram"
           }
          ],
          "histogram2d": [
           {
            "colorbar": {
             "outlinewidth": 0,
             "ticks": ""
            },
            "colorscale": [
             [
              0,
              "#0d0887"
             ],
             [
              0.1111111111111111,
              "#46039f"
             ],
             [
              0.2222222222222222,
              "#7201a8"
             ],
             [
              0.3333333333333333,
              "#9c179e"
             ],
             [
              0.4444444444444444,
              "#bd3786"
             ],
             [
              0.5555555555555556,
              "#d8576b"
             ],
             [
              0.6666666666666666,
              "#ed7953"
             ],
             [
              0.7777777777777778,
              "#fb9f3a"
             ],
             [
              0.8888888888888888,
              "#fdca26"
             ],
             [
              1,
              "#f0f921"
             ]
            ],
            "type": "histogram2d"
           }
          ],
          "histogram2dcontour": [
           {
            "colorbar": {
             "outlinewidth": 0,
             "ticks": ""
            },
            "colorscale": [
             [
              0,
              "#0d0887"
             ],
             [
              0.1111111111111111,
              "#46039f"
             ],
             [
              0.2222222222222222,
              "#7201a8"
             ],
             [
              0.3333333333333333,
              "#9c179e"
             ],
             [
              0.4444444444444444,
              "#bd3786"
             ],
             [
              0.5555555555555556,
              "#d8576b"
             ],
             [
              0.6666666666666666,
              "#ed7953"
             ],
             [
              0.7777777777777778,
              "#fb9f3a"
             ],
             [
              0.8888888888888888,
              "#fdca26"
             ],
             [
              1,
              "#f0f921"
             ]
            ],
            "type": "histogram2dcontour"
           }
          ],
          "mesh3d": [
           {
            "colorbar": {
             "outlinewidth": 0,
             "ticks": ""
            },
            "type": "mesh3d"
           }
          ],
          "parcoords": [
           {
            "line": {
             "colorbar": {
              "outlinewidth": 0,
              "ticks": ""
             }
            },
            "type": "parcoords"
           }
          ],
          "pie": [
           {
            "automargin": true,
            "type": "pie"
           }
          ],
          "scatter": [
           {
            "fillpattern": {
             "fillmode": "overlay",
             "size": 10,
             "solidity": 0.2
            },
            "type": "scatter"
           }
          ],
          "scatter3d": [
           {
            "line": {
             "colorbar": {
              "outlinewidth": 0,
              "ticks": ""
             }
            },
            "marker": {
             "colorbar": {
              "outlinewidth": 0,
              "ticks": ""
             }
            },
            "type": "scatter3d"
           }
          ],
          "scattercarpet": [
           {
            "marker": {
             "colorbar": {
              "outlinewidth": 0,
              "ticks": ""
             }
            },
            "type": "scattercarpet"
           }
          ],
          "scattergeo": [
           {
            "marker": {
             "colorbar": {
              "outlinewidth": 0,
              "ticks": ""
             }
            },
            "type": "scattergeo"
           }
          ],
          "scattergl": [
           {
            "marker": {
             "colorbar": {
              "outlinewidth": 0,
              "ticks": ""
             }
            },
            "type": "scattergl"
           }
          ],
          "scattermapbox": [
           {
            "marker": {
             "colorbar": {
              "outlinewidth": 0,
              "ticks": ""
             }
            },
            "type": "scattermapbox"
           }
          ],
          "scatterpolar": [
           {
            "marker": {
             "colorbar": {
              "outlinewidth": 0,
              "ticks": ""
             }
            },
            "type": "scatterpolar"
           }
          ],
          "scatterpolargl": [
           {
            "marker": {
             "colorbar": {
              "outlinewidth": 0,
              "ticks": ""
             }
            },
            "type": "scatterpolargl"
           }
          ],
          "scatterternary": [
           {
            "marker": {
             "colorbar": {
              "outlinewidth": 0,
              "ticks": ""
             }
            },
            "type": "scatterternary"
           }
          ],
          "surface": [
           {
            "colorbar": {
             "outlinewidth": 0,
             "ticks": ""
            },
            "colorscale": [
             [
              0,
              "#0d0887"
             ],
             [
              0.1111111111111111,
              "#46039f"
             ],
             [
              0.2222222222222222,
              "#7201a8"
             ],
             [
              0.3333333333333333,
              "#9c179e"
             ],
             [
              0.4444444444444444,
              "#bd3786"
             ],
             [
              0.5555555555555556,
              "#d8576b"
             ],
             [
              0.6666666666666666,
              "#ed7953"
             ],
             [
              0.7777777777777778,
              "#fb9f3a"
             ],
             [
              0.8888888888888888,
              "#fdca26"
             ],
             [
              1,
              "#f0f921"
             ]
            ],
            "type": "surface"
           }
          ],
          "table": [
           {
            "cells": {
             "fill": {
              "color": "#EBF0F8"
             },
             "line": {
              "color": "white"
             }
            },
            "header": {
             "fill": {
              "color": "#C8D4E3"
             },
             "line": {
              "color": "white"
             }
            },
            "type": "table"
           }
          ]
         },
         "layout": {
          "annotationdefaults": {
           "arrowcolor": "#2a3f5f",
           "arrowhead": 0,
           "arrowwidth": 1
          },
          "autotypenumbers": "strict",
          "coloraxis": {
           "colorbar": {
            "outlinewidth": 0,
            "ticks": ""
           }
          },
          "colorscale": {
           "diverging": [
            [
             0,
             "#8e0152"
            ],
            [
             0.1,
             "#c51b7d"
            ],
            [
             0.2,
             "#de77ae"
            ],
            [
             0.3,
             "#f1b6da"
            ],
            [
             0.4,
             "#fde0ef"
            ],
            [
             0.5,
             "#f7f7f7"
            ],
            [
             0.6,
             "#e6f5d0"
            ],
            [
             0.7,
             "#b8e186"
            ],
            [
             0.8,
             "#7fbc41"
            ],
            [
             0.9,
             "#4d9221"
            ],
            [
             1,
             "#276419"
            ]
           ],
           "sequential": [
            [
             0,
             "#0d0887"
            ],
            [
             0.1111111111111111,
             "#46039f"
            ],
            [
             0.2222222222222222,
             "#7201a8"
            ],
            [
             0.3333333333333333,
             "#9c179e"
            ],
            [
             0.4444444444444444,
             "#bd3786"
            ],
            [
             0.5555555555555556,
             "#d8576b"
            ],
            [
             0.6666666666666666,
             "#ed7953"
            ],
            [
             0.7777777777777778,
             "#fb9f3a"
            ],
            [
             0.8888888888888888,
             "#fdca26"
            ],
            [
             1,
             "#f0f921"
            ]
           ],
           "sequentialminus": [
            [
             0,
             "#0d0887"
            ],
            [
             0.1111111111111111,
             "#46039f"
            ],
            [
             0.2222222222222222,
             "#7201a8"
            ],
            [
             0.3333333333333333,
             "#9c179e"
            ],
            [
             0.4444444444444444,
             "#bd3786"
            ],
            [
             0.5555555555555556,
             "#d8576b"
            ],
            [
             0.6666666666666666,
             "#ed7953"
            ],
            [
             0.7777777777777778,
             "#fb9f3a"
            ],
            [
             0.8888888888888888,
             "#fdca26"
            ],
            [
             1,
             "#f0f921"
            ]
           ]
          },
          "colorway": [
           "#636efa",
           "#EF553B",
           "#00cc96",
           "#ab63fa",
           "#FFA15A",
           "#19d3f3",
           "#FF6692",
           "#B6E880",
           "#FF97FF",
           "#FECB52"
          ],
          "font": {
           "color": "#2a3f5f"
          },
          "geo": {
           "bgcolor": "white",
           "lakecolor": "white",
           "landcolor": "#E5ECF6",
           "showlakes": true,
           "showland": true,
           "subunitcolor": "white"
          },
          "hoverlabel": {
           "align": "left"
          },
          "hovermode": "closest",
          "mapbox": {
           "style": "light"
          },
          "paper_bgcolor": "white",
          "plot_bgcolor": "#E5ECF6",
          "polar": {
           "angularaxis": {
            "gridcolor": "white",
            "linecolor": "white",
            "ticks": ""
           },
           "bgcolor": "#E5ECF6",
           "radialaxis": {
            "gridcolor": "white",
            "linecolor": "white",
            "ticks": ""
           }
          },
          "scene": {
           "xaxis": {
            "backgroundcolor": "#E5ECF6",
            "gridcolor": "white",
            "gridwidth": 2,
            "linecolor": "white",
            "showbackground": true,
            "ticks": "",
            "zerolinecolor": "white"
           },
           "yaxis": {
            "backgroundcolor": "#E5ECF6",
            "gridcolor": "white",
            "gridwidth": 2,
            "linecolor": "white",
            "showbackground": true,
            "ticks": "",
            "zerolinecolor": "white"
           },
           "zaxis": {
            "backgroundcolor": "#E5ECF6",
            "gridcolor": "white",
            "gridwidth": 2,
            "linecolor": "white",
            "showbackground": true,
            "ticks": "",
            "zerolinecolor": "white"
           }
          },
          "shapedefaults": {
           "line": {
            "color": "#2a3f5f"
           }
          },
          "ternary": {
           "aaxis": {
            "gridcolor": "white",
            "linecolor": "white",
            "ticks": ""
           },
           "baxis": {
            "gridcolor": "white",
            "linecolor": "white",
            "ticks": ""
           },
           "bgcolor": "#E5ECF6",
           "caxis": {
            "gridcolor": "white",
            "linecolor": "white",
            "ticks": ""
           }
          },
          "title": {
           "x": 0.05
          },
          "xaxis": {
           "automargin": true,
           "gridcolor": "white",
           "linecolor": "white",
           "ticks": "",
           "title": {
            "standoff": 15
           },
           "zerolinecolor": "white",
           "zerolinewidth": 2
          },
          "yaxis": {
           "automargin": true,
           "gridcolor": "white",
           "linecolor": "white",
           "ticks": "",
           "title": {
            "standoff": 15
           },
           "zerolinecolor": "white",
           "zerolinewidth": 2
          }
         }
        },
        "title": {
         "text": "Group Bar Chart for Fuel"
        },
        "xaxis": {
         "title": {
          "text": "Fuel"
         }
        },
        "yaxis": {
         "title": {
          "text": "Percentage (%)"
         }
        }
       }
      }
     },
     "metadata": {},
     "output_type": "display_data"
    },
    {
     "data": {
      "application/vnd.plotly.v1+json": {
       "config": {
        "plotlyServerURL": "https://plot.ly"
       },
       "data": [
        {
         "name": "Normal",
         "type": "bar",
         "x": [
          "Automatic",
          "Manual"
         ],
         "y": [
          61.04265402843602,
          38.95734597156398
         ]
        },
        {
         "name": "Expensive",
         "type": "bar",
         "x": [
          "Automatic",
          "Manual"
         ],
         "y": [
          96.51162790697676,
          3.488372093023256
         ]
        },
        {
         "name": "Very Expensive",
         "type": "bar",
         "x": [
          "Automatic",
          "Manual"
         ],
         "y": [
          100,
          0
         ]
        }
       ],
       "layout": {
        "barmode": "group",
        "template": {
         "data": {
          "bar": [
           {
            "error_x": {
             "color": "#2a3f5f"
            },
            "error_y": {
             "color": "#2a3f5f"
            },
            "marker": {
             "line": {
              "color": "#E5ECF6",
              "width": 0.5
             },
             "pattern": {
              "fillmode": "overlay",
              "size": 10,
              "solidity": 0.2
             }
            },
            "type": "bar"
           }
          ],
          "barpolar": [
           {
            "marker": {
             "line": {
              "color": "#E5ECF6",
              "width": 0.5
             },
             "pattern": {
              "fillmode": "overlay",
              "size": 10,
              "solidity": 0.2
             }
            },
            "type": "barpolar"
           }
          ],
          "carpet": [
           {
            "aaxis": {
             "endlinecolor": "#2a3f5f",
             "gridcolor": "white",
             "linecolor": "white",
             "minorgridcolor": "white",
             "startlinecolor": "#2a3f5f"
            },
            "baxis": {
             "endlinecolor": "#2a3f5f",
             "gridcolor": "white",
             "linecolor": "white",
             "minorgridcolor": "white",
             "startlinecolor": "#2a3f5f"
            },
            "type": "carpet"
           }
          ],
          "choropleth": [
           {
            "colorbar": {
             "outlinewidth": 0,
             "ticks": ""
            },
            "type": "choropleth"
           }
          ],
          "contour": [
           {
            "colorbar": {
             "outlinewidth": 0,
             "ticks": ""
            },
            "colorscale": [
             [
              0,
              "#0d0887"
             ],
             [
              0.1111111111111111,
              "#46039f"
             ],
             [
              0.2222222222222222,
              "#7201a8"
             ],
             [
              0.3333333333333333,
              "#9c179e"
             ],
             [
              0.4444444444444444,
              "#bd3786"
             ],
             [
              0.5555555555555556,
              "#d8576b"
             ],
             [
              0.6666666666666666,
              "#ed7953"
             ],
             [
              0.7777777777777778,
              "#fb9f3a"
             ],
             [
              0.8888888888888888,
              "#fdca26"
             ],
             [
              1,
              "#f0f921"
             ]
            ],
            "type": "contour"
           }
          ],
          "contourcarpet": [
           {
            "colorbar": {
             "outlinewidth": 0,
             "ticks": ""
            },
            "type": "contourcarpet"
           }
          ],
          "heatmap": [
           {
            "colorbar": {
             "outlinewidth": 0,
             "ticks": ""
            },
            "colorscale": [
             [
              0,
              "#0d0887"
             ],
             [
              0.1111111111111111,
              "#46039f"
             ],
             [
              0.2222222222222222,
              "#7201a8"
             ],
             [
              0.3333333333333333,
              "#9c179e"
             ],
             [
              0.4444444444444444,
              "#bd3786"
             ],
             [
              0.5555555555555556,
              "#d8576b"
             ],
             [
              0.6666666666666666,
              "#ed7953"
             ],
             [
              0.7777777777777778,
              "#fb9f3a"
             ],
             [
              0.8888888888888888,
              "#fdca26"
             ],
             [
              1,
              "#f0f921"
             ]
            ],
            "type": "heatmap"
           }
          ],
          "heatmapgl": [
           {
            "colorbar": {
             "outlinewidth": 0,
             "ticks": ""
            },
            "colorscale": [
             [
              0,
              "#0d0887"
             ],
             [
              0.1111111111111111,
              "#46039f"
             ],
             [
              0.2222222222222222,
              "#7201a8"
             ],
             [
              0.3333333333333333,
              "#9c179e"
             ],
             [
              0.4444444444444444,
              "#bd3786"
             ],
             [
              0.5555555555555556,
              "#d8576b"
             ],
             [
              0.6666666666666666,
              "#ed7953"
             ],
             [
              0.7777777777777778,
              "#fb9f3a"
             ],
             [
              0.8888888888888888,
              "#fdca26"
             ],
             [
              1,
              "#f0f921"
             ]
            ],
            "type": "heatmapgl"
           }
          ],
          "histogram": [
           {
            "marker": {
             "pattern": {
              "fillmode": "overlay",
              "size": 10,
              "solidity": 0.2
             }
            },
            "type": "histogram"
           }
          ],
          "histogram2d": [
           {
            "colorbar": {
             "outlinewidth": 0,
             "ticks": ""
            },
            "colorscale": [
             [
              0,
              "#0d0887"
             ],
             [
              0.1111111111111111,
              "#46039f"
             ],
             [
              0.2222222222222222,
              "#7201a8"
             ],
             [
              0.3333333333333333,
              "#9c179e"
             ],
             [
              0.4444444444444444,
              "#bd3786"
             ],
             [
              0.5555555555555556,
              "#d8576b"
             ],
             [
              0.6666666666666666,
              "#ed7953"
             ],
             [
              0.7777777777777778,
              "#fb9f3a"
             ],
             [
              0.8888888888888888,
              "#fdca26"
             ],
             [
              1,
              "#f0f921"
             ]
            ],
            "type": "histogram2d"
           }
          ],
          "histogram2dcontour": [
           {
            "colorbar": {
             "outlinewidth": 0,
             "ticks": ""
            },
            "colorscale": [
             [
              0,
              "#0d0887"
             ],
             [
              0.1111111111111111,
              "#46039f"
             ],
             [
              0.2222222222222222,
              "#7201a8"
             ],
             [
              0.3333333333333333,
              "#9c179e"
             ],
             [
              0.4444444444444444,
              "#bd3786"
             ],
             [
              0.5555555555555556,
              "#d8576b"
             ],
             [
              0.6666666666666666,
              "#ed7953"
             ],
             [
              0.7777777777777778,
              "#fb9f3a"
             ],
             [
              0.8888888888888888,
              "#fdca26"
             ],
             [
              1,
              "#f0f921"
             ]
            ],
            "type": "histogram2dcontour"
           }
          ],
          "mesh3d": [
           {
            "colorbar": {
             "outlinewidth": 0,
             "ticks": ""
            },
            "type": "mesh3d"
           }
          ],
          "parcoords": [
           {
            "line": {
             "colorbar": {
              "outlinewidth": 0,
              "ticks": ""
             }
            },
            "type": "parcoords"
           }
          ],
          "pie": [
           {
            "automargin": true,
            "type": "pie"
           }
          ],
          "scatter": [
           {
            "fillpattern": {
             "fillmode": "overlay",
             "size": 10,
             "solidity": 0.2
            },
            "type": "scatter"
           }
          ],
          "scatter3d": [
           {
            "line": {
             "colorbar": {
              "outlinewidth": 0,
              "ticks": ""
             }
            },
            "marker": {
             "colorbar": {
              "outlinewidth": 0,
              "ticks": ""
             }
            },
            "type": "scatter3d"
           }
          ],
          "scattercarpet": [
           {
            "marker": {
             "colorbar": {
              "outlinewidth": 0,
              "ticks": ""
             }
            },
            "type": "scattercarpet"
           }
          ],
          "scattergeo": [
           {
            "marker": {
             "colorbar": {
              "outlinewidth": 0,
              "ticks": ""
             }
            },
            "type": "scattergeo"
           }
          ],
          "scattergl": [
           {
            "marker": {
             "colorbar": {
              "outlinewidth": 0,
              "ticks": ""
             }
            },
            "type": "scattergl"
           }
          ],
          "scattermapbox": [
           {
            "marker": {
             "colorbar": {
              "outlinewidth": 0,
              "ticks": ""
             }
            },
            "type": "scattermapbox"
           }
          ],
          "scatterpolar": [
           {
            "marker": {
             "colorbar": {
              "outlinewidth": 0,
              "ticks": ""
             }
            },
            "type": "scatterpolar"
           }
          ],
          "scatterpolargl": [
           {
            "marker": {
             "colorbar": {
              "outlinewidth": 0,
              "ticks": ""
             }
            },
            "type": "scatterpolargl"
           }
          ],
          "scatterternary": [
           {
            "marker": {
             "colorbar": {
              "outlinewidth": 0,
              "ticks": ""
             }
            },
            "type": "scatterternary"
           }
          ],
          "surface": [
           {
            "colorbar": {
             "outlinewidth": 0,
             "ticks": ""
            },
            "colorscale": [
             [
              0,
              "#0d0887"
             ],
             [
              0.1111111111111111,
              "#46039f"
             ],
             [
              0.2222222222222222,
              "#7201a8"
             ],
             [
              0.3333333333333333,
              "#9c179e"
             ],
             [
              0.4444444444444444,
              "#bd3786"
             ],
             [
              0.5555555555555556,
              "#d8576b"
             ],
             [
              0.6666666666666666,
              "#ed7953"
             ],
             [
              0.7777777777777778,
              "#fb9f3a"
             ],
             [
              0.8888888888888888,
              "#fdca26"
             ],
             [
              1,
              "#f0f921"
             ]
            ],
            "type": "surface"
           }
          ],
          "table": [
           {
            "cells": {
             "fill": {
              "color": "#EBF0F8"
             },
             "line": {
              "color": "white"
             }
            },
            "header": {
             "fill": {
              "color": "#C8D4E3"
             },
             "line": {
              "color": "white"
             }
            },
            "type": "table"
           }
          ]
         },
         "layout": {
          "annotationdefaults": {
           "arrowcolor": "#2a3f5f",
           "arrowhead": 0,
           "arrowwidth": 1
          },
          "autotypenumbers": "strict",
          "coloraxis": {
           "colorbar": {
            "outlinewidth": 0,
            "ticks": ""
           }
          },
          "colorscale": {
           "diverging": [
            [
             0,
             "#8e0152"
            ],
            [
             0.1,
             "#c51b7d"
            ],
            [
             0.2,
             "#de77ae"
            ],
            [
             0.3,
             "#f1b6da"
            ],
            [
             0.4,
             "#fde0ef"
            ],
            [
             0.5,
             "#f7f7f7"
            ],
            [
             0.6,
             "#e6f5d0"
            ],
            [
             0.7,
             "#b8e186"
            ],
            [
             0.8,
             "#7fbc41"
            ],
            [
             0.9,
             "#4d9221"
            ],
            [
             1,
             "#276419"
            ]
           ],
           "sequential": [
            [
             0,
             "#0d0887"
            ],
            [
             0.1111111111111111,
             "#46039f"
            ],
            [
             0.2222222222222222,
             "#7201a8"
            ],
            [
             0.3333333333333333,
             "#9c179e"
            ],
            [
             0.4444444444444444,
             "#bd3786"
            ],
            [
             0.5555555555555556,
             "#d8576b"
            ],
            [
             0.6666666666666666,
             "#ed7953"
            ],
            [
             0.7777777777777778,
             "#fb9f3a"
            ],
            [
             0.8888888888888888,
             "#fdca26"
            ],
            [
             1,
             "#f0f921"
            ]
           ],
           "sequentialminus": [
            [
             0,
             "#0d0887"
            ],
            [
             0.1111111111111111,
             "#46039f"
            ],
            [
             0.2222222222222222,
             "#7201a8"
            ],
            [
             0.3333333333333333,
             "#9c179e"
            ],
            [
             0.4444444444444444,
             "#bd3786"
            ],
            [
             0.5555555555555556,
             "#d8576b"
            ],
            [
             0.6666666666666666,
             "#ed7953"
            ],
            [
             0.7777777777777778,
             "#fb9f3a"
            ],
            [
             0.8888888888888888,
             "#fdca26"
            ],
            [
             1,
             "#f0f921"
            ]
           ]
          },
          "colorway": [
           "#636efa",
           "#EF553B",
           "#00cc96",
           "#ab63fa",
           "#FFA15A",
           "#19d3f3",
           "#FF6692",
           "#B6E880",
           "#FF97FF",
           "#FECB52"
          ],
          "font": {
           "color": "#2a3f5f"
          },
          "geo": {
           "bgcolor": "white",
           "lakecolor": "white",
           "landcolor": "#E5ECF6",
           "showlakes": true,
           "showland": true,
           "subunitcolor": "white"
          },
          "hoverlabel": {
           "align": "left"
          },
          "hovermode": "closest",
          "mapbox": {
           "style": "light"
          },
          "paper_bgcolor": "white",
          "plot_bgcolor": "#E5ECF6",
          "polar": {
           "angularaxis": {
            "gridcolor": "white",
            "linecolor": "white",
            "ticks": ""
           },
           "bgcolor": "#E5ECF6",
           "radialaxis": {
            "gridcolor": "white",
            "linecolor": "white",
            "ticks": ""
           }
          },
          "scene": {
           "xaxis": {
            "backgroundcolor": "#E5ECF6",
            "gridcolor": "white",
            "gridwidth": 2,
            "linecolor": "white",
            "showbackground": true,
            "ticks": "",
            "zerolinecolor": "white"
           },
           "yaxis": {
            "backgroundcolor": "#E5ECF6",
            "gridcolor": "white",
            "gridwidth": 2,
            "linecolor": "white",
            "showbackground": true,
            "ticks": "",
            "zerolinecolor": "white"
           },
           "zaxis": {
            "backgroundcolor": "#E5ECF6",
            "gridcolor": "white",
            "gridwidth": 2,
            "linecolor": "white",
            "showbackground": true,
            "ticks": "",
            "zerolinecolor": "white"
           }
          },
          "shapedefaults": {
           "line": {
            "color": "#2a3f5f"
           }
          },
          "ternary": {
           "aaxis": {
            "gridcolor": "white",
            "linecolor": "white",
            "ticks": ""
           },
           "baxis": {
            "gridcolor": "white",
            "linecolor": "white",
            "ticks": ""
           },
           "bgcolor": "#E5ECF6",
           "caxis": {
            "gridcolor": "white",
            "linecolor": "white",
            "ticks": ""
           }
          },
          "title": {
           "x": 0.05
          },
          "xaxis": {
           "automargin": true,
           "gridcolor": "white",
           "linecolor": "white",
           "ticks": "",
           "title": {
            "standoff": 15
           },
           "zerolinecolor": "white",
           "zerolinewidth": 2
          },
          "yaxis": {
           "automargin": true,
           "gridcolor": "white",
           "linecolor": "white",
           "ticks": "",
           "title": {
            "standoff": 15
           },
           "zerolinecolor": "white",
           "zerolinewidth": 2
          }
         }
        },
        "title": {
         "text": "Group Bar Chart for Transmission"
        },
        "xaxis": {
         "title": {
          "text": "Transmission"
         }
        },
        "yaxis": {
         "title": {
          "text": "Percentage (%)"
         }
        }
       }
      }
     },
     "metadata": {},
     "output_type": "display_data"
    },
    {
     "data": {
      "application/vnd.plotly.v1+json": {
       "config": {
        "plotlyServerURL": "https://plot.ly"
       },
       "data": [
        {
         "name": "Normal",
         "type": "bar",
         "x": [
          "New",
          "Demonstration car",
          "Used"
         ],
         "y": [
          21.51658767772512,
          3.5545023696682465,
          74.92890995260663
         ]
        },
        {
         "name": "Expensive",
         "type": "bar",
         "x": [
          "New",
          "Demonstration car",
          "Used"
         ],
         "y": [
          25.581395348837212,
          7.55813953488372,
          66.86046511627907
         ]
        },
        {
         "name": "Very Expensive",
         "type": "bar",
         "x": [
          "New",
          "Demonstration car",
          "Used"
         ],
         "y": [
          27.27272727272727,
          9.090909090909092,
          63.63636363636363
         ]
        }
       ],
       "layout": {
        "barmode": "group",
        "template": {
         "data": {
          "bar": [
           {
            "error_x": {
             "color": "#2a3f5f"
            },
            "error_y": {
             "color": "#2a3f5f"
            },
            "marker": {
             "line": {
              "color": "#E5ECF6",
              "width": 0.5
             },
             "pattern": {
              "fillmode": "overlay",
              "size": 10,
              "solidity": 0.2
             }
            },
            "type": "bar"
           }
          ],
          "barpolar": [
           {
            "marker": {
             "line": {
              "color": "#E5ECF6",
              "width": 0.5
             },
             "pattern": {
              "fillmode": "overlay",
              "size": 10,
              "solidity": 0.2
             }
            },
            "type": "barpolar"
           }
          ],
          "carpet": [
           {
            "aaxis": {
             "endlinecolor": "#2a3f5f",
             "gridcolor": "white",
             "linecolor": "white",
             "minorgridcolor": "white",
             "startlinecolor": "#2a3f5f"
            },
            "baxis": {
             "endlinecolor": "#2a3f5f",
             "gridcolor": "white",
             "linecolor": "white",
             "minorgridcolor": "white",
             "startlinecolor": "#2a3f5f"
            },
            "type": "carpet"
           }
          ],
          "choropleth": [
           {
            "colorbar": {
             "outlinewidth": 0,
             "ticks": ""
            },
            "type": "choropleth"
           }
          ],
          "contour": [
           {
            "colorbar": {
             "outlinewidth": 0,
             "ticks": ""
            },
            "colorscale": [
             [
              0,
              "#0d0887"
             ],
             [
              0.1111111111111111,
              "#46039f"
             ],
             [
              0.2222222222222222,
              "#7201a8"
             ],
             [
              0.3333333333333333,
              "#9c179e"
             ],
             [
              0.4444444444444444,
              "#bd3786"
             ],
             [
              0.5555555555555556,
              "#d8576b"
             ],
             [
              0.6666666666666666,
              "#ed7953"
             ],
             [
              0.7777777777777778,
              "#fb9f3a"
             ],
             [
              0.8888888888888888,
              "#fdca26"
             ],
             [
              1,
              "#f0f921"
             ]
            ],
            "type": "contour"
           }
          ],
          "contourcarpet": [
           {
            "colorbar": {
             "outlinewidth": 0,
             "ticks": ""
            },
            "type": "contourcarpet"
           }
          ],
          "heatmap": [
           {
            "colorbar": {
             "outlinewidth": 0,
             "ticks": ""
            },
            "colorscale": [
             [
              0,
              "#0d0887"
             ],
             [
              0.1111111111111111,
              "#46039f"
             ],
             [
              0.2222222222222222,
              "#7201a8"
             ],
             [
              0.3333333333333333,
              "#9c179e"
             ],
             [
              0.4444444444444444,
              "#bd3786"
             ],
             [
              0.5555555555555556,
              "#d8576b"
             ],
             [
              0.6666666666666666,
              "#ed7953"
             ],
             [
              0.7777777777777778,
              "#fb9f3a"
             ],
             [
              0.8888888888888888,
              "#fdca26"
             ],
             [
              1,
              "#f0f921"
             ]
            ],
            "type": "heatmap"
           }
          ],
          "heatmapgl": [
           {
            "colorbar": {
             "outlinewidth": 0,
             "ticks": ""
            },
            "colorscale": [
             [
              0,
              "#0d0887"
             ],
             [
              0.1111111111111111,
              "#46039f"
             ],
             [
              0.2222222222222222,
              "#7201a8"
             ],
             [
              0.3333333333333333,
              "#9c179e"
             ],
             [
              0.4444444444444444,
              "#bd3786"
             ],
             [
              0.5555555555555556,
              "#d8576b"
             ],
             [
              0.6666666666666666,
              "#ed7953"
             ],
             [
              0.7777777777777778,
              "#fb9f3a"
             ],
             [
              0.8888888888888888,
              "#fdca26"
             ],
             [
              1,
              "#f0f921"
             ]
            ],
            "type": "heatmapgl"
           }
          ],
          "histogram": [
           {
            "marker": {
             "pattern": {
              "fillmode": "overlay",
              "size": 10,
              "solidity": 0.2
             }
            },
            "type": "histogram"
           }
          ],
          "histogram2d": [
           {
            "colorbar": {
             "outlinewidth": 0,
             "ticks": ""
            },
            "colorscale": [
             [
              0,
              "#0d0887"
             ],
             [
              0.1111111111111111,
              "#46039f"
             ],
             [
              0.2222222222222222,
              "#7201a8"
             ],
             [
              0.3333333333333333,
              "#9c179e"
             ],
             [
              0.4444444444444444,
              "#bd3786"
             ],
             [
              0.5555555555555556,
              "#d8576b"
             ],
             [
              0.6666666666666666,
              "#ed7953"
             ],
             [
              0.7777777777777778,
              "#fb9f3a"
             ],
             [
              0.8888888888888888,
              "#fdca26"
             ],
             [
              1,
              "#f0f921"
             ]
            ],
            "type": "histogram2d"
           }
          ],
          "histogram2dcontour": [
           {
            "colorbar": {
             "outlinewidth": 0,
             "ticks": ""
            },
            "colorscale": [
             [
              0,
              "#0d0887"
             ],
             [
              0.1111111111111111,
              "#46039f"
             ],
             [
              0.2222222222222222,
              "#7201a8"
             ],
             [
              0.3333333333333333,
              "#9c179e"
             ],
             [
              0.4444444444444444,
              "#bd3786"
             ],
             [
              0.5555555555555556,
              "#d8576b"
             ],
             [
              0.6666666666666666,
              "#ed7953"
             ],
             [
              0.7777777777777778,
              "#fb9f3a"
             ],
             [
              0.8888888888888888,
              "#fdca26"
             ],
             [
              1,
              "#f0f921"
             ]
            ],
            "type": "histogram2dcontour"
           }
          ],
          "mesh3d": [
           {
            "colorbar": {
             "outlinewidth": 0,
             "ticks": ""
            },
            "type": "mesh3d"
           }
          ],
          "parcoords": [
           {
            "line": {
             "colorbar": {
              "outlinewidth": 0,
              "ticks": ""
             }
            },
            "type": "parcoords"
           }
          ],
          "pie": [
           {
            "automargin": true,
            "type": "pie"
           }
          ],
          "scatter": [
           {
            "fillpattern": {
             "fillmode": "overlay",
             "size": 10,
             "solidity": 0.2
            },
            "type": "scatter"
           }
          ],
          "scatter3d": [
           {
            "line": {
             "colorbar": {
              "outlinewidth": 0,
              "ticks": ""
             }
            },
            "marker": {
             "colorbar": {
              "outlinewidth": 0,
              "ticks": ""
             }
            },
            "type": "scatter3d"
           }
          ],
          "scattercarpet": [
           {
            "marker": {
             "colorbar": {
              "outlinewidth": 0,
              "ticks": ""
             }
            },
            "type": "scattercarpet"
           }
          ],
          "scattergeo": [
           {
            "marker": {
             "colorbar": {
              "outlinewidth": 0,
              "ticks": ""
             }
            },
            "type": "scattergeo"
           }
          ],
          "scattergl": [
           {
            "marker": {
             "colorbar": {
              "outlinewidth": 0,
              "ticks": ""
             }
            },
            "type": "scattergl"
           }
          ],
          "scattermapbox": [
           {
            "marker": {
             "colorbar": {
              "outlinewidth": 0,
              "ticks": ""
             }
            },
            "type": "scattermapbox"
           }
          ],
          "scatterpolar": [
           {
            "marker": {
             "colorbar": {
              "outlinewidth": 0,
              "ticks": ""
             }
            },
            "type": "scatterpolar"
           }
          ],
          "scatterpolargl": [
           {
            "marker": {
             "colorbar": {
              "outlinewidth": 0,
              "ticks": ""
             }
            },
            "type": "scatterpolargl"
           }
          ],
          "scatterternary": [
           {
            "marker": {
             "colorbar": {
              "outlinewidth": 0,
              "ticks": ""
             }
            },
            "type": "scatterternary"
           }
          ],
          "surface": [
           {
            "colorbar": {
             "outlinewidth": 0,
             "ticks": ""
            },
            "colorscale": [
             [
              0,
              "#0d0887"
             ],
             [
              0.1111111111111111,
              "#46039f"
             ],
             [
              0.2222222222222222,
              "#7201a8"
             ],
             [
              0.3333333333333333,
              "#9c179e"
             ],
             [
              0.4444444444444444,
              "#bd3786"
             ],
             [
              0.5555555555555556,
              "#d8576b"
             ],
             [
              0.6666666666666666,
              "#ed7953"
             ],
             [
              0.7777777777777778,
              "#fb9f3a"
             ],
             [
              0.8888888888888888,
              "#fdca26"
             ],
             [
              1,
              "#f0f921"
             ]
            ],
            "type": "surface"
           }
          ],
          "table": [
           {
            "cells": {
             "fill": {
              "color": "#EBF0F8"
             },
             "line": {
              "color": "white"
             }
            },
            "header": {
             "fill": {
              "color": "#C8D4E3"
             },
             "line": {
              "color": "white"
             }
            },
            "type": "table"
           }
          ]
         },
         "layout": {
          "annotationdefaults": {
           "arrowcolor": "#2a3f5f",
           "arrowhead": 0,
           "arrowwidth": 1
          },
          "autotypenumbers": "strict",
          "coloraxis": {
           "colorbar": {
            "outlinewidth": 0,
            "ticks": ""
           }
          },
          "colorscale": {
           "diverging": [
            [
             0,
             "#8e0152"
            ],
            [
             0.1,
             "#c51b7d"
            ],
            [
             0.2,
             "#de77ae"
            ],
            [
             0.3,
             "#f1b6da"
            ],
            [
             0.4,
             "#fde0ef"
            ],
            [
             0.5,
             "#f7f7f7"
            ],
            [
             0.6,
             "#e6f5d0"
            ],
            [
             0.7,
             "#b8e186"
            ],
            [
             0.8,
             "#7fbc41"
            ],
            [
             0.9,
             "#4d9221"
            ],
            [
             1,
             "#276419"
            ]
           ],
           "sequential": [
            [
             0,
             "#0d0887"
            ],
            [
             0.1111111111111111,
             "#46039f"
            ],
            [
             0.2222222222222222,
             "#7201a8"
            ],
            [
             0.3333333333333333,
             "#9c179e"
            ],
            [
             0.4444444444444444,
             "#bd3786"
            ],
            [
             0.5555555555555556,
             "#d8576b"
            ],
            [
             0.6666666666666666,
             "#ed7953"
            ],
            [
             0.7777777777777778,
             "#fb9f3a"
            ],
            [
             0.8888888888888888,
             "#fdca26"
            ],
            [
             1,
             "#f0f921"
            ]
           ],
           "sequentialminus": [
            [
             0,
             "#0d0887"
            ],
            [
             0.1111111111111111,
             "#46039f"
            ],
            [
             0.2222222222222222,
             "#7201a8"
            ],
            [
             0.3333333333333333,
             "#9c179e"
            ],
            [
             0.4444444444444444,
             "#bd3786"
            ],
            [
             0.5555555555555556,
             "#d8576b"
            ],
            [
             0.6666666666666666,
             "#ed7953"
            ],
            [
             0.7777777777777778,
             "#fb9f3a"
            ],
            [
             0.8888888888888888,
             "#fdca26"
            ],
            [
             1,
             "#f0f921"
            ]
           ]
          },
          "colorway": [
           "#636efa",
           "#EF553B",
           "#00cc96",
           "#ab63fa",
           "#FFA15A",
           "#19d3f3",
           "#FF6692",
           "#B6E880",
           "#FF97FF",
           "#FECB52"
          ],
          "font": {
           "color": "#2a3f5f"
          },
          "geo": {
           "bgcolor": "white",
           "lakecolor": "white",
           "landcolor": "#E5ECF6",
           "showlakes": true,
           "showland": true,
           "subunitcolor": "white"
          },
          "hoverlabel": {
           "align": "left"
          },
          "hovermode": "closest",
          "mapbox": {
           "style": "light"
          },
          "paper_bgcolor": "white",
          "plot_bgcolor": "#E5ECF6",
          "polar": {
           "angularaxis": {
            "gridcolor": "white",
            "linecolor": "white",
            "ticks": ""
           },
           "bgcolor": "#E5ECF6",
           "radialaxis": {
            "gridcolor": "white",
            "linecolor": "white",
            "ticks": ""
           }
          },
          "scene": {
           "xaxis": {
            "backgroundcolor": "#E5ECF6",
            "gridcolor": "white",
            "gridwidth": 2,
            "linecolor": "white",
            "showbackground": true,
            "ticks": "",
            "zerolinecolor": "white"
           },
           "yaxis": {
            "backgroundcolor": "#E5ECF6",
            "gridcolor": "white",
            "gridwidth": 2,
            "linecolor": "white",
            "showbackground": true,
            "ticks": "",
            "zerolinecolor": "white"
           },
           "zaxis": {
            "backgroundcolor": "#E5ECF6",
            "gridcolor": "white",
            "gridwidth": 2,
            "linecolor": "white",
            "showbackground": true,
            "ticks": "",
            "zerolinecolor": "white"
           }
          },
          "shapedefaults": {
           "line": {
            "color": "#2a3f5f"
           }
          },
          "ternary": {
           "aaxis": {
            "gridcolor": "white",
            "linecolor": "white",
            "ticks": ""
           },
           "baxis": {
            "gridcolor": "white",
            "linecolor": "white",
            "ticks": ""
           },
           "bgcolor": "#E5ECF6",
           "caxis": {
            "gridcolor": "white",
            "linecolor": "white",
            "ticks": ""
           }
          },
          "title": {
           "x": 0.05
          },
          "xaxis": {
           "automargin": true,
           "gridcolor": "white",
           "linecolor": "white",
           "ticks": "",
           "title": {
            "standoff": 15
           },
           "zerolinecolor": "white",
           "zerolinewidth": 2
          },
          "yaxis": {
           "automargin": true,
           "gridcolor": "white",
           "linecolor": "white",
           "ticks": "",
           "title": {
            "standoff": 15
           },
           "zerolinecolor": "white",
           "zerolinewidth": 2
          }
         }
        },
        "title": {
         "text": "Group Bar Chart for Condition"
        },
        "xaxis": {
         "title": {
          "text": "Condition"
         }
        },
        "yaxis": {
         "title": {
          "text": "Percentage (%)"
         }
        }
       }
      }
     },
     "metadata": {},
     "output_type": "display_data"
    }
   ],
   "source": [
    "columns = [\"Seats\", \"Fuel\", \"Transmission\", \"Condition\"]\n",
    "\n",
    "for column in columns:\n",
    "    # Tạo danh sách các nhóm và các nhãn\n",
    "    groups = df['Type'].unique()\n",
    "    labels = df[column].unique()\n",
    "\n",
    "    # Tạo một biểu đồ cột nhóm\n",
    "    fig = go.Figure()\n",
    "\n",
    "    # Vẽ từng cột cho mỗi nhóm\n",
    "    for i, group in enumerate(groups):\n",
    "        # Lọc dữ liệu cho mỗi nhóm\n",
    "        group_data = df[df['Type'] == group]\n",
    "        \n",
    "        # Tính toán phần trăm cho mỗi nhãn trong nhóm\n",
    "        percentages = [group_data[group_data[column] == label].shape[0] / group_data.shape[0] * 100 for label in labels]\n",
    "        \n",
    "        # Vẽ cột\n",
    "        fig.add_trace(go.Bar(\n",
    "            x=labels, \n",
    "            y=percentages, \n",
    "            name=str(group),\n",
    "        ))\n",
    "\n",
    "    # Đặt nhãn cho các trục và biểu đồ\n",
    "    fig.update_layout(barmode='group', xaxis_title=column, yaxis_title='Percentage (%)', title=f'Group Bar Chart for {column}')\n",
    "\n",
    "    # Hiển thị biểu đồ\n",
    "    fig.show()\n"
   ]
  },
  {
   "cell_type": "markdown",
   "metadata": {},
   "source": [
    "-   In terms of seating capacity, vehicles in different price segments have a similar distribution, mainly concentrated in 5-seater and 4-seater categories. The difference is that one-third of the very expensive vehicles only have 2 seats, while there are hardly any 2-seater vehicles in the normal and high price segments.\n",
    "\n",
    "-   In terms of vehicle type, very expensive vehicles and regular vehicles have a similar distribution: mainly Petrol vehicles, followed by Diesel and Hybrid. Very expensive vehicles are completely absent in the electric vehicle category, 80% of very expensive vehicles are Petrol, which contributes to explaining why their average CO2 emissions are the highest among the three types of vehicles. Meanwhile, expensive vehicles have a fairly even distribution, relatively evenly distributed for Electric, Petrol, Diesel, and reserving the remaining 10% for Hybrid.\n",
    "\n",
    "-   Transmission: All three types of vehicles have a similar distribution, mainly concentrated in Automatic.\n",
    "\n",
    "-   Condition: All three types of vehicles have a similar distribution, mainly concentrated in Used, followed by New and Demonstration cars. However, 40% of very expensive vehicles are concentrated in New and Demonstration cars, which is significantly higher than the other two segments.\n",
    "\n",
    "\n",
    "Based on the analyzed information, we can conclude that the price of different vehicle segments truly reflects their quality and technical specifications. However, in some other aspects such as seating capacity, vehicle type, transmission, and condition, these segments have similar characteristics. This indicates the diversity and complexity of the automobile market."
   ]
  },
  {
   "cell_type": "markdown",
   "metadata": {},
   "source": [
    "## Question 4: Is there a correlation between the selling price and the features (tags) of cars? Which features significantly impact the selling price of a car?\n",
    "\n",
    "- Benefits of answering the question:\n",
    "    - Understanding the correlation between the selling price and features of used cars can provide valuable insights for buyers and sellers in the market.\n",
    "    - Identifying the features that significantly impact the selling price can help sellers determine the optimal pricing strategy for their used cars.\n",
    "    - The code provided offers a step-by-step process to analyze the data and generate visualizations, making it easy to replicate and apply to different datasets.\n",
    "- Implementation steps:"
   ]
  },
  {
   "cell_type": "markdown",
   "metadata": {},
   "source": [
    "### Step 1: Prepare the data\n",
    "- Select the top 10 highest-priced and lowest-priced cars and store them in separate variables."
   ]
  },
  {
   "cell_type": "code",
   "execution_count": 18,
   "metadata": {},
   "outputs": [],
   "source": [
    "top_10_high_price = data.nlargest(10, \"Price(EUR)\")  # Filter out the top 10 cars with the highest prices\n",
    "top_10_low_price = data.nsmallest(10, \"Price(EUR)\")  # Filter out the top 10 cars with the lowest prices"
   ]
  },
  {
   "cell_type": "markdown",
   "metadata": {},
   "source": [
    "### Step 2: Data preprocessing\n",
    "- Create a function to one-hot encode the tags and apply it to the selected cars dataset."
   ]
  },
  {
   "cell_type": "code",
   "execution_count": 19,
   "metadata": {},
   "outputs": [],
   "source": [
    "# Bước 2: Tiền xử lý dữ liệu\n",
    "def one_hot_encode_tags(data):\n",
    "    # Create a copy of the original DataFrame\n",
    "    one_hot_df = data[[\"Price(EUR)\",\"Tags\"]].copy()\n",
    "    \n",
    "    # Get each tag in each multiple value row\n",
    "    tags = one_hot_df['Tags'].str.split('; ', expand=True)\n",
    "    \n",
    "    # Stack to make the DataFrame long, then get_dummies and group by index before summing\n",
    "    get_dummy = pd.get_dummies(tags.stack()).groupby(level=0).sum()\n",
    "    \n",
    "    # Join the one-hot encoded DataFrame back to the original DataFrame\n",
    "    one_hot_df = one_hot_df.join(get_dummy)\n",
    "    \n",
    "    # Drop the `Tags` column\n",
    "    one_hot_df = one_hot_df.drop(\"Tags\", axis=1)\n",
    "    \n",
    "    return one_hot_df\n",
    "\n",
    "# Bước 2: Tiền xử lý dữ liệu\n",
    "top_10_high_price = one_hot_encode_tags(top_10_high_price)\n",
    "top_10_low_price = one_hot_encode_tags(top_10_low_price)"
   ]
  },
  {
   "cell_type": "markdown",
   "metadata": {},
   "source": [
    "### Step 3: Calculate correlation and visualize\n",
    "- Calculate the correlation matrix for the features and selling price of the high-priced and low-priced cars. Sort the correlation coefficients and select the top 10 tags. Create horizontal bar charts to visualize the correlations."
   ]
  },
  {
   "cell_type": "code",
   "execution_count": 20,
   "metadata": {},
   "outputs": [
    {
     "data": {
      "application/vnd.plotly.v1+json": {
       "config": {
        "plotlyServerURL": "https://plot.ly"
       },
       "data": [
        {
         "marker": {
          "color": "cornflowerblue"
         },
         "name": "Highest Prices",
         "orientation": "h",
         "text": [
          0.7,
          0.51,
          0.51,
          0.49,
          0.42,
          0.4,
          0.37,
          0.29,
          0.21,
          0.17
         ],
         "textposition": "inside",
         "type": "bar",
         "x": [
          0.6969355527603084,
          0.5141540964683866,
          0.5141540964683866,
          0.4867050581694715,
          0.4235108742781002,
          0.39544469225577483,
          0.3683372759754272,
          0.2900973113196471,
          0.21116501576826363,
          0.16819714335014702
         ],
         "xaxis": "x",
         "y": [
          "Adaptive cruise control",
          "Air suspension",
          "Alcantara interior",
          "Alloy wheels",
          "Android auto",
          "Apple CarPlay",
          "Automatic 2-zones air conditioning",
          "Automatic A/C",
          "Bluetooth",
          "Burmester audio",
          "Daytime running lights",
          "Digital cockpit",
          "Driver's seat with massage function",
          "Electric adjustable front seats",
          "Front electric windows",
          "Glare-free high beam headlights",
          "Head-up display",
          "Heated front seats",
          "Heated rear seats",
          "Heated steering wheel",
          "Integrated music streaming",
          "Keyless entry",
          "Keyless ignition",
          "LED headlights",
          "Leather",
          "Leather steering wheel",
          "Light sensor",
          "Multifunctional steering wheel",
          "Navigation system",
          "Paddle shifters",
          "Panoramic roof",
          "Parking sensors",
          "Rain sensor",
          "Rear parking camera",
          "Side mirrors with electic adjustment",
          "Sport front seats",
          "Traffic sign recognition",
          "Ventilated front seats",
          "Voice control",
          "WLAN/Wifi hotspot"
         ],
         "yaxis": "y"
        },
        {
         "marker": {
          "color": "pink"
         },
         "name": "Lowest Prices",
         "orientation": "h",
         "text": [
          0.48,
          0.3,
          0.3,
          0.27,
          0.27,
          0.26,
          0.26,
          0.24,
          0.24,
          0.24
         ],
         "textposition": "inside",
         "type": "bar",
         "x": [
          0.48199029141011623,
          0.30327479010074737,
          0.30327479010074737,
          0.2671706484220869,
          0.2671706484220869,
          0.2564665016702208,
          0.2564665016702208,
          0.241084230552498,
          0.23828733507915847,
          0.23828733507915847
         ],
         "xaxis": "x2",
         "y": [
          "Alarm",
          "Alloy wheels",
          "Ambient lighting",
          "Automatic A/C",
          "Bluetooth",
          "Bose audio",
          "CD player",
          "Daytime running lights",
          "Electrically heated side mirrors",
          "Front electric windows",
          "Heated front seats",
          "Hill-start assist",
          "Keyless entry",
          "Keyless ignition",
          "Leather",
          "Leather steering wheel",
          "Light sensor",
          "Multifunctional steering wheel",
          "Navigation system",
          "On-board computer",
          "Panoramic roof",
          "Rain sensor",
          "Side mirrors with electic adjustment",
          "Sport front seats",
          "Sport package",
          "Sport-suspension system",
          "USB",
          "Voice control"
         ],
         "yaxis": "y2"
        }
       ],
       "layout": {
        "height": 800,
        "template": {
         "data": {
          "bar": [
           {
            "error_x": {
             "color": "#2a3f5f"
            },
            "error_y": {
             "color": "#2a3f5f"
            },
            "marker": {
             "line": {
              "color": "#E5ECF6",
              "width": 0.5
             },
             "pattern": {
              "fillmode": "overlay",
              "size": 10,
              "solidity": 0.2
             }
            },
            "type": "bar"
           }
          ],
          "barpolar": [
           {
            "marker": {
             "line": {
              "color": "#E5ECF6",
              "width": 0.5
             },
             "pattern": {
              "fillmode": "overlay",
              "size": 10,
              "solidity": 0.2
             }
            },
            "type": "barpolar"
           }
          ],
          "carpet": [
           {
            "aaxis": {
             "endlinecolor": "#2a3f5f",
             "gridcolor": "white",
             "linecolor": "white",
             "minorgridcolor": "white",
             "startlinecolor": "#2a3f5f"
            },
            "baxis": {
             "endlinecolor": "#2a3f5f",
             "gridcolor": "white",
             "linecolor": "white",
             "minorgridcolor": "white",
             "startlinecolor": "#2a3f5f"
            },
            "type": "carpet"
           }
          ],
          "choropleth": [
           {
            "colorbar": {
             "outlinewidth": 0,
             "ticks": ""
            },
            "type": "choropleth"
           }
          ],
          "contour": [
           {
            "colorbar": {
             "outlinewidth": 0,
             "ticks": ""
            },
            "colorscale": [
             [
              0,
              "#0d0887"
             ],
             [
              0.1111111111111111,
              "#46039f"
             ],
             [
              0.2222222222222222,
              "#7201a8"
             ],
             [
              0.3333333333333333,
              "#9c179e"
             ],
             [
              0.4444444444444444,
              "#bd3786"
             ],
             [
              0.5555555555555556,
              "#d8576b"
             ],
             [
              0.6666666666666666,
              "#ed7953"
             ],
             [
              0.7777777777777778,
              "#fb9f3a"
             ],
             [
              0.8888888888888888,
              "#fdca26"
             ],
             [
              1,
              "#f0f921"
             ]
            ],
            "type": "contour"
           }
          ],
          "contourcarpet": [
           {
            "colorbar": {
             "outlinewidth": 0,
             "ticks": ""
            },
            "type": "contourcarpet"
           }
          ],
          "heatmap": [
           {
            "colorbar": {
             "outlinewidth": 0,
             "ticks": ""
            },
            "colorscale": [
             [
              0,
              "#0d0887"
             ],
             [
              0.1111111111111111,
              "#46039f"
             ],
             [
              0.2222222222222222,
              "#7201a8"
             ],
             [
              0.3333333333333333,
              "#9c179e"
             ],
             [
              0.4444444444444444,
              "#bd3786"
             ],
             [
              0.5555555555555556,
              "#d8576b"
             ],
             [
              0.6666666666666666,
              "#ed7953"
             ],
             [
              0.7777777777777778,
              "#fb9f3a"
             ],
             [
              0.8888888888888888,
              "#fdca26"
             ],
             [
              1,
              "#f0f921"
             ]
            ],
            "type": "heatmap"
           }
          ],
          "heatmapgl": [
           {
            "colorbar": {
             "outlinewidth": 0,
             "ticks": ""
            },
            "colorscale": [
             [
              0,
              "#0d0887"
             ],
             [
              0.1111111111111111,
              "#46039f"
             ],
             [
              0.2222222222222222,
              "#7201a8"
             ],
             [
              0.3333333333333333,
              "#9c179e"
             ],
             [
              0.4444444444444444,
              "#bd3786"
             ],
             [
              0.5555555555555556,
              "#d8576b"
             ],
             [
              0.6666666666666666,
              "#ed7953"
             ],
             [
              0.7777777777777778,
              "#fb9f3a"
             ],
             [
              0.8888888888888888,
              "#fdca26"
             ],
             [
              1,
              "#f0f921"
             ]
            ],
            "type": "heatmapgl"
           }
          ],
          "histogram": [
           {
            "marker": {
             "pattern": {
              "fillmode": "overlay",
              "size": 10,
              "solidity": 0.2
             }
            },
            "type": "histogram"
           }
          ],
          "histogram2d": [
           {
            "colorbar": {
             "outlinewidth": 0,
             "ticks": ""
            },
            "colorscale": [
             [
              0,
              "#0d0887"
             ],
             [
              0.1111111111111111,
              "#46039f"
             ],
             [
              0.2222222222222222,
              "#7201a8"
             ],
             [
              0.3333333333333333,
              "#9c179e"
             ],
             [
              0.4444444444444444,
              "#bd3786"
             ],
             [
              0.5555555555555556,
              "#d8576b"
             ],
             [
              0.6666666666666666,
              "#ed7953"
             ],
             [
              0.7777777777777778,
              "#fb9f3a"
             ],
             [
              0.8888888888888888,
              "#fdca26"
             ],
             [
              1,
              "#f0f921"
             ]
            ],
            "type": "histogram2d"
           }
          ],
          "histogram2dcontour": [
           {
            "colorbar": {
             "outlinewidth": 0,
             "ticks": ""
            },
            "colorscale": [
             [
              0,
              "#0d0887"
             ],
             [
              0.1111111111111111,
              "#46039f"
             ],
             [
              0.2222222222222222,
              "#7201a8"
             ],
             [
              0.3333333333333333,
              "#9c179e"
             ],
             [
              0.4444444444444444,
              "#bd3786"
             ],
             [
              0.5555555555555556,
              "#d8576b"
             ],
             [
              0.6666666666666666,
              "#ed7953"
             ],
             [
              0.7777777777777778,
              "#fb9f3a"
             ],
             [
              0.8888888888888888,
              "#fdca26"
             ],
             [
              1,
              "#f0f921"
             ]
            ],
            "type": "histogram2dcontour"
           }
          ],
          "mesh3d": [
           {
            "colorbar": {
             "outlinewidth": 0,
             "ticks": ""
            },
            "type": "mesh3d"
           }
          ],
          "parcoords": [
           {
            "line": {
             "colorbar": {
              "outlinewidth": 0,
              "ticks": ""
             }
            },
            "type": "parcoords"
           }
          ],
          "pie": [
           {
            "automargin": true,
            "type": "pie"
           }
          ],
          "scatter": [
           {
            "fillpattern": {
             "fillmode": "overlay",
             "size": 10,
             "solidity": 0.2
            },
            "type": "scatter"
           }
          ],
          "scatter3d": [
           {
            "line": {
             "colorbar": {
              "outlinewidth": 0,
              "ticks": ""
             }
            },
            "marker": {
             "colorbar": {
              "outlinewidth": 0,
              "ticks": ""
             }
            },
            "type": "scatter3d"
           }
          ],
          "scattercarpet": [
           {
            "marker": {
             "colorbar": {
              "outlinewidth": 0,
              "ticks": ""
             }
            },
            "type": "scattercarpet"
           }
          ],
          "scattergeo": [
           {
            "marker": {
             "colorbar": {
              "outlinewidth": 0,
              "ticks": ""
             }
            },
            "type": "scattergeo"
           }
          ],
          "scattergl": [
           {
            "marker": {
             "colorbar": {
              "outlinewidth": 0,
              "ticks": ""
             }
            },
            "type": "scattergl"
           }
          ],
          "scattermapbox": [
           {
            "marker": {
             "colorbar": {
              "outlinewidth": 0,
              "ticks": ""
             }
            },
            "type": "scattermapbox"
           }
          ],
          "scatterpolar": [
           {
            "marker": {
             "colorbar": {
              "outlinewidth": 0,
              "ticks": ""
             }
            },
            "type": "scatterpolar"
           }
          ],
          "scatterpolargl": [
           {
            "marker": {
             "colorbar": {
              "outlinewidth": 0,
              "ticks": ""
             }
            },
            "type": "scatterpolargl"
           }
          ],
          "scatterternary": [
           {
            "marker": {
             "colorbar": {
              "outlinewidth": 0,
              "ticks": ""
             }
            },
            "type": "scatterternary"
           }
          ],
          "surface": [
           {
            "colorbar": {
             "outlinewidth": 0,
             "ticks": ""
            },
            "colorscale": [
             [
              0,
              "#0d0887"
             ],
             [
              0.1111111111111111,
              "#46039f"
             ],
             [
              0.2222222222222222,
              "#7201a8"
             ],
             [
              0.3333333333333333,
              "#9c179e"
             ],
             [
              0.4444444444444444,
              "#bd3786"
             ],
             [
              0.5555555555555556,
              "#d8576b"
             ],
             [
              0.6666666666666666,
              "#ed7953"
             ],
             [
              0.7777777777777778,
              "#fb9f3a"
             ],
             [
              0.8888888888888888,
              "#fdca26"
             ],
             [
              1,
              "#f0f921"
             ]
            ],
            "type": "surface"
           }
          ],
          "table": [
           {
            "cells": {
             "fill": {
              "color": "#EBF0F8"
             },
             "line": {
              "color": "white"
             }
            },
            "header": {
             "fill": {
              "color": "#C8D4E3"
             },
             "line": {
              "color": "white"
             }
            },
            "type": "table"
           }
          ]
         },
         "layout": {
          "annotationdefaults": {
           "arrowcolor": "#2a3f5f",
           "arrowhead": 0,
           "arrowwidth": 1
          },
          "autotypenumbers": "strict",
          "coloraxis": {
           "colorbar": {
            "outlinewidth": 0,
            "ticks": ""
           }
          },
          "colorscale": {
           "diverging": [
            [
             0,
             "#8e0152"
            ],
            [
             0.1,
             "#c51b7d"
            ],
            [
             0.2,
             "#de77ae"
            ],
            [
             0.3,
             "#f1b6da"
            ],
            [
             0.4,
             "#fde0ef"
            ],
            [
             0.5,
             "#f7f7f7"
            ],
            [
             0.6,
             "#e6f5d0"
            ],
            [
             0.7,
             "#b8e186"
            ],
            [
             0.8,
             "#7fbc41"
            ],
            [
             0.9,
             "#4d9221"
            ],
            [
             1,
             "#276419"
            ]
           ],
           "sequential": [
            [
             0,
             "#0d0887"
            ],
            [
             0.1111111111111111,
             "#46039f"
            ],
            [
             0.2222222222222222,
             "#7201a8"
            ],
            [
             0.3333333333333333,
             "#9c179e"
            ],
            [
             0.4444444444444444,
             "#bd3786"
            ],
            [
             0.5555555555555556,
             "#d8576b"
            ],
            [
             0.6666666666666666,
             "#ed7953"
            ],
            [
             0.7777777777777778,
             "#fb9f3a"
            ],
            [
             0.8888888888888888,
             "#fdca26"
            ],
            [
             1,
             "#f0f921"
            ]
           ],
           "sequentialminus": [
            [
             0,
             "#0d0887"
            ],
            [
             0.1111111111111111,
             "#46039f"
            ],
            [
             0.2222222222222222,
             "#7201a8"
            ],
            [
             0.3333333333333333,
             "#9c179e"
            ],
            [
             0.4444444444444444,
             "#bd3786"
            ],
            [
             0.5555555555555556,
             "#d8576b"
            ],
            [
             0.6666666666666666,
             "#ed7953"
            ],
            [
             0.7777777777777778,
             "#fb9f3a"
            ],
            [
             0.8888888888888888,
             "#fdca26"
            ],
            [
             1,
             "#f0f921"
            ]
           ]
          },
          "colorway": [
           "#636efa",
           "#EF553B",
           "#00cc96",
           "#ab63fa",
           "#FFA15A",
           "#19d3f3",
           "#FF6692",
           "#B6E880",
           "#FF97FF",
           "#FECB52"
          ],
          "font": {
           "color": "#2a3f5f"
          },
          "geo": {
           "bgcolor": "white",
           "lakecolor": "white",
           "landcolor": "#E5ECF6",
           "showlakes": true,
           "showland": true,
           "subunitcolor": "white"
          },
          "hoverlabel": {
           "align": "left"
          },
          "hovermode": "closest",
          "mapbox": {
           "style": "light"
          },
          "paper_bgcolor": "white",
          "plot_bgcolor": "#E5ECF6",
          "polar": {
           "angularaxis": {
            "gridcolor": "white",
            "linecolor": "white",
            "ticks": ""
           },
           "bgcolor": "#E5ECF6",
           "radialaxis": {
            "gridcolor": "white",
            "linecolor": "white",
            "ticks": ""
           }
          },
          "scene": {
           "xaxis": {
            "backgroundcolor": "#E5ECF6",
            "gridcolor": "white",
            "gridwidth": 2,
            "linecolor": "white",
            "showbackground": true,
            "ticks": "",
            "zerolinecolor": "white"
           },
           "yaxis": {
            "backgroundcolor": "#E5ECF6",
            "gridcolor": "white",
            "gridwidth": 2,
            "linecolor": "white",
            "showbackground": true,
            "ticks": "",
            "zerolinecolor": "white"
           },
           "zaxis": {
            "backgroundcolor": "#E5ECF6",
            "gridcolor": "white",
            "gridwidth": 2,
            "linecolor": "white",
            "showbackground": true,
            "ticks": "",
            "zerolinecolor": "white"
           }
          },
          "shapedefaults": {
           "line": {
            "color": "#2a3f5f"
           }
          },
          "ternary": {
           "aaxis": {
            "gridcolor": "white",
            "linecolor": "white",
            "ticks": ""
           },
           "baxis": {
            "gridcolor": "white",
            "linecolor": "white",
            "ticks": ""
           },
           "bgcolor": "#E5ECF6",
           "caxis": {
            "gridcolor": "white",
            "linecolor": "white",
            "ticks": ""
           }
          },
          "title": {
           "x": 0.05
          },
          "xaxis": {
           "automargin": true,
           "gridcolor": "white",
           "linecolor": "white",
           "ticks": "",
           "title": {
            "standoff": 15
           },
           "zerolinecolor": "white",
           "zerolinewidth": 2
          },
          "yaxis": {
           "automargin": true,
           "gridcolor": "white",
           "linecolor": "white",
           "ticks": "",
           "title": {
            "standoff": 15
           },
           "zerolinecolor": "white",
           "zerolinewidth": 2
          }
         }
        },
        "title": {
         "text": "Top 10 Tags with Highest Correlation Coefficients"
        },
        "xaxis": {
         "anchor": "y",
         "domain": [
          0,
          1
         ],
         "matches": "x2",
         "showticklabels": false,
         "title": {
          "text": "Correlation Coefficient"
         }
        },
        "xaxis2": {
         "anchor": "y2",
         "domain": [
          0,
          1
         ]
        },
        "yaxis": {
         "anchor": "x",
         "domain": [
          0.575,
          1
         ],
         "title": {
          "text": "Tags"
         }
        },
        "yaxis2": {
         "anchor": "x2",
         "domain": [
          0,
          0.425
         ]
        }
       }
      }
     },
     "metadata": {},
     "output_type": "display_data"
    }
   ],
   "source": [
    "top_10_tags_high_prices = top_10_high_price.columns[1:]  # Exclude the \"Price(EUR)\" column\n",
    "top_10_tags_low_prices = top_10_low_price.columns[1:]  # Exclude the \"Price(EUR)\" column\n",
    "\n",
    "corr_matrix_high_prices = top_10_high_price.corr()\n",
    "corr_matrix_low_prices = top_10_low_price.corr()\n",
    "\n",
    "sorted_corr_high_prices = corr_matrix_high_prices['Price(EUR)'].sort_values(ascending=False)\n",
    "sorted_corr_low_prices = corr_matrix_low_prices['Price(EUR)'].sort_values(ascending=False)\n",
    "\n",
    "bar_chart_high_prices = go.Bar(\n",
    "    x=sorted_corr_high_prices[1:11],\n",
    "    y=top_10_tags_high_prices,\n",
    "    orientation='h',\n",
    "    marker=dict(\n",
    "        color='cornflowerblue'\n",
    "    ),\n",
    "    text=sorted_corr_high_prices[1:11].round(2),  # Add correlation coefficients as text labels\n",
    "    textposition='inside',  # Position the text labels inside the bars\n",
    "    name='Highest Prices'  # Set the name for the bar chart\n",
    ")\n",
    "\n",
    "# Bước 7: Tạo biểu đồ thanh ngang cho top 10 tags có hệ số tương quan cao nhất - Giá thấp nhất\n",
    "bar_chart_low_prices = go.Bar(\n",
    "    x=sorted_corr_low_prices[1:11],\n",
    "    y=top_10_tags_low_prices,\n",
    "    orientation='h',\n",
    "    marker=dict(\n",
    "        color='pink'\n",
    "    ),\n",
    "    text=sorted_corr_low_prices[1:11].round(2),  # Add correlation coefficients as text labels\n",
    "    textposition='inside',  # Position the text labels inside the bars\n",
    "    name='Lowest Prices'  # Set the name for the bar chart\n",
    ")\n",
    "\n",
    "# Create a figure with subplots\n",
    "fig = make_subplots(rows=2, cols=1, shared_xaxes=True)\n",
    "\n",
    "# Add the bar charts to the figure\n",
    "fig.add_trace(bar_chart_high_prices, row=1, col=1)\n",
    "fig.add_trace(bar_chart_low_prices, row=2, col=1)\n",
    "\n",
    "# Customize the layout\n",
    "fig.update_layout(\n",
    "    title='Top 10 Tags with Highest Correlation Coefficients',\n",
    "    xaxis_title='Correlation Coefficient',\n",
    "    yaxis_title='Tags',\n",
    "    height=800  # Increase the height of the plot to accommodate all y-axis labels\n",
    ")\n",
    "\n",
    "# Show the plot\n",
    "fig.show()"
   ]
  },
  {
   "cell_type": "markdown",
   "metadata": {},
   "source": [
    "- As the plot shows, the features with the highest correlation coefficients with highest car prices are:\n",
    "    - Driver's seat with massage function (correlation coefficient: 0.7)\n",
    "    - Air suspension (correlation coefficient: 0.37)\n",
    "    - Adaptive cruise control (correlation coefficient: 0.4)\n",
    "    - Ventilated front seats (correlation coefficient: 0.42)\n",
    "    - Keyless entry (correlation coefficient: 0.49)\n",
    "    - Heated front seats (correlation coefficient: 0.51)\n",
    "    - Digital cockpit (correlation coefficient: 0.51)\n",
    "    - Heated rear seats (correlation coefficient: 0.29)\n",
    "    - Panoramic roof (correlation coefficient: 0.21)\n",
    "- These features can be considered luxury features, and their presence is associated with higher car prices. This is because these features are considered to be more comfortable or safe, and car buyers are willing to pay more for them.\n",
    "\n",
    "- In addition, the plot also shows that the features with the highest correlation coefficients with lowest car prices are:\n",
    "    - Keyless ignition (correlation coefficient: 0.24)\n",
    "    - Keyless entry (correlation coefficient: 0.24)\n",
    "    - Heated front seats (correlation coefficient: 0.24)\n",
    "    - Rain sensor (correlation coefficient: 0.26)\n",
    "    - Light sensor (correlation coefficient: 0.26)Voice control (correlation coefficient: 0.27)\n",
    "    - Bose audio (correlation coefficient: 0.27)\n",
    "    - Panoramic roof (correlation coefficient: 0.3)\n",
    "    - Alarm (correlation coefficient: 0.3)\n",
    "    - Hill-start assist (correlation coefficient: 0.48)\n",
    "- These features can be considered basic features. This is because these features are considered to be necessary for safe and comfortable driving, and car buyers are not willing to pay more for them."
   ]
  },
  {
   "cell_type": "markdown",
   "metadata": {},
   "source": [
    "## Question 5: How do CO2 emissions (g/km) and fuel consumption vary among different vehicle body types and fuel types?\n",
    "- Benefits of question:\n",
    "    - Helps users see the difference between choosing environmentally friendly vehicles and types of vehicles that are more likely to cause environmental pollution\n",
    "    - Helps users choose environmentally friendly vehicles, contributing to environmental protection.\n",
    "- How to answer the question by using data?\n",
    "    - Use bar charts to illustrate the variations across different vehicle body and fuel types."
   ]
  },
  {
   "cell_type": "markdown",
   "metadata": {},
   "source": [
    "### Step1: Preprocess data to answer the question\n",
    "- Group vehicles by body types and fuel types\n",
    "- Calculate the average CO2 emissions and fuel consumption for each group"
   ]
  },
  {
   "cell_type": "code",
   "execution_count": 21,
   "metadata": {},
   "outputs": [],
   "source": [
    "copydata = data.copy()\n",
    "\n",
    "# Grouping by Body and Fuel types and calculating mean emissions and consumption\n",
    "grouped_data = copydata.groupby(['Body', 'Fuel']).agg({'CO2 emissions(g/km)': 'mean', 'Consumption(l/100km or kWh/100km)': 'mean'})\n",
    "# print(grouped_data)\n"
   ]
  },
  {
   "cell_type": "markdown",
   "metadata": {},
   "source": [
    "### Step 2: Draw a bar chart "
   ]
  },
  {
   "cell_type": "code",
   "execution_count": 22,
   "metadata": {},
   "outputs": [
    {
     "data": {
      "image/png": "[encoded data removed]",
      "text/plain": [
       "<Figure size 1200x600 with 1 Axes>"
      ]
     },
     "metadata": {},
     "output_type": "display_data"
    },
    {
     "data": {
      "image/png": "[encoded data removed]",
      "text/plain": [
       "<Figure size 1200x600 with 1 Axes>"
      ]
     },
     "metadata": {},
     "output_type": "display_data"
    }
   ],
   "source": [
    "# Reset index to make 'Body' and 'Fuel' columns accessible for plotting\n",
    "grouped_data = grouped_data.reset_index()\n",
    "\n",
    "# Plotting CO2 emissions by body and fuel type\n",
    "plt.figure(figsize=(12, 6))\n",
    "sns.barplot(x='Body', y='CO2 emissions(g/km)', hue='Fuel', data=grouped_data)\n",
    "plt.title('CO2 Emissions by Vehicle Body and Fuel Type')\n",
    "plt.xlabel('Vehicle Body Type')\n",
    "plt.ylabel('CO2 Emissions (g/km)')\n",
    "plt.xticks(rotation=45)\n",
    "plt.legend(title='Fuel Type')\n",
    "plt.tight_layout()\n",
    "plt.show()\n",
    "\n",
    "# Plotting fuel consumption by body and fuel type\n",
    "plt.figure(figsize=(12, 6))\n",
    "sns.barplot(x='Body', y='Consumption(l/100km or kWh/100km)', hue='Fuel', data=grouped_data)\n",
    "plt.title('Fuel Consumption by Vehicle Body and Fuel Type')\n",
    "plt.xlabel('Vehicle Body Type')\n",
    "plt.ylabel('Fuel Consumption')\n",
    "plt.xticks(rotation=45)\n",
    "plt.legend(title='Fuel Type')\n",
    "plt.tight_layout()\n",
    "plt.show()"
   ]
  },
  {
   "cell_type": "markdown",
   "metadata": {},
   "source": [
    "**Comment:**\n",
    "- SUV Offroad and Pickup trucks exhibit higher CO2 emissions and fuel consumption compared to other vehicle types.\n",
    "- Electric cars show significantly lower CO2 emissions and lower fuel consumption, reflecting their energy efficiency and lower environmental impact compared to fossil fuel-powered vehicles.\n",
    "- Hybrid and Electric vehicles stand out for their low emissions and high energy efficiency on both charts."
   ]
  }
 ],
 "metadata": {
  "kernelspec": {
   "display_name": "base",
   "language": "python",
   "name": "python3"
  },
  "language_info": {
   "codemirror_mode": {
    "name": "ipython",
    "version": 3
   },
   "file_extension": ".py",
   "mimetype": "text/x-python",
   "name": "python",
   "nbconvert_exporter": "python",
   "pygments_lexer": "ipython3",
   "version": "3.10.11"
  }
 },
 "nbformat": 4,
 "nbformat_minor": 2
}
