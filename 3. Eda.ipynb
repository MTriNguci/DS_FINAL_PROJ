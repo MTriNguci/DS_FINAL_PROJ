{
 "cells": [
  {
   "cell_type": "markdown",
   "metadata": {},
   "source": [
    "# Explore the data & using data to answer meaningful Question"
   ]
  },
  {
   "cell_type": "code",
   "execution_count": null,
   "metadata": {},
   "outputs": [],
   "source": [
    "# import library\n",
    "import pandas as pd\n",
    "from datetime import datetime\n",
    "import numpy as np\n",
    "import plotly.express as px\n",
    "import plotly.graph_objects as go\n",
    "import matplotlib.pyplot as plt\n",
    "import seaborn as sns"
   ]
  },
  {
   "cell_type": "markdown",
   "metadata": {},
   "source": [
    "### First, let's read our data and take a quick view"
   ]
  },
  {
   "cell_type": "code",
   "execution_count": null,
   "metadata": {},
   "outputs": [],
   "source": [
    "data = pd.read_csv('data\\cleaned_data_edited.csv')\n",
    "data.head(5)"
   ]
  },
  {
   "cell_type": "markdown",
   "metadata": {},
   "source": [
    "- Check Dtype of columns"
   ]
  },
  {
   "cell_type": "code",
   "execution_count": null,
   "metadata": {},
   "outputs": [],
   "source": [
    "data.info()"
   ]
  },
  {
   "cell_type": "markdown",
   "metadata": {},
   "source": [
    "# Exploratory data analysis: Analyze, identify patterns, and explore the data."
   ]
  },
  {
   "cell_type": "markdown",
   "metadata": {},
   "source": [
    "##  Numerical analysis using descriptive statistics"
   ]
  },
  {
   "cell_type": "markdown",
   "metadata": {},
   "source": [
    "Descriptive statistics show the characteristics of numerical features. It shows us the information such as:\n",
    "- The mean (and you can go further with advanced techiques as Arithmetic mean, Geometric mean, Harmonic mean)\n",
    "- The median\n",
    "- The mode\n",
    "- Quantiles (Quartiles, Percentiles, Deciles, Crocodiles?)\n",
    "- Range and IQR (Interquartile Range) (you might find that its relation to box plots)\n"
   ]
  },
  {
   "cell_type": "code",
   "execution_count": null,
   "metadata": {},
   "outputs": [],
   "source": [
    "# Tạo bản sao của clean_df\n",
    "df_copy = data.copy()\n",
    "# # Chỉ giữ lại các cột có kiểu dữ liệu là int hoặc float\n",
    "df_copy = df_copy.select_dtypes(include=['int64', 'float64'])\n",
    "# Because dtype of \"ID\" is int, but this column is meaningless, so i also drop it.\n",
    "df_copy = df_copy.drop(['ID'], axis=1)\n",
    "\n",
    "\n",
    "df_analyze = df_copy.describe()\n",
    "# Tính IQR\n",
    "Q1 = df_copy.quantile(0.25)\n",
    "Q3 = df_copy.quantile(0.75)\n",
    "IQR = Q3 - Q1\n",
    "\n",
    "# Thêm IQR vào cuối df_analyze\n",
    "df_analyze.loc['IQR'] = IQR\n",
    "\n",
    "df_analyze"
   ]
  },
  {
   "cell_type": "markdown",
   "metadata": {},
   "source": [
    "**Comment**:\n",
    "- Thống kê mô tả này cung cấp cái nhìn tổng quan về các đặc trưng của dữ liệu số:\n",
    "    - Số lượng (count): Mỗi biến số có 2289.00000 quan sát, cho thấy tập dữ liệu có đủ dữ liệu để phân tích.\n",
    "    - Trung bình (mean): Cho biết giá trị trung bình của mỗi biến số. Ví dụ, trung bình công suất (Power(kW)) là 131.53421.\n",
    "    - Độ lệch chuẩn (std): Cho biết mức độ phân tán của dữ liệu so với giá trị trung bình. Đối với 'CO2 emissions(g/km)', độ lệch chuẩn là 63.392364, có nghĩa là có sự phân tán đáng kể về lượng khí thải.\n",
    "    - Giá trị nhỏ nhất (min) và lớn nhất (max): Cho biết giá trị nhỏ nhất và lớn nhất của mỗi biến số.\n",
    "    - Tứ phân vị (25%, 50%, 75%): Cung cấp các điểm phân chia dữ liệu thành bốn phần bằng nhau. 50% còn được biết đến như là trung vị.\n",
    "    - Khoảng giá trị (Range): Được tính bằng cách lấy giá trị lớn nhất trừ đi giá trị nhỏ nhất.\n",
    "    - Khoảng tứ phân vị (IQR): Là sự khác biệt giữa tứ phân vị thứ ba (Q3) và tứ phân vị đầu tiên (Q1), giúp xác định sự phân tán của 50% dữ liệu giữa. Trong bảng, IQR cho 'Seats' là 0.00000, có thể là do dữ liệu này không phân tán hoặc có sự nhập nhằng trong dữ liệu."
   ]
  },
  {
   "cell_type": "markdown",
   "metadata": {},
   "source": [
    "## Describe the correlation between features in the dataset"
   ]
  },
  {
   "cell_type": "code",
   "execution_count": null,
   "metadata": {},
   "outputs": [],
   "source": [
    "\n",
    "corr_matrix = df_copy.corr()\n",
    "\n",
    "plt.figure(figsize = (20, 20))\n",
    "sns.heatmap(corr_matrix, annot = True, cmap = 'coolwarm', cbar = True)\n",
    "plt.show()"
   ]
  },
  {
   "cell_type": "markdown",
   "metadata": {},
   "source": [
    "**Comment:**\n",
    "\n",
    "- Các giá trị dao động từ -1 đến 1, nơi:\n",
    "    - 1 chỉ ra mối quan hệ tương quan dương hoàn hảo (khi một biến tăng lên, biến kia cũng tăng).\n",
    "    - 0 chỉ ra không có tương quan (các biến dường như không ảnh hưởng lẫn nhau).\n",
    "    - -1 chỉ ra mối quan hệ tương quan âm hoàn hảo (khi một biến tăng lên, biến kia giảm xuống).\n",
    "- Mối quan hệ tương quan dương mạnh mẽ nhất có thể kể đến là `Engine capacity(ccm)` với các biến còn lại\n",
    "- Ta cũng nhận thấy `Seats` có mối tương hệ kém nhất, hầu như là mối quan hệ tương quan âm"
   ]
  },
  {
   "cell_type": "markdown",
   "metadata": {},
   "source": [
    "### **Question 01:** How does the correlation between different vehicle specifications vary across the top 10 cars with the highest price(EUR)?"
   ]
  },
  {
   "cell_type": "code",
   "execution_count": null,
   "metadata": {},
   "outputs": [],
   "source": [
    "# Chọn ra 10 xe có giá cao nhất\n",
    "top_10_expensive_cars = data.nlargest(10, 'Price(EUR)')\n",
    "\n",
    "# Chọn tất cả các cột chứa thông số chi tiết của xe ở dạng numeric\n",
    "vehicle_specifications = top_10_expensive_cars.select_dtypes(include=np.number)\n",
    "\n",
    "# Tính ma trận tương quan\n",
    "correlation_matrix = vehicle_specifications.corr()\n",
    "\n",
    "# Vẽ heatmap cho ma trận tương quan\n",
    "plt.figure(figsize=(10, 8))\n",
    "sns.heatmap(correlation_matrix, annot=True, cmap='coolwarm', fmt=\".2f\")\n",
    "plt.title(\"Correlation Matrix for Top 10 Most Expensive Cars\")\n",
    "plt.show()"
   ]
  },
  {
   "cell_type": "markdown",
   "metadata": {},
   "source": [
    "**Comment:**\n",
    "\n",
    "- ID và các thuộc tính khác: Mối tương quan giữa ID và các thuộc tính khác không rõ ràng, có thể do ID không phản ánh bất kỳ đặc tính nào của xe mà chỉ là một nhãn định danh.\n",
    "- Số ghế (Seats): Có một mối tương quan âm mạnh (-0.74) giữa số ghế và công suất (Power), có thể suy luận rằng những xe có công suất lớn hơn thường có ít ghế hơn. Cũng có một mối tương quan âm với dung tích động cơ (-0.49), có thể những chiếc xe có ít ghế hơn thường là những mẫu xe thể thao hoặc hiệu suất cao với động cơ lớn hơn.\n",
    "- Công suất (Power): Có mối tương quan dương mạnh với lượng phát thải CO2 (0.57), điều này cho thấy xe có công suất cao thường phát thải nhiều CO2 hơn.\n",
    "- Phát thải CO2 (CO2 emissions): Có tương quan dương mạnh (1.00) với chính nó như mong đợi, và các mối tương quan khác không quá đáng kể.\n",
    "- Bảo hành pin (Battery warranty) và Dung lượng pin (Battery capacity): Không có dữ liệu để đánh giá mối tương quan.\n",
    "- Quãng đường đi được (Mileage): Có một mối tương quan dương mạnh (1.00) với chính nó và một tương quan âm nhẹ với giá xe (-0.30), có thể cho thấy rằng những xe đi được quãng đường dài hơn có xu hướng có giá thấp hơn.\n",
    "- Giá cả (Price): Ngoài mối tương quan dương với dung tích động cơ (0.81), giá cả cũng có mối tương quan âm nhẹ với số ghế (-0.30), có thể giả định xe đắt tiền có thể ít ghế hơn, như những mẫu xe thể thao cao cấp.\n",
    "- Dung tích động cơ (Engine capacity): Có mối tương quan dương với công suất (0.73) và phát thải CO2 (0.74), cho thấy những xe có động cơ lớn hơn thường mạnh mẽ và phát thải nhiều hơn.\n",
    "- Số chủ sở hữu trước đó (Previous owners): Có rất ít tương quan đáng chú ý với các thuộc tính khác.\n",
    "- Trọng lượng (Weight): Có mối tương quan dương (1.00) với chính nó, nhưng không có mối tương quan mạnh với các thuộc tính khác."
   ]
  },
  {
   "cell_type": "markdown",
   "metadata": {},
   "source": [
    "### **Question 02:** How does the mileage (km) vary concerning the number of previous owners, fuel type for cars which is used in the dataset?"
   ]
  },
  {
   "cell_type": "code",
   "execution_count": null,
   "metadata": {},
   "outputs": [],
   "source": [
    "# Tạo một bản sao của clean_df\n",
    "copy1_df = data.copy()\n",
    "\n",
    "# Thực hiện One-Hot Encoding cho cột 'Fuel'\n",
    "encoded_fuel = pd.get_dummies(copy1_df['Fuel'])\n",
    "\n",
    "# Thêm các cột mã hóa vào DataFrame copy1_df\n",
    "copy1_df = pd.concat([copy1_df, encoded_fuel], axis=1)\n",
    "\n",
    "# Xóa cột 'Fuel' gốc vì đã được mã hóa thành các cột mới\n",
    "copy1_df.drop('Fuel', axis=1, inplace=True)\n",
    "\n",
    "# Tương tự, thực hiện xử lý cho các cột 'Consumption' và 'First registration'\n",
    "\n",
    "# Chọn các cột quan tâm, bao gồm cả các cột đã mã hóa\n",
    "columns_of_interest = ['Mileage(km)', 'Previous owners'] + list(encoded_fuel.columns)\n",
    "\n",
    "# Tạo DataFrame mới từ các cột quan tâm\n",
    "data_of_interest = copy1_df[columns_of_interest]\n",
    "\n",
    "# Tính ma trận tương quan\n",
    "correlation_matrix = data_of_interest.corr()\n",
    "\n",
    "# Vẽ heatmap\n",
    "plt.figure(figsize=(10, 8))\n",
    "sns.heatmap(correlation_matrix, annot=True, cmap='coolwarm', fmt=\".2f\")\n",
    "plt.title(\"Correlation Matrix for Mileage, Previous Owners, and Fuel Types\")\n",
    "plt.show()"
   ]
  },
  {
   "cell_type": "markdown",
   "metadata": {},
   "source": [
    "**Comment:**\n",
    "\n",
    "- Mileage và Diesel: Có một tương quan tích cực mạnh (0.37) giữa quãng đường đi được và xe chạy bằng diesel, điều này có thể cho thấy rằng xe diesel thường được sử dụng cho các quãng đường dài hoặc có tuổi đời xe cao hơn.\n",
    "\n",
    "- Petrol và Diesel: Có một tương quan âm mạnh (-0.65) giữa xe chạy bằng xăng và diesel, điều này có thể phản ánh việc người tiêu dùng có xu hướng chọn một trong hai loại nhiên liệu này khi mua xe, chứ không phải cả hai.\n",
    "\n",
    "- Electric và Mileage: Có một mối quan hệ tiêu cực nhẹ (-0.23) giữa xe điện và quãng đường đi được, có thể phản ánh việc xe điện mới được sử dụng nhiều và/hoặc chủ yếu được sử dụng trong đô thị với quãng đường ngắn hơn.\n",
    "\n",
    "- Hybrid và Other Fuel Types: Mối quan hệ âm nhẹ (-0.20) giữa xe hybrid và loại nhiên liệu khác có thể cho thấy rằng xe hybrid ít có khả năng sử dụng loại nhiên liệu không phải là xăng hoặc điện.\n",
    "\n",
    "- LPG và Other Fuel Types: Cả hai loại nhiên liệu này đều có mối quan hệ rất yếu với các thuộc tính khác, điều này có thể cho thấy rằng chúng không phổ biến hoặc không đặc biệt liên quan đến quãng đường xe đã đi hoặc số lượng chủ sở hữu trước."
   ]
  },
  {
   "cell_type": "markdown",
   "metadata": {},
   "source": [
    "## Some questions to explore relationship between variables"
   ]
  },
  {
   "cell_type": "markdown",
   "metadata": {},
   "source": [
    "### **Question 1:** What is the average power of vehicles for each fuel type?"
   ]
  },
  {
   "cell_type": "code",
   "execution_count": null,
   "metadata": {},
   "outputs": [],
   "source": [
    "# Tính trung bình công suất cho từng loại nhiên liệu\n",
    "average_power_by_fuel = data.groupby('Fuel')['Power(kW)'].mean().reset_index()\n",
    "\n",
    "# Biểu đồ cột hiển thị trung bình công suất theo loại nhiên liệu\n",
    "fig = px.bar(average_power_by_fuel, x='Fuel', y='Power(kW)', title='Average Power by Fuel Type')\n",
    "fig.update_xaxes(categoryorder='total descending')  # Sắp xếp loại nhiên liệu theo thứ tự giảm dần của công suất trung bình\n",
    "fig.show()"
   ]
  },
  {
   "cell_type": "markdown",
   "metadata": {},
   "source": [
    "**Comment:**\n",
    "- Xe sử dụng điện (Electric) có công suất trung bình cao nhất so với các loại nhiên liệu khác, được thể hiện qua cột cao nhất trên biểu đồ. Điều này phản ánh khả năng xe điện có thể cung cấp công suất lớn ngay từ lúc khởi động.\n",
    "\n",
    "- Xe sử dụng hybrid có công suất trung bình xếp thứ hai, thấp hơn so với xe điện nhưng vẫn cao hơn so với các loại nhiên liệu truyền thống khác.\n",
    "\n",
    "- Xe sử dụng Diesel và Petrol (xăng) có công suất tương tự nhau và nằm ở mức trung bình trong số các loại nhiên liệu được so sánh. Điều này phản ánh việc cả hai loại nhiên liệu này đều được sử dụng rộng rãi trong các loại xe hơi hiện đại.\n",
    "\n",
    "- Loại \"Other fuel type\" có công suất thấp hơn so với Diesel và Petrol, có thể bao gồm các loại nhiên liệu thay thế khác không được liệt kê riêng.\n",
    "\n",
    "- CNG và LPG có công suất trung bình thấp nhất, được thể hiện qua các cột thấp nhất trong biểu đồ, điều này có thể phản ánh sự ít phổ biến của chúng trong các dòng xe có công suất cao hoặc có thể đây là các loại xe tiết kiệm nhiên liệu với mục đích sử dụng khác.\n"
   ]
  },
  {
   "cell_type": "markdown",
   "metadata": {},
   "source": [
    "### **Question 2:** How does the engine capacity and power relate to CO2 emissions?"
   ]
  },
  {
   "cell_type": "code",
   "execution_count": null,
   "metadata": {},
   "outputs": [],
   "source": [
    "# Biểu đồ scatter plot để quan sát mối quan hệ giữa công suất, dung tích động cơ và CO2 emission\n",
    "fig = px.scatter(data, x='Engine capacity(ccm)', y='Power(kW)', color='CO2 emissions(g/km)',\n",
    "                 title='Relationship between Engine Capacity, Power, and CO2 Emissions')\n",
    "fig.show()"
   ]
  },
  {
   "cell_type": "markdown",
   "metadata": {},
   "source": [
    "**Comment:**\n",
    "- Dung tích động cơ và công suất: Có vẻ như có một xu hướng tăng công suất khi dung tích động cơ tăng lên, điều này được thể hiện qua việc các điểm có xu hướng di chuyển lên cao hơn trên trục công suất khi dung tích động cơ lớn hơn.\n",
    "\n",
    "- Phát thải CO2 và dung tích động cơ: Trong khi không có một xu hướng rõ ràng cho tất cả các điểm, có thể thấy rằng một số xe có dung tích động cơ lớn hơn (từ khoảng 3000 ccm trở lên) có màu sắc chuyển dần sang vàng, cho thấy lượng phát thải CO2 có thể cao hơn.\n",
    "\n",
    "- Phân bố công suất: Phân bố công suất có vẻ khá rộng lớn, với phần lớn các xe tập trung trong khoảng từ 0 đến khoảng 200 kW. Tuy nhiên, có một số điểm ở mức công suất rất cao, lên tới 800 kW, mà không nhất thiết có dung tích động cơ cực lớn.\n",
    "\n",
    "- Ngoại lệ: Có một số điểm nằm rất xa so với phần lớn các điểm khác, điều này có thể chỉ ra những xe có đặc tính kỹ thuật rất khác biệt, chẳng hạn như xe thể thao có công suất cao hoặc các xe chuyên dụng."
   ]
  },
  {
   "cell_type": "markdown",
   "metadata": {},
   "source": [
    "# Using data to anwer meaningful Question"
   ]
  },
  {
   "cell_type": "markdown",
   "metadata": {},
   "source": [
    "## Question 1: With each price segment, how different are the Power of Electric, Hybrid and traditional fuel cars? \n",
    "\n",
    "- Benefits of the question:\n",
    "    - Helps users easily compare the engine **power** of three **types of vehicles** in the same **price range**.\n",
    "    - Helps users find a vehicle with the desired power, suitable for their needs.\n",
    "- How to answer the question by using data?\n",
    "    - Use a line chart, with the x-axis as price bins and the y-axis as engine power to easily see the difference."
   ]
  },
  {
   "cell_type": "markdown",
   "metadata": {},
   "source": [
    "### Step1: Preprocess data to answer the question \n",
    "\n",
    "- Due to unique value of the `Fuel` column are: 'Electric', 'Petrol', 'Hybrid', 'Diesel', 'LPG', 'CNG' and 'Other fuel type'. We only care about \n",
    "the Fuel type Electric, Hybrid and Fossil Fuel, so\n",
    "    - I will drop any car that has 'Other fuel type'.\n",
    "    - Turn 'Petrol','Diesel', 'LPG', 'CNG' to \"Fossil\".\n",
    "- Because the data has outliers (for luxury/hyper sport cars), and the number of these cars is very small, I will handle outliers by removing values outside the 95% confidence interval to avoid losing important information."
   ]
  },
  {
   "cell_type": "code",
   "execution_count": null,
   "metadata": {},
   "outputs": [],
   "source": [
    "Fuel_Info = data[[\"Price(EUR)\",\"Power(kW)\",\"Fuel\"]].copy()\n",
    "\n",
    "\n",
    "# Turn 'Petrol','Diesel', 'LPG', 'CNG' to \"Fossil\"\n",
    "Fuel_Info['Fuel'].replace(['Petrol', 'Diesel', 'LPG', 'CNG'], 'Fossil', inplace=True)\n",
    "\n",
    "# drop any car that has 'Other fuel type'.\n",
    "Fuel_Info = Fuel_Info[Fuel_Info['Fuel'] != 'Other fuel type']\n",
    "\n",
    "\n",
    "\n",
    "# Calculate upper_bound_price, base on 95% confidence interval\n",
    "lower_bound_price = Fuel_Info['Price(EUR)'].quantile(0.025)\n",
    "upper_bound_price = Fuel_Info['Price(EUR)'].quantile(0.975)\n",
    "upper_bound_price = np.floor(upper_bound_price / 10000) * 10000\n",
    "\n",
    "print (Fuel_Info.Fuel.value_counts()) \n",
    "print(upper_bound_price)"
   ]
  },
  {
   "cell_type": "markdown",
   "metadata": {},
   "source": [
    "### Step 2: Visualize with line chart \n",
    "\n",
    "- Because the supercars will be excluded from the 95% confidence interval, I will divide the bins into two ranges: \n",
    "    - bin1: for values within the confidence interval - representing the majority of cars\n",
    "    - bin2: for outlier values - representing the expensive cars."
   ]
  },
  {
   "cell_type": "code",
   "execution_count": null,
   "metadata": {},
   "outputs": [],
   "source": [
    "import plotly.graph_objects as go\n",
    "\n",
    "\n",
    "# Define bins for the two ranges\n",
    "bins1 = np.arange(10000, upper_bound_price, 10000)\n",
    "bins2 = np.array([upper_bound_price, np.floor(Fuel_Info[\"Price(EUR)\"].max() / 10000) * 10000  ])\n",
    "\n",
    "# Combine the two bin arrays\n",
    "bins = np.concatenate((bins1, bins2))\n",
    "\n",
    "# Create a new column for price bins\n",
    "Fuel_Info['Price_bin'] = pd.cut(Fuel_Info['Price(EUR)'], bins=bins)\n",
    "\n",
    "# Calculate the average power for each fuel type and price bin\n",
    "average_power = Fuel_Info.groupby(['Fuel', 'Price_bin'])['Power(kW)'].mean().unstack()\n",
    "\n",
    "# Create the line chart for each fuel type\n",
    "fig = go.Figure()\n",
    "for i, fuel_type in enumerate(average_power.index):\n",
    "    fig.add_trace(go.Scatter(x=[f'{int(left)}-{int(right)}' for left, right in zip(bins[:-1], bins[1:])], \n",
    "                             y=average_power.loc[fuel_type], \n",
    "                             mode='lines', \n",
    "                             name=fuel_type))\n",
    "\n",
    "fig.update_layout(title='AVG Power for each type of Vehicle in each Price range',\n",
    "                  xaxis_title='Price (EUR)',\n",
    "                  yaxis_title='Power (kW)',\n",
    "                  height = 800,\n",
    "                  )\n",
    "\n",
    "fig.show()"
   ]
  },
  {
   "cell_type": "markdown",
   "metadata": {},
   "source": [
    "**Comment**\n",
    "- We can see that, in most price ranges (20000 to 80000), Hybrid cars have significantly more engine power than Electric and Fossil fuel cars. \n",
    "- In the higher segment (> 80000), Electric cars will have a significant power difference compared to the other two types of cars.\n"
   ]
  },
  {
   "cell_type": "markdown",
   "metadata": {},
   "source": [
    "## Question 2: The 6 most common special functions and their impact on average price \n",
    "\n",
    "- Benefits of the question:\n",
    "    - Helps to identify the necessary modern functions of a car.\n",
    "    - Find out the impact of these functions on the car price, help buyers to consider whether to buy a car with that feature or not.\n",
    "- How to answer the question by using data?\n",
    "    - From the `Tags` column which is a multiple value column, separate the functions and perform one-hot encoding.\n",
    "    - Calculate the average price for cars equipped with that function."
   ]
  },
  {
   "cell_type": "markdown",
   "metadata": {},
   "source": [
    "### Step 1: One-hot encoding for the top 6 most frequent special functions "
   ]
  },
  {
   "cell_type": "code",
   "execution_count": null,
   "metadata": {},
   "outputs": [],
   "source": [
    "\n",
    "one_hot_df =  data[[\"Price(EUR)\",\"Tags\"]].copy()\n",
    "\n",
    "# Get each tag in each multiple value row\n",
    "tags = one_hot_df['Tags'].str.split('; ', expand=True)\n",
    "\n",
    "# Stack to make the DataFrame long, then get_dummies and group by index before summing\n",
    "get_dummy = pd.get_dummies(tags.stack()).groupby(level=0).sum()\n",
    "# Find the top 5 most frequent tags\n",
    "top_6_tags = get_dummy.sum().nlargest(6).index\n",
    "# Select only the top 5 most frequent tags\n",
    "get_dummy = get_dummy[top_6_tags]\n",
    "# Join the one-hot encoded DataFrame back to the original DataFrame\n",
    "one_hot_df = one_hot_df.join(get_dummy)\n",
    "\n",
    "# Drop the `Tags` because we dont need it anymore\n",
    "one_hot_df = one_hot_df.drop(\"Tags\",axis=1)\n",
    "\n",
    "\n",
    "print(one_hot_df.columns)\n",
    "for tag in top_6_tags:\n",
    "    print(f\"{tag}: {get_dummy[tag].sum()}\")"
   ]
  },
  {
   "cell_type": "markdown",
   "metadata": {},
   "source": [
    "### Step 2: Draw a bar chart \n"
   ]
  },
  {
   "cell_type": "code",
   "execution_count": null,
   "metadata": {},
   "outputs": [],
   "source": [
    "import matplotlib.pyplot as plt\n",
    "\n",
    "# Calculate the average price for each feature\n",
    "average_prices = {tag: one_hot_df.loc[one_hot_df[tag] == 1, 'Price(EUR)'].mean() for tag in top_6_tags}\n",
    "\n",
    "# Create a bar chart\n",
    "plt.figure(figsize=(10, 6))\n",
    "plt.bar(average_prices.keys(), average_prices.values(), align='center', alpha=0.5)\n",
    "plt.xticks(rotation=20)\n",
    "plt.ylabel('avg Price (EUR)')\n",
    "plt.title('Aerage Price for each Function')\n",
    "\n",
    "plt.show()"
   ]
  },
  {
   "cell_type": "markdown",
   "metadata": {},
   "source": [
    "- We can see that cars equipped with “Heated front seat” and “Led headlights” have a relatively high average price (>= 40000). \n",
    "- The average price of cars equipped with “Bluetooth” and “Navigation system” is quite low compared to other equipment, possibly because these features have been around for a long time.\n",
    "- Finally, cars equipped with “Apple CarPlay” and “Android auto” usually cost from 35000 to under 40000. Due to the popularity of phones, cars with these features are not too expensive to suit many customers."
   ]
  },
  {
   "cell_type": "markdown",
   "metadata": {},
   "source": [
    "## Question 5: How do CO2 emissions (g/km) and fuel consumption vary among different vehicle body types and fuel types?\n",
    "- Benefits of question:\n",
    "    - Helps users see the difference between choosing environmentally friendly vehicles and types of vehicles that are more likely to cause environmental pollution\n",
    "    - Helps users choose environmentally friendly vehicles, contributing to environmental protection.\n",
    "- How to answer the question by using data?\n",
    "    - Use bar charts to illustrate the variations across different vehicle body and fuel types."
   ]
  },
  {
   "cell_type": "markdown",
   "metadata": {},
   "source": [
    "### Step1: Preprocess data to answer the question\n",
    "- Group vehicles by body types and fuel types\n",
    "- Calculate the average CO2 emissions and fuel consumption for each group"
   ]
  },
  {
   "cell_type": "code",
   "execution_count": null,
   "metadata": {},
   "outputs": [],
   "source": [
    "copydata = data\n",
    "\n",
    "# Grouping by Body and Fuel types and calculating mean emissions and consumption\n",
    "grouped_data = copydata.groupby(['Body', 'Fuel']).agg({'CO2 emissions(g/km)': 'mean', 'Consumption(l/100km or kWh/100km)': 'mean'})\n",
    "print(grouped_data)"
   ]
  },
  {
   "cell_type": "markdown",
   "metadata": {},
   "source": [
    "### Step 2: Draw a bar chart "
   ]
  },
  {
   "cell_type": "code",
   "execution_count": null,
   "metadata": {},
   "outputs": [],
   "source": [
    "# Reset index to make 'Body' and 'Fuel' columns accessible for plotting\n",
    "grouped_data = grouped_data.reset_index()\n",
    "\n",
    "# Plotting CO2 emissions by body and fuel type\n",
    "plt.figure(figsize=(12, 6))\n",
    "sns.barplot(x='Body', y='CO2 emissions(g/km)', hue='Fuel', data=grouped_data)\n",
    "plt.title('CO2 Emissions by Vehicle Body and Fuel Type')\n",
    "plt.xlabel('Vehicle Body Type')\n",
    "plt.ylabel('CO2 Emissions (g/km)')\n",
    "plt.xticks(rotation=45)\n",
    "plt.legend(title='Fuel Type')\n",
    "plt.tight_layout()\n",
    "plt.show()\n",
    "\n",
    "# Plotting fuel consumption by body and fuel type\n",
    "plt.figure(figsize=(12, 6))\n",
    "sns.barplot(x='Body', y='Consumption(l/100km or kWh/100km)', hue='Fuel', data=grouped_data)\n",
    "plt.title('Fuel Consumption by Vehicle Body and Fuel Type')\n",
    "plt.xlabel('Vehicle Body Type')\n",
    "plt.ylabel('Fuel Consumption')\n",
    "plt.xticks(rotation=45)\n",
    "plt.legend(title='Fuel Type')\n",
    "plt.tight_layout()\n",
    "plt.show()\n"
   ]
  },
  {
   "cell_type": "markdown",
   "metadata": {},
   "source": [
    "**Comment:**\n",
    "- SUV Offroad và Pickup có lượng khí thải CO2 và mức tiêu thụ nhiên liệu cao so với các loại xe khác.\n",
    "- Các xe chạy bằng điện có lượng khí thải CO2 rất thấp và mức tiêu thụ nhiên liệu thấp, điều này phản ánh hiệu quả năng lượng và tác động môi trường thấp hơn của chúng so với các xe sử dụng nhiên liệu hóa thạch.\n",
    "- Hybrid và Electric vehicles (xe hybrid và xe electric) nổi bật với mức khí thải thấp và hiệu quả năng lượng cao trên cả hai biểu đồ."
   ]
  },
  {
   "cell_type": "markdown",
   "metadata": {},
   "source": [
    "## Question 6: How do the average price, consumption, and mileage vary across different power groups for petrol and diesel cars?\n",
    "- Benefits of question:\n",
    "    - Helps car buyers gain an overall perspective on the performance of different petrol and diesel cars across various power categories.\n",
    "    - Helps users find a powerful yet cost-effective vehicle\n",
    "- How to answer the question by using data?\n",
    "    - Use lines chart include 6 lines to visualize each variable for comparing both petrol and diesel."
   ]
  },
  {
   "cell_type": "markdown",
   "metadata": {},
   "source": [
    "### Step 1: Preprocess data to answer the question\n",
    "- Filter the cars using petrol or diesel\n",
    "- Grouping by power (Power) and calculating average values for each fuel type"
   ]
  },
  {
   "cell_type": "code",
   "execution_count": null,
   "metadata": {},
   "outputs": [],
   "source": [
    "copy_data = data\n",
    "\n",
    "# Create a new column 'Fuel_Type' to specify the fuel as Petrol/Diesel\n",
    "copy_data['Fuel_Type'] = np.where(copy_data['Fuel'].isin(['Petrol', 'Diesel']), copy_data['Fuel'], 'Other')\n",
    "\n",
    "# Grouping by power (Power) and calculating average values for each fuel type\n",
    "max_power = copy_data['Power(kW)'].max()\n",
    "power_bins = np.arange(0, max_power + 50, 50)\n",
    "copy_data['Power_Group'] = pd.cut(copy_data['Power(kW)'], bins=power_bins)\n",
    "\n",
    "# Calculating the average values for each fuel type and power groupT\n",
    "grouped_power_stats = copy_data.groupby(['Fuel_Type', 'Power_Group']).agg({\n",
    "    'Price(EUR)': 'mean',\n",
    "    'Consumption(l/100km or kWh/100km)': 'mean',\n",
    "    'Mileage(km)': 'mean'\n",
    "}).reset_index()"
   ]
  },
  {
   "cell_type": "markdown",
   "metadata": {},
   "source": [
    "### Step 2: Draw a line chart\n",
    "- 6 lines with different colors representing Petrol and Diesel for Price(EUR), Consumption(l/100km or kWh/100km), Mileage(km)"
   ]
  },
  {
   "cell_type": "code",
   "execution_count": null,
   "metadata": {},
   "outputs": [],
   "source": [
    "# Vẽ biểu đồ đường\n",
    "plt.figure(figsize=(10, 6))\n",
    "\n",
    "for fuel_type in ['Petrol', 'Diesel']:\n",
    "    fuel_data = grouped_power_stats[grouped_power_stats['Fuel_Type'] == fuel_type]\n",
    "    for metric in ['Price(EUR)', 'Consumption(l/100km or kWh/100km)', 'Mileage(km)']:\n",
    "        plt.plot(fuel_data['Power_Group'].astype(str), fuel_data[metric], marker='o', label=f'{fuel_type} - {metric}')\n",
    "\n",
    "plt.title('Average Metrics by Power Group (Petrol vs Diesel)')\n",
    "plt.xlabel('Power Group')\n",
    "plt.ylabel('Average Value')\n",
    "plt.xticks(rotation=45)\n",
    "plt.legend()\n",
    "plt.tight_layout()\n",
    "plt.show()\n"
   ]
  },
  {
   "cell_type": "markdown",
   "metadata": {},
   "source": [
    "**Comment:**\n",
    "- Xe chạy bằng xăng có giá trị trung bình giá cao nhất trong nhóm công suất cao nhất (550 - 600], và giá trị này tăng đáng kể so với các nhóm công suất khác.\n",
    "- Tiêu thụ nhiên liệu của xe chạy bằng xăng cũng tăng lên đáng kể trong nhóm công suất cao nhất, cho thấy rằng xe càng mạnh thì càng tiêu thụ nhiều nhiên liệu hơn.\n",
    "- Mileage(km) của cả xe xăng lẫn diesel có vẻ như ổn định xuyên suốt các nhóm công suất, không có sự tăng giảm đáng kể nào.\n",
    "- Giá trị tiêu thụ nhiên liệu của xe diesel không thay đổi nhiều giữa các nhóm công suất và luôn thấp hơn so với xe chạy bằng xăng.\n",
    "- Giá trị giá cả của xe diesel có sự tăng nhẹ nhưng không đột ngột như xe chạy bằng xăng trong nhóm công suất cao nhất."
   ]
  }
 ],
 "metadata": {
  "kernelspec": {
   "display_name": "base",
   "language": "python",
   "name": "python3"
  },
  "language_info": {
   "codemirror_mode": {
    "name": "ipython",
    "version": 3
   },
   "file_extension": ".py",
   "mimetype": "text/x-python",
   "name": "python",
   "nbconvert_exporter": "python",
   "pygments_lexer": "ipython3",
   "version": "3.12.1"
  }
 },
 "nbformat": 4,
 "nbformat_minor": 2
}
