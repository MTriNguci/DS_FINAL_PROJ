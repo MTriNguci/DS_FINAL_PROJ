{
 "cells": [
  {
   "cell_type": "markdown",
   "metadata": {},
   "source": [
    "# Explore the data & using data to answer meaningful Question"
   ]
  },
  {
   "cell_type": "code",
   "execution_count": null,
   "metadata": {},
   "outputs": [],
   "source": [
    "# import library\n",
    "import pandas as pd\n",
    "from datetime import datetime\n",
    "import numpy as np\n",
    "import plotly.express as px\n",
    "import plotly.graph_objects as go\n",
    "from plotly.subplots import make_subplots\n",
    "import matplotlib.pyplot as plt\n",
    "import seaborn as sns"
   ]
  },
  {
   "cell_type": "markdown",
   "metadata": {},
   "source": [
    "### First, let's read our data and take a quick view"
   ]
  },
  {
   "cell_type": "code",
   "execution_count": null,
   "metadata": {},
   "outputs": [],
   "source": [
    "data = pd.read_csv('data/cleaned_data.csv')\n",
    "data.head(5)"
   ]
  },
  {
   "cell_type": "markdown",
   "metadata": {},
   "source": [
    "- Check Dtype of columns"
   ]
  },
  {
   "cell_type": "code",
   "execution_count": null,
   "metadata": {},
   "outputs": [],
   "source": [
    "data.info()"
   ]
  },
  {
   "cell_type": "markdown",
   "metadata": {},
   "source": [
    "# Exploratory data analysis: Analyze, identify patterns, and explore the data."
   ]
  },
  {
   "cell_type": "markdown",
   "metadata": {},
   "source": [
    "##  Numerical analysis using descriptive statistics"
   ]
  },
  {
   "cell_type": "markdown",
   "metadata": {},
   "source": [
    "Descriptive statistics show the characteristics of numerical features. It shows us the information such as:\n",
    "- The mean (and you can go further with advanced techiques as Arithmetic mean, Geometric mean, Harmonic mean)\n",
    "- The median\n",
    "- The mode\n",
    "- Quantiles (Quartiles, Percentiles, Deciles, Crocodiles?)\n",
    "- Range and IQR (Interquartile Range) (you might find that its relation to box plots)\n"
   ]
  },
  {
   "cell_type": "code",
   "execution_count": null,
   "metadata": {},
   "outputs": [],
   "source": [
    "# Tạo bản sao của clean_df\n",
    "df_copy = data.copy()\n",
    "# # Chỉ giữ lại các cột có kiểu dữ liệu là int hoặc float\n",
    "df_copy = df_copy.select_dtypes(include=['int64', 'float64'])\n",
    "# Because dtype of \"ID\" is int, but this column is meaningless, so i also drop it.\n",
    "df_copy = df_copy.drop(['ID'], axis=1)\n",
    "\n",
    "\n",
    "df_analyze = df_copy.describe()\n",
    "# Tính IQR\n",
    "Q1 = df_copy.quantile(0.25)\n",
    "Q3 = df_copy.quantile(0.75)\n",
    "IQR = Q3 - Q1\n",
    "\n",
    "# Thêm IQR vào cuối df_analyze\n",
    "df_analyze.loc['IQR'] = IQR\n",
    "\n",
    "df_analyze"
   ]
  },
  {
   "cell_type": "markdown",
   "metadata": {},
   "source": [
    "**Comment**:\n",
    "\n",
    "- Cung cấp một ước lượng chính xác hơn về phân phối dữ liệu.\n",
    "- Tập trung vào việc phân tích các biến số quan trọng để đánh giá mô hình và hiểu sâu hơn về dữ liệu.\n",
    "- Đây là bước quan trọng để có cái nhìn toàn diện hơn về các thông số thống kê và phân tích dữ liệu."
   ]
  },
  {
   "cell_type": "markdown",
   "metadata": {},
   "source": [
    "## Describe the correlation between features in the dataset"
   ]
  },
  {
   "cell_type": "code",
   "execution_count": null,
   "metadata": {},
   "outputs": [],
   "source": [
    "\n",
    "corr_matrix = df_copy.corr()\n",
    "\n",
    "plt.figure(figsize = (20, 20))\n",
    "sns.heatmap(corr_matrix, annot = True, cmap = 'coolwarm', cbar = True)\n",
    "plt.show()"
   ]
  },
  {
   "cell_type": "markdown",
   "metadata": {},
   "source": [
    "### **Question 01:** How does the correlation between different vehicle specifications vary across the top 10 cars with the highest price(EUR)?"
   ]
  },
  {
   "cell_type": "code",
   "execution_count": null,
   "metadata": {},
   "outputs": [],
   "source": [
    "# Chọn ra 10 xe có giá cao nhất\n",
    "top_10_expensive_cars = data.nlargest(10, 'Price(EUR)')\n",
    "\n",
    "# Chọn tất cả các cột chứa thông số chi tiết của xe ở dạng numeric\n",
    "vehicle_specifications = top_10_expensive_cars.select_dtypes(include=np.number)\n",
    "\n",
    "# Tính ma trận tương quan\n",
    "correlation_matrix = vehicle_specifications.corr()\n",
    "\n",
    "# Vẽ heatmap cho ma trận tương quan\n",
    "plt.figure(figsize=(10, 8))\n",
    "sns.heatmap(correlation_matrix, annot=True, cmap='coolwarm', fmt=\".2f\")\n",
    "plt.title(\"Correlation Matrix for Top 10 Most Expensive Cars\")\n",
    "plt.show()"
   ]
  },
  {
   "cell_type": "markdown",
   "metadata": {},
   "source": [
    "**Comment:**\n",
    "\n",
    "- ID và các thuộc tính khác: Mối tương quan giữa ID và các thuộc tính khác không rõ ràng, có thể do ID không phản ánh bất kỳ đặc tính nào của xe mà chỉ là một nhãn định danh.\n",
    "- Số ghế (Seats): Có một mối tương quan âm mạnh (-0.74) giữa số ghế và công suất (Power), có thể suy luận rằng những xe có công suất lớn hơn thường có ít ghế hơn. Cũng có một mối tương quan âm với dung tích động cơ (-0.49), có thể những chiếc xe có ít ghế hơn thường là những mẫu xe thể thao hoặc hiệu suất cao với động cơ lớn hơn.\n",
    "- Công suất (Power): Có mối tương quan dương mạnh với lượng phát thải CO2 (0.57), điều này cho thấy xe có công suất cao thường phát thải nhiều CO2 hơn.\n",
    "- Phát thải CO2 (CO2 emissions): Có tương quan dương mạnh (1.00) với chính nó như mong đợi, và các mối tương quan khác không quá đáng kể.\n",
    "- Bảo hành pin (Battery warranty) và Dung lượng pin (Battery capacity): Không có dữ liệu để đánh giá mối tương quan.\n",
    "- Quãng đường đi được (Mileage): Có một mối tương quan dương mạnh (1.00) với chính nó và một tương quan âm nhẹ với giá xe (-0.30), có thể cho thấy rằng những xe đi được quãng đường dài hơn có xu hướng có giá thấp hơn.\n",
    "- Giá cả (Price): Ngoài mối tương quan dương với dung tích động cơ (0.81), giá cả cũng có mối tương quan âm nhẹ với số ghế (-0.30), có thể giả định xe đắt tiền có thể ít ghế hơn, như những mẫu xe thể thao cao cấp.\n",
    "- Dung tích động cơ (Engine capacity): Có mối tương quan dương với công suất (0.73) và phát thải CO2 (0.74), cho thấy những xe có động cơ lớn hơn thường mạnh mẽ và phát thải nhiều hơn.\n",
    "- Số chủ sở hữu trước đó (Previous owners): Có rất ít tương quan đáng chú ý với các thuộc tính khác.\n",
    "- Trọng lượng (Weight): Có mối tương quan dương (1.00) với chính nó, nhưng không có mối tương quan mạnh với các thuộc tính khác."
   ]
  },
  {
   "cell_type": "markdown",
   "metadata": {},
   "source": [
    "### **Question 02:** How does the mileage (km) vary concerning the number of previous owners, fuel type for cars which is used in the dataset?"
   ]
  },
  {
   "cell_type": "code",
   "execution_count": null,
   "metadata": {},
   "outputs": [],
   "source": [
    "# Tạo một bản sao của clean_df\n",
    "copy1_df = data.copy()\n",
    "\n",
    "# Thực hiện One-Hot Encoding cho cột 'Fuel'\n",
    "encoded_fuel = pd.get_dummies(copy1_df['Fuel'])\n",
    "\n",
    "# Thêm các cột mã hóa vào DataFrame copy1_df\n",
    "copy1_df = pd.concat([copy1_df, encoded_fuel], axis=1)\n",
    "\n",
    "# Xóa cột 'Fuel' gốc vì đã được mã hóa thành các cột mới\n",
    "copy1_df.drop('Fuel', axis=1, inplace=True)\n",
    "\n",
    "# Tương tự, thực hiện xử lý cho các cột 'Consumption' và 'First registration'\n",
    "\n",
    "# Chọn các cột quan tâm, bao gồm cả các cột đã mã hóa\n",
    "columns_of_interest = ['Mileage(km)', 'Previous owners'] + list(encoded_fuel.columns)\n",
    "\n",
    "# Tạo DataFrame mới từ các cột quan tâm\n",
    "data_of_interest = copy1_df[columns_of_interest]\n",
    "\n",
    "# Tính ma trận tương quan\n",
    "correlation_matrix = data_of_interest.corr()\n",
    "\n",
    "# Vẽ heatmap\n",
    "plt.figure(figsize=(10, 8))\n",
    "sns.heatmap(correlation_matrix, annot=True, cmap='coolwarm', fmt=\".2f\")\n",
    "plt.title(\"Correlation Matrix for Mileage, Previous Owners, and Fuel Types\")\n",
    "plt.show()"
   ]
  },
  {
   "cell_type": "markdown",
   "metadata": {},
   "source": [
    "**Comment:**\n",
    "\n",
    "- Mileage và Diesel: Có một tương quan tích cực mạnh (0.37) giữa quãng đường đi được và xe chạy bằng diesel, điều này có thể cho thấy rằng xe diesel thường được sử dụng cho các quãng đường dài hoặc có tuổi đời xe cao hơn.\n",
    "\n",
    "- Petrol và Diesel: Có một tương quan âm mạnh (-0.65) giữa xe chạy bằng xăng và diesel, điều này có thể phản ánh việc người tiêu dùng có xu hướng chọn một trong hai loại nhiên liệu này khi mua xe, chứ không phải cả hai.\n",
    "\n",
    "- Electric và Mileage: Có một mối quan hệ tiêu cực nhẹ (-0.23) giữa xe điện và quãng đường đi được, có thể phản ánh việc xe điện mới được sử dụng nhiều và/hoặc chủ yếu được sử dụng trong đô thị với quãng đường ngắn hơn.\n",
    "\n",
    "- Hybrid và Other Fuel Types: Mối quan hệ âm nhẹ (-0.20) giữa xe hybrid và loại nhiên liệu khác có thể cho thấy rằng xe hybrid ít có khả năng sử dụng loại nhiên liệu không phải là xăng hoặc điện.\n",
    "\n",
    "- LPG và Other Fuel Types: Cả hai loại nhiên liệu này đều có mối quan hệ rất yếu với các thuộc tính khác, điều này có thể cho thấy rằng chúng không phổ biến hoặc không đặc biệt liên quan đến quãng đường xe đã đi hoặc số lượng chủ sở hữu trước."
   ]
  },
  {
   "cell_type": "markdown",
   "metadata": {},
   "source": [
    "## Some questions to explore relationship between variables"
   ]
  },
  {
   "cell_type": "markdown",
   "metadata": {},
   "source": [
    "### **Question 1:** What is the average power of vehicles for each fuel type?"
   ]
  },
  {
   "cell_type": "code",
   "execution_count": null,
   "metadata": {},
   "outputs": [],
   "source": [
    "# Tính trung bình công suất cho từng loại nhiên liệu\n",
    "average_power_by_fuel = data.groupby('Fuel')['Power(kW)'].mean().reset_index()\n",
    "\n",
    "# Biểu đồ cột hiển thị trung bình công suất theo loại nhiên liệu\n",
    "fig = px.bar(average_power_by_fuel, x='Fuel', y='Power(kW)', title='Average Power by Fuel Type')\n",
    "fig.update_xaxes(categoryorder='total descending')  # Sắp xếp loại nhiên liệu theo thứ tự giảm dần của công suất trung bình\n",
    "fig.show()"
   ]
  },
  {
   "cell_type": "markdown",
   "metadata": {},
   "source": [
    "**Comment:**\n",
    "- Xe sử dụng điện (Electric) có công suất trung bình cao nhất so với các loại nhiên liệu khác, được thể hiện qua cột cao nhất trên biểu đồ. Điều này phản ánh khả năng xe điện có thể cung cấp công suất lớn ngay từ lúc khởi động.\n",
    "\n",
    "- Xe sử dụng hybrid có công suất trung bình xếp thứ hai, thấp hơn so với xe điện nhưng vẫn cao hơn so với các loại nhiên liệu truyền thống khác.\n",
    "\n",
    "- Xe sử dụng Diesel và Petrol (xăng) có công suất tương tự nhau và nằm ở mức trung bình trong số các loại nhiên liệu được so sánh. Điều này phản ánh việc cả hai loại nhiên liệu này đều được sử dụng rộng rãi trong các loại xe hơi hiện đại.\n",
    "\n",
    "- Loại \"Other fuel type\" có công suất thấp hơn so với Diesel và Petrol, có thể bao gồm các loại nhiên liệu thay thế khác không được liệt kê riêng.\n",
    "\n",
    "- CNG và LPG có công suất trung bình thấp nhất, được thể hiện qua các cột thấp nhất trong biểu đồ, điều này có thể phản ánh sự ít phổ biến của chúng trong các dòng xe có công suất cao hoặc có thể đây là các loại xe tiết kiệm nhiên liệu với mục đích sử dụng khác.\n"
   ]
  },
  {
   "cell_type": "markdown",
   "metadata": {},
   "source": [
    "### **Question 2:** How does the engine capacity and power relate to CO2 emissions?"
   ]
  },
  {
   "cell_type": "code",
   "execution_count": null,
   "metadata": {},
   "outputs": [],
   "source": [
    "# Biểu đồ scatter plot để quan sát mối quan hệ giữa công suất, dung tích động cơ và CO2 emission\n",
    "fig = px.scatter(data, x='Engine capacity(ccm)', y='Power(kW)', color='CO2 emissions(g/km)',\n",
    "                 title='Relationship between Engine Capacity, Power, and CO2 Emissions')\n",
    "fig.show()"
   ]
  },
  {
   "cell_type": "markdown",
   "metadata": {},
   "source": [
    "**Comment:**\n",
    "- Dung tích động cơ và công suất: Có vẻ như có một xu hướng tăng công suất khi dung tích động cơ tăng lên, điều này được thể hiện qua việc các điểm có xu hướng di chuyển lên cao hơn trên trục công suất khi dung tích động cơ lớn hơn.\n",
    "\n",
    "- Phát thải CO2 và dung tích động cơ: Trong khi không có một xu hướng rõ ràng cho tất cả các điểm, có thể thấy rằng một số xe có dung tích động cơ lớn hơn (từ khoảng 3000 ccm trở lên) có màu sắc chuyển dần sang vàng, cho thấy lượng phát thải CO2 có thể cao hơn.\n",
    "\n",
    "- Phân bố công suất: Phân bố công suất có vẻ khá rộng lớn, với phần lớn các xe tập trung trong khoảng từ 0 đến khoảng 200 kW. Tuy nhiên, có một số điểm ở mức công suất rất cao, lên tới 800 kW, mà không nhất thiết có dung tích động cơ cực lớn.\n",
    "\n",
    "- Ngoại lệ: Có một số điểm nằm rất xa so với phần lớn các điểm khác, điều này có thể chỉ ra những xe có đặc tính kỹ thuật rất khác biệt, chẳng hạn như xe thể thao có công suất cao hoặc các xe chuyên dụng."
   ]
  },
  {
   "cell_type": "markdown",
   "metadata": {},
   "source": [
    "# Using data to anwer meaningful Question"
   ]
  },
  {
   "cell_type": "markdown",
   "metadata": {},
   "source": [
    "## Question 1: With each price segment, how different are the Power of Electric, Hybrid and traditional fuel cars? \n",
    "\n",
    "- Benefits of the question:\n",
    "    - Helps users easily compare the engine **power** of three **types of vehicles** in the same **price range**.\n",
    "    - Helps users find a vehicle with the desired power, suitable for their needs.\n",
    "- How to answer the question by using data?\n",
    "    - Use a line chart, with the x-axis as price bins and the y-axis as engine power to easily see the difference."
   ]
  },
  {
   "cell_type": "markdown",
   "metadata": {},
   "source": [
    "### Step1: Preprocess data to answer the question \n",
    "\n",
    "- Due to unique value of the `Fuel` column are: 'Electric', 'Petrol', 'Hybrid', 'Diesel', 'LPG', 'CNG' and 'Other fuel type'. We only care about \n",
    "the Fuel type Electric, Hybrid and Fossil Fuel, so\n",
    "    - I will drop any car that has 'Other fuel type'.\n",
    "    - Turn 'Petrol','Diesel', 'LPG', 'CNG' to \"Fossil\".\n",
    "- Because the data has outliers (for luxury/hyper sport cars), and the number of these cars is very small, I will handle outliers by removing values outside the 95% confidence interval to avoid losing important information."
   ]
  },
  {
   "cell_type": "code",
   "execution_count": null,
   "metadata": {},
   "outputs": [],
   "source": [
    "Fuel_Info = data[[\"Price(EUR)\",\"Power(kW)\",\"Fuel\"]].copy()\n",
    "\n",
    "\n",
    "# Turn 'Petrol','Diesel', 'LPG', 'CNG' to \"Fossil\"\n",
    "Fuel_Info['Fuel'].replace(['Petrol', 'Diesel', 'LPG', 'CNG'], 'Fossil', inplace=True)\n",
    "\n",
    "# drop any car that has 'Other fuel type'.\n",
    "Fuel_Info = Fuel_Info[Fuel_Info['Fuel'] != 'Other fuel type']\n",
    "\n",
    "\n",
    "\n",
    "# Calculate upper_bound_price, base on 95% confidence interval\n",
    "lower_bound_price = Fuel_Info['Price(EUR)'].quantile(0.025)\n",
    "upper_bound_price = Fuel_Info['Price(EUR)'].quantile(0.975)\n",
    "upper_bound_price = np.floor(upper_bound_price / 10000) * 10000\n",
    "\n",
    "print (Fuel_Info.Fuel.value_counts()) \n",
    "print(upper_bound_price)"
   ]
  },
  {
   "cell_type": "markdown",
   "metadata": {},
   "source": [
    "### Step 2: Visualize with line chart \n",
    "\n",
    "- Because the supercars will be excluded from the 95% confidence interval, I will divide the bins into two ranges: \n",
    "    - bin1: for values within the confidence interval - representing the majority of cars\n",
    "    - bin2: for outlier values - representing the expensive cars."
   ]
  },
  {
   "cell_type": "code",
   "execution_count": null,
   "metadata": {},
   "outputs": [],
   "source": [
    "import plotly.graph_objects as go\n",
    "\n",
    "\n",
    "# Define bins for the two ranges\n",
    "bins1 = np.arange(10000, upper_bound_price, 10000)\n",
    "bins2 = np.array([upper_bound_price, np.floor(Fuel_Info[\"Price(EUR)\"].max() / 10000) * 10000  ])\n",
    "\n",
    "# Combine the two bin arrays\n",
    "bins = np.concatenate((bins1, bins2))\n",
    "\n",
    "# Create a new column for price bins\n",
    "Fuel_Info['Price_bin'] = pd.cut(Fuel_Info['Price(EUR)'], bins=bins)\n",
    "\n",
    "# Calculate the average power for each fuel type and price bin\n",
    "average_power = Fuel_Info.groupby(['Fuel', 'Price_bin'])['Power(kW)'].mean().unstack()\n",
    "\n",
    "# Create the line chart for each fuel type\n",
    "fig = go.Figure()\n",
    "for i, fuel_type in enumerate(average_power.index):\n",
    "    fig.add_trace(go.Scatter(x=[f'{int(left)}-{int(right)}' for left, right in zip(bins[:-1], bins[1:])], \n",
    "                             y=average_power.loc[fuel_type], \n",
    "                             mode='lines', \n",
    "                             name=fuel_type))\n",
    "\n",
    "fig.update_layout(title='AVG Power for each type of Vehicle in each Price range',\n",
    "                  xaxis_title='Price (EUR)',\n",
    "                  yaxis_title='Power (kW)',\n",
    "                  height = 800,\n",
    "                  )\n",
    "\n",
    "fig.show()"
   ]
  },
  {
   "cell_type": "markdown",
   "metadata": {},
   "source": [
    "**Comment**\n",
    "- We can see that, in most price ranges (20000 to 80000), Hybrid cars have significantly more engine power than Electric and Fossil fuel cars. \n",
    "- In the higher segment (> 80000), Electric cars will have a significant power difference compared to the other two types of cars.\n"
   ]
  },
  {
   "cell_type": "markdown",
   "metadata": {},
   "source": [
    "## Question 2: The 6 most common special functions and their impact on average price \n",
    "\n",
    "- Benefits of the question:\n",
    "    - Helps to identify the necessary modern functions of a car.\n",
    "    - Find out the impact of these functions on the car price, help buyers to consider whether to buy a car with that feature or not.\n",
    "- How to answer the question by using data?\n",
    "    - From the `Tags` column which is a multiple value column, separate the functions and perform one-hot encoding.\n",
    "    - Calculate the average price for cars equipped with that function."
   ]
  },
  {
   "cell_type": "markdown",
   "metadata": {},
   "source": [
    "### Step 1: One-hot encoding for the top 6 most frequent special functions "
   ]
  },
  {
   "cell_type": "code",
   "execution_count": null,
   "metadata": {},
   "outputs": [],
   "source": [
    "\n",
    "one_hot_df =  data[[\"Price(EUR)\",\"Tags\"]].copy()\n",
    "\n",
    "# Get each tag in each multiple value row\n",
    "tags = one_hot_df['Tags'].str.split('; ', expand=True)\n",
    "\n",
    "# Stack to make the DataFrame long, then get_dummies and group by index before summing\n",
    "get_dummy = pd.get_dummies(tags.stack()).groupby(level=0).sum()\n",
    "# Find the top 5 most frequent tags\n",
    "top_6_tags = get_dummy.sum().nlargest(6).index\n",
    "# Select only the top 5 most frequent tags\n",
    "get_dummy = get_dummy[top_6_tags]\n",
    "# Join the one-hot encoded DataFrame back to the original DataFrame\n",
    "one_hot_df = one_hot_df.join(get_dummy)\n",
    "\n",
    "# Drop the `Tags` because we dont need it anymore\n",
    "one_hot_df = one_hot_df.drop(\"Tags\",axis=1)\n",
    "\n",
    "\n",
    "print(one_hot_df.columns)\n",
    "for tag in top_6_tags:\n",
    "    print(f\"{tag}: {get_dummy[tag].sum()}\")"
   ]
  },
  {
   "cell_type": "markdown",
   "metadata": {},
   "source": [
    "### Step 2: Draw a bar chart \n"
   ]
  },
  {
   "cell_type": "code",
   "execution_count": null,
   "metadata": {},
   "outputs": [],
   "source": [
    "import matplotlib.pyplot as plt\n",
    "\n",
    "# Calculate the average price for each feature\n",
    "average_prices = {tag: one_hot_df.loc[one_hot_df[tag] == 1, 'Price(EUR)'].mean() for tag in top_6_tags}\n",
    "\n",
    "# Create a bar chart\n",
    "plt.figure(figsize=(10, 6))\n",
    "plt.bar(average_prices.keys(), average_prices.values(), align='center', alpha=0.5)\n",
    "plt.xticks(rotation=20)\n",
    "plt.ylabel('avg Price (EUR)')\n",
    "plt.title('Aerage Price for each Function')\n",
    "\n",
    "plt.show()"
   ]
  },
  {
   "cell_type": "markdown",
   "metadata": {},
   "source": [
    "- We can see that cars equipped with “Heated front seat” and “Led headlights” have a relatively high average price (>= 40000). \n",
    "- The average price of cars equipped with “Bluetooth” and “Navigation system” is quite low compared to other equipment, possibly because these features have been around for a long time.\n",
    "- Finally, cars equipped with “Apple CarPlay” and “Android auto” usually cost from 35000 to under 40000. Due to the popularity of phones, cars with these features are not too expensive to suit many customers."
   ]
  },
  {
   "cell_type": "markdown",
   "metadata": {},
   "source": [
    "## Question 3"
   ]
  },
  {
   "cell_type": "markdown",
   "metadata": {},
   "source": [
    "## Question 4: Is there a correlation between the selling price and the features (tags) of cars? Which features significantly impact the selling price of a car?"
   ]
  },
  {
   "cell_type": "markdown",
   "metadata": {},
   "source": [
    "- Benefits of answering the question:\n",
    "    - Understanding the correlation between the selling price and features of used cars can provide valuable insights for buyers and sellers in the market.\n",
    "    - Identifying the features that significantly impact the selling price can help sellers determine the optimal pricing strategy for their used cars.\n",
    "    - The code provided offers a step-by-step process to analyze the data and generate visualizations, making it easy to replicate and apply to different datasets.\n",
    "- Implementation steps:"
   ]
  },
  {
   "cell_type": "markdown",
   "metadata": {},
   "source": [
    "### Step 1: Prepare the data\n",
    "- Select the top 10 highest-priced and lowest-priced cars and store them in separate variables."
   ]
  },
  {
   "cell_type": "code",
   "execution_count": null,
   "metadata": {},
   "outputs": [],
   "source": [
    "top_10_high_price = data.nlargest(10, \"Price(EUR)\")  # Filter out the top 10 cars with the highest prices\n",
    "top_10_low_price = data.nsmallest(10, \"Price(EUR)\")  # Filter out the top 10 cars with the lowest prices"
   ]
  },
  {
   "cell_type": "markdown",
   "metadata": {},
   "source": [
    "### Step 2: Data preprocessing\n",
    "- Create a function to one-hot encode the tags and apply it to the selected cars dataset."
   ]
  },
  {
   "cell_type": "code",
   "execution_count": null,
   "metadata": {},
   "outputs": [],
   "source": [
    "# Bước 2: Tiền xử lý dữ liệu\n",
    "def one_hot_encode_tags(data):\n",
    "    # Create a copy of the original DataFrame\n",
    "    one_hot_df = data[[\"Price(EUR)\",\"Tags\"]].copy()\n",
    "    \n",
    "    # Get each tag in each multiple value row\n",
    "    tags = one_hot_df['Tags'].str.split('; ', expand=True)\n",
    "    \n",
    "    # Stack to make the DataFrame long, then get_dummies and group by index before summing\n",
    "    get_dummy = pd.get_dummies(tags.stack()).groupby(level=0).sum()\n",
    "    \n",
    "    # Join the one-hot encoded DataFrame back to the original DataFrame\n",
    "    one_hot_df = one_hot_df.join(get_dummy)\n",
    "    \n",
    "    # Drop the `Tags` column\n",
    "    one_hot_df = one_hot_df.drop(\"Tags\", axis=1)\n",
    "    \n",
    "    return one_hot_df\n",
    "\n",
    "# Bước 2: Tiền xử lý dữ liệu\n",
    "top_10_high_price = one_hot_encode_tags(top_10_high_price)\n",
    "top_10_low_price = one_hot_encode_tags(top_10_low_price)\n",
    "\n",
    "\n"
   ]
  },
  {
   "cell_type": "markdown",
   "metadata": {},
   "source": [
    "### Step 3: Calculate correlation and visualize\n",
    "- Calculate the correlation matrix for the features and selling price of the high-priced and low-priced cars. Sort the correlation coefficients and select the top 10 tags. Create horizontal bar charts to visualize the correlations."
   ]
  },
  {
   "cell_type": "code",
   "execution_count": null,
   "metadata": {},
   "outputs": [],
   "source": [
    "top_10_tags_high_prices = top_10_high_price.columns[1:]  # Exclude the \"Price(EUR)\" column\n",
    "top_10_tags_low_prices = top_10_low_price.columns[1:]  # Exclude the \"Price(EUR)\" column\n",
    "\n",
    "corr_matrix_high_prices = top_10_high_price.corr()\n",
    "corr_matrix_low_prices = top_10_low_price.corr()\n",
    "\n",
    "sorted_corr_high_prices = corr_matrix_high_prices['Price(EUR)'].sort_values(ascending=False)\n",
    "sorted_corr_low_prices = corr_matrix_low_prices['Price(EUR)'].sort_values(ascending=False)\n",
    "\n",
    "bar_chart_high_prices = go.Bar(\n",
    "    x=sorted_corr_high_prices[1:11],\n",
    "    y=top_10_tags_high_prices,\n",
    "    orientation='h',\n",
    "    marker=dict(\n",
    "        color='cornflowerblue'\n",
    "    ),\n",
    "    text=sorted_corr_high_prices[1:11].round(2),  # Add correlation coefficients as text labels\n",
    "    textposition='inside',  # Position the text labels inside the bars\n",
    "    name='Highest Prices'  # Set the name for the bar chart\n",
    ")\n",
    "\n",
    "# Bước 7: Tạo biểu đồ thanh ngang cho top 10 tags có hệ số tương quan cao nhất - Giá thấp nhất\n",
    "bar_chart_low_prices = go.Bar(\n",
    "    x=sorted_corr_low_prices[1:11],\n",
    "    y=top_10_tags_low_prices,\n",
    "    orientation='h',\n",
    "    marker=dict(\n",
    "        color='pink'\n",
    "    ),\n",
    "    text=sorted_corr_low_prices[1:11].round(2),  # Add correlation coefficients as text labels\n",
    "    textposition='inside',  # Position the text labels inside the bars\n",
    "    name='Lowest Prices'  # Set the name for the bar chart\n",
    ")\n",
    "\n",
    "# Create a figure with subplots\n",
    "fig = make_subplots(rows=2, cols=1, shared_xaxes=True)\n",
    "\n",
    "# Add the bar charts to the figure\n",
    "fig.add_trace(bar_chart_high_prices, row=1, col=1)\n",
    "fig.add_trace(bar_chart_low_prices, row=2, col=1)\n",
    "\n",
    "# Customize the layout\n",
    "fig.update_layout(\n",
    "    title='Top 10 Tags with Highest Correlation Coefficients',\n",
    "    xaxis_title='Correlation Coefficient',\n",
    "    yaxis_title='Tags',\n",
    "    height=800  # Increase the height of the plot to accommodate all y-axis labels\n",
    ")\n",
    "\n",
    "# Show the plot\n",
    "fig.show()"
   ]
  },
  {
   "cell_type": "markdown",
   "metadata": {},
   "source": [
    "- As the plot shows, the features with the highest correlation coefficients with highest car prices are:\n",
    "    - Driver's seat with massage function (correlation coefficient: 0.7)\n",
    "    - Air suspension (correlation coefficient: 0.37)\n",
    "    - Adaptive cruise control (correlation coefficient: 0.4)\n",
    "    - Ventilated front seats (correlation coefficient: 0.42)\n",
    "    - Keyless entry (correlation coefficient: 0.49)\n",
    "    - Heated front seats (correlation coefficient: 0.51)\n",
    "    - Digital cockpit (correlation coefficient: 0.51)\n",
    "    - Heated rear seats (correlation coefficient: 0.29)\n",
    "    - Panoramic roof (correlation coefficient: 0.21)\n",
    "- These features can be considered luxury features, and their presence is associated with higher car prices. This is because these features are considered to be more comfortable or safe, and car buyers are willing to pay more for them.\n",
    "\n",
    "- In addition, the plot also shows that the features with the highest correlation coefficients with lowest car prices are:\n",
    "    - Keyless ignition (correlation coefficient: 0.24)\n",
    "    - Keyless entry (correlation coefficient: 0.24)\n",
    "    - Heated front seats (correlation coefficient: 0.24)\n",
    "    - Rain sensor (correlation coefficient: 0.26)\n",
    "    - Light sensor (correlation coefficient: 0.26)Voice control (correlation coefficient: 0.27)\n",
    "    - Bose audio (correlation coefficient: 0.27)\n",
    "    - Panoramic roof (correlation coefficient: 0.3)\n",
    "    - Alarm (correlation coefficient: 0.3)\n",
    "    - Hill-start assist (correlation coefficient: 0.48)\n",
    "- These features can be considered basic features. This is because these features are considered to be necessary for safe and comfortable driving, and car buyers are not willing to pay more for them."
   ]
  }
 ],
 "metadata": {
  "kernelspec": {
   "display_name": "Python 3 (ipykernel)",
   "language": "python",
   "name": "python3"
  },
  "language_info": {
   "codemirror_mode": {
    "name": "ipython",
    "version": 3
   },
   "file_extension": ".py",
   "mimetype": "text/x-python",
   "name": "python",
   "nbconvert_exporter": "python",
   "pygments_lexer": "ipython3",
   "version": "3.10.12"
  }
 },
 "nbformat": 4,
 "nbformat_minor": 4
}
