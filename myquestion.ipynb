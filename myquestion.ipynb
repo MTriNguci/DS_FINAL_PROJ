{
 "cells": [
  {
   "cell_type": "code",
   "execution_count": null,
   "metadata": {},
   "outputs": [],
   "source": [
    "import pandas as pd\n",
    "from datetime import datetime\n",
    "import numpy as np\n",
    "import plotly.express as px\n",
    "import plotly.graph_objects as go\n",
    "import matplotlib.pyplot as plt\n",
    "import seaborn as sns\n",
    "import plotly.graph_objects as go"
   ]
  },
  {
   "cell_type": "code",
   "execution_count": null,
   "metadata": {},
   "outputs": [],
   "source": [
    "data = pd.read_csv(\"data\\cleaned_data_edited.csv\")"
   ]
  },
  {
   "cell_type": "markdown",
   "metadata": {},
   "source": [
    "## Question 1: Liệu có sự khác biệt lớn nào về hiệu năng của các xe ở các tầm giá khác nhau hay không \n",
    "Looking at the prices, we can observe a substantial difference between the prices of various cars. For example, 75% of the cars are priced below 42k EUR, while the remaining 25% reach up to 600k EUR. This is not a df input error but rather a characteristic of the automotive goods market, where there is significant fluctuation among brands and models.\n",
    "\n",
    "To analyze whether the price differences correspond to significant performance variations, we can employ the following strategies:\n",
    "\n",
    "- Benefits of the question:\n",
    "Answering this question helps clarify whether quality aligns with quantity, addressing the crucial balance between affordability and performance. It aids consumers in making informed decisions, ensuring they acquire products that meet their performance requirements while remaining within their budget.\n",
    "- How to answer the question by using data?\n",
    "        - **Boxplot Analysis:** Identify \"normal\" price ranges and outliers with significantly higher prices using boxplots. Evaluate price distribution within different segments to understand data spread.\n",
    "        - **Technical Specifications Analysis:** Explore key parameters (horsepower, fuel efficiency, acceleration, etc.)and compare them across price ranges. Create radar charts for visual comparison of performance metrics at different price points.\n",
    "        - **Additional Technical Parameters:** Analyze seating capacity, vehicle type, etc., to understand trends among different car types at distinct price levels."
   ]
  },
  {
   "cell_type": "markdown",
   "metadata": {},
   "source": [
    "Firstly, we need to observe the distribution of cars based on price to divide them into appropriate price ranges. We will use a boxplot to visualize the distribution of cars according to their prices."
   ]
  },
  {
   "cell_type": "code",
   "execution_count": null,
   "metadata": {},
   "outputs": [],
   "source": [
    "#Vẽ boxplot bằng matplotlib cho cột price(EUR)\n",
    "plt.figure(figsize=(10, 6))\n",
    "sns.boxplot(x=data['Price(EUR)'])\n",
    "plt.title('Boxplot of price(EUR)')\n",
    "plt.show()\n"
   ]
  },
  {
   "cell_type": "markdown",
   "metadata": {},
   "source": [
    "From the results above, it is evident that there is a significant difference between the price ranges. We will categorize the data into three subsets:\n",
    "\n",
    "- Normal price range: 0 - 70k EUR\n",
    "- Due to substantial outliers, further categorization will be done:\n",
    "  - High price range: 70k - 150k EUR\n",
    "  - Very high price range: greater than 150k EUR"
   ]
  },
  {
   "cell_type": "code",
   "execution_count": null,
   "metadata": {},
   "outputs": [],
   "source": [
    "df = data.copy()\n",
    "\n",
    "# Tạo cột mới Type để phân loại giá tiền\n",
    "threshold_1 = 70000\n",
    "threshold_2 = 150000\n",
    "df['Type'] = 'Normal'\n",
    "df.loc[(df['Price(EUR)'] > threshold_1 ) & (df['Price(EUR)'] < threshold_2), 'Type'] = 'Expensive'\n",
    "\n",
    "df.loc[df['Price(EUR)'] >= threshold_2, 'Type'] = 'Very Expensive'\n",
    "\n",
    "\n",
    "# rút gọn tên cột để dễ nhìn\n",
    "data = df.rename(columns={\n",
    "    'Power(kW)': 'Power',\n",
    "    'Consumption(l/100km or kWh/100km)': 'Consumption',\n",
    "    'CO2 emissions(g/km)': 'CO2 Emissions',\n",
    "    'Mileage(km)': 'Mileage',\n",
    "    'Engine capacity(ccm)': 'Engine Capacity'\n",
    "})\n"
   ]
  },
  {
   "cell_type": "markdown",
   "metadata": {},
   "source": [
    "After categorization, we will begin calculating the average performance of cars within each group and visualize the results on a chart."
   ]
  },
  {
   "cell_type": "code",
   "execution_count": null,
   "metadata": {},
   "outputs": [],
   "source": [
    "from sklearn.preprocessing import MinMaxScaler\n",
    "\n",
    "# Chọn ra các cột thuộc tính sẽ nhận xét\n",
    "selected_columns = ['Power', 'Consumption', 'CO2 Emissions', 'Mileage', 'Engine Capacity']\n",
    "\n",
    "# Tính giá trị trung bình cho mỗi loại xe\n",
    "average_data = data.groupby('Type')[selected_columns].mean().reset_index()\n",
    "\n",
    "# Chuẩn hóa dữ liệu\n",
    "scaler = MinMaxScaler()\n",
    "average_data[selected_columns] = scaler.fit_transform(average_data[selected_columns]) + 0.1 # +0.1 để tránh trường hợp giá trị = 0\n",
    "\n",
    "\n",
    "# Tạo biểu đồ radar\n",
    "fig = go.Figure()\n",
    "\n",
    "for i, row in average_data.iterrows():\n",
    "    fig.add_trace(go.Scatterpolar(\n",
    "        r=row[selected_columns].values.tolist(),\n",
    "        theta=selected_columns,\n",
    "        fill='toself',\n",
    "        name=row['Type']\n",
    "    ))\n",
    "\n",
    "fig.update_layout(\n",
    "    polar=dict(\n",
    "        radialaxis=dict(\n",
    "            visible=True,\n",
    "            range=[0, 1.1]\n",
    "        )),\n",
    "    showlegend=True\n",
    ")\n",
    "\n",
    "fig.show()\n"
   ]
  },
  {
   "cell_type": "markdown",
   "metadata": {},
   "source": [
    "Comment:\n",
    "\n",
    "\n",
    "\n",
    "\n",
    "Next, we will analyze additional parameters to examine the distribution trends of cars within different groups."
   ]
  },
  {
   "cell_type": "code",
   "execution_count": null,
   "metadata": {},
   "outputs": [],
   "source": [
    "columns = [\"Seats\", \"Fuel\", \"Transmission\", \"Condition\"]\n",
    "\n",
    "for column in columns:\n",
    "    # Tạo danh sách các nhóm và các nhãn\n",
    "    groups = data['Type'].unique()\n",
    "    labels = data[column].unique()\n",
    "\n",
    "    # Tạo một biểu đồ cột nhóm\n",
    "    fig = go.Figure()\n",
    "\n",
    "    # Vẽ từng cột cho mỗi nhóm\n",
    "    for i, group in enumerate(groups):\n",
    "        # Lọc dữ liệu cho mỗi nhóm\n",
    "        group_data = data[data['Type'] == group]\n",
    "        \n",
    "        # Tính toán phần trăm cho mỗi nhãn trong nhóm\n",
    "        percentages = [group_data[group_data[column] == label].shape[0] / group_data.shape[0] * 100 for label in labels]\n",
    "        \n",
    "        # Vẽ cột\n",
    "        fig.add_trace(go.Bar(\n",
    "            x=labels, \n",
    "            y=percentages, \n",
    "            name=str(group),\n",
    "        ))\n",
    "\n",
    "    # Đặt nhãn cho các trục và biểu đồ\n",
    "    fig.update_layout(barmode='group', xaxis_title=column, yaxis_title='Percentage (%)', title=f'Group Bar Chart for {column}')\n",
    "\n",
    "    # Hiển thị biểu đồ\n",
    "    fig.show()\n"
   ]
  }
 ],
 "metadata": {
  "kernelspec": {
   "display_name": "Python 3",
   "language": "python",
   "name": "python3"
  },
  "language_info": {
   "codemirror_mode": {
    "name": "ipython",
    "version": 3
   },
   "file_extension": ".py",
   "mimetype": "text/x-python",
   "name": "python",
   "nbconvert_exporter": "python",
   "pygments_lexer": "ipython3",
   "version": "3.10.11"
  }
 },
 "nbformat": 4,
 "nbformat_minor": 2
}
