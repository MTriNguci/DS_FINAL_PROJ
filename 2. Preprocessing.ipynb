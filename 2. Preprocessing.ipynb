{
 "cells": [
  {
   "cell_type": "markdown",
   "metadata": {},
   "source": [
    "# Preprocessing"
   ]
  },
  {
   "cell_type": "code",
   "execution_count": 1,
   "metadata": {},
   "outputs": [],
   "source": [
    "# import library\n",
    "import pandas as pd\n",
    "import numpy as np\n",
    "import os\n",
    "from datetime import datetime\n",
    "import matplotlib.pyplot as plt"
   ]
  },
  {
   "cell_type": "markdown",
   "metadata": {},
   "source": [
    "size of data\n"
   ]
  },
  {
   "cell_type": "code",
   "execution_count": 2,
   "metadata": {},
   "outputs": [
    {
     "data": {
      "text/html": [
       "<div>\n",
       "<style scoped>\n",
       "    .dataframe tbody tr th:only-of-type {\n",
       "        vertical-align: middle;\n",
       "    }\n",
       "\n",
       "    .dataframe tbody tr th {\n",
       "        vertical-align: top;\n",
       "    }\n",
       "\n",
       "    .dataframe thead th {\n",
       "        text-align: right;\n",
       "    }\n",
       "</style>\n",
       "<table border=\"1\" class=\"dataframe\">\n",
       "  <thead>\n",
       "    <tr style=\"text-align: right;\">\n",
       "      <th></th>\n",
       "      <th>Unnamed: 0</th>\n",
       "      <th>Weight</th>\n",
       "      <th>Engine power</th>\n",
       "      <th>Emission class</th>\n",
       "      <th>Engine capacity</th>\n",
       "      <th>Condition</th>\n",
       "      <th>VIN</th>\n",
       "      <th>Full service history</th>\n",
       "      <th>Price</th>\n",
       "      <th>Power</th>\n",
       "      <th>...</th>\n",
       "      <th>Consumption</th>\n",
       "      <th>Body</th>\n",
       "      <th>Warranty until</th>\n",
       "      <th>Body color</th>\n",
       "      <th>Seats</th>\n",
       "      <th>Transmission</th>\n",
       "      <th>Fuel</th>\n",
       "      <th>Range extender</th>\n",
       "      <th>Battery capacity1</th>\n",
       "      <th>Drive type</th>\n",
       "    </tr>\n",
       "  </thead>\n",
       "  <tbody>\n",
       "    <tr>\n",
       "      <th>0</th>\n",
       "      <td>0</td>\n",
       "      <td>1178.0</td>\n",
       "      <td>NaN</td>\n",
       "      <td>Euro 6</td>\n",
       "      <td>1 364 ccm</td>\n",
       "      <td>Used</td>\n",
       "      <td>not published by the seller</td>\n",
       "      <td>NaN</td>\n",
       "      <td>13899</td>\n",
       "      <td>110 kW</td>\n",
       "      <td>...</td>\n",
       "      <td>5.9 l/100km (combined); 5.9 l/100km (city); 5....</td>\n",
       "      <td>Hatchback</td>\n",
       "      <td>NaN</td>\n",
       "      <td>Grey</td>\n",
       "      <td>4</td>\n",
       "      <td>Manual</td>\n",
       "      <td>Petrol</td>\n",
       "      <td>NaN</td>\n",
       "      <td>NaN</td>\n",
       "      <td>4x2</td>\n",
       "    </tr>\n",
       "    <tr>\n",
       "      <th>1</th>\n",
       "      <td>1</td>\n",
       "      <td>NaN</td>\n",
       "      <td>NaN</td>\n",
       "      <td>Euro 6d-TEMP</td>\n",
       "      <td>1 998 ccm</td>\n",
       "      <td>NaN</td>\n",
       "      <td>not published by the seller</td>\n",
       "      <td>NaN</td>\n",
       "      <td>38999</td>\n",
       "      <td>135 kW</td>\n",
       "      <td>...</td>\n",
       "      <td>7.2 l/100km (combined); 8.2 l/100km (city); 6....</td>\n",
       "      <td>SUV / offroad</td>\n",
       "      <td>NaN</td>\n",
       "      <td>Silver</td>\n",
       "      <td>5</td>\n",
       "      <td>Automatic</td>\n",
       "      <td>Petrol</td>\n",
       "      <td>NaN</td>\n",
       "      <td>NaN</td>\n",
       "      <td>4x4</td>\n",
       "    </tr>\n",
       "    <tr>\n",
       "      <th>2</th>\n",
       "      <td>2</td>\n",
       "      <td>1859.0</td>\n",
       "      <td>NaN</td>\n",
       "      <td>No emission class</td>\n",
       "      <td>NaN</td>\n",
       "      <td>Used</td>\n",
       "      <td>not published by the seller</td>\n",
       "      <td>NaN</td>\n",
       "      <td>37049</td>\n",
       "      <td>150 kW</td>\n",
       "      <td>...</td>\n",
       "      <td>15.7 kWh/100km (combined)</td>\n",
       "      <td>Hatchback</td>\n",
       "      <td>NaN</td>\n",
       "      <td>Grey</td>\n",
       "      <td>5</td>\n",
       "      <td>Automatic</td>\n",
       "      <td>Electric</td>\n",
       "      <td>NaN</td>\n",
       "      <td>NaN</td>\n",
       "      <td>4x2</td>\n",
       "    </tr>\n",
       "    <tr>\n",
       "      <th>3</th>\n",
       "      <td>3</td>\n",
       "      <td>NaN</td>\n",
       "      <td>NaN</td>\n",
       "      <td>Euro 6</td>\n",
       "      <td>1 968 ccm</td>\n",
       "      <td>NaN</td>\n",
       "      <td>not published by the seller</td>\n",
       "      <td>NaN</td>\n",
       "      <td>45749</td>\n",
       "      <td>147 kW</td>\n",
       "      <td>...</td>\n",
       "      <td>4.4 l/100km (combined); 5.4 l/100km (city); 3....</td>\n",
       "      <td>Hatchback</td>\n",
       "      <td>NaN</td>\n",
       "      <td>Black</td>\n",
       "      <td>5</td>\n",
       "      <td>Automatic</td>\n",
       "      <td>Diesel</td>\n",
       "      <td>NaN</td>\n",
       "      <td>NaN</td>\n",
       "      <td>4x2</td>\n",
       "    </tr>\n",
       "    <tr>\n",
       "      <th>4</th>\n",
       "      <td>4</td>\n",
       "      <td>NaN</td>\n",
       "      <td>NaN</td>\n",
       "      <td>Euro 6</td>\n",
       "      <td>2 191 ccm</td>\n",
       "      <td>NaN</td>\n",
       "      <td>not published by the seller</td>\n",
       "      <td>NaN</td>\n",
       "      <td>21799</td>\n",
       "      <td>129 kW</td>\n",
       "      <td>...</td>\n",
       "      <td>5.4 l/100km (combined); 6.3 l/100km (city); 4....</td>\n",
       "      <td>SUV / offroad</td>\n",
       "      <td>NaN</td>\n",
       "      <td>Black</td>\n",
       "      <td>NaN</td>\n",
       "      <td>Manual</td>\n",
       "      <td>Diesel</td>\n",
       "      <td>NaN</td>\n",
       "      <td>NaN</td>\n",
       "      <td>4x4</td>\n",
       "    </tr>\n",
       "    <tr>\n",
       "      <th>5</th>\n",
       "      <td>5</td>\n",
       "      <td>NaN</td>\n",
       "      <td>NaN</td>\n",
       "      <td>NaN</td>\n",
       "      <td>1 984 ccm</td>\n",
       "      <td>New</td>\n",
       "      <td>not published by the seller</td>\n",
       "      <td>NaN</td>\n",
       "      <td>42349</td>\n",
       "      <td>110 kW</td>\n",
       "      <td>...</td>\n",
       "      <td>5.7 l/100km (combined)</td>\n",
       "      <td>Sedans / saloons</td>\n",
       "      <td>NaN</td>\n",
       "      <td>Black</td>\n",
       "      <td>NaN</td>\n",
       "      <td>Automatic</td>\n",
       "      <td>Petrol</td>\n",
       "      <td>NaN</td>\n",
       "      <td>NaN</td>\n",
       "      <td>4x2</td>\n",
       "    </tr>\n",
       "    <tr>\n",
       "      <th>6</th>\n",
       "      <td>6</td>\n",
       "      <td>NaN</td>\n",
       "      <td>NaN</td>\n",
       "      <td>Euro 6</td>\n",
       "      <td>1 997 ccm</td>\n",
       "      <td>Used</td>\n",
       "      <td>not published by the seller</td>\n",
       "      <td>NaN</td>\n",
       "      <td>46799</td>\n",
       "      <td>130 kW</td>\n",
       "      <td>...</td>\n",
       "      <td>7.4 l/100km (combined)</td>\n",
       "      <td>Cargo VAN</td>\n",
       "      <td>Dec-25</td>\n",
       "      <td>Black</td>\n",
       "      <td>5</td>\n",
       "      <td>Automatic</td>\n",
       "      <td>Diesel</td>\n",
       "      <td>NaN</td>\n",
       "      <td>NaN</td>\n",
       "      <td>4x2</td>\n",
       "    </tr>\n",
       "    <tr>\n",
       "      <th>7</th>\n",
       "      <td>7</td>\n",
       "      <td>1215.0</td>\n",
       "      <td>NaN</td>\n",
       "      <td>Euro 6</td>\n",
       "      <td>999 ccm</td>\n",
       "      <td>New</td>\n",
       "      <td>not published by the seller</td>\n",
       "      <td>NaN</td>\n",
       "      <td>24199</td>\n",
       "      <td>81 kW</td>\n",
       "      <td>...</td>\n",
       "      <td>4.8 l/100km (combined)</td>\n",
       "      <td>SUV / offroad</td>\n",
       "      <td>NaN</td>\n",
       "      <td>Red</td>\n",
       "      <td>5</td>\n",
       "      <td>Manual</td>\n",
       "      <td>Petrol</td>\n",
       "      <td>NaN</td>\n",
       "      <td>NaN</td>\n",
       "      <td>4x2</td>\n",
       "    </tr>\n",
       "    <tr>\n",
       "      <th>8</th>\n",
       "      <td>8</td>\n",
       "      <td>NaN</td>\n",
       "      <td>NaN</td>\n",
       "      <td>Euro 6</td>\n",
       "      <td>1 968 ccm</td>\n",
       "      <td>New</td>\n",
       "      <td>not published by the seller</td>\n",
       "      <td>NaN</td>\n",
       "      <td>43349</td>\n",
       "      <td>147 kW</td>\n",
       "      <td>...</td>\n",
       "      <td>5.5 l/100km (combined)</td>\n",
       "      <td>Station Wagon</td>\n",
       "      <td>NaN</td>\n",
       "      <td>NaN</td>\n",
       "      <td>5</td>\n",
       "      <td>Automatic</td>\n",
       "      <td>Diesel</td>\n",
       "      <td>NaN</td>\n",
       "      <td>NaN</td>\n",
       "      <td>4x2</td>\n",
       "    </tr>\n",
       "    <tr>\n",
       "      <th>9</th>\n",
       "      <td>9</td>\n",
       "      <td>1519.0</td>\n",
       "      <td>NaN</td>\n",
       "      <td>Euro 6</td>\n",
       "      <td>1 598 ccm</td>\n",
       "      <td>Demonstration car</td>\n",
       "      <td>not published by the seller</td>\n",
       "      <td>NaN</td>\n",
       "      <td>31199</td>\n",
       "      <td>96 kW</td>\n",
       "      <td>...</td>\n",
       "      <td>NaN</td>\n",
       "      <td>SUV / offroad</td>\n",
       "      <td>NaN</td>\n",
       "      <td>Red</td>\n",
       "      <td>5</td>\n",
       "      <td>Manual</td>\n",
       "      <td>Diesel</td>\n",
       "      <td>NaN</td>\n",
       "      <td>NaN</td>\n",
       "      <td>4x2</td>\n",
       "    </tr>\n",
       "  </tbody>\n",
       "</table>\n",
       "<p>10 rows × 46 columns</p>\n",
       "</div>"
      ],
      "text/plain": [
       "   Unnamed: 0  Weight Engine power     Emission class Engine capacity  \\\n",
       "0           0  1178.0          NaN             Euro 6       1 364 ccm   \n",
       "1           1     NaN          NaN       Euro 6d-TEMP       1 998 ccm   \n",
       "2           2  1859.0          NaN  No emission class             NaN   \n",
       "3           3     NaN          NaN             Euro 6       1 968 ccm   \n",
       "4           4     NaN          NaN             Euro 6       2 191 ccm   \n",
       "5           5     NaN          NaN                NaN       1 984 ccm   \n",
       "6           6     NaN          NaN             Euro 6       1 997 ccm   \n",
       "7           7  1215.0          NaN             Euro 6         999 ccm   \n",
       "8           8     NaN          NaN             Euro 6       1 968 ccm   \n",
       "9           9  1519.0          NaN             Euro 6       1 598 ccm   \n",
       "\n",
       "           Condition                          VIN Full service history  Price  \\\n",
       "0               Used  not published by the seller                  NaN  13899   \n",
       "1                NaN  not published by the seller                  NaN  38999   \n",
       "2               Used  not published by the seller                  NaN  37049   \n",
       "3                NaN  not published by the seller                  NaN  45749   \n",
       "4                NaN  not published by the seller                  NaN  21799   \n",
       "5                New  not published by the seller                  NaN  42349   \n",
       "6               Used  not published by the seller                  NaN  46799   \n",
       "7                New  not published by the seller                  NaN  24199   \n",
       "8                New  not published by the seller                  NaN  43349   \n",
       "9  Demonstration car  not published by the seller                  NaN  31199   \n",
       "\n",
       "    Power  ...                                        Consumption  \\\n",
       "0  110 kW  ...  5.9 l/100km (combined); 5.9 l/100km (city); 5....   \n",
       "1  135 kW  ...  7.2 l/100km (combined); 8.2 l/100km (city); 6....   \n",
       "2  150 kW  ...                          15.7 kWh/100km (combined)   \n",
       "3  147 kW  ...  4.4 l/100km (combined); 5.4 l/100km (city); 3....   \n",
       "4  129 kW  ...  5.4 l/100km (combined); 6.3 l/100km (city); 4....   \n",
       "5  110 kW  ...                             5.7 l/100km (combined)   \n",
       "6  130 kW  ...                             7.4 l/100km (combined)   \n",
       "7   81 kW  ...                             4.8 l/100km (combined)   \n",
       "8  147 kW  ...                             5.5 l/100km (combined)   \n",
       "9   96 kW  ...                                                NaN   \n",
       "\n",
       "               Body  Warranty until Body color Seats Transmission      Fuel  \\\n",
       "0         Hatchback             NaN       Grey     4       Manual    Petrol   \n",
       "1     SUV / offroad             NaN     Silver     5    Automatic    Petrol   \n",
       "2         Hatchback             NaN       Grey     5    Automatic  Electric   \n",
       "3         Hatchback             NaN      Black     5    Automatic    Diesel   \n",
       "4     SUV / offroad             NaN      Black   NaN       Manual    Diesel   \n",
       "5  Sedans / saloons             NaN      Black   NaN    Automatic    Petrol   \n",
       "6         Cargo VAN          Dec-25      Black     5    Automatic    Diesel   \n",
       "7     SUV / offroad             NaN        Red     5       Manual    Petrol   \n",
       "8     Station Wagon             NaN        NaN     5    Automatic    Diesel   \n",
       "9     SUV / offroad             NaN        Red     5       Manual    Diesel   \n",
       "\n",
       "  Range extender Battery capacity1 Drive type  \n",
       "0            NaN               NaN        4x2  \n",
       "1            NaN               NaN        4x4  \n",
       "2            NaN               NaN        4x2  \n",
       "3            NaN               NaN        4x2  \n",
       "4            NaN               NaN        4x4  \n",
       "5            NaN               NaN        4x2  \n",
       "6            NaN               NaN        4x2  \n",
       "7            NaN               NaN        4x2  \n",
       "8            NaN               NaN        4x2  \n",
       "9            NaN               NaN        4x2  \n",
       "\n",
       "[10 rows x 46 columns]"
      ]
     },
     "execution_count": 2,
     "metadata": {},
     "output_type": "execute_result"
    }
   ],
   "source": [
    "#TODO\n",
    "csv_path = './data/sell_data2.csv'\n",
    "raw_df = pd.read_csv(csv_path)\n",
    "raw_df.head(10)"
   ]
  },
  {
   "cell_type": "code",
   "execution_count": 3,
   "metadata": {},
   "outputs": [
    {
     "data": {
      "text/plain": [
       "(1099, 46)"
      ]
     },
     "execution_count": 3,
     "metadata": {},
     "output_type": "execute_result"
    }
   ],
   "source": [
    "raw_df.shape"
   ]
  },
  {
   "cell_type": "markdown",
   "metadata": {},
   "source": [
    " Brief introduction of data? What is the mean of each data properties/rows?"
   ]
  },
  {
   "cell_type": "code",
   "execution_count": 4,
   "metadata": {},
   "outputs": [],
   "source": [
    "#TODO"
   ]
  },
  {
   "cell_type": "markdown",
   "metadata": {},
   "source": [
    "Deduplicates"
   ]
  },
  {
   "cell_type": "markdown",
   "metadata": {},
   "source": [
    "#TODO"
   ]
  },
  {
   "cell_type": "markdown",
   "metadata": {},
   "source": [
    "# Analyzing Data in Columns\n",
    "Next, we will analyze and process the data in the columns of the crawled dataset."
   ]
  },
  {
   "cell_type": "markdown",
   "metadata": {},
   "source": [
    "- First, we calculate the data type (dtype) of each column in DataFrame `raw_df` and save the result into Series `dtypes` (This Series has the index as the column name)."
   ]
  },
  {
   "cell_type": "code",
   "execution_count": 5,
   "metadata": {},
   "outputs": [
    {
     "data": {
      "text/plain": [
       "Unnamed: 0                 int64\n",
       "Weight                   float64\n",
       "Engine power              object\n",
       "Emission class            object\n",
       "Engine capacity           object\n",
       "Condition                 object\n",
       "VIN                       object\n",
       "Full service history      object\n",
       "Price                      int64\n",
       "Power                     object\n",
       "CARNAME                   object\n",
       "Previous owners          float64\n",
       "ID                         int64\n",
       "Battery type              object\n",
       "Battery warranty (km)     object\n",
       "Interior color            object\n",
       "Mileage                   object\n",
       "Make                      object\n",
       "Hybrid type               object\n",
       "El. motor power           object\n",
       "Model                     object\n",
       "Electric range            object\n",
       "Battery capacity          object\n",
       "First registration        object\n",
       "Doors                     object\n",
       "Valid MOT until           object\n",
       "Country of origin         object\n",
       "Energy efficiency         object\n",
       "CO2 emissions             object\n",
       "Type of finish            object\n",
       "Currency                  object\n",
       "Tags                      object\n",
       "AC charging time          object\n",
       "Interior material         object\n",
       "DC charging time          object\n",
       "Secondary drive           object\n",
       "Consumption               object\n",
       "Body                      object\n",
       "Warranty until            object\n",
       "Body color                object\n",
       "Seats                     object\n",
       "Transmission              object\n",
       "Fuel                      object\n",
       "Range extender            object\n",
       "Battery capacity1         object\n",
       "Drive type                object\n",
       "dtype: object"
      ]
     },
     "execution_count": 5,
     "metadata": {},
     "output_type": "execute_result"
    }
   ],
   "source": [
    "#TODO\n",
    "dtypes = raw_df.dtypes\n",
    "dtypes"
   ]
  },
  {
   "cell_type": "markdown",
   "metadata": {},
   "source": [
    "- We need to check the data in the columns of the dataset."
   ]
  },
  {
   "cell_type": "code",
   "execution_count": 6,
   "metadata": {},
   "outputs": [
    {
     "name": "stdout",
     "output_type": "stream",
     "text": [
      "<class 'pandas.core.frame.DataFrame'>\n",
      "RangeIndex: 1099 entries, 0 to 1098\n",
      "Data columns (total 46 columns):\n",
      " #   Column                 Non-Null Count  Dtype  \n",
      "---  ------                 --------------  -----  \n",
      " 0   Unnamed: 0             1099 non-null   int64  \n",
      " 1   Weight                 315 non-null    float64\n",
      " 2   Engine power           30 non-null     object \n",
      " 3   Emission class         1019 non-null   object \n",
      " 4   Engine capacity        981 non-null    object \n",
      " 5   Condition              722 non-null    object \n",
      " 6   VIN                    1099 non-null   object \n",
      " 7   Full service history   5 non-null      object \n",
      " 8   Price                  1099 non-null   int64  \n",
      " 9   Power                  1099 non-null   object \n",
      " 10  CARNAME                1099 non-null   object \n",
      " 11  Previous owners        374 non-null    float64\n",
      " 12  ID                     1099 non-null   int64  \n",
      " 13  Battery type           73 non-null     object \n",
      " 14  Battery warranty (km)  46 non-null     object \n",
      " 15  Interior color         866 non-null    object \n",
      " 16  Mileage                1099 non-null   object \n",
      " 17  Make                   1099 non-null   object \n",
      " 18  Hybrid type            78 non-null     object \n",
      " 19  El. motor power        62 non-null     object \n",
      " 20  Model                  1099 non-null   object \n",
      " 21  Electric range         18 non-null     object \n",
      " 22  Battery capacity       85 non-null     object \n",
      " 23  First registration     1099 non-null   object \n",
      " 24  Doors                  1089 non-null   object \n",
      " 25  Valid MOT until        99 non-null     object \n",
      " 26  Country of origin      151 non-null    object \n",
      " 27  Energy efficiency      4 non-null      object \n",
      " 28  CO2 emissions          1099 non-null   object \n",
      " 29  Type of finish         537 non-null    object \n",
      " 30  Currency               1099 non-null   object \n",
      " 31  Tags                   1070 non-null   object \n",
      " 32  AC charging time       54 non-null     object \n",
      " 33  Interior material      893 non-null    object \n",
      " 34  DC charging time       24 non-null     object \n",
      " 35  Secondary drive        8 non-null      object \n",
      " 36  Consumption            970 non-null    object \n",
      " 37  Body                   1099 non-null   object \n",
      " 38  Warranty until         180 non-null    object \n",
      " 39  Body color             1006 non-null   object \n",
      " 40  Seats                  987 non-null    object \n",
      " 41  Transmission           1099 non-null   object \n",
      " 42  Fuel                   1099 non-null   object \n",
      " 43  Range extender         135 non-null    object \n",
      " 44  Battery capacity1      2 non-null      object \n",
      " 45  Drive type             1099 non-null   object \n",
      "dtypes: float64(2), int64(3), object(41)\n",
      "memory usage: 395.1+ KB\n"
     ]
    }
   ],
   "source": [
    "df = raw_df.copy()\n",
    "df.info()"
   ]
  },
  {
   "cell_type": "markdown",
   "metadata": {},
   "source": [
    "- There are many columns with more than *70%* missing data, such as `Engine power`, `Full service history`, `Hybrid type`, ... Therefore, the columns with a high percentage of missing data will be removed before processing the data."
   ]
  },
  {
   "cell_type": "code",
   "execution_count": 7,
   "metadata": {},
   "outputs": [],
   "source": [
    "missing_column = ['Engine power','Full service history', \n",
    "                  'Hybrid type', 'El. motor power',\n",
    "                  'Electric range', 'Valid MOT until',\n",
    "                  'Energy efficiency', 'Secondary drive',\n",
    "                  'Range extender','Battery capacity1']\n",
    "df = df.drop(missing_column, axis = 1)"
   ]
  },
  {
   "cell_type": "markdown",
   "metadata": {},
   "source": [
    "- Removing unnecessary columns:\n",
    "- `Unnamedd:0`: the index number    \n",
    "- `Currency`: the currency unit, which is EUR for all entries\n",
    "Therefore, we will also remove these columns from the dataset."
   ]
  },
  {
   "cell_type": "code",
   "execution_count": 8,
   "metadata": {},
   "outputs": [],
   "source": [
    "df = df.drop(['Currency','Unnamed: 0'], axis = 1)"
   ]
  },
  {
   "cell_type": "markdown",
   "metadata": {},
   "source": [
    "- After removing the columns with missing data and unnecessary columns, we need to process the data in the remaining columns. In this section, we will proceed with data processing in these columns."
   ]
  },
  {
   "cell_type": "markdown",
   "metadata": {},
   "source": [
    "1. What is the current data type of each column? Are there columns having inappropriate data types? If have, converting"
   ]
  },
  {
   "cell_type": "code",
   "execution_count": 9,
   "metadata": {},
   "outputs": [
    {
     "name": "stdout",
     "output_type": "stream",
     "text": [
      "<class 'pandas.core.frame.DataFrame'>\n",
      "RangeIndex: 1099 entries, 0 to 1098\n",
      "Data columns (total 34 columns):\n",
      " #   Column                 Non-Null Count  Dtype  \n",
      "---  ------                 --------------  -----  \n",
      " 0   Weight                 315 non-null    float64\n",
      " 1   Emission class         1019 non-null   object \n",
      " 2   Engine capacity        981 non-null    object \n",
      " 3   Condition              722 non-null    object \n",
      " 4   VIN                    1099 non-null   object \n",
      " 5   Price                  1099 non-null   int64  \n",
      " 6   Power                  1099 non-null   object \n",
      " 7   CARNAME                1099 non-null   object \n",
      " 8   Previous owners        374 non-null    float64\n",
      " 9   ID                     1099 non-null   int64  \n",
      " 10  Battery type           73 non-null     object \n",
      " 11  Battery warranty (km)  46 non-null     object \n",
      " 12  Interior color         866 non-null    object \n",
      " 13  Mileage                1099 non-null   object \n",
      " 14  Make                   1099 non-null   object \n",
      " 15  Model                  1099 non-null   object \n",
      " 16  Battery capacity       85 non-null     object \n",
      " 17  First registration     1099 non-null   object \n",
      " 18  Doors                  1089 non-null   object \n",
      " 19  Country of origin      151 non-null    object \n",
      " 20  CO2 emissions          1099 non-null   object \n",
      " 21  Type of finish         537 non-null    object \n",
      " 22  Tags                   1070 non-null   object \n",
      " 23  AC charging time       54 non-null     object \n",
      " 24  Interior material      893 non-null    object \n",
      " 25  DC charging time       24 non-null     object \n",
      " 26  Consumption            970 non-null    object \n",
      " 27  Body                   1099 non-null   object \n",
      " 28  Warranty until         180 non-null    object \n",
      " 29  Body color             1006 non-null   object \n",
      " 30  Seats                  987 non-null    object \n",
      " 31  Transmission           1099 non-null   object \n",
      " 32  Fuel                   1099 non-null   object \n",
      " 33  Drive type             1099 non-null   object \n",
      "dtypes: float64(2), int64(2), object(30)\n",
      "memory usage: 292.0+ KB\n"
     ]
    }
   ],
   "source": [
    "df.info()"
   ]
  },
  {
   "cell_type": "markdown",
   "metadata": {},
   "source": [
    "- There are some columns with invalid data types.\n",
    "- The columns `Engine capacity`, `Power`, `Battery warranty (km)`, `Mileage`, `Battery capacity`, `CO2 emissions`, `AC charging time`, `DC charging time` and `Seats` should be converted to `int` or `float` data types instead of `string`. Therefore, we will process the data strings to convert them into numerical data types."
   ]
  },
  {
   "cell_type": "code",
   "execution_count": 10,
   "metadata": {},
   "outputs": [],
   "source": [
    "#TODO\n",
    "column_convert_to_numeric = ['Engine capacity','Power', 'Consumption',\n",
    "                         'Battery warranty (km)','Mileage',\n",
    "                         'Battery capacity', 'CO2 emissions', \n",
    "                         'AC charging time', 'DC charging time']\n",
    "def convert_to_int(column):\n",
    "    for i in range(len(column)):\n",
    "        value = column[i]\n",
    "        if pd.notnull(value):\n",
    "            column[i] = value.split(' ')[0].strip().replace('\\xa0', '')\n",
    "    column = pd.to_numeric(column, errors='coerce')\n",
    "    return column\n",
    "    \n",
    "# Convert specified columns \n",
    "df[column_convert_to_numeric] = df[column_convert_to_numeric].apply(convert_to_int)\n",
    "# Convert 'Seats' column \n",
    "df['Seats'] = pd.to_numeric(df['Seats'], errors='coerce')"
   ]
  },
  {
   "cell_type": "code",
   "execution_count": 11,
   "metadata": {},
   "outputs": [],
   "source": [
    "# Rename the columns\n",
    "new_column_names = {'Engine capacity': 'Engine capacity(ccm)',\n",
    "                    'Price': 'Price(EUR)',\n",
    "                    'Power': 'Power(kW)',\n",
    "                    'Battery warranty (km)': 'Battery warranty(km)',\n",
    "                    'Mileage': 'Mileage(km)',\n",
    "                    'Consumption':'Consumption(l/100km or kWh/100km)',\n",
    "                    'Battery capacity': 'Battery capacity(kWh)',\n",
    "                    'CO2 emissions': 'CO2 emissions(g/km)',\n",
    "                    'AC charging time': 'AC charging time(h)',\n",
    "                    'DC charging time': 'DC charging time(min)'}\n",
    "df = df.rename(columns=new_column_names)"
   ]
  },
  {
   "cell_type": "markdown",
   "metadata": {},
   "source": [
    "Process the columns that store month/year data as strings to datetime: \n",
    "- First registration\n",
    "- Warranty until"
   ]
  },
  {
   "cell_type": "code",
   "execution_count": 12,
   "metadata": {},
   "outputs": [
    {
     "name": "stderr",
     "output_type": "stream",
     "text": [
      "/tmp/ipykernel_2744/522354857.py:9: FutureWarning: DataFrame.applymap has been deprecated. Use DataFrame.map instead.\n",
      "  df[convert_column] = df[convert_column].applymap(convert_to_datetime)\n"
     ]
    }
   ],
   "source": [
    "def convert_to_datetime(date_str):\n",
    "    if pd.notnull(date_str):\n",
    "        date_format = \"%b-%y\"\n",
    "        date_obj = datetime.strptime(date_str, date_format)\n",
    "        return date_obj\n",
    "    else:\n",
    "        return pd.NaT\n",
    "convert_column = ['First registration', 'Warranty until']\n",
    "df[convert_column] = df[convert_column].applymap(convert_to_datetime)"
   ]
  },
  {
   "cell_type": "code",
   "execution_count": 13,
   "metadata": {},
   "outputs": [
    {
     "name": "stdout",
     "output_type": "stream",
     "text": [
      "<class 'pandas.core.frame.DataFrame'>\n",
      "RangeIndex: 1099 entries, 0 to 1098\n",
      "Data columns (total 34 columns):\n",
      " #   Column                             Non-Null Count  Dtype         \n",
      "---  ------                             --------------  -----         \n",
      " 0   Weight                             315 non-null    float64       \n",
      " 1   Emission class                     1019 non-null   object        \n",
      " 2   Engine capacity(ccm)               981 non-null    float64       \n",
      " 3   Condition                          722 non-null    object        \n",
      " 4   VIN                                1099 non-null   object        \n",
      " 5   Price(EUR)                         1099 non-null   int64         \n",
      " 6   Power(kW)                          1099 non-null   int64         \n",
      " 7   CARNAME                            1099 non-null   object        \n",
      " 8   Previous owners                    374 non-null    float64       \n",
      " 9   ID                                 1099 non-null   int64         \n",
      " 10  Battery type                       73 non-null     object        \n",
      " 11  Battery warranty(km)               46 non-null     float64       \n",
      " 12  Interior color                     866 non-null    object        \n",
      " 13  Mileage(km)                        1099 non-null   int64         \n",
      " 14  Make                               1099 non-null   object        \n",
      " 15  Model                              1099 non-null   object        \n",
      " 16  Battery capacity(kWh)              85 non-null     float64       \n",
      " 17  First registration                 1099 non-null   datetime64[ns]\n",
      " 18  Doors                              1089 non-null   object        \n",
      " 19  Country of origin                  151 non-null    object        \n",
      " 20  CO2 emissions(g/km)                1099 non-null   int64         \n",
      " 21  Type of finish                     537 non-null    object        \n",
      " 22  Tags                               1070 non-null   object        \n",
      " 23  AC charging time(h)                54 non-null     float64       \n",
      " 24  Interior material                  893 non-null    object        \n",
      " 25  DC charging time(min)              24 non-null     float64       \n",
      " 26  Consumption(l/100km or kWh/100km)  970 non-null    float64       \n",
      " 27  Body                               1099 non-null   object        \n",
      " 28  Warranty until                     180 non-null    datetime64[ns]\n",
      " 29  Body color                         1006 non-null   object        \n",
      " 30  Seats                              983 non-null    float64       \n",
      " 31  Transmission                       1099 non-null   object        \n",
      " 32  Fuel                               1099 non-null   object        \n",
      " 33  Drive type                         1099 non-null   object        \n",
      "dtypes: datetime64[ns](2), float64(9), int64(5), object(18)\n",
      "memory usage: 292.0+ KB\n"
     ]
    }
   ],
   "source": [
    "# After converting data types\n",
    "df.info()"
   ]
  },
  {
   "cell_type": "markdown",
   "metadata": {},
   "source": [
    "- Now the data types of the columns are more appropriate. The next step is to examine the distribution of data in the numerical and categorical columns."
   ]
  },
  {
   "cell_type": "markdown",
   "metadata": {},
   "source": [
    "2. With each numerical column, how are values distributed?\n",
    "- What is the percentage of missing values?\n",
    "- Handling missing values\n",
    "- Min? max? Are they abnormal?\n",
    "- Missing value treatment"
   ]
  },
  {
   "cell_type": "markdown",
   "metadata": {},
   "source": [
    "- Filter out the columns that contain numerical data. Calculate the missing data rate for each column."
   ]
  },
  {
   "cell_type": "code",
   "execution_count": 14,
   "metadata": {},
   "outputs": [
    {
     "name": "stdout",
     "output_type": "stream",
     "text": [
      "The percentage of missing values:\n",
      "- Weight: 71.34%\n",
      "- Engine capacity(ccm): 10.74%\n",
      "- Price(EUR): 0.0%\n",
      "- Power(kW): 0.0%\n",
      "- Previous owners: 65.97%\n",
      "- ID: 0.0%\n",
      "- Battery warranty(km): 95.81%\n",
      "- Mileage(km): 0.0%\n",
      "- Battery capacity(kWh): 92.27%\n",
      "- CO2 emissions(g/km): 0.0%\n",
      "- AC charging time(h): 95.09%\n",
      "- DC charging time(min): 97.82%\n",
      "- Consumption(l/100km or kWh/100km): 11.74%\n",
      "- Seats: 10.56%\n"
     ]
    }
   ],
   "source": [
    "numeric_df = df.select_dtypes(include=np.number)\n",
    "missing_percentage = numeric_df.isnull().mean()\n",
    "\n",
    "print('The percentage of missing values:')\n",
    "for idx, missing in zip(missing_percentage.index, missing_percentage): \n",
    "    print(f'- {idx}: {round(missing * 100, 2)}%')"
   ]
  },
  {
   "cell_type": "code",
   "execution_count": 15,
   "metadata": {},
   "outputs": [
    {
     "data": {
      "image/png": "[encoded data removed]",
      "text/plain": [
       "<Figure size 640x480 with 1 Axes>"
      ]
     },
     "metadata": {},
     "output_type": "display_data"
    }
   ],
   "source": [
    "\n",
    "# Lọc các cột có giá trị thiếu lớn hơn 0\n",
    "missing_percentage_filtered = missing_percentage[missing_percentage > 0].sort_values(ascending = False)\n",
    "# Vẽ bar chart\n",
    "plt.barh(missing_percentage_filtered.index, missing_percentage_filtered*100)\n",
    "\n",
    "# Đặt tiêu đề\n",
    "plt.title('Percentage of Missing Values', fontweight='bold')\n",
    "\n",
    "# Đặt nhãn trục x\n",
    "plt.xlabel('Percentage Missing(%)', fontweight='bold')\n",
    "\n",
    "# Đặt nhãn trục y\n",
    "plt.ylabel('Column', fontweight='bold')\n",
    "\n",
    "# Hiển thị biểu đồ\n",
    "plt.show()"
   ]
  },
  {
   "cell_type": "markdown",
   "metadata": {},
   "source": [
    "- The columns `Battery warranty (km)`, `Battery capacity`, `AC charging time` và `DC charging time` have a high rate of missing data due to the fact that these attributes are only applicable to electric cars. Therefore, it is recommended to keep the data as it is in these columns.\n",
    "- For the column `Previous owners`, which indicates whether the car has been previously owned or not, the missing values can be replaced with 0, assuming that the missing values correspond to cars that are brand new.\n",
    "- The missing values in the columnst `Seats` and `Engine capacity`will be replaced with the median value.\n",
    "- The column `Weight`  will be dropped.\n",
    "- The missing data in the `Consumption` column will be filled with the mode value within each `Fuel` group."
   ]
  },
  {
   "cell_type": "code",
   "execution_count": 16,
   "metadata": {},
   "outputs": [],
   "source": [
    "df['Previous owners'] = df['Previous owners'].fillna(0)\n",
    "\n",
    "# Xử lí missing values cột Seats\n",
    "median_seats = df['Seats'].median()\n",
    "df['Seats'] = df['Seats'].fillna(median_seats)\n",
    "\n",
    "# Xử lí missing values cột Engine capacity\n",
    "median_engine_capacity = df['Engine capacity(ccm)'].median()\n",
    "df['Engine capacity(ccm)'] = df['Engine capacity(ccm)'].fillna(median_engine_capacity)\n",
    "\n",
    "# Xử lí missing values cột Weight\n",
    "df = df.drop('Weight', axis = 1)\n",
    "\n",
    "# Xử lí missing values cột Consumption\n",
    "df['Consumption(l/100km or kWh/100km)'] = df.groupby('Fuel')['Consumption(l/100km or kWh/100km)'].transform(lambda x: x.fillna(x.mode()[0]))"
   ]
  },
  {
   "cell_type": "markdown",
   "metadata": {},
   "source": [
    "- Calculate the missing values again and save them into the `missing_percentages` variable."
   ]
  },
  {
   "cell_type": "code",
   "execution_count": 17,
   "metadata": {},
   "outputs": [
    {
     "name": "stdout",
     "output_type": "stream",
     "text": [
      "The percentage of missing values:\n",
      "- Engine capacity(ccm): 0.0%\n",
      "- Price(EUR): 0.0%\n",
      "- Power(kW): 0.0%\n",
      "- Previous owners: 0.0%\n",
      "- ID: 0.0%\n",
      "- Battery warranty(km): 95.81%\n",
      "- Mileage(km): 0.0%\n",
      "- Battery capacity(kWh): 92.27%\n",
      "- CO2 emissions(g/km): 0.0%\n",
      "- AC charging time(h): 95.09%\n",
      "- DC charging time(min): 97.82%\n",
      "- Consumption(l/100km or kWh/100km): 0.0%\n",
      "- Seats: 0.0%\n"
     ]
    }
   ],
   "source": [
    "numeric_df = df.select_dtypes(include=np.number)\n",
    "missing_percentage = numeric_df.isnull().mean()\n",
    "\n",
    "print('The percentage of missing values:')\n",
    "for idx, missing in zip(missing_percentage.index, missing_percentage): \n",
    "    print(f'- {idx}: {round(missing * 100, 2)}%')"
   ]
  },
  {
   "cell_type": "markdown",
   "metadata": {},
   "source": [
    "- Now let's examine the distribution of data in the numerical columns. We will calculate percentiles with values of 0% (min), 25%, 50%, 75%, and 100% (max) to see how the data is distributed. The results will be saved in the `numeric_col_profile` variable."
   ]
  },
  {
   "cell_type": "code",
   "execution_count": 18,
   "metadata": {
    "scrolled": true
   },
   "outputs": [
    {
     "data": {
      "text/html": [
       "<div>\n",
       "<style scoped>\n",
       "    .dataframe tbody tr th:only-of-type {\n",
       "        vertical-align: middle;\n",
       "    }\n",
       "\n",
       "    .dataframe tbody tr th {\n",
       "        vertical-align: top;\n",
       "    }\n",
       "\n",
       "    .dataframe thead th {\n",
       "        text-align: right;\n",
       "    }\n",
       "</style>\n",
       "<table border=\"1\" class=\"dataframe\">\n",
       "  <thead>\n",
       "    <tr style=\"text-align: right;\">\n",
       "      <th></th>\n",
       "      <th>Engine capacity(ccm)</th>\n",
       "      <th>Price(EUR)</th>\n",
       "      <th>Power(kW)</th>\n",
       "      <th>Previous owners</th>\n",
       "      <th>ID</th>\n",
       "      <th>Battery warranty(km)</th>\n",
       "      <th>Mileage(km)</th>\n",
       "      <th>Battery capacity(kWh)</th>\n",
       "      <th>CO2 emissions(g/km)</th>\n",
       "      <th>AC charging time(h)</th>\n",
       "      <th>DC charging time(min)</th>\n",
       "      <th>Consumption(l/100km or kWh/100km)</th>\n",
       "      <th>Seats</th>\n",
       "    </tr>\n",
       "  </thead>\n",
       "  <tbody>\n",
       "    <tr>\n",
       "      <th>min</th>\n",
       "      <td>1.0</td>\n",
       "      <td>5399.0</td>\n",
       "      <td>33.0</td>\n",
       "      <td>0.0</td>\n",
       "      <td>61021609.0</td>\n",
       "      <td>100000.0</td>\n",
       "      <td>0.0</td>\n",
       "      <td>1.0</td>\n",
       "      <td>0.0</td>\n",
       "      <td>1.0</td>\n",
       "      <td>22.0</td>\n",
       "      <td>0.0</td>\n",
       "      <td>2.0</td>\n",
       "    </tr>\n",
       "    <tr>\n",
       "      <th>25%</th>\n",
       "      <td>1332.0</td>\n",
       "      <td>20474.0</td>\n",
       "      <td>85.0</td>\n",
       "      <td>0.0</td>\n",
       "      <td>61022011.5</td>\n",
       "      <td>120000.0</td>\n",
       "      <td>200.0</td>\n",
       "      <td>12.0</td>\n",
       "      <td>97.0</td>\n",
       "      <td>3.0</td>\n",
       "      <td>29.5</td>\n",
       "      <td>4.5</td>\n",
       "      <td>5.0</td>\n",
       "    </tr>\n",
       "    <tr>\n",
       "      <th>50%</th>\n",
       "      <td>1499.0</td>\n",
       "      <td>28399.0</td>\n",
       "      <td>107.0</td>\n",
       "      <td>0.0</td>\n",
       "      <td>61022427.0</td>\n",
       "      <td>160000.0</td>\n",
       "      <td>26788.0</td>\n",
       "      <td>16.0</td>\n",
       "      <td>117.0</td>\n",
       "      <td>4.0</td>\n",
       "      <td>32.0</td>\n",
       "      <td>5.2</td>\n",
       "      <td>5.0</td>\n",
       "    </tr>\n",
       "    <tr>\n",
       "      <th>75%</th>\n",
       "      <td>1968.0</td>\n",
       "      <td>41749.0</td>\n",
       "      <td>145.0</td>\n",
       "      <td>1.0</td>\n",
       "      <td>61022849.0</td>\n",
       "      <td>160000.0</td>\n",
       "      <td>62909.5</td>\n",
       "      <td>42.0</td>\n",
       "      <td>135.0</td>\n",
       "      <td>5.0</td>\n",
       "      <td>34.5</td>\n",
       "      <td>5.9</td>\n",
       "      <td>5.0</td>\n",
       "    </tr>\n",
       "    <tr>\n",
       "      <th>max</th>\n",
       "      <td>6496.0</td>\n",
       "      <td>394349.0</td>\n",
       "      <td>588.0</td>\n",
       "      <td>4.0</td>\n",
       "      <td>61023291.0</td>\n",
       "      <td>240000.0</td>\n",
       "      <td>174215.0</td>\n",
       "      <td>319.0</td>\n",
       "      <td>356.0</td>\n",
       "      <td>12.0</td>\n",
       "      <td>55.0</td>\n",
       "      <td>23.1</td>\n",
       "      <td>7.0</td>\n",
       "    </tr>\n",
       "  </tbody>\n",
       "</table>\n",
       "</div>"
      ],
      "text/plain": [
       "     Engine capacity(ccm)  Price(EUR)  Power(kW)  Previous owners          ID  \\\n",
       "min                   1.0      5399.0       33.0              0.0  61021609.0   \n",
       "25%                1332.0     20474.0       85.0              0.0  61022011.5   \n",
       "50%                1499.0     28399.0      107.0              0.0  61022427.0   \n",
       "75%                1968.0     41749.0      145.0              1.0  61022849.0   \n",
       "max                6496.0    394349.0      588.0              4.0  61023291.0   \n",
       "\n",
       "     Battery warranty(km)  Mileage(km)  Battery capacity(kWh)  \\\n",
       "min              100000.0          0.0                    1.0   \n",
       "25%              120000.0        200.0                   12.0   \n",
       "50%              160000.0      26788.0                   16.0   \n",
       "75%              160000.0      62909.5                   42.0   \n",
       "max              240000.0     174215.0                  319.0   \n",
       "\n",
       "     CO2 emissions(g/km)  AC charging time(h)  DC charging time(min)  \\\n",
       "min                  0.0                  1.0                   22.0   \n",
       "25%                 97.0                  3.0                   29.5   \n",
       "50%                117.0                  4.0                   32.0   \n",
       "75%                135.0                  5.0                   34.5   \n",
       "max                356.0                 12.0                   55.0   \n",
       "\n",
       "     Consumption(l/100km or kWh/100km)  Seats  \n",
       "min                                0.0    2.0  \n",
       "25%                                4.5    5.0  \n",
       "50%                                5.2    5.0  \n",
       "75%                                5.9    5.0  \n",
       "max                               23.1    7.0  "
      ]
     },
     "execution_count": 18,
     "metadata": {},
     "output_type": "execute_result"
    }
   ],
   "source": [
    "numeric_columns = df.select_dtypes(include=np.number).columns\n",
    "numeric_col_profile = df[numeric_columns].describe().loc[[\"min\", \"25%\", \"50%\", \"75%\", \"max\"]]\n",
    "numeric_col_profile "
   ]
  },
  {
   "cell_type": "markdown",
   "metadata": {},
   "source": [
    "- The distribution of the numerical columns seems to be normal, except for the minimum value of the`Engine capacity(ccm)` column which appears to be a bit unusual."
   ]
  },
  {
   "cell_type": "markdown",
   "metadata": {},
   "source": [
    "With each categorical column, how are values distributed?\n",
    "- What is the percentage of missing values?\n",
    "- How many different values? Are they abnormal?"
   ]
  },
  {
   "cell_type": "code",
   "execution_count": 19,
   "metadata": {},
   "outputs": [],
   "source": [
    "#TODO"
   ]
  },
  {
   "cell_type": "markdown",
   "metadata": {},
   "source": [
    "Dữ liệu có hợp lí hay không?"
   ]
  },
  {
   "cell_type": "code",
   "execution_count": 20,
   "metadata": {},
   "outputs": [],
   "source": [
    "#TODO"
   ]
  },
  {
   "cell_type": "markdown",
   "metadata": {},
   "source": [
    "Outlier detection and treatment."
   ]
  }
 ],
 "metadata": {
  "kernelspec": {
   "display_name": "Python 3 (ipykernel)",
   "language": "python",
   "name": "python3"
  },
  "language_info": {
   "codemirror_mode": {
    "name": "ipython",
    "version": 3
   },
   "file_extension": ".py",
   "mimetype": "text/x-python",
   "name": "python",
   "nbconvert_exporter": "python",
   "pygments_lexer": "ipython3",
   "version": "3.10.8"
  }
 },
 "nbformat": 4,
 "nbformat_minor": 4
}
