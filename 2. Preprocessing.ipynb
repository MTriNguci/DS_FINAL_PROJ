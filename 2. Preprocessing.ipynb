{
 "cells": [
  {
   "cell_type": "markdown",
   "metadata": {},
   "source": [
    "# Preprocessing"
   ]
  },
  {
   "cell_type": "code",
   "execution_count": 2,
   "metadata": {},
   "outputs": [],
   "source": [
    "# import library\n",
    "import pandas as pd"
   ]
  },
  {
   "cell_type": "markdown",
   "metadata": {},
   "source": [
    "<h1> Read data and Overview the data </h1>"
   ]
  },
  {
   "cell_type": "markdown",
   "metadata": {},
   "source": [
    "read data"
   ]
  },
  {
   "cell_type": "code",
   "execution_count": 40,
   "metadata": {},
   "outputs": [
    {
     "data": {
      "text/html": [
       "<div>\n",
       "<style scoped>\n",
       "    .dataframe tbody tr th:only-of-type {\n",
       "        vertical-align: middle;\n",
       "    }\n",
       "\n",
       "    .dataframe tbody tr th {\n",
       "        vertical-align: top;\n",
       "    }\n",
       "\n",
       "    .dataframe thead th {\n",
       "        text-align: right;\n",
       "    }\n",
       "</style>\n",
       "<table border=\"1\" class=\"dataframe\">\n",
       "  <thead>\n",
       "    <tr style=\"text-align: right;\">\n",
       "      <th></th>\n",
       "      <th>Unnamed: 0</th>\n",
       "      <th>CARNAME</th>\n",
       "      <th>ID</th>\n",
       "      <th>Make</th>\n",
       "      <th>Model</th>\n",
       "      <th>Body color</th>\n",
       "      <th>Type of finish</th>\n",
       "      <th>Interior color</th>\n",
       "      <th>Interior material</th>\n",
       "      <th>Body</th>\n",
       "      <th>...</th>\n",
       "      <th>Battery capacity</th>\n",
       "      <th>Hybrid type</th>\n",
       "      <th>Electric range</th>\n",
       "      <th>Warranty until</th>\n",
       "      <th>Weight</th>\n",
       "      <th>Country of origin</th>\n",
       "      <th>Secondary drive</th>\n",
       "      <th>Energy efficiency</th>\n",
       "      <th>Full service history</th>\n",
       "      <th>Battery capacity1</th>\n",
       "    </tr>\n",
       "  </thead>\n",
       "  <tbody>\n",
       "    <tr>\n",
       "      <th>1979</th>\n",
       "      <td>785</td>\n",
       "      <td>kia ceed</td>\n",
       "      <td>61022070</td>\n",
       "      <td>Kia</td>\n",
       "      <td>Ceed</td>\n",
       "      <td>NaN</td>\n",
       "      <td>NaN</td>\n",
       "      <td>Other interior color</td>\n",
       "      <td>Other interior material</td>\n",
       "      <td>Sedans / saloons</td>\n",
       "      <td>...</td>\n",
       "      <td>NaN</td>\n",
       "      <td>NaN</td>\n",
       "      <td>NaN</td>\n",
       "      <td>NaN</td>\n",
       "      <td>1521.0</td>\n",
       "      <td>NaN</td>\n",
       "      <td>NaN</td>\n",
       "      <td>NaN</td>\n",
       "      <td>NaN</td>\n",
       "      <td>NaN</td>\n",
       "    </tr>\n",
       "    <tr>\n",
       "      <th>1291</th>\n",
       "      <td>97</td>\n",
       "      <td>ford s-max</td>\n",
       "      <td>61023138</td>\n",
       "      <td>Ford</td>\n",
       "      <td>S-Max</td>\n",
       "      <td>White</td>\n",
       "      <td>NaN</td>\n",
       "      <td>Grey interior</td>\n",
       "      <td>Full leather interior</td>\n",
       "      <td>MPV</td>\n",
       "      <td>...</td>\n",
       "      <td>NaN</td>\n",
       "      <td>NaN</td>\n",
       "      <td>NaN</td>\n",
       "      <td>NaN</td>\n",
       "      <td>NaN</td>\n",
       "      <td>NaN</td>\n",
       "      <td>NaN</td>\n",
       "      <td>NaN</td>\n",
       "      <td>NaN</td>\n",
       "      <td>NaN</td>\n",
       "    </tr>\n",
       "    <tr>\n",
       "      <th>1845</th>\n",
       "      <td>651</td>\n",
       "      <td>mercedes-benz gls-400</td>\n",
       "      <td>61022289</td>\n",
       "      <td>Mercedes-Benz</td>\n",
       "      <td>GLS 400</td>\n",
       "      <td>White</td>\n",
       "      <td>NaN</td>\n",
       "      <td>NaN</td>\n",
       "      <td>NaN</td>\n",
       "      <td>SUV / offroad</td>\n",
       "      <td>...</td>\n",
       "      <td>NaN</td>\n",
       "      <td>NaN</td>\n",
       "      <td>NaN</td>\n",
       "      <td>NaN</td>\n",
       "      <td>NaN</td>\n",
       "      <td>NaN</td>\n",
       "      <td>NaN</td>\n",
       "      <td>NaN</td>\n",
       "      <td>NaN</td>\n",
       "      <td>NaN</td>\n",
       "    </tr>\n",
       "    <tr>\n",
       "      <th>329</th>\n",
       "      <td>329</td>\n",
       "      <td>audi a3</td>\n",
       "      <td>61027102</td>\n",
       "      <td>Audi</td>\n",
       "      <td>A3</td>\n",
       "      <td>Grey</td>\n",
       "      <td>Metallic</td>\n",
       "      <td>Black interior</td>\n",
       "      <td>Cloth interior</td>\n",
       "      <td>Sedans / saloons</td>\n",
       "      <td>...</td>\n",
       "      <td>NaN</td>\n",
       "      <td>NaN</td>\n",
       "      <td>NaN</td>\n",
       "      <td>NaN</td>\n",
       "      <td>NaN</td>\n",
       "      <td>NaN</td>\n",
       "      <td>NaN</td>\n",
       "      <td>NaN</td>\n",
       "      <td>NaN</td>\n",
       "      <td>NaN</td>\n",
       "    </tr>\n",
       "    <tr>\n",
       "      <th>2065</th>\n",
       "      <td>871</td>\n",
       "      <td>volkswagen passat</td>\n",
       "      <td>61021947</td>\n",
       "      <td>Volkswagen</td>\n",
       "      <td>Passat</td>\n",
       "      <td>Silver</td>\n",
       "      <td>Metallic</td>\n",
       "      <td>Black interior</td>\n",
       "      <td>Cloth interior</td>\n",
       "      <td>Station Wagon</td>\n",
       "      <td>...</td>\n",
       "      <td>NaN</td>\n",
       "      <td>NaN</td>\n",
       "      <td>NaN</td>\n",
       "      <td>NaN</td>\n",
       "      <td>NaN</td>\n",
       "      <td>NaN</td>\n",
       "      <td>NaN</td>\n",
       "      <td>NaN</td>\n",
       "      <td>NaN</td>\n",
       "      <td>NaN</td>\n",
       "    </tr>\n",
       "  </tbody>\n",
       "</table>\n",
       "<p>5 rows × 46 columns</p>\n",
       "</div>"
      ],
      "text/plain": [
       "      Unnamed: 0                CARNAME        ID           Make    Model  \\\n",
       "1979         785               kia ceed  61022070            Kia     Ceed   \n",
       "1291          97             ford s-max  61023138           Ford    S-Max   \n",
       "1845         651  mercedes-benz gls-400  61022289  Mercedes-Benz  GLS 400   \n",
       "329          329                audi a3  61027102           Audi       A3   \n",
       "2065         871      volkswagen passat  61021947     Volkswagen   Passat   \n",
       "\n",
       "     Body color Type of finish        Interior color        Interior material  \\\n",
       "1979        NaN            NaN  Other interior color  Other interior material   \n",
       "1291      White            NaN         Grey interior    Full leather interior   \n",
       "1845      White            NaN                   NaN                      NaN   \n",
       "329        Grey       Metallic        Black interior           Cloth interior   \n",
       "2065     Silver       Metallic        Black interior           Cloth interior   \n",
       "\n",
       "                  Body  ... Battery capacity Hybrid type Electric range  \\\n",
       "1979  Sedans / saloons  ...              NaN         NaN            NaN   \n",
       "1291               MPV  ...              NaN         NaN            NaN   \n",
       "1845     SUV / offroad  ...              NaN         NaN            NaN   \n",
       "329   Sedans / saloons  ...              NaN         NaN            NaN   \n",
       "2065     Station Wagon  ...              NaN         NaN            NaN   \n",
       "\n",
       "     Warranty until  Weight Country of origin Secondary drive  \\\n",
       "1979            NaN  1521.0               NaN             NaN   \n",
       "1291            NaN     NaN               NaN             NaN   \n",
       "1845            NaN     NaN               NaN             NaN   \n",
       "329             NaN     NaN               NaN             NaN   \n",
       "2065            NaN     NaN               NaN             NaN   \n",
       "\n",
       "     Energy efficiency Full service history Battery capacity1  \n",
       "1979               NaN                  NaN               NaN  \n",
       "1291               NaN                  NaN               NaN  \n",
       "1845               NaN                  NaN               NaN  \n",
       "329                NaN                  NaN               NaN  \n",
       "2065               NaN                  NaN               NaN  \n",
       "\n",
       "[5 rows x 46 columns]"
      ]
     },
     "execution_count": 40,
     "metadata": {},
     "output_type": "execute_result"
    }
   ],
   "source": [
    "data = pd.read_csv(\"data/final_data.csv\")\n",
    "data.sample(5)"
   ]
  },
  {
   "cell_type": "markdown",
   "metadata": {},
   "source": [
    "size of data\n"
   ]
  },
  {
   "cell_type": "code",
   "execution_count": 41,
   "metadata": {},
   "outputs": [
    {
     "data": {
      "text/plain": [
       "(2293, 46)"
      ]
     },
     "execution_count": 41,
     "metadata": {},
     "output_type": "execute_result"
    }
   ],
   "source": [
    "#TODO\n",
    "data.shape"
   ]
  },
  {
   "cell_type": "markdown",
   "metadata": {},
   "source": [
    "<h1> Brief introduction of data? What is the mean of each data properties/rows? </h1>"
   ]
  },
  {
   "cell_type": "code",
   "execution_count": 22,
   "metadata": {},
   "outputs": [
    {
     "data": {
      "text/plain": [
       "Index(['Unnamed: 0', 'CARNAME', 'ID', 'Make', 'Model', 'Body color',\n",
       "       'Type of finish', 'Interior color', 'Interior material', 'Body',\n",
       "       'Doors', 'Seats', 'VIN', 'Fuel', 'Transmission', 'Drive type', 'Power',\n",
       "       'El. motor power', 'CO2 emissions', 'Emission class', 'Battery type',\n",
       "       'AC charging time', 'DC charging time', 'Battery warranty (km)',\n",
       "       'Range extender', 'Mileage', 'First registration', 'Condition',\n",
       "       'Consumption', 'Price', 'Currency', 'Tags', 'Engine capacity',\n",
       "       'Valid MOT until', 'Previous owners', 'Engine power',\n",
       "       'Battery capacity', 'Hybrid type', 'Electric range', 'Warranty until',\n",
       "       'Weight', 'Country of origin', 'Secondary drive', 'Energy efficiency',\n",
       "       'Full service history', 'Battery capacity1'],\n",
       "      dtype='object')"
      ]
     },
     "execution_count": 22,
     "metadata": {},
     "output_type": "execute_result"
    }
   ],
   "source": [
    "#TODO\n",
    "data.columns"
   ]
  },
  {
   "cell_type": "markdown",
   "metadata": {},
   "source": [
    "\n",
    "<h2> Meaning of each column </h2>\n",
    "\n",
    "- **Unnamed: 0**: the index of original data\n",
    "- **CARNAME**: name of the car\n",
    "- **ID**: id of the car\n",
    "- **Make**: brand that the car is made\n",
    "- **Model**: model of the car\n",
    "- **Body color**: body/exterior color of the car\n",
    "- **Type of finish**: the paint finish or coating applied to the vehicle. \n",
    "    - Ex: Metallic finish is a type of paint that contains small metallic particles, typically aluminum flakes, which give the paint a shiny and reflective appearance.\n",
    "- **Interior color**: color of the car's interior\n",
    "- **Interior material**: materials used to construct the interior components of the vehicle, typically Leather,Cloth,Alcantara(high-end) \n",
    "- **Body**: body style or the overall design and structure of the vehicle (Sedan, SUV, MPV,...)\n",
    "- **Doors**: number of doors on a vehicle. 4/5 means that a car has 4 main doors (two front doors and two rear doors) and a rear hatch/liftgate\n",
    "- **Seats**: number of seating positions available for occupants.\n",
    "- **VIN**: (Vehicle Identification Number) - A unique code assigned to every motor vehicle when it's manufactured, used for identification purposes.\n",
    "- **Fuel**: the type of fuel the vehicle uses, such as gasoline, diesel, electric, hybrid, etc\n",
    "- **Transmission**: The type of transmission system the vehicle has, such as automatic, manual, or semi-automatic.\n",
    "- **Drive type**: Specifies whether the vehicle is front-wheel drive (FWD), rear-wheel drive (RWD), or all-wheel drive (AWD).\n",
    "- **Power**:  total power output of the vehicle's engine or powertrain, often measured in horsepower (hp) or kilowatts (kW).\n",
    "- **El. motor power**: The power output of the electric motor in electric or hybrid vehicles.\n",
    "- **CO2 emissions**: The amount of carbon dioxide emitted by the vehicle, measured in grams per kilometer (g/km).\n",
    "- **Emission class**: The vehicle's emission standard, indicating its compliance with environmental regulations.\n",
    "- **Battery type**: The type of battery used in electric or hybrid vehicles, such as lithium-ion.\n",
    "- **AC charging time**: The time (hour) it takes to charge the vehicle's battery using alternating current (AC).\n",
    "- **DC charging time**: The time (hour) it takes to charge the vehicle's battery using direct current (DC).\n",
    "- **Battery warranty (km)**: The distance (in kilometers) covered by the warranty for the vehicle's battery.\n",
    "- **Range extender**:  A feature in some electric vehicles that includes a backup power source (usually a small internal combustion engine) to extend the vehicle's range.\n",
    "- **Mileage**: The total distance the vehicle has traveled, often measured in miles or kilometers.\n",
    "- **First registration**: The date when the vehicle was first registered.\n",
    "- **Condition**: The overall state or condition of the vehicle, such as new or used.\n",
    "- **Consumption**: The fuel or energy consumption of the vehicle, often expressed in liters per 100 kilometers or miles per gallon.\n",
    "- **Price**: The selling price of the vehicle.\n",
    "- **Currency**: The currency in which the vehicle's price is quoted.\n",
    "- **Tags**: Special features/function that are equipped on the car.\n",
    "- **Engine capacity**: The total volume of all the cylinders in the engine (ccm).\n",
    "- **Valid MOT until**: The date until which the vehicle's Ministry of Transport (MOT) certification is valid.\n",
    "- **Previous owners**: The number of individuals or entities that have owned the vehicle before the current owner.\n",
    "- **Engine power**: The power output of the vehicle's electric engine.\n",
    "- **Battery capacity**: The total energy storage capacity of the vehicle's battery (kWh).\n",
    "- **Hybrid type**: The specific type of hybrid technology employed by the vehicle, such as parallel hybrid or series hybrid.\n",
    "- **Electric range**: The distance the vehicle can travel on electric power alone.\n",
    "- **Warranty until**: The date until which the vehicle is covered by a warranty.\n",
    "- **Weight**: The total weight of the vehicle, often measured in kilograms or pounds.\n",
    "- **Country of origin**: The country where the vehicle was manufactured.\n",
    "- **Secondary drive**: Additional features related to the vehicle's drive system, such as a secondary electric motor in hybrid vehicles.\n",
    "- **Energy efficiency**:  The efficiency of the vehicle in converting energy into motion.\n",
    "- **Full service history**: Documentation of all the services and maintenance performed on the vehicle.\n",
    "- **Battery capacity1**: The total energy storage capacity of the vehicle's battery (Ah) (Ampere-hour)."
   ]
  },
  {
   "cell_type": "markdown",
   "metadata": {},
   "source": [
    "<h1> Deduplicates </h1>"
   ]
  },
  {
   "cell_type": "code",
   "execution_count": 37,
   "metadata": {},
   "outputs": [
    {
     "name": "stdout",
     "output_type": "stream",
     "text": [
      "Empty DataFrame\n",
      "Columns: [Unnamed: 0, CARNAME, ID, Make, Model, Body color, Type of finish, Interior color, Interior material, Body, Doors, Seats, VIN, Fuel, Transmission, Drive type, Power, El. motor power, CO2 emissions, Emission class, Battery type, AC charging time, DC charging time, Battery warranty (km), Range extender, Mileage, First registration, Condition, Consumption, Price, Currency, Tags, Engine capacity, Valid MOT until, Previous owners, Engine power, Battery capacity, Hybrid type, Electric range, Warranty until, Weight, Country of origin, Secondary drive, Energy efficiency, Full service history, Battery capacity1]\n",
      "Index: []\n",
      "\n",
      "[0 rows x 46 columns]\n"
     ]
    }
   ],
   "source": [
    "#TODO\n",
    "\n",
    "duplicate_rows = data[data.duplicated()]\n",
    "# print duplicate rows\n",
    "print(duplicate_rows)"
   ]
  },
  {
   "cell_type": "markdown",
   "metadata": {},
   "source": [
    "- As we can see, there is no duplicated rows. Because we get data for different links.\n",
    "But "
   ]
  },
  {
   "cell_type": "markdown",
   "metadata": {},
   "source": [
    "What is the current data type of each column? Are there columns having inappropriate data types? If have, converting"
   ]
  },
  {
   "cell_type": "code",
   "execution_count": null,
   "metadata": {},
   "outputs": [],
   "source": [
    "#TODO"
   ]
  },
  {
   "cell_type": "markdown",
   "metadata": {},
   "source": [
    "With each numerical column, how are values distributed?\n",
    "- What is the percentage of missing values?\n",
    "- Nếu phát hiện mising value thì handle\n",
    "- Min? max? Are they abnormal?\n",
    "- Missing value treatment"
   ]
  },
  {
   "cell_type": "code",
   "execution_count": null,
   "metadata": {},
   "outputs": [],
   "source": [
    "#TODO"
   ]
  },
  {
   "cell_type": "markdown",
   "metadata": {},
   "source": [
    "With each categorical column, how are values distributed?\n",
    "- What is the percentage of missing values?\n",
    "- How many different values? Are they abnormal?"
   ]
  },
  {
   "cell_type": "code",
   "execution_count": null,
   "metadata": {},
   "outputs": [],
   "source": [
    "#TODO"
   ]
  },
  {
   "cell_type": "markdown",
   "metadata": {},
   "source": [
    "Dữ liệu có hợp lí hay không?"
   ]
  },
  {
   "cell_type": "code",
   "execution_count": null,
   "metadata": {},
   "outputs": [],
   "source": [
    "#TODO"
   ]
  },
  {
   "cell_type": "markdown",
   "metadata": {},
   "source": [
    "Outlier detection and treatment."
   ]
  }
 ],
 "metadata": {
  "kernelspec": {
   "display_name": "Python 3",
   "language": "python",
   "name": "python3"
  },
  "language_info": {
   "codemirror_mode": {
    "name": "ipython",
    "version": 3
   },
   "file_extension": ".py",
   "mimetype": "text/x-python",
   "name": "python",
   "nbconvert_exporter": "python",
   "pygments_lexer": "ipython3",
   "version": "3.10.7"
  }
 },
 "nbformat": 4,
 "nbformat_minor": 2
}
