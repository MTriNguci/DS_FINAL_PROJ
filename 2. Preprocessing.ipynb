{
 "cells": [
  {
   "cell_type": "markdown",
   "metadata": {},
   "source": [
    "# Preprocessing"
   ]
  },
  {
   "cell_type": "code",
   "execution_count": 15,
   "metadata": {},
   "outputs": [],
   "source": [
    "# import library\n",
    "import pandas as pd\n",
    "from datetime import datetime\n",
    "import numpy as np"
   ]
  },
  {
   "cell_type": "code",
   "execution_count": 3,
   "metadata": {},
   "outputs": [],
   "source": [
    "raw_df = pd.read_csv('data/crawl_data.csv')"
   ]
  },
  {
   "cell_type": "markdown",
   "metadata": {},
   "source": [
    "size of data\n"
   ]
  },
  {
   "cell_type": "code",
   "execution_count": 4,
   "metadata": {},
   "outputs": [
    {
     "data": {
      "text/plain": [
       "(2293, 46)"
      ]
     },
     "execution_count": 4,
     "metadata": {},
     "output_type": "execute_result"
    }
   ],
   "source": [
    "raw_df.shape"
   ]
  },
  {
   "cell_type": "markdown",
   "metadata": {},
   "source": [
    "<h1> Brief introduction of data? What is the mean of each data properties/rows? </h1>"
   ]
  },
  {
   "cell_type": "code",
   "execution_count": 5,
   "metadata": {},
   "outputs": [
    {
     "data": {
      "text/plain": [
       "Index(['Unnamed: 0', 'CARNAME', 'ID', 'Make', 'Model', 'Body color',\n",
       "       'Type of finish', 'Interior color', 'Interior material', 'Body',\n",
       "       'Doors', 'Seats', 'VIN', 'Fuel', 'Transmission', 'Drive type', 'Power',\n",
       "       'El. motor power', 'CO2 emissions', 'Emission class', 'Battery type',\n",
       "       'AC charging time', 'DC charging time', 'Battery warranty (km)',\n",
       "       'Range extender', 'Mileage', 'First registration', 'Condition',\n",
       "       'Consumption', 'Price', 'Currency', 'Tags', 'Engine capacity',\n",
       "       'Valid MOT until', 'Previous owners', 'Engine power',\n",
       "       'Battery capacity', 'Hybrid type', 'Electric range', 'Warranty until',\n",
       "       'Weight', 'Country of origin', 'Secondary drive', 'Energy efficiency',\n",
       "       'Full service history', 'Battery capacity1'],\n",
       "      dtype='object')"
      ]
     },
     "execution_count": 5,
     "metadata": {},
     "output_type": "execute_result"
    }
   ],
   "source": [
    "#TODO\n",
    "raw_df.columns"
   ]
  },
  {
   "cell_type": "markdown",
   "metadata": {},
   "source": [
    "\n",
    "<h2> Meaning of each column </h2>\n",
    "\n",
    "- **Unnamed: 0**: the index of original data\n",
    "- **CARNAME**: name of the car\n",
    "- **ID**: id of the car\n",
    "- **Make**: brand that the car is made\n",
    "- **Model**: model of the car\n",
    "- **Body color**: body/exterior color of the car\n",
    "- **Type of finish**: the paint finish or coating applied to the vehicle. \n",
    "    - Ex: Metallic finish is a type of paint that contains small metallic particles, typically aluminum flakes, which give the paint a shiny and reflective appearance.\n",
    "- **Interior color**: color of the car's interior\n",
    "- **Interior material**: materials used to construct the interior components of the vehicle, typically Leather,Cloth,Alcantara(high-end) \n",
    "- **Body**: body style or the overall design and structure of the vehicle (Sedan, SUV, MPV,...)\n",
    "- **Doors**: number of doors on a vehicle. 4/5 means that a car has 4 main doors (two front doors and two rear doors) and a rear hatch/liftgate\n",
    "- **Seats**: number of seating positions available for occupants.\n",
    "- **VIN**: (Vehicle Identification Number) - A unique code assigned to every motor vehicle when it's manufactured, used for identification purposes.\n",
    "- **Fuel**: the type of fuel the vehicle uses, such as gasoline, diesel, electric, hybrid, etc\n",
    "- **Transmission**: The type of transmission system the vehicle has, such as automatic, manual, or semi-automatic.\n",
    "- **Drive type**: Specifies whether the vehicle is front-wheel drive (FWD), rear-wheel drive (RWD), or all-wheel drive (AWD).\n",
    "- **Power**:  total power output of the vehicle's engine or powertrain, often measured in horsepower (hp) or kilowatts (kW).\n",
    "- **El. motor power**: The power output of the electric motor in electric or hybrid vehicles.\n",
    "- **CO2 emissions**: The amount of carbon dioxide emitted by the vehicle, measured in grams per kilometer (g/km).\n",
    "- **Emission class**: The vehicle's emission standard, indicating its compliance with environmental regulations.\n",
    "- **Battery type**: The type of battery used in electric or hybrid vehicles, such as lithium-ion.\n",
    "- **AC charging time**: The time (hour) it takes to charge the vehicle's battery using alternating current (AC).\n",
    "- **DC charging time**: The time (hour) it takes to charge the vehicle's battery using direct current (DC).\n",
    "- **Battery warranty (km)**: The distance (in kilometers) covered by the warranty for the vehicle's battery.\n",
    "- **Range extender**:  A feature in some electric vehicles that includes a backup power source (usually a small internal combustion engine) to extend the vehicle's range.\n",
    "- **Mileage**: The total distance the vehicle has traveled, often measured in miles or kilometers.\n",
    "- **First registration**: The date when the vehicle was first registered.\n",
    "- **Condition**: The overall state or condition of the vehicle, such as new or used.\n",
    "- **Consumption**: The fuel or energy consumption of the vehicle, often expressed in liters per 100 kilometers or miles per gallon.\n",
    "- **Price**: The selling price of the vehicle.\n",
    "- **Currency**: The currency in which the vehicle's price is quoted.\n",
    "- **Tags**: Special features/function that are equipped on the car.\n",
    "- **Engine capacity**: The total volume of all the cylinders in the engine (ccm).\n",
    "- **Valid MOT until**: The date until which the vehicle's Ministry of Transport (MOT) certification is valid.\n",
    "- **Previous owners**: The number of individuals or entities that have owned the vehicle before the current owner.\n",
    "- **Engine power**: The power output of the vehicle's electric engine.\n",
    "- **Battery capacity**: The total energy storage capacity of the vehicle's battery (kWh).\n",
    "- **Hybrid type**: The specific type of hybrid technology employed by the vehicle, such as parallel hybrid or series hybrid.\n",
    "- **Electric range**: The distance the vehicle can travel on electric power alone.\n",
    "- **Warranty until**: The date until which the vehicle is covered by a warranty.\n",
    "- **Weight**: The total weight of the vehicle, often measured in kilograms or pounds.\n",
    "- **Country of origin**: The country where the vehicle was manufactured.\n",
    "- **Secondary drive**: Additional features related to the vehicle's drive system, such as a secondary electric motor in hybrid vehicles.\n",
    "- **Energy efficiency**:  The efficiency of the vehicle in converting energy into motion.\n",
    "- **Full service history**: Documentation of all the services and maintenance performed on the vehicle.\n",
    "- **Battery capacity1**: The total energy storage capacity of the vehicle's battery (Ah) (Ampere-hour)."
   ]
  },
  {
   "cell_type": "markdown",
   "metadata": {},
   "source": [
    "<h1> Deduplicates </h1>"
   ]
  },
  {
   "cell_type": "code",
   "execution_count": 37,
   "metadata": {},
   "outputs": [
    {
     "name": "stdout",
     "output_type": "stream",
     "text": [
      "Empty DataFrame\n",
      "Columns: [Unnamed: 0, CARNAME, ID, Make, Model, Body color, Type of finish, Interior color, Interior material, Body, Doors, Seats, VIN, Fuel, Transmission, Drive type, Power, El. motor power, CO2 emissions, Emission class, Battery type, AC charging time, DC charging time, Battery warranty (km), Range extender, Mileage, First registration, Condition, Consumption, Price, Currency, Tags, Engine capacity, Valid MOT until, Previous owners, Engine power, Battery capacity, Hybrid type, Electric range, Warranty until, Weight, Country of origin, Secondary drive, Energy efficiency, Full service history, Battery capacity1]\n",
      "Index: []\n",
      "\n",
      "[0 rows x 46 columns]\n"
     ]
    }
   ],
   "source": [
    "#TODO\n",
    "duplicate_rows = raw_df[raw_df.duplicated()]\n",
    "# print duplicate rows\n",
    "print(duplicate_rows)"
   ]
  },
  {
   "cell_type": "markdown",
   "metadata": {},
   "source": [
    "- As we can see, there is no duplicated rows. Because we get data for different links."
   ]
  },
  {
   "cell_type": "markdown",
   "metadata": {},
   "source": [
    "# Analyzing Data in Columns\n",
    "Next, we will analyze and process the data in the columns of the crawled dataset."
   ]
  },
  {
   "cell_type": "markdown",
   "metadata": {},
   "source": [
    "- First, we calculate the data type (dtype) of each column in DataFrame `raw_df` and save the result into Series `dtypes` (This Series has the index as the column name)."
   ]
  },
  {
   "cell_type": "code",
   "execution_count": 6,
   "metadata": {},
   "outputs": [
    {
     "data": {
      "text/plain": [
       "Unnamed: 0                 int64\n",
       "CARNAME                   object\n",
       "ID                         int64\n",
       "Make                      object\n",
       "Model                     object\n",
       "Body color                object\n",
       "Type of finish            object\n",
       "Interior color            object\n",
       "Interior material         object\n",
       "Body                      object\n",
       "Doors                     object\n",
       "Seats                     object\n",
       "VIN                       object\n",
       "Fuel                      object\n",
       "Transmission              object\n",
       "Drive type                object\n",
       "Power                     object\n",
       "El. motor power           object\n",
       "CO2 emissions             object\n",
       "Emission class            object\n",
       "Battery type              object\n",
       "AC charging time          object\n",
       "DC charging time          object\n",
       "Battery warranty (km)     object\n",
       "Range extender            object\n",
       "Mileage                   object\n",
       "First registration        object\n",
       "Condition                 object\n",
       "Consumption               object\n",
       "Price                      int64\n",
       "Currency                  object\n",
       "Tags                      object\n",
       "Engine capacity           object\n",
       "Valid MOT until           object\n",
       "Previous owners          float64\n",
       "Engine power              object\n",
       "Battery capacity          object\n",
       "Hybrid type               object\n",
       "Electric range            object\n",
       "Warranty until            object\n",
       "Weight                   float64\n",
       "Country of origin         object\n",
       "Secondary drive           object\n",
       "Energy efficiency         object\n",
       "Full service history      object\n",
       "Battery capacity1         object\n",
       "dtype: object"
      ]
     },
     "execution_count": 6,
     "metadata": {},
     "output_type": "execute_result"
    }
   ],
   "source": [
    "#TODO\n",
    "dtypes = raw_df.dtypes\n",
    "dtypes"
   ]
  },
  {
   "cell_type": "markdown",
   "metadata": {},
   "source": [
    "- We need to check the data in the columns of the dataset."
   ]
  },
  {
   "cell_type": "code",
   "execution_count": 7,
   "metadata": {},
   "outputs": [
    {
     "name": "stdout",
     "output_type": "stream",
     "text": [
      "<class 'pandas.core.frame.DataFrame'>\n",
      "RangeIndex: 2293 entries, 0 to 2292\n",
      "Data columns (total 46 columns):\n",
      " #   Column                 Non-Null Count  Dtype  \n",
      "---  ------                 --------------  -----  \n",
      " 0   Unnamed: 0             2293 non-null   int64  \n",
      " 1   CARNAME                2293 non-null   object \n",
      " 2   ID                     2293 non-null   int64  \n",
      " 3   Make                   2293 non-null   object \n",
      " 4   Model                  2293 non-null   object \n",
      " 5   Body color             2111 non-null   object \n",
      " 6   Type of finish         1204 non-null   object \n",
      " 7   Interior color         1894 non-null   object \n",
      " 8   Interior material      1930 non-null   object \n",
      " 9   Body                   2293 non-null   object \n",
      " 10  Doors                  2272 non-null   object \n",
      " 11  Seats                  2080 non-null   object \n",
      " 12  VIN                    2293 non-null   object \n",
      " 13  Fuel                   2293 non-null   object \n",
      " 14  Transmission           2293 non-null   object \n",
      " 15  Drive type             2293 non-null   object \n",
      " 16  Power                  2293 non-null   object \n",
      " 17  El. motor power        118 non-null    object \n",
      " 18  CO2 emissions          2293 non-null   object \n",
      " 19  Emission class         2145 non-null   object \n",
      " 20  Battery type           146 non-null    object \n",
      " 21  AC charging time       105 non-null    object \n",
      " 22  DC charging time       53 non-null     object \n",
      " 23  Battery warranty (km)  99 non-null     object \n",
      " 24  Range extender         316 non-null    object \n",
      " 25  Mileage                2293 non-null   object \n",
      " 26  First registration     2293 non-null   object \n",
      " 27  Condition              1376 non-null   object \n",
      " 28  Consumption            2025 non-null   object \n",
      " 29  Price                  2293 non-null   int64  \n",
      " 30  Currency               2293 non-null   object \n",
      " 31  Tags                   2233 non-null   object \n",
      " 32  Engine capacity        2042 non-null   object \n",
      " 33  Valid MOT until        266 non-null    object \n",
      " 34  Previous owners        932 non-null    float64\n",
      " 35  Engine power           52 non-null     object \n",
      " 36  Battery capacity       177 non-null    object \n",
      " 37  Hybrid type            169 non-null    object \n",
      " 38  Electric range         28 non-null     object \n",
      " 39  Warranty until         312 non-null    object \n",
      " 40  Weight                 564 non-null    float64\n",
      " 41  Country of origin      279 non-null    object \n",
      " 42  Secondary drive        10 non-null     object \n",
      " 43  Energy efficiency      5 non-null      object \n",
      " 44  Full service history   8 non-null      object \n",
      " 45  Battery capacity1      2 non-null      object \n",
      "dtypes: float64(2), int64(3), object(41)\n",
      "memory usage: 824.2+ KB\n"
     ]
    }
   ],
   "source": [
    "df = raw_df.copy()\n",
    "df.info()"
   ]
  },
  {
   "cell_type": "markdown",
   "metadata": {},
   "source": [
    "- There are many columns with more than *70%* missing data, such as `Engine power`, `Full service history`, `Hybrid type`, ... Therefore, the columns with a high percentage of missing data will be removed before processing the data."
   ]
  },
  {
   "cell_type": "code",
   "execution_count": 8,
   "metadata": {},
   "outputs": [],
   "source": [
    "missing_column = ['Engine power','Full service history', \n",
    "                  'Hybrid type', 'El. motor power',\n",
    "                  'Electric range', 'Valid MOT until',\n",
    "                  'Energy efficiency', 'Secondary drive',\n",
    "                  'Range extender','Battery capacity1']\n",
    "df = df.drop(missing_column, axis = 1)"
   ]
  },
  {
   "cell_type": "markdown",
   "metadata": {},
   "source": [
    "- Removing unnecessary columns:\n",
    "    - `Unnamedd:0`0: the index number    - `Currency`cy: the currency unit, which is EUR for all entrie- s\n",
    "Therefore, we will also remove these columns from the dataset."
   ]
  },
  {
   "cell_type": "code",
   "execution_count": 9,
   "metadata": {},
   "outputs": [],
   "source": [
    "df = df.drop(['Currency','Unnamed: 0'], axis = 1)"
   ]
  },
  {
   "cell_type": "markdown",
   "metadata": {},
   "source": [
    "- After removing the columns with missing data and unnecessary columns, we need to process the data in the remaining columns. In this section, we will proceed with data processing in these columns."
   ]
  },
  {
   "cell_type": "markdown",
   "metadata": {},
   "source": [
    "1. What is the current data type of each column? Are there columns having inappropriate data types? If have, converting"
   ]
  },
  {
   "cell_type": "code",
   "execution_count": 10,
   "metadata": {},
   "outputs": [
    {
     "name": "stdout",
     "output_type": "stream",
     "text": [
      "<class 'pandas.core.frame.DataFrame'>\n",
      "RangeIndex: 2293 entries, 0 to 2292\n",
      "Data columns (total 34 columns):\n",
      " #   Column                 Non-Null Count  Dtype  \n",
      "---  ------                 --------------  -----  \n",
      " 0   CARNAME                2293 non-null   object \n",
      " 1   ID                     2293 non-null   int64  \n",
      " 2   Make                   2293 non-null   object \n",
      " 3   Model                  2293 non-null   object \n",
      " 4   Body color             2111 non-null   object \n",
      " 5   Type of finish         1204 non-null   object \n",
      " 6   Interior color         1894 non-null   object \n",
      " 7   Interior material      1930 non-null   object \n",
      " 8   Body                   2293 non-null   object \n",
      " 9   Doors                  2272 non-null   object \n",
      " 10  Seats                  2080 non-null   object \n",
      " 11  VIN                    2293 non-null   object \n",
      " 12  Fuel                   2293 non-null   object \n",
      " 13  Transmission           2293 non-null   object \n",
      " 14  Drive type             2293 non-null   object \n",
      " 15  Power                  2293 non-null   object \n",
      " 16  CO2 emissions          2293 non-null   object \n",
      " 17  Emission class         2145 non-null   object \n",
      " 18  Battery type           146 non-null    object \n",
      " 19  AC charging time       105 non-null    object \n",
      " 20  DC charging time       53 non-null     object \n",
      " 21  Battery warranty (km)  99 non-null     object \n",
      " 22  Mileage                2293 non-null   object \n",
      " 23  First registration     2293 non-null   object \n",
      " 24  Condition              1376 non-null   object \n",
      " 25  Consumption            2025 non-null   object \n",
      " 26  Price                  2293 non-null   int64  \n",
      " 27  Tags                   2233 non-null   object \n",
      " 28  Engine capacity        2042 non-null   object \n",
      " 29  Previous owners        932 non-null    float64\n",
      " 30  Battery capacity       177 non-null    object \n",
      " 31  Warranty until         312 non-null    object \n",
      " 32  Weight                 564 non-null    float64\n",
      " 33  Country of origin      279 non-null    object \n",
      "dtypes: float64(2), int64(2), object(30)\n",
      "memory usage: 609.2+ KB\n"
     ]
    }
   ],
   "source": [
    "df.info()"
   ]
  },
  {
   "cell_type": "markdown",
   "metadata": {},
   "source": [
    "- There are some columns with invalid data types.\n",
    "- The columns `Engine capacity`, `Power`, `Battery warranty (km)`, `Mileage`, `Battery capacity`, `CO2 emissions`, `AC charging time`, `DC charging time` and `Seats` should be converted to `int` or `float` data types instead of `string`. Therefore, we will process the data strings to convert them into numerical data types."
   ]
  },
  {
   "cell_type": "code",
   "execution_count": 11,
   "metadata": {},
   "outputs": [],
   "source": [
    "#TODO\n",
    "column_convert_to_numeric = ['Engine capacity','Power',\n",
    "                         'Battery warranty (km)','Mileage',\n",
    "                         'Battery capacity', 'CO2 emissions', \n",
    "                         'AC charging time', 'DC charging time']\n",
    "def convert_to_int(column):\n",
    "    for i in range(len(column)):\n",
    "        value = column[i]\n",
    "        if pd.notnull(value):\n",
    "            column[i] = value.split(' ')[0].strip().replace('\\xa0', '')\n",
    "    column = pd.to_numeric(column, errors='coerce')\n",
    "    return column\n",
    "    \n",
    "# Convert specified columns \n",
    "df[column_convert_to_numeric] = df[column_convert_to_numeric].apply(convert_to_int)\n",
    "# Convert 'Seats' column \n",
    "df['Seats'] = pd.to_numeric(df['Seats'], errors='coerce')"
   ]
  },
  {
   "cell_type": "code",
   "execution_count": 12,
   "metadata": {},
   "outputs": [],
   "source": [
    "# Rename the columns\n",
    "new_column_names = {'Engine capacity': 'Engine capacity(ccm)',\n",
    "                    'Price': 'Price(EUR)',\n",
    "                    'Power': 'Power(kW)',\n",
    "                    'Battery warranty (km)': 'Battery warranty(km)',\n",
    "                    'Mileage': 'Mileage(km)',\n",
    "                    'Battery capacity': 'Battery capacity(kWh)',\n",
    "                    'CO2 emissions': 'CO2 emissions(g/km)',\n",
    "                    'AC charging time': 'AC charging time(h)',\n",
    "                    'DC charging time': 'DC charging time(min)'}\n",
    "df = df.rename(columns=new_column_names)"
   ]
  },
  {
   "cell_type": "markdown",
   "metadata": {},
   "source": [
    "Process the columns that store month/year data as strings to datetime: \n",
    "- First registration\n",
    "- Warranty until"
   ]
  },
  {
   "cell_type": "code",
   "execution_count": 16,
   "metadata": {},
   "outputs": [],
   "source": [
    "def convert_to_datetime(date_str):\n",
    "    if pd.notnull(date_str):\n",
    "        date_format = \"%m/%Y\"\n",
    "        date_obj = datetime.strptime(date_str, date_format)\n",
    "        return date_obj\n",
    "    else:\n",
    "        return pd.NaT\n",
    "convert_column = ['First registration', 'Warranty until']\n",
    "df[convert_column] = df[convert_column].applymap(convert_to_datetime)"
   ]
  },
  {
   "cell_type": "code",
   "execution_count": 13,
   "metadata": {},
   "outputs": [],
   "source": [
    "# Xử lí cột consumption\n",
    "..."
   ]
  },
  {
   "cell_type": "code",
   "execution_count": 17,
   "metadata": {},
   "outputs": [
    {
     "name": "stdout",
     "output_type": "stream",
     "text": [
      "<class 'pandas.core.frame.DataFrame'>\n",
      "RangeIndex: 2293 entries, 0 to 2292\n",
      "Data columns (total 34 columns):\n",
      " #   Column                 Non-Null Count  Dtype         \n",
      "---  ------                 --------------  -----         \n",
      " 0   CARNAME                2293 non-null   object        \n",
      " 1   ID                     2293 non-null   int64         \n",
      " 2   Make                   2293 non-null   object        \n",
      " 3   Model                  2293 non-null   object        \n",
      " 4   Body color             2111 non-null   object        \n",
      " 5   Type of finish         1204 non-null   object        \n",
      " 6   Interior color         1894 non-null   object        \n",
      " 7   Interior material      1930 non-null   object        \n",
      " 8   Body                   2293 non-null   object        \n",
      " 9   Doors                  2272 non-null   object        \n",
      " 10  Seats                  2066 non-null   float64       \n",
      " 11  VIN                    2293 non-null   object        \n",
      " 12  Fuel                   2293 non-null   object        \n",
      " 13  Transmission           2293 non-null   object        \n",
      " 14  Drive type             2293 non-null   object        \n",
      " 15  Power(kW)              2293 non-null   int64         \n",
      " 16  CO2 emissions(g/km)    2293 non-null   int64         \n",
      " 17  Emission class         2145 non-null   object        \n",
      " 18  Battery type           146 non-null    object        \n",
      " 19  AC charging time(h)    105 non-null    float64       \n",
      " 20  DC charging time(min)  53 non-null     float64       \n",
      " 21  Battery warranty(km)   99 non-null     float64       \n",
      " 22  Mileage(km)            2293 non-null   int64         \n",
      " 23  First registration     2293 non-null   datetime64[ns]\n",
      " 24  Condition              1376 non-null   object        \n",
      " 25  Consumption            2025 non-null   object        \n",
      " 26  Price(EUR)             2293 non-null   int64         \n",
      " 27  Tags                   2233 non-null   object        \n",
      " 28  Engine capacity(ccm)   2042 non-null   float64       \n",
      " 29  Previous owners        932 non-null    float64       \n",
      " 30  Battery capacity(kWh)  177 non-null    float64       \n",
      " 31  Warranty until         312 non-null    datetime64[ns]\n",
      " 32  Weight                 564 non-null    float64       \n",
      " 33  Country of origin      279 non-null    object        \n",
      "dtypes: datetime64[ns](2), float64(8), int64(5), object(19)\n",
      "memory usage: 609.2+ KB\n"
     ]
    }
   ],
   "source": [
    "# After converting data types\n",
    "df.info()"
   ]
  },
  {
   "cell_type": "markdown",
   "metadata": {},
   "source": [
    "- Now the data types of the columns are more appropriate. The next step is to examine the distribution of data in the numerical and categorical columns."
   ]
  },
  {
   "cell_type": "markdown",
   "metadata": {},
   "source": [
    "2. With each numerical column, how are values distributed?\n",
    "- What is the percentage of missing values?\n",
    "- Handling missing values\n",
    "- Min? max? Are they abnormal?\n",
    "- Missing value treatment"
   ]
  },
  {
   "cell_type": "markdown",
   "metadata": {},
   "source": [
    "- Filter out the columns that contain numerical data. Calculate the missing data rate for each column."
   ]
  },
  {
   "cell_type": "code",
   "execution_count": 15,
   "metadata": {},
   "outputs": [
    {
     "name": "stdout",
     "output_type": "stream",
     "text": [
      "The percentage of missing values:\n",
      "- Weight: 71.34%\n",
      "- Engine capacity(ccm): 10.74%\n",
      "- Price(EUR): 0.0%\n",
      "- Power(kW): 0.0%\n",
      "- Previous owners: 65.97%\n",
      "- ID: 0.0%\n",
      "- Battery warranty(km): 95.81%\n",
      "- Mileage(km): 0.0%\n",
      "- Battery capacity(kWh): 92.27%\n",
      "- CO2 emissions(g/km): 0.0%\n",
      "- AC charging time(h): 95.09%\n",
      "- DC charging time(min): 97.82%\n",
      "- Seats: 10.56%\n"
     ]
    }
   ],
   "source": [
    "numeric_df = df.select_dtypes(include=np.number)\n",
    "missing_percentage = numeric_df.isnull().mean()\n",
    "\n",
    "print('The percentage of missing values:')\n",
    "for idx, missing in zip(missing_percentage.index, missing_percentage): \n",
    "    print(f'- {idx}: {round(missing * 100, 2)}%')"
   ]
  },
  {
   "cell_type": "markdown",
   "metadata": {},
   "source": [
    "- The columns `Battery warranty (km)`, `Battery capacity`, `AC charging time` và `DC charging time` have a high rate of missing data due to the fact that these attributes are only applicable to electric cars. Therefore, it is recommended to keep the data as it is in these columns.\n",
    "- For the column `Previous owners`, which indicates whether the car has been previously owned or not, the missing values can be replaced with 0, assuming that the missing values correspond to cars that are brand new.\n",
    "- The missing values in the columnst `Seats` and `Engine capacity`will be replaced with the median value.\n",
    "- The missing values in the column `Weight`  will be filled with the mean value."
   ]
  },
  {
   "cell_type": "code",
   "execution_count": 16,
   "metadata": {},
   "outputs": [],
   "source": [
    "df['Previous owners'] = df['Previous owners'].fillna(0)\n",
    "\n",
    "# Xử lí missing values cột Seats\n",
    "median_seats = df['Seats'].median()\n",
    "df['Seats'] = df['Seats'].fillna(median_seats)\n",
    "\n",
    "# Xử lí missing values cột Engine capacity\n",
    "median_engine_capacity = df['Engine capacity(ccm)'].median()\n",
    "df['Engine capacity(ccm)'] = df['Engine capacity(ccm)'].fillna(median_engine_capacity)\n",
    "\n",
    "# Xử lí missing values cột Weight\n",
    "mean_weight = df['Weight'].mean().round(2)\n",
    "df['Weight'] = df['Weight'].fillna(mean_weight)"
   ]
  },
  {
   "cell_type": "markdown",
   "metadata": {},
   "source": [
    "- Calculate the missing values again and save them into the `missing_percentages` variable."
   ]
  },
  {
   "cell_type": "code",
   "execution_count": 17,
   "metadata": {},
   "outputs": [
    {
     "name": "stdout",
     "output_type": "stream",
     "text": [
      "The percentage of missing values:\n",
      "- Weight: 0.0%\n",
      "- Engine capacity(ccm): 0.0%\n",
      "- Price(EUR): 0.0%\n",
      "- Power(kW): 0.0%\n",
      "- Previous owners: 0.0%\n",
      "- ID: 0.0%\n",
      "- Battery warranty(km): 95.81%\n",
      "- Mileage(km): 0.0%\n",
      "- Battery capacity(kWh): 92.27%\n",
      "- CO2 emissions(g/km): 0.0%\n",
      "- AC charging time(h): 95.09%\n",
      "- DC charging time(min): 97.82%\n",
      "- Seats: 0.0%\n"
     ]
    }
   ],
   "source": [
    "numeric_df = df.select_dtypes(include=np.number)\n",
    "missing_percentage = numeric_df.isnull().mean()\n",
    "\n",
    "print('The percentage of missing values:')\n",
    "for idx, missing in zip(missing_percentage.index, missing_percentage): \n",
    "    print(f'- {idx}: {round(missing * 100, 2)}%')"
   ]
  },
  {
   "cell_type": "markdown",
   "metadata": {},
   "source": [
    "- Now let's examine the distribution of data in the numerical columns. We will calculate percentiles with values of 0% (min), 25%, 50%, 75%, and 100% (max) to see how the data is distributed. The results will be saved in the `numeric_col_profile` variable."
   ]
  },
  {
   "cell_type": "code",
   "execution_count": 18,
   "metadata": {
    "scrolled": true
   },
   "outputs": [
    {
     "data": {
      "text/html": [
       "<div>\n",
       "<style scoped>\n",
       "    .dataframe tbody tr th:only-of-type {\n",
       "        vertical-align: middle;\n",
       "    }\n",
       "\n",
       "    .dataframe tbody tr th {\n",
       "        vertical-align: top;\n",
       "    }\n",
       "\n",
       "    .dataframe thead th {\n",
       "        text-align: right;\n",
       "    }\n",
       "</style>\n",
       "<table border=\"1\" class=\"dataframe\">\n",
       "  <thead>\n",
       "    <tr style=\"text-align: right;\">\n",
       "      <th></th>\n",
       "      <th>Weight</th>\n",
       "      <th>Engine capacity(ccm)</th>\n",
       "      <th>Price(EUR)</th>\n",
       "      <th>Power(kW)</th>\n",
       "      <th>Previous owners</th>\n",
       "      <th>ID</th>\n",
       "      <th>Battery warranty(km)</th>\n",
       "      <th>Mileage(km)</th>\n",
       "      <th>Battery capacity(kWh)</th>\n",
       "      <th>CO2 emissions(g/km)</th>\n",
       "      <th>AC charging time(h)</th>\n",
       "      <th>DC charging time(min)</th>\n",
       "      <th>Seats</th>\n",
       "    </tr>\n",
       "  </thead>\n",
       "  <tbody>\n",
       "    <tr>\n",
       "      <th>min</th>\n",
       "      <td>830.00</td>\n",
       "      <td>1.0</td>\n",
       "      <td>5399.0</td>\n",
       "      <td>33.0</td>\n",
       "      <td>0.0</td>\n",
       "      <td>61021609.0</td>\n",
       "      <td>100000.0</td>\n",
       "      <td>0.0</td>\n",
       "      <td>1.0</td>\n",
       "      <td>0.0</td>\n",
       "      <td>1.0</td>\n",
       "      <td>22.0</td>\n",
       "      <td>2.0</td>\n",
       "    </tr>\n",
       "    <tr>\n",
       "      <th>25%</th>\n",
       "      <td>1597.77</td>\n",
       "      <td>1332.0</td>\n",
       "      <td>20474.0</td>\n",
       "      <td>85.0</td>\n",
       "      <td>0.0</td>\n",
       "      <td>61022011.5</td>\n",
       "      <td>120000.0</td>\n",
       "      <td>200.0</td>\n",
       "      <td>12.0</td>\n",
       "      <td>97.0</td>\n",
       "      <td>3.0</td>\n",
       "      <td>29.5</td>\n",
       "      <td>5.0</td>\n",
       "    </tr>\n",
       "    <tr>\n",
       "      <th>50%</th>\n",
       "      <td>1597.77</td>\n",
       "      <td>1499.0</td>\n",
       "      <td>28399.0</td>\n",
       "      <td>107.0</td>\n",
       "      <td>0.0</td>\n",
       "      <td>61022427.0</td>\n",
       "      <td>160000.0</td>\n",
       "      <td>26788.0</td>\n",
       "      <td>16.0</td>\n",
       "      <td>117.0</td>\n",
       "      <td>4.0</td>\n",
       "      <td>32.0</td>\n",
       "      <td>5.0</td>\n",
       "    </tr>\n",
       "    <tr>\n",
       "      <th>75%</th>\n",
       "      <td>1597.77</td>\n",
       "      <td>1968.0</td>\n",
       "      <td>41749.0</td>\n",
       "      <td>145.0</td>\n",
       "      <td>1.0</td>\n",
       "      <td>61022849.0</td>\n",
       "      <td>160000.0</td>\n",
       "      <td>62909.5</td>\n",
       "      <td>42.0</td>\n",
       "      <td>135.0</td>\n",
       "      <td>5.0</td>\n",
       "      <td>34.5</td>\n",
       "      <td>5.0</td>\n",
       "    </tr>\n",
       "    <tr>\n",
       "      <th>max</th>\n",
       "      <td>2676.00</td>\n",
       "      <td>6496.0</td>\n",
       "      <td>394349.0</td>\n",
       "      <td>588.0</td>\n",
       "      <td>4.0</td>\n",
       "      <td>61023291.0</td>\n",
       "      <td>240000.0</td>\n",
       "      <td>174215.0</td>\n",
       "      <td>319.0</td>\n",
       "      <td>356.0</td>\n",
       "      <td>12.0</td>\n",
       "      <td>55.0</td>\n",
       "      <td>7.0</td>\n",
       "    </tr>\n",
       "  </tbody>\n",
       "</table>\n",
       "</div>"
      ],
      "text/plain": [
       "      Weight  Engine capacity(ccm)  Price(EUR)  Power(kW)  Previous owners  \\\n",
       "min   830.00                   1.0      5399.0       33.0              0.0   \n",
       "25%  1597.77                1332.0     20474.0       85.0              0.0   \n",
       "50%  1597.77                1499.0     28399.0      107.0              0.0   \n",
       "75%  1597.77                1968.0     41749.0      145.0              1.0   \n",
       "max  2676.00                6496.0    394349.0      588.0              4.0   \n",
       "\n",
       "             ID  Battery warranty(km)  Mileage(km)  Battery capacity(kWh)  \\\n",
       "min  61021609.0              100000.0          0.0                    1.0   \n",
       "25%  61022011.5              120000.0        200.0                   12.0   \n",
       "50%  61022427.0              160000.0      26788.0                   16.0   \n",
       "75%  61022849.0              160000.0      62909.5                   42.0   \n",
       "max  61023291.0              240000.0     174215.0                  319.0   \n",
       "\n",
       "     CO2 emissions(g/km)  AC charging time(h)  DC charging time(min)  Seats  \n",
       "min                  0.0                  1.0                   22.0    2.0  \n",
       "25%                 97.0                  3.0                   29.5    5.0  \n",
       "50%                117.0                  4.0                   32.0    5.0  \n",
       "75%                135.0                  5.0                   34.5    5.0  \n",
       "max                356.0                 12.0                   55.0    7.0  "
      ]
     },
     "execution_count": 18,
     "metadata": {},
     "output_type": "execute_result"
    }
   ],
   "source": [
    "numeric_columns = df.select_dtypes(include=np.number).columns\n",
    "numeric_col_profile = df[numeric_columns].describe().loc[[\"min\", \"25%\", \"50%\", \"75%\", \"max\"]]\n",
    "numeric_col_profile "
   ]
  },
  {
   "cell_type": "markdown",
   "metadata": {},
   "source": [
    "- The distribution of the numerical columns seems to be normal, except for the minimum value of the`Engine capacity(ccm)` column which appears to be a bit unusual."
   ]
  },
  {
   "cell_type": "markdown",
   "metadata": {},
   "source": [
    "With each categorical column, how are values distributed?\n",
    "- What is the percentage of missing values?\n",
    "- How many different values? Are they abnormal?"
   ]
  },
  {
   "cell_type": "code",
   "execution_count": 19,
   "metadata": {},
   "outputs": [],
   "source": [
    "#TODO"
   ]
  },
  {
   "cell_type": "markdown",
   "metadata": {},
   "source": [
    "Dữ liệu có hợp lí hay không?"
   ]
  },
  {
   "cell_type": "code",
   "execution_count": 20,
   "metadata": {},
   "outputs": [],
   "source": [
    "#TODO"
   ]
  },
  {
   "cell_type": "markdown",
   "metadata": {},
   "source": [
    "Outlier detection and treatment."
   ]
  }
 ],
 "metadata": {
  "kernelspec": {
   "display_name": "Python 3 (ipykernel)",
   "language": "python",
   "name": "python3"
  },
  "language_info": {
   "codemirror_mode": {
    "name": "ipython",
    "version": 3
   },
   "file_extension": ".py",
   "mimetype": "text/x-python",
   "name": "python",
   "nbconvert_exporter": "python",
   "pygments_lexer": "ipython3",
   "version": "3.10.11"
  }
 },
 "nbformat": 4,
 "nbformat_minor": 4
}
