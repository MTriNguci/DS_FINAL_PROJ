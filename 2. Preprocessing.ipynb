{
 "cells": [
  {
   "cell_type": "markdown",
   "metadata": {},
   "source": [
    "# Preprocessing\n",
    "\n",
    "This notebook is specifically designed for conducting data preprocessing tasks. In the upcoming sections, we will undertake a variety of data preprocessing steps, such as converting data types, filling in missing values, and more, to improve the overall quality and usability of the dataset.\n"
   ]
  },
  {
   "cell_type": "code",
   "execution_count": null,
   "metadata": {},
   "outputs": [],
   "source": [
    "# import library\n",
    "import pandas as pd\n",
    "import numpy as np\n",
    "import matplotlib.pyplot as plt\n",
    "from datetime import datetime\n",
    "import plotly.graph_objects as go\n",
    "import seaborn as sns\n"
   ]
  },
  {
   "cell_type": "markdown",
   "metadata": {},
   "source": [
    "Load data "
   ]
  },
  {
   "cell_type": "code",
   "execution_count": null,
   "metadata": {},
   "outputs": [],
   "source": [
    "raw_df = pd.read_csv('data/crawl_data.csv')"
   ]
  },
  {
   "cell_type": "markdown",
   "metadata": {},
   "source": [
    "# Data overview\n",
    "\n",
    "Let's provide a brief introduction to the dataset and explain the meaning of each column.\n",
    "\n",
    "First, we will check the size of data"
   ]
  },
  {
   "cell_type": "code",
   "execution_count": null,
   "metadata": {},
   "outputs": [],
   "source": [
    "raw_df.shape"
   ]
  },
  {
   "cell_type": "markdown",
   "metadata": {},
   "source": [
    "Take a look at the first 5 rows of data"
   ]
  },
  {
   "cell_type": "code",
   "execution_count": null,
   "metadata": {},
   "outputs": [],
   "source": [
    "raw_df.head(5)"
   ]
  },
  {
   "cell_type": "markdown",
   "metadata": {},
   "source": [
    "Next, let's delve into the meaning of each column in our DataFrame to gain a better understanding\n",
    "\n",
    "<h2> Explain the meaning of each column </h2>\n",
    "\n",
    "- **Unnamed: 0**: the index of original data\n",
    "- **CARNAME**: name of the car\n",
    "- **ID**: id of the car\n",
    "- **Make**: brand that the car is made\n",
    "- **Model**: model of the car\n",
    "- **Body color**: body/exterior color of the car\n",
    "- **Type of finish**: the paint finish or coating applied to the vehicle. \n",
    "    - Ex: Metallic finish is a type of paint that contains small metallic particles, typically aluminum flakes, which give the paint a shiny and reflective appearance.\n",
    "- **Interior color**: color of the car's interior\n",
    "- **Interior material**: materials used to construct the interior components of the vehicle, typically Leather,Cloth,Alcantara(high-end) \n",
    "- **Body**: body style or the overall design and structure of the vehicle (Sedan, SUV, MPV,...)\n",
    "- **Doors**: number of doors on a vehicle. 4/5 means that a car has 4 main doors (two front doors and two rear doors) and a rear hatch/liftgate\n",
    "- **Seats**: number of seating positions available for occupants.\n",
    "- **VIN**: (Vehicle Identification Number) - A unique code assigned to every motor vehicle when it's manufactured, used for identification purposes.\n",
    "- **Fuel**: the type of fuel the vehicle uses, such as gasoline, diesel, electric, hybrid, etc\n",
    "- **Transmission**: The type of transmission system the vehicle has, such as automatic, manual, or semi-automatic.\n",
    "- **Drive type**: Specifies whether the vehicle is front-wheel drive (FWD), rear-wheel drive (RWD), or all-wheel drive (AWD).\n",
    "- **Power**:  total power output of the vehicle's engine or powertrain, often measured in horsepower (hp) or kilowatts (kW).\n",
    "- **El. motor power**: The power output of the electric motor in electric or hybrid vehicles.\n",
    "- **CO2 emissions**: The amount of carbon dioxide emitted by the vehicle, measured in grams per kilometer (g/km).\n",
    "- **Emission class**: The vehicle's emission standard, indicating its compliance with environmental regulations.\n",
    "- **Battery type**: The type of battery used in electric or hybrid vehicles, such as lithium-ion.\n",
    "- **AC charging time**: The time (hour) it takes to charge the vehicle's battery using alternating current (AC).\n",
    "- **DC charging time**: The time (hour) it takes to charge the vehicle's battery using direct current (DC).\n",
    "- **Battery warranty (km)**: The distance (in kilometers) covered by the warranty for the vehicle's battery.\n",
    "- **Range extender**:  A feature in some electric vehicles that includes a backup power source (usually a small internal combustion engine) to extend the vehicle's range.\n",
    "- **Mileage**: The total distance the vehicle has traveled, often measured in miles or kilometers.\n",
    "- **First registration**: The date when the vehicle was first registered.\n",
    "- **Condition**: The overall state or condition of the vehicle, such as new or used.\n",
    "- **Consumption**: The fuel or energy consumption of the vehicle, often expressed in liters per 100 kilometers or miles per gallon.\n",
    "- **Price**: The selling price of the vehicle.\n",
    "- **Currency**: The currency in which the vehicle's price is quoted.\n",
    "- **Tags**: Special features/function that are equipped on the car.\n",
    "- **Engine capacity**: The total volume of all the cylinders in the engine (ccm).\n",
    "- **Valid MOT until**: The date until which the vehicle's Ministry of Transport (MOT) certification is valid.\n",
    "- **Previous owners**: The number of individuals or entities that have owned the vehicle before the current owner.\n",
    "- **Engine power**: The power output of the vehicle's electric engine.\n",
    "- **Battery capacity**: The total energy storage capacity of the vehicle's battery (kWh).\n",
    "- **Hybrid type**: The specific type of hybrid technology employed by the vehicle, such as parallel hybrid or series hybrid.\n",
    "- **Electric range**: The distance the vehicle can travel on electric power alone.\n",
    "- **Warranty until**: The date until which the vehicle is covered by a warranty.\n",
    "- **Weight**: The total weight of the vehicle, often measured in kilograms or pounds.\n",
    "- **Country of origin**: The country where the vehicle was manufactured.\n",
    "- **Secondary drive**: Additional features related to the vehicle's drive system, such as a secondary electric motor in hybrid vehicles.\n",
    "- **Energy efficiency**:  The efficiency of the vehicle in converting energy into motion.\n",
    "- **Full service history**: Documentation of all the services and maintenance performed on the vehicle.\n",
    "- **Battery capacity1**: The total energy storage capacity of the vehicle's battery (Ah) (Ampere-hour)."
   ]
  },
  {
   "cell_type": "markdown",
   "metadata": {},
   "source": [
    "# Data cleaning"
   ]
  },
  {
   "cell_type": "markdown",
   "metadata": {},
   "source": [
    "## Check for Duplicates\n",
    "\n",
    "Let's check for and handle duplicate rows in the dataset."
   ]
  },
  {
   "cell_type": "code",
   "execution_count": null,
   "metadata": {},
   "outputs": [],
   "source": [
    "#TODO\n",
    "duplicate_rows = raw_df[raw_df.duplicated()]\n",
    "# print duplicate rows\n",
    "print(duplicate_rows)"
   ]
  },
  {
   "cell_type": "markdown",
   "metadata": {},
   "source": [
    "As we can see, there is no duplicated rows. This is expected because we get data for different links."
   ]
  },
  {
   "cell_type": "markdown",
   "metadata": {},
   "source": [
    "## Analyzing Data in Columns\n",
    "Next, we will analyze and process the data in the columns of the crawled dataset."
   ]
  },
  {
   "cell_type": "markdown",
   "metadata": {},
   "source": [
    "- First, we calculate the data type (dtype) of each column in DataFrame `raw_df` and save the result into Series `dtypes` (This Series has the index as the column name)."
   ]
  },
  {
   "cell_type": "code",
   "execution_count": null,
   "metadata": {},
   "outputs": [],
   "source": [
    "#TODO\n",
    "dtypes = raw_df.dtypes\n",
    "dtypes"
   ]
  },
  {
   "cell_type": "markdown",
   "metadata": {},
   "source": [
    "### Remove columns with high missing values and unnecessary columns"
   ]
  },
  {
   "cell_type": "markdown",
   "metadata": {},
   "source": [
    "- We need to check the data in the columns of the dataset."
   ]
  },
  {
   "cell_type": "code",
   "execution_count": null,
   "metadata": {
    "scrolled": false
   },
   "outputs": [],
   "source": [
    "df = raw_df.copy()\n",
    "df.info()"
   ]
  },
  {
   "cell_type": "markdown",
   "metadata": {},
   "source": [
    "To enhance clarity, we will now display a list of columns with a significant proportion of missing values"
   ]
  },
  {
   "cell_type": "code",
   "execution_count": null,
   "metadata": {},
   "outputs": [],
   "source": [
    "# Tính tỷ lệ giá trị bị thiếu cho mỗi cột\n",
    "missing_ratio = df.isnull().mean() * 100\n",
    "\n",
    "# Lọc ra các cột có tỷ lệ giá trị bị thiếu lớn hơn 60%\n",
    "missing_column = missing_ratio[missing_ratio > 60]\n",
    "\n",
    "# In ra tên cột và tỷ lệ giá trị bị thiếu tương ứng\n",
    "for column_name, missing_percent in missing_column.items():\n",
    "    print(f\"'{column_name}': {missing_percent}%\")\n"
   ]
  },
  {
   "cell_type": "markdown",
   "metadata": {},
   "source": [
    "Due to the significantly lower reporting of electric vehicles compared to other types of vehicles, there is a substantial amount of missing data for certain attributes exclusive to electric cars.\n",
    "\n",
    "Primarily, we will address general information columns present in all types of vehicles.\n",
    "\n",
    "- There are many columns with more than *60%* missing data, such as `Engine power`, `Full service history`, `Hybrid type`, ... Therefore, the columns with a high percentage of missing data will be removed before processing the data."
   ]
  },
  {
   "cell_type": "code",
   "execution_count": null,
   "metadata": {},
   "outputs": [],
   "source": [
    "missing_column = missing_column.index\n",
    "\n",
    "#Loại trừ ra \n",
    "electric_vehicle_columns = [\n",
    "    'El. motor power',\n",
    "    'Battery type',\n",
    "    'AC charging time',\n",
    "    'DC charging time',\n",
    "    'Battery warranty (km)',\n",
    "    'Battery capacity',\n",
    "    'Electric range',\n",
    "    'Battery capacity1'\n",
    "]\n",
    "\n",
    "missing_column = missing_column.drop(electric_vehicle_columns )\n",
    "df = df.drop(missing_column, axis = 1)"
   ]
  },
  {
   "cell_type": "markdown",
   "metadata": {},
   "source": [
    "- Removing unnecessary columns:\n",
    "    - `Unnamed:0`: the index number    \n",
    "    - `Currency`: the currency unit, which is EUR for all entries\n",
    "    Therefore, we will also remove these columns from the dataset."
   ]
  },
  {
   "cell_type": "code",
   "execution_count": null,
   "metadata": {},
   "outputs": [],
   "source": [
    "df = df.drop(['Currency','Unnamed: 0'], axis = 1)"
   ]
  },
  {
   "cell_type": "markdown",
   "metadata": {},
   "source": [
    "Next, we will examine the missing value rates within the primary columns related to electric vehicles. We need to assess how these columns perform in terms of missing values when considering only the subset of electric vehicles. This evaluation will help determine whether these columns can be effectively utilized for analysis."
   ]
  },
  {
   "cell_type": "code",
   "execution_count": null,
   "metadata": {},
   "outputs": [],
   "source": [
    "# Lọc ra xe điện từ df\n",
    "df_electric = df[df['Fuel'] == 'Electric']\n",
    "\n",
    "# Tính toán tỷ lệ phần trăm giá trị bị thiếu cho từng cột\n",
    "missing_values_total = df[electric_vehicle_columns].isnull().mean() * 100\n",
    "missing_values_electric = df_electric[electric_vehicle_columns].isnull().mean() * 100\n",
    "\n",
    "# Tạo biểu đồ\n",
    "fig = go.Figure()\n",
    "\n",
    "fig.add_trace(go.Bar(\n",
    "    x=electric_vehicle_columns,\n",
    "    y=missing_values_total,\n",
    "    name='Tổng thể',\n",
    "    marker_color='indianred'\n",
    "))\n",
    "\n",
    "fig.add_trace(go.Bar(\n",
    "    x=electric_vehicle_columns,\n",
    "    y=missing_values_electric,\n",
    "    name='Xe điện',\n",
    "    marker_color='lightsalmon'\n",
    "))\n",
    "\n",
    "# Điều chỉnh giao diện\n",
    "fig.update_layout(\n",
    "    title='Phần trăm giá trị bị thiếu theo từng cột',\n",
    "    xaxis_title='Tên cột',\n",
    "    yaxis_title='Phần trăm giá trị bị thiếu',\n",
    "    barmode='group'\n",
    ")\n",
    "\n",
    "fig.show()\n"
   ]
  },
  {
   "cell_type": "markdown",
   "metadata": {},
   "source": [
    "It can be observed that the missing data in these columns is excessively large for the entire dataset and specifically for the electric vehicle subset. Therefore, the contribution of data from these columns is not substantial enough. Consequently, it is necessary to drop these columns."
   ]
  },
  {
   "cell_type": "code",
   "execution_count": null,
   "metadata": {},
   "outputs": [],
   "source": [
    "df = df.drop(electric_vehicle_columns, axis = 1)"
   ]
  },
  {
   "cell_type": "markdown",
   "metadata": {},
   "source": [
    "### Convert Data Type of Columns"
   ]
  },
  {
   "cell_type": "markdown",
   "metadata": {},
   "source": [
    "- After removing the columns with missing data and unnecessary columns, we need to process the data in the remaining columns. In this section, we will proceed with data processing in these columns."
   ]
  },
  {
   "cell_type": "code",
   "execution_count": null,
   "metadata": {},
   "outputs": [],
   "source": [
    "df.info()"
   ]
  },
  {
   "cell_type": "markdown",
   "metadata": {},
   "source": [
    "- There are some columns with invalid data types.\n",
    "- The columns `Engine capacity`, `Power`, `Battery warranty (km)`, `Mileage`, `Battery capacity`, `CO2 emissions`, `AC charging time`, `DC charging time` and `Seats` should be converted to `int` or `float` data types instead of `string`. Therefore, we will process the data strings to convert them into numerical data types."
   ]
  },
  {
   "cell_type": "code",
   "execution_count": null,
   "metadata": {},
   "outputs": [],
   "source": [
    "#TODO\n",
    "column_convert_to_numeric = ['Engine capacity','Power', 'Consumption','Mileage', 'CO2 emissions']\n",
    "def convert_to_int(column):\n",
    "    for i in range(len(column)):\n",
    "        value = column[i]\n",
    "        if pd.notnull(value):\n",
    "            column[i] = value.split(' ')[0].strip().replace('\\xa0', '')\n",
    "    column = pd.to_numeric(column, errors='coerce')\n",
    "    return column\n",
    "    \n",
    "# Convert specified columns \n",
    "df[column_convert_to_numeric] = df[column_convert_to_numeric].apply(convert_to_int)\n",
    "# Convert 'Seats' column \n",
    "df['Seats'] = pd.to_numeric(df['Seats'], errors='coerce')"
   ]
  },
  {
   "cell_type": "code",
   "execution_count": null,
   "metadata": {},
   "outputs": [],
   "source": [
    "# Rename the columns\n",
    "new_column_names = {'Engine capacity': 'Engine capacity(ccm)',\n",
    "                    'Price': 'Price(EUR)',\n",
    "                    'Power': 'Power(kW)',\n",
    "                    'Mileage': 'Mileage(km)',\n",
    "                    'Consumption':'Consumption(l/100km or kWh/100km)',\n",
    "                    'CO2 emissions': 'CO2 emissions(g/km)'}\n",
    "df = df.rename(columns=new_column_names)"
   ]
  },
  {
   "cell_type": "markdown",
   "metadata": {},
   "source": [
    "Process the columns that store month/year data as strings to datetime: \n",
    "- First registration\n",
    "- Warranty until"
   ]
  },
  {
   "cell_type": "code",
   "execution_count": null,
   "metadata": {},
   "outputs": [],
   "source": [
    "def convert_to_datetime(date_str):\n",
    "    if pd.notnull(date_str):\n",
    "        date_format = \"%m/%Y\"\n",
    "        date_obj = datetime.strptime(date_str, date_format)\n",
    "        return date_obj\n",
    "    else:\n",
    "        return pd.NaT\n",
    "convert_column = ['First registration']\n",
    "df[convert_column] = df[convert_column].applymap(convert_to_datetime)"
   ]
  },
  {
   "cell_type": "code",
   "execution_count": null,
   "metadata": {},
   "outputs": [],
   "source": [
    "# After converting data types\n",
    "df.info()"
   ]
  },
  {
   "cell_type": "markdown",
   "metadata": {},
   "source": [
    "- Now the data types of the columns are more appropriate. The next step is to examine the distribution of data in the numerical and categorical columns."
   ]
  },
  {
   "cell_type": "markdown",
   "metadata": {},
   "source": [
    "### Process numerical columns"
   ]
  },
  {
   "cell_type": "markdown",
   "metadata": {},
   "source": [
    "- Filter out the columns that contain numerical data. Calculate the missing data rate for each column."
   ]
  },
  {
   "cell_type": "code",
   "execution_count": null,
   "metadata": {},
   "outputs": [],
   "source": [
    "numeric_df = df.select_dtypes(include=np.number)\n",
    "missing_percentage = numeric_df.isnull().mean()\n",
    "\n",
    "print('The percentage of missing values:')\n",
    "for idx, missing in zip(missing_percentage.index, missing_percentage): \n",
    "    print(f'- {idx}: {round(missing * 100, 2)}%')"
   ]
  },
  {
   "cell_type": "code",
   "execution_count": null,
   "metadata": {},
   "outputs": [],
   "source": [
    "# Lọc các cột có giá trị thiếu lớn hơn 0\n",
    "missing_percentage_filtered = missing_percentage[missing_percentage > 0].sort_values(ascending = False)\n",
    "# Vẽ bar chart\n",
    "plt.barh(missing_percentage_filtered.index, missing_percentage_filtered*100)\n",
    "\n",
    "# Đặt tiêu đề\n",
    "plt.title('Percentage of Missing Values', fontweight='bold')\n",
    "\n",
    "# Đặt nhãn trục x\n",
    "plt.xlabel('Percentage Missing(%)', fontweight='bold')\n",
    "\n",
    "# Đặt nhãn trục y\n",
    "plt.ylabel('Column', fontweight='bold')\n",
    "\n",
    "# Hiển thị biểu đồ\n",
    "plt.show()"
   ]
  },
  {
   "cell_type": "markdown",
   "metadata": {},
   "source": [
    "- For the column `Previous owners`, which indicates whether the car has been previously owned or not, the missing values can be replaced with 0, assuming that the missing values correspond to cars that are brand new.\n",
    "- The missing values in the columnst `Seats` and `Engine capacity`will be replaced with the median value.\n",
    "- The missing data in the `Consumption` column will be filled with the mode value within each `Fuel` group."
   ]
  },
  {
   "cell_type": "code",
   "execution_count": null,
   "metadata": {},
   "outputs": [],
   "source": [
    "df['Previous owners'] = df['Previous owners'].fillna(0)\n",
    "\n",
    "# Xử lí missing values cột Seats\n",
    "median_seats = df['Seats'].median()\n",
    "df['Seats'] = df['Seats'].fillna(median_seats)\n",
    "\n",
    "# Xử lí missing values cột Engine capacity\n",
    "median_engine_capacity = df['Engine capacity(ccm)'].median()\n",
    "df['Engine capacity(ccm)'] = df['Engine capacity(ccm)'].fillna(median_engine_capacity)\n",
    "\n",
    "# Xử lí missing values cột Consumption\n",
    "df['Consumption(l/100km or kWh/100km)'] = df.groupby('Fuel')['Consumption(l/100km or kWh/100km)'].transform(lambda x: x.fillna(x.mode()[0]))"
   ]
  },
  {
   "cell_type": "markdown",
   "metadata": {},
   "source": [
    "- Calculate the missing values again and save them into the `missing_percentages` variable."
   ]
  },
  {
   "cell_type": "code",
   "execution_count": null,
   "metadata": {},
   "outputs": [],
   "source": [
    "numeric_df = df.select_dtypes(include=np.number)\n",
    "missing_percentage = numeric_df.isnull().mean()\n",
    "\n",
    "print('The percentage of missing values:')\n",
    "for idx, missing in zip(missing_percentage.index, missing_percentage): \n",
    "    print(f'- {idx}: {round(missing * 100, 2)}%')"
   ]
  },
  {
   "cell_type": "markdown",
   "metadata": {},
   "source": [
    "- Now let's examine the distribution of data in the numerical columns. We will calculate percentiles with values of 0% (min), 25%, 50%, 75%, and 100% (max) to see how the data is distributed. The results will be saved in the `numeric_col_profile` variable."
   ]
  },
  {
   "cell_type": "code",
   "execution_count": null,
   "metadata": {
    "scrolled": true
   },
   "outputs": [],
   "source": [
    "numeric_columns = df.select_dtypes(include=np.number).columns\n",
    "numeric_col_profile = df[numeric_columns].describe().loc[[\"min\", \"25%\", \"50%\", \"75%\", \"max\"]]\n",
    "numeric_col_profile "
   ]
  },
  {
   "cell_type": "markdown",
   "metadata": {},
   "source": [
    "- The distribution of the numerical columns seems to be normal, except for the minimum value of the`Engine capacity(ccm)` column which appears to be a bit unusual.\n",
    "\n",
    "#### Handle outlier"
   ]
  },
  {
   "cell_type": "markdown",
   "metadata": {},
   "source": [
    "Firstly, let's generate boxplots for all numerical columns to visually inspect and identify any potential outliers"
   ]
  },
  {
   "cell_type": "code",
   "execution_count": null,
   "metadata": {},
   "outputs": [],
   "source": [
    "import math\n",
    "\n",
    "numeric_columns = df.select_dtypes(include=np.number).columns\n",
    "num_plots = len(numeric_columns)\n",
    "num_cols = 3\n",
    "num_rows = math.ceil(num_plots / num_cols)\n",
    "\n",
    "fig, axs = plt.subplots(num_rows, num_cols, figsize=(num_cols*8, num_rows*6))\n",
    "\n",
    "for i, col in enumerate(numeric_columns):\n",
    "    row = i // num_cols\n",
    "    col = i % num_cols\n",
    "    sns.boxplot(x=df[numeric_columns[i]], ax=axs[row, col])\n",
    "    axs[row, col].set_title('Boxplot of ' + numeric_columns[i])\n",
    "\n",
    "plt.tight_layout()\n",
    "plt.show()\n"
   ]
  },
  {
   "cell_type": "markdown",
   "metadata": {},
   "source": [
    "We observe that most columns in our dataset exhibit outliers. These outliers are often not data entry errors, as we are dealing with the automotive market where certain vehicles may surpass others in terms of power, price, or fuel efficiency. For instance, electric cars may have lower CO2 emissions compared to their counterparts.\n",
    "\n",
    "However, within our data, there are instances where the engine power is listed as less than 500 cc. This appears to be a typo, as the automotive market rarely features cars with such low engine capacities.\n",
    "\n",
    "Another anomaly is that some vehicles have a Consumption/100 km value of 0, which is highly unreasonable.\n",
    "\n",
    "To prevent further data loss, we will replace these values with the mean of their respective columns."
   ]
  },
  {
   "cell_type": "code",
   "execution_count": null,
   "metadata": {},
   "outputs": [],
   "source": [
    "# Tính giá trị trung bình của 'engine_capacity'\n",
    "mean_engine_capacity = df[df['Engine capacity(ccm)'] >= 500]['Engine capacity(ccm)'].mean()\n",
    "\n",
    "# Thay thế các giá trị 'engine_capacity' nhỏ hơn 500 bằng giá trị trung bình\n",
    "df.loc[df['Engine capacity(ccm)'] < 500, 'Engine capacity(ccm)'] = mean_engine_capacity\n",
    "\n",
    "# Tính giá trị trung bình của 'consumption'\n",
    "mean_consumption = df[df['Consumption(l/100km or kWh/100km)'] != 0]['Consumption(l/100km or kWh/100km)'].mean()\n",
    "\n",
    "# Thay thế các giá trị 'consumption' bằng 0 bằng giá trị trung bình\n",
    "df.loc[df['Consumption(l/100km or kWh/100km)'] == 0, 'Consumption(l/100km or kWh/100km)'] = mean_consumption"
   ]
  },
  {
   "cell_type": "markdown",
   "metadata": {},
   "source": [
    "### Processing categorical columns"
   ]
  },
  {
   "cell_type": "markdown",
   "metadata": {},
   "source": [
    "Let's now examine the categorical columns to determine the extent of missing values in each of these columns"
   ]
  },
  {
   "cell_type": "code",
   "execution_count": null,
   "metadata": {},
   "outputs": [],
   "source": [
    "# Lấy ra các cột object xem tỉ lệ misisng value\n",
    "cate_col = df.select_dtypes(include=['object']).columns\n",
    "\n",
    "# Tính tỉ lệ mising của mỗi cột\n",
    "missing_values = (df[cate_col].isnull().mean() * 100)\n",
    "missing_values = missing_values.sort_values(ascending=True)\n",
    "\n",
    "fig = go.Figure(data=[go.Bar(\n",
    "    y=missing_values.index,\n",
    "    x=missing_values.values,\n",
    "    orientation='h',\n",
    "    marker_color='#1f77b4'\n",
    ")])\n",
    "\n",
    "fig.update_layout(\n",
    "    title_text='Phần trăm giá trị bị thiếu của mỗi cột',\n",
    "    xaxis_title='Phần trăm giá trị bị thiếu',\n",
    "    yaxis_title='Tên cột',\n",
    "    yaxis={'autorange': 'reversed'},\n",
    "    height=800\n",
    ")\n",
    "\n",
    "fig.show()\n"
   ]
  },
  {
   "cell_type": "markdown",
   "metadata": {},
   "source": [
    "After researching the market, we understand that people categorize the condition of a vehicle based on its mileage. Therefore, we will fill in the missing values for the 'Condition' field based on the 'Mileage' field.\n",
    "- If `mileage` <= 300, then `Condition` = 'New'\n",
    "- If `mileage` > 1000, then `Condition` = 'Used'"
   ]
  },
  {
   "cell_type": "code",
   "execution_count": null,
   "metadata": {},
   "outputs": [],
   "source": [
    "df.loc[df['Mileage(km)'] <= 300, 'Condition'] = df.loc[df['Mileage(km)'] <= 300, 'Condition'].fillna('New')\n",
    "df.loc[df['Mileage(km)'] > 300, 'Condition'] = df.loc[df['Mileage(km)'] > 300, 'Condition'].fillna('Used')"
   ]
  },
  {
   "cell_type": "markdown",
   "metadata": {},
   "source": [
    "Next, we will fill in the remaining missing values with the mode of each column."
   ]
  },
  {
   "cell_type": "code",
   "execution_count": null,
   "metadata": {},
   "outputs": [],
   "source": [
    "#Tiếp theo, ta sẽ điền vào các giá trị thiếu còn lại với mode của mỗi cột\n",
    "fill_with_mode = ['Body color','Doors', 'Tags', 'Emission class','Interior color', 'Interior material', 'Type of finish']\n",
    "\n",
    "for column in fill_with_mode:\n",
    "    df[column].fillna(df[column].mode()[0], inplace=True)"
   ]
  },
  {
   "cell_type": "markdown",
   "metadata": {},
   "source": [
    "After filling in the values, we can observe the distribution of each column."
   ]
  },
  {
   "cell_type": "code",
   "execution_count": null,
   "metadata": {},
   "outputs": [],
   "source": [
    "#tạo cate_profile\n",
    "single_opt = df.select_dtypes(include=['object']).columns\n",
    "single_opt = single_opt.drop(['Tags'])\n",
    "\n",
    "profiles = {}\n",
    "for col in single_opt:\n",
    "    profiles[col] = df[col].value_counts().to_dict()\n",
    "    \n",
    "n = len(profiles)\n",
    "fig, axs = plt.subplots(n//3 + n%3, 3, figsize=(15, 30))\n",
    "\n",
    "axs = axs.flatten()\n",
    "\n",
    "for ax, (col, profile) in zip(axs, profiles.items()):\n",
    "    # Sort the profile dictionary by value and keep only the top 10\n",
    "    sorted_profile = dict(sorted(profile.items(), key=lambda item: item[1], reverse=True)[:10])\n",
    "    ax.bar(sorted_profile.keys(), sorted_profile.values(), color='steelblue')\n",
    "    ax.set_title(f'Distribution of {col}')\n",
    "    ax.set_ylabel('Count')\n",
    "    ax.set_xlabel(col)\n",
    "    ax.tick_params(axis='x', rotation=45)\n",
    "\n",
    "# Remove unused subplots\n",
    "\n",
    "fig.delaxes(axs[-1])\n",
    "fig.delaxes(axs[-2])\n",
    "\n",
    "plt.tight_layout()\n",
    "plt.show()\n"
   ]
  },
  {
   "cell_type": "markdown",
   "metadata": {},
   "source": [
    "Most columns exhibit a relatively normal distribution, with the exception of the 'VIN' and 'Type of Finish' columns. Given that the majority of values in the 'VIN' column are 'not published by seller...' and similarly for the 'Type of Finish' column, these columns do not contribute valuable information. Consequently, we have decided to remove them from the dataset."
   ]
  },
  {
   "cell_type": "code",
   "execution_count": null,
   "metadata": {},
   "outputs": [],
   "source": [
    "del df['VIN'], df['Type of finish']"
   ]
  },
  {
   "cell_type": "markdown",
   "metadata": {},
   "source": [
    "Next, we will examine the ‘Tags’ column."
   ]
  },
  {
   "cell_type": "code",
   "execution_count": null,
   "metadata": {
    "scrolled": true
   },
   "outputs": [],
   "source": [
    "#Tính phân phố cho các cột multiple selection\n",
    "def calc_distribution_multiple(column):\n",
    "    \n",
    "    # Tách chuỗi bằng dấu phẩy và loại bỏ khoảng trắng thừa và rỗng\n",
    "    split_series = column.str.split('; ').explode().str.strip()\n",
    "    split_series = split_series.dropna()\n",
    "\n",
    "    # Đếm tất cả các giá trị duy nhất\n",
    "    attribute_distribution = split_series.value_counts()\n",
    "\n",
    "    # Trả về dictionary với số lượng giá trị khác nhau và phân phối\n",
    "    return attribute_distribution\n",
    "\n",
    "# Hiển thị DataFrame\n",
    "multiple_cate_profile = calc_distribution_multiple(df['Tags'])\n",
    "len(multiple_cate_profile)"
   ]
  },
  {
   "cell_type": "code",
   "execution_count": null,
   "metadata": {},
   "outputs": [],
   "source": [
    "# Lấy 10 giá trị đứng đầu và 10 giá trị đứng cuối\n",
    "top_10 = multiple_cate_profile.sort_values(ascending=False).head(10)\n",
    "bottom_10 = multiple_cate_profile.sort_values(ascending=False).tail(10)\n",
    "\n",
    "# Vẽ biểu đồ cho 10 giá trị đứng đầu\n",
    "plt.figure(figsize=(10, 5))\n",
    "top_10.plot(kind='barh', color='steelblue')\n",
    "plt.title('Top 10 values')\n",
    "plt.xlabel('Count')\n",
    "plt.show()\n",
    "\n",
    "# Vẽ biểu đồ cho 10 giá trị đứng cuối\n",
    "plt.figure(figsize=(10, 5))\n",
    "bottom_10.plot(kind='barh', color='steelblue')\n",
    "plt.title('Bottom 10 values')\n",
    "plt.xlabel('Count')\n",
    "plt.show()\n"
   ]
  },
  {
   "cell_type": "markdown",
   "metadata": {},
   "source": [
    "After observing the result above, we can have some insights:\n",
    "-   Common Features: \"Adaptive cruise control,\" \"Keyless ignition,\" \"Digital cockpit,\" and others appear to be becoming industry standards.\n",
    "\n",
    "-   Less Common Features: Conversely, features like \"Soft close doors,\" \"Mark Levinson audio,\" and others are used less frequently, possibly due to their non-critical nature or exclusivity to high-end models.\n",
    "\n",
    "-   Disparity among Features: A clear distinction exists between the prevalence of common and less common features, indicating that while certain features are expected by most consumers, others attract only a niche audience."
   ]
  },
  {
   "cell_type": "markdown",
   "metadata": {},
   "source": [
    "### Check the Reasonableness of Data\n",
    "We can check the reasonableness of the data by examining the emission levels, as theoretically, electric vehicles should have a CO2 emission of zero. Alternatively, we can check the maximum mileage of new vehicles, they should not exceed 300 km."
   ]
  },
  {
   "cell_type": "code",
   "execution_count": null,
   "metadata": {},
   "outputs": [],
   "source": [
    "#Kiểm tra lượng khí thải CO2 của các xe điện\n",
    "electric_cars = df[df['Fuel'] == 'Electric']\n",
    "co2_emissions = electric_cars['CO2 emissions(g/km)']\n",
    "co2_emissions.value_counts()"
   ]
  },
  {
   "cell_type": "code",
   "execution_count": null,
   "metadata": {},
   "outputs": [],
   "source": [
    "#Kiểm tra số km đã chạy tối đa của xe mới\n",
    "new_cars = df[df['Condition'] == 'New']\n",
    "new_cars['Mileage(km)'].max()"
   ]
  },
  {
   "cell_type": "markdown",
   "metadata": {},
   "source": [
    "The results are consistent with our predictions: Electric vehicles do not emit CO2 when running, so the CO2 emissions of electric vehicles are 0; and new vehicles cannot have a mileage greater than 300 km. Therefore, we can conclude that our data is reasonable."
   ]
  },
  {
   "cell_type": "markdown",
   "metadata": {},
   "source": [
    "## Save the cleaned data\n",
    "    \n",
    "Finally, we will save the cleaned data to a csv file for further analysis."
   ]
  },
  {
   "cell_type": "code",
   "execution_count": null,
   "metadata": {},
   "outputs": [],
   "source": [
    "df.to_csv('data/cleaned_data.csv', index = False)"
   ]
  }
 ],
 "metadata": {
  "kernelspec": {
   "display_name": "Python 3 (ipykernel)",
   "language": "python",
   "name": "python3"
  },
  "language_info": {
   "codemirror_mode": {
    "name": "ipython",
    "version": 3
   },
   "file_extension": ".py",
   "mimetype": "text/x-python",
   "name": "python",
   "nbconvert_exporter": "python",
   "pygments_lexer": "ipython3",
   "version": "3.10.11"
  }
 },
 "nbformat": 4,
 "nbformat_minor": 4
}
