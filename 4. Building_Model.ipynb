{
 "cells": [
  {
   "cell_type": "markdown",
   "metadata": {},
   "source": [
    "# 4.Build Model"
   ]
  },
  {
   "cell_type": "code",
   "execution_count": 1,
   "metadata": {},
   "outputs": [],
   "source": [
    "import pandas as pd\n",
    "import numpy as np\n",
    "import matplotlib.pyplot as plt\n",
    "import seaborn as sns\n",
    "from sklearn.model_selection import train_test_split\n",
    "from sklearn.pipeline import Pipeline\n",
    "from sklearn.ensemble import RandomForestRegressor\n",
    "from sklearn.metrics import mean_absolute_error\n",
    "from sklearn.compose import ColumnTransformer\n",
    "from sklearn.preprocessing import OneHotEncoder\n",
    "from sklearn.preprocessing import FunctionTransformer, OneHotEncoder, RobustScaler\n",
    "\n"
   ]
  },
  {
   "cell_type": "markdown",
   "metadata": {},
   "source": [
    "## 4.1 Prepare data"
   ]
  },
  {
   "cell_type": "markdown",
   "metadata": {},
   "source": [
    "### 4.1.1 Read data and create a column `Year` to help increase a feature for training model."
   ]
  },
  {
   "cell_type": "markdown",
   "metadata": {},
   "source": [
    "add a column `Year` - distance from First Registration's Year of the car to now."
   ]
  },
  {
   "cell_type": "code",
   "execution_count": 2,
   "metadata": {},
   "outputs": [
    {
     "data": {
      "text/plain": [
       "Index(['CARNAME', 'Make', 'Model', 'Body color', 'Interior color',\n",
       "       'Interior material', 'Body', 'Doors', 'Seats', 'Fuel', 'Transmission',\n",
       "       'Drive type', 'Power(kW)', 'CO2 emissions(g/km)', 'Emission class',\n",
       "       'Mileage(km)', 'First registration', 'Condition',\n",
       "       'Consumption(l/100km or kWh/100km)', 'Price(EUR)', 'Tags',\n",
       "       'Engine capacity(ccm)', 'Previous owners', 'Year'],\n",
       "      dtype='object')"
      ]
     },
     "execution_count": 2,
     "metadata": {},
     "output_type": "execute_result"
    }
   ],
   "source": [
    "\n",
    "data = pd.read_csv(\"data\\cleaned_data_edited.csv\",index_col=\"ID\")\n",
    "\n",
    "data['Year'] = data['First registration'].str[-4:].astype(int)\n",
    "data['Year'] = 2024 - data['Year']\n",
    "data.columns\n"
   ]
  },
  {
   "cell_type": "markdown",
   "metadata": {},
   "source": [
    "### 4.1.2 Find object columns and low cardinality columns"
   ]
  },
  {
   "cell_type": "markdown",
   "metadata": {},
   "source": [
    "Due to our data have many categorical columns, we have to do one hot encoding for training model. Before handling one-hot, we have to:\n",
    "- Find categorical (object) columns.\n",
    "- Find columns that have low cardinality.\n",
    "\n",
    "Why have to find columns that have low cardinality?\n",
    "- For large datasets with many rows, one-hot encoding can greatly expand the size of the dataset.  For this reason, we typically will only one-hot encode columns with relatively low cardinality.  Then, high cardinality columns can either be dropped from the dataset, or we can use ordinal encoding."
   ]
  },
  {
   "cell_type": "code",
   "execution_count": 3,
   "metadata": {},
   "outputs": [
    {
     "name": "stdout",
     "output_type": "stream",
     "text": [
      "Categorical variables:\n",
      "['CARNAME', 'Make', 'Model', 'Body color', 'Interior color', 'Interior material', 'Body', 'Doors', 'Fuel', 'Transmission', 'Drive type', 'Emission class', 'First registration', 'Condition', 'Tags']\n",
      "Low cardinality col:\n",
      "['Interior color', 'Interior material', 'Doors', 'Fuel', 'Transmission', 'Drive type', 'Emission class', 'Condition']\n"
     ]
    }
   ],
   "source": [
    "s = (data.dtypes == 'object')\n",
    "object_cols = list(s[s].index)\n",
    "print(\"Categorical variables:\")\n",
    "print(object_cols)\n",
    "\n",
    "low_cardinality_cols = [col for col in object_cols if data[col].nunique() < 10]\n",
    "# low_cardinality_cols.append(\"Make\")\n",
    "print(\"Low cardinality col:\")\n",
    "print (low_cardinality_cols)"
   ]
  },
  {
   "cell_type": "markdown",
   "metadata": {},
   "source": [
    "### 4.1.3 Find tags\n"
   ]
  },
  {
   "cell_type": "markdown",
   "metadata": {},
   "source": [
    "- Due to the column `Tags` is a multiple value column, we have to choose which tag (special function) to do one hot encoding and put to the model "
   ]
  },
  {
   "cell_type": "code",
   "execution_count": 4,
   "metadata": {},
   "outputs": [
    {
     "data": {
      "text/plain": [
       "Index(['Air suspension', 'Ventilated front seats',\n",
       "       'Electric adjustable front seats', 'Digital cockpit', 'Burmester audio',\n",
       "       'Heated rear seats', 'Laser headlights', 'Adaptive cruise control'],\n",
       "      dtype='object')"
      ]
     },
     "execution_count": 4,
     "metadata": {},
     "output_type": "execute_result"
    }
   ],
   "source": [
    "\n",
    "one_hot_tags =  data[[\"Price(EUR)\",\"Tags\"]].copy()\n",
    "# scaler = RobustScaler()\n",
    "# # Fit và transform dữ liệu\n",
    "# one_hot_tags['Price(EUR)'] = scaler.fit_transform(one_hot_tags[['Price(EUR)']]) \n",
    "\n",
    "# Get each tag in each multiple value row\n",
    "tags = one_hot_tags['Tags'].str.split('; ', expand=True)\n",
    "\n",
    "# Stack to make the DataFrame long, then get_dummies and group by index before summing\n",
    "get_dummy = pd.get_dummies(tags.stack()).groupby(level=0).sum()\n",
    "\n",
    "# Join the one-hot encoded DataFrame back to the original DataFrame\n",
    "one_hot_tags = one_hot_tags.join(get_dummy)\n",
    "\n",
    "# Drop the `Tags` because we dont need it anymore\n",
    "one_hot_tags = one_hot_tags.drop(\"Tags\",axis=1)\n",
    "\n",
    "# Calculate correlation with 'Price(EUR)'\n",
    "correlation = one_hot_tags.corr()['Price(EUR)']\n",
    "\n",
    "# Get the top 10 tags with highest correlation with 'Price(EUR)'\n",
    "top_10_corr_tags = correlation.nlargest(9).index\n",
    "\n",
    "# Select only the top 10 tags with highest correlation with 'Price(EUR)'\n",
    "one_hot_tags = one_hot_tags[top_10_corr_tags].drop([\"Price(EUR)\"],axis=1)\n",
    "\n",
    "one_hot_tags.columns\n"
   ]
  },
  {
   "cell_type": "markdown",
   "metadata": {},
   "source": [
    "### 4.1.4 Find top 8  Car Manufacturer"
   ]
  },
  {
   "cell_type": "code",
   "execution_count": 5,
   "metadata": {},
   "outputs": [
    {
     "data": {
      "text/plain": [
       "Index(['Ferrari', 'Rolls-Royce', 'Lamborghini', 'Porsche', 'Mercedes-Benz',\n",
       "       'BMW', 'Aston Martin', 'Audi', 'Others'],\n",
       "      dtype='object')"
      ]
     },
     "execution_count": 5,
     "metadata": {},
     "output_type": "execute_result"
    }
   ],
   "source": [
    "one_hot_Make = pd.get_dummies(data['Make'])\n",
    "data_encoded = data[['Price(EUR)']].join(one_hot_Make)\n",
    "\n",
    "\n",
    "correlation = data_encoded.corr()['Price(EUR)']\n",
    "\n",
    "#LẤy ra top 8 make có tương quan cao nhất > 0.25\n",
    "top_10_Make = correlation[correlation >= 0.25].index\n",
    "top_10_Make = correlation.nlargest(9).index\n",
    "top_10_Make = top_10_Make.drop(\"Price(EUR)\")\n",
    "\n",
    "one_hot_Make = one_hot_Make[top_10_Make]\n",
    "one_hot_Make['Others'] = (one_hot_Make.sum(axis=1) == 0)\n",
    "one_hot_Make.columns\n"
   ]
  },
  {
   "cell_type": "markdown",
   "metadata": {},
   "source": [
    "## 4.2 Split data"
   ]
  },
  {
   "cell_type": "markdown",
   "metadata": {},
   "source": [
    "- To train and test a model:\n",
    "    - First we will split our data into X_train, X_valid, y_train, y_valid dataset.\n",
    "    - Second, we have to handle categorical features - one hot encoding."
   ]
  },
  {
   "cell_type": "code",
   "execution_count": 6,
   "metadata": {},
   "outputs": [
    {
     "name": "stdout",
     "output_type": "stream",
     "text": [
      "(1831, 33)\n",
      "Index(['Interior color', 'Interior material', 'Doors', 'Fuel', 'Transmission',\n",
      "       'Drive type', 'Emission class', 'Condition', 'Seats', 'Power(kW)',\n",
      "       'CO2 emissions(g/km)', 'Mileage(km)',\n",
      "       'Consumption(l/100km or kWh/100km)', 'Engine capacity(ccm)',\n",
      "       'Previous owners', 'Year', 'Air suspension', 'Ventilated front seats',\n",
      "       'Electric adjustable front seats', 'Digital cockpit', 'Burmester audio',\n",
      "       'Heated rear seats', 'Laser headlights', 'Adaptive cruise control',\n",
      "       'Ferrari', 'Rolls-Royce', 'Lamborghini', 'Porsche', 'Mercedes-Benz',\n",
      "       'BMW', 'Aston Martin', 'Audi', 'Others'],\n",
      "      dtype='object')\n"
     ]
    }
   ],
   "source": [
    "numerical_cols = [cname for cname in data.columns if \n",
    "                data[cname].dtype in ['int64', 'float64', 'int32']]\n",
    "\n",
    "# Keep selected columns only\n",
    "my_cols = low_cardinality_cols + numerical_cols\n",
    "\n",
    "X = data[my_cols].copy().reset_index(drop=True)\n",
    "one_hot_tags = one_hot_tags.reset_index(drop=True)\n",
    "one_hot_Make = one_hot_Make.reset_index(drop=True)\n",
    "\n",
    "X = pd.concat([X, one_hot_tags, one_hot_Make], axis=1)\n",
    "\n",
    "y = X[\"Price(EUR)\"].copy()\n",
    "\n",
    "X.drop([\"Price(EUR)\"], axis=1, inplace=True)\n",
    "\n",
    "X_train, X_valid, y_train, y_valid = train_test_split(X, y,\n",
    "                                                      train_size=0.8, test_size=0.2,\n",
    "                                                      random_state=0)\n",
    "print(X_train.shape)\n",
    "print(X_train.columns)\n"
   ]
  },
  {
   "cell_type": "markdown",
   "metadata": {},
   "source": [
    "## 4.3 Create a PipeLine for Cross Validation"
   ]
  },
  {
   "cell_type": "markdown",
   "metadata": {},
   "source": [
    "### First, we have to define transformer for the Pipeline"
   ]
  },
  {
   "cell_type": "markdown",
   "metadata": {},
   "source": [
    "Transformer:\n",
    "- Preprocess Categorical columns.\n",
    "- Handle outliers in numerical columns."
   ]
  },
  {
   "cell_type": "code",
   "execution_count": 7,
   "metadata": {},
   "outputs": [],
   "source": [
    "\n",
    "\n",
    "# Preprocessing for numerical data\n",
    "numerical_transformer = Pipeline(steps=[\n",
    "    ('robustscaler', RobustScaler(with_centering=False)),\n",
    "])\n",
    "\n",
    "# Preprocessing for categorical data\n",
    "categorical_transformer = Pipeline(steps=[\n",
    "    ('onehot', OneHotEncoder(handle_unknown='ignore'))\n",
    "])\n",
    "\n",
    "# Exclude 'Price(EUR)' from numerical_cols\n",
    "numerical_cols_to_transform = [col for col in numerical_cols if col != 'Price(EUR)']\n",
    "\n",
    "# Bundle preprocessing for numerical and categorical data\n",
    "preprocessor = ColumnTransformer(\n",
    "    transformers=[\n",
    "        ('num', numerical_transformer, numerical_cols_to_transform),\n",
    "        ('cat', categorical_transformer, low_cardinality_cols)\n",
    "    ])"
   ]
  },
  {
   "cell_type": "markdown",
   "metadata": {},
   "source": [
    "### Second: Fit model and Predict"
   ]
  },
  {
   "cell_type": "code",
   "execution_count": 8,
   "metadata": {},
   "outputs": [
    {
     "name": "stdout",
     "output_type": "stream",
     "text": [
      "MAE: 5662.368923936023\n"
     ]
    }
   ],
   "source": [
    "\n",
    "\n",
    "my_pipeline = Pipeline(steps=[('preprocessor', preprocessor),\n",
    "                              ('model', RandomForestRegressor(n_estimators=200,\n",
    "                                                              random_state=0))\n",
    "                             ])\n",
    "\n",
    "my_pipeline.fit(X_train, y_train)\n",
    "\n",
    "# Preprocessing of validation data, get predictions\n",
    "preds = my_pipeline.predict(X_valid)\n",
    "\n",
    "# Evaluate the model\n",
    "score = mean_absolute_error(y_valid, preds)\n",
    "print('MAE:', score)"
   ]
  },
  {
   "cell_type": "markdown",
   "metadata": {},
   "source": [
    "## 4.4 Cross Validation & Adjust Parameter\n"
   ]
  },
  {
   "cell_type": "code",
   "execution_count": 9,
   "metadata": {},
   "outputs": [
    {
     "name": "stdout",
     "output_type": "stream",
     "text": [
      "--------50 estimators--------\n",
      "MAE: 6246.552423946134\n",
      "--------100 estimators--------\n",
      "MAE: 6214.349353880186\n",
      "--------150 estimators--------\n",
      "MAE: 6197.697444036151\n",
      "--------200 estimators--------\n",
      "MAE: 6172.051878474725\n",
      "--------250 estimators--------\n",
      "MAE: 6186.620739293957\n",
      "--------300 estimators--------\n",
      "MAE: 6199.8668694790795\n"
     ]
    },
    {
     "data": {
      "image/png": "[encoded data removed]",
      "text/plain": [
       "<Figure size 640x480 with 1 Axes>"
      ]
     },
     "metadata": {},
     "output_type": "display_data"
    }
   ],
   "source": [
    "from sklearn.model_selection import cross_val_score\n",
    "def get_score(n_estimate):\n",
    "    my_pipeline = Pipeline(steps=[('preprocessor', preprocessor),\n",
    "                              ('model', RandomForestRegressor(n_estimators = n_estimate,\n",
    "                                                              random_state=0))\n",
    "                             ])\n",
    "    scores = -1 * cross_val_score(my_pipeline, X, y ,\n",
    "                                    cv=3,\n",
    "                                    scoring='neg_mean_absolute_error')\n",
    "    return scores.mean()\n",
    "\n",
    "\n",
    "results = {}\n",
    "for i in range(1,7):\n",
    "    print(f'--------{50*i} estimators--------')\n",
    "    mae = get_score(50*i)\n",
    "    print(f'MAE: {mae}')\n",
    "    results[50*i] = mae\n",
    "\n",
    "%matplotlib inline\n",
    "\n",
    "plt.plot(list(results.keys()), list(results.values()))\n",
    "plt.show()"
   ]
  },
  {
   "cell_type": "markdown",
   "metadata": {},
   "source": [
    "- As we can see, with **n_estimators** = 200, our random forest model seems result the most optimal MAE."
   ]
  },
  {
   "cell_type": "markdown",
   "metadata": {},
   "source": [
    "## 4.5 Train model, Test and make Prediction from User Input"
   ]
  },
  {
   "cell_type": "code",
   "execution_count": 10,
   "metadata": {},
   "outputs": [],
   "source": [
    "\n",
    "def input_car_info():\n",
    "    # Initialize an empty dictionary to hold user input\n",
    "    car_info = {}\n",
    "\n",
    "    # List all the features\n",
    "    features = ['Interior color', 'Interior material', 'Doors', 'Fuel', 'Transmission', \n",
    "                'Drive type', 'Emission class', 'Condition', 'Seats', 'Power(kW)', \n",
    "                'CO2 emissions(g/km)', 'Mileage(km)', 'Consumption(l/100km or kWh/100km)', \n",
    "                'Engine capacity(ccm)', 'Previous owners', 'Air suspension', \n",
    "                'Ventilated front seats', 'Electric adjustable front seats', \n",
    "                'Digital cockpit', 'Burmester audio', 'Heated rear seats', \n",
    "                'Laser headlights', 'Adaptive cruise control']\n",
    "\n",
    "    # Ask the user to input values for each feature\n",
    "    for feature in features:\n",
    "        value = input(f\"Please enter the {feature} of the car: \")\n",
    "        car_info[feature] = [value]  # Use a list here because pd.DataFrame expects a list\n",
    "\n",
    "    # Convert the dictionary to a DataFrame\n",
    "    X_input = pd.DataFrame(car_info)\n",
    "\n",
    "    return X_input\n",
    "\n",
    "# Call the function to get user input and create X_input\n",
    "# X_input = input_car_info()\n",
    "# X_input\n"
   ]
  },
  {
   "cell_type": "code",
   "execution_count": 11,
   "metadata": {},
   "outputs": [
    {
     "name": "stdout",
     "output_type": "stream",
     "text": [
      "Model dumped!\n"
     ]
    }
   ],
   "source": [
    "# Save model for deploy \n",
    "import joblib\n",
    "joblib.dump(my_pipeline, 'deploy/model.pkl')\n",
    "print(\"Model dumped!\")"
   ]
  }
 ],
 "metadata": {
  "kernelspec": {
   "display_name": "Python 3 (ipykernel)",
   "language": "python",
   "name": "python3"
  },
  "language_info": {
   "codemirror_mode": {
    "name": "ipython",
    "version": 3
   },
   "file_extension": ".py",
   "mimetype": "text/x-python",
   "name": "python",
   "nbconvert_exporter": "python",
   "pygments_lexer": "ipython3",
   "version": "3.10.7"
  }
 },
 "nbformat": 4,
 "nbformat_minor": 2
}
