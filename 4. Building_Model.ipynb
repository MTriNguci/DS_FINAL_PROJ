{
 "cells": [
  {
   "cell_type": "markdown",
   "metadata": {},
   "source": [
    "# Build Model"
   ]
  },
  {
   "cell_type": "code",
   "execution_count": 21,
   "metadata": {},
   "outputs": [],
   "source": [
    "import pandas as pd\n",
    "import numpy as np\n",
    "import matplotlib.pyplot as plt\n",
    "import seaborn as sns\n",
    "from sklearn.model_selection import train_test_split\n"
   ]
  },
  {
   "cell_type": "markdown",
   "metadata": {},
   "source": [
    "## Prepare data"
   ]
  },
  {
   "cell_type": "markdown",
   "metadata": {},
   "source": [
    "### Read data and create a column `Year` to help increase a feature for training model."
   ]
  },
  {
   "cell_type": "code",
   "execution_count": 22,
   "metadata": {},
   "outputs": [
    {
     "name": "stderr",
     "output_type": "stream",
     "text": [
      "C:\\Users\\Dell\\AppData\\Local\\Temp\\ipykernel_20600\\1879438592.py:2: UserWarning: Could not infer format, so each element will be parsed individually, falling back to `dateutil`. To ensure parsing is consistent and as-expected, please specify a format.\n",
      "  data['Year'] = pd.to_datetime(data['First registration']).dt.year.astype(int)\n"
     ]
    }
   ],
   "source": [
    "\n",
    "data = pd.read_csv(\"data\\cleaned_data_edited.csv\",index_col=\"ID\")\n",
    "data['Year'] = pd.to_datetime(data['First registration']).dt.year.astype(int)\n",
    "data.columns\n",
    "\n",
    "df = data.copy()\n",
    "df['Year'] = 2023 - df['Year']\n",
    "df.drop(['First registration'],axis=1,inplace=True)\n",
    "\n"
   ]
  },
  {
   "cell_type": "markdown",
   "metadata": {},
   "source": [
    "### Find object columns and low cardinality columns"
   ]
  },
  {
   "cell_type": "markdown",
   "metadata": {},
   "source": [
    "Due to our data have many categorical columns, we have to do one hot encoding for training model. Before handling one-hot, we have to:\n",
    "- Find categorical (object) columns.\n",
    "- Find columns that have low cardinality.\n",
    "\n",
    "Why have to find columns that have low cardinality?\n",
    "- For large datasets with many rows, one-hot encoding can greatly expand the size of the dataset.  For this reason, we typically will only one-hot encode columns with relatively low cardinality.  Then, high cardinality columns can either be dropped from the dataset, or we can use ordinal encoding."
   ]
  },
  {
   "cell_type": "code",
   "execution_count": 23,
   "metadata": {},
   "outputs": [
    {
     "name": "stdout",
     "output_type": "stream",
     "text": [
      "Categorical variables:\n",
      "['CARNAME', 'Make', 'Model', 'Body color', 'Interior color', 'Interior material', 'Body', 'Doors', 'Fuel', 'Transmission', 'Drive type', 'Emission class', 'First registration', 'Condition', 'Tags']\n",
      "Low cardinality col:\n",
      "['Interior color', 'Interior material', 'Doors', 'Fuel', 'Transmission', 'Drive type', 'Emission class', 'Condition']\n"
     ]
    }
   ],
   "source": [
    "s = (data.dtypes == 'object')\n",
    "object_cols = list(s[s].index)\n",
    "print(\"Categorical variables:\")\n",
    "print(object_cols)\n",
    "\n",
    "low_cardinality_cols = [col for col in object_cols if data[col].nunique() < 10]\n",
    "# low_cardinality_cols.append(\"Make\")\n",
    "print(\"Low cardinality col:\")\n",
    "print (low_cardinality_cols)"
   ]
  },
  {
   "cell_type": "markdown",
   "metadata": {},
   "source": [
    "### Find tags\n"
   ]
  },
  {
   "cell_type": "markdown",
   "metadata": {},
   "source": [
    "- Due to the column `Tags` is a multiple value column, we have to choose which tag (special function) to do one hot encoding and put to the model "
   ]
  },
  {
   "cell_type": "code",
   "execution_count": 24,
   "metadata": {},
   "outputs": [
    {
     "name": "stdout",
     "output_type": "stream",
     "text": [
      "[('Make_Ferrari', 0.4354419438629574), ('Make_Rolls-Royce', 0.4024320949147529), ('Make_Lamborghini', 0.27881078822231), ('Make_Porsche', 0.19303754491641367), ('Make_Mercedes-Benz', 0.17069470520853333), ('Make_BMW', 0.1519367849233362), ('Make_Aston Martin', 0.12180189228198182), ('Make_Audi', 0.10613530836413072), ('Make_Land Rover', 0.10510441252087759), ('Make_Bentley', 0.10503455557759832), ('Make_Citroen', -0.10210411606065636), ('Make_Peugeot', -0.10103701599768346), ('Make_Renault', -0.09138514183609876), ('Make_Opel', -0.09032855708785929), ('Make_Dacia', -0.08108570191159956), ('Make_Fiat', -0.0715703720142489), ('Make_Seat', -0.061670643965112786), ('Make_Skoda', -0.05375512387369492), ('Make_Toyota', -0.05212669978922351), ('Make_Nissan', -0.05026710332160921), ('Make_Volkswagen', -0.04699721883959448), ('Make_Maserati', 0.046887457455933104), ('Make_Subaru', 0.042616055538523344)]\n",
      "[('Body color_Green', 0.12243359557438337), ('Body color_Black', 0.11577537380802037), ('Body color_Red', -0.07703024745538704), ('Body color_White', -0.0727171254315716)]\n",
      "[('Ventilated front seats', 0.3630487786608532), ('Electric adjustable front seats', 0.35690559817828077), ('Air suspension', 0.3556943329513511), ('Digital cockpit', 0.2574902052747024), ('Burmester audio', 0.23823902546661357), ('Heated rear seats', 0.22710497246046119), ('Bluetooth', -0.22389668354597367), ('Adaptive cruise control', 0.21928567666878368), ('Laser headlights', 0.2156670912383633), ('Hill-start assist', -0.20295242112008888), ('Parking assist system self-steering', 0.2002764888631941), ('Keyless entry', 0.18636965975003722), (\"Driver's seat with massage function\", 0.18596577739725637), ('Side mirrors with electic adjustment', -0.1780755634471654), ('LED headlights', 0.17321418173909045), ('Daytime running lights', -0.1689294840343532), ('On-board computer', -0.1635154547777676), ('Multifunctional steering wheel', -0.15394393878297408), ('Rain sensor', -0.14560566688402216), ('Heated front seats', 0.1425026768069704), ('Head-up display', 0.1407905554461311), ('Harman/Kardon audio', 0.13720850436795232), ('Light sensor', -0.1332779591565637), ('Electrically heated side mirrors', -0.1318403671022831), ('Front seats with memory', 0.13060284297369507), ('USB', -0.11782082102025311), ('Smart key', 0.117052956239923), ('Automatic lights', -0.11359641740040832), ('Leather steering wheel', -0.11171344077890087), ('Front electric windows', -0.10337111151158791), ('Lane assist', -0.10198189880138228), ('Active steering', 0.1017647284934532), ('Bowers & Wilkins audio', 0.10011033137537138), ('Automatic A/C', -0.09821552557679912), ('Start-stop system', -0.09443801868793915), ('Electric adjustable rear seats', 0.08986070827900343), ('Front collision warning system', -0.08600051031247088), ('Bang & Olufsen audio', 0.07984815573764582), ('Traffic sign recognition', -0.0791565155502857), ('Meridian audio', 0.07859534371797854), ('AUX', -0.06971795845656202), ('Automatic 2-zones air conditioning', -0.06513846235906623), ('Navigation system', -0.05990721421830057), ('Panoramic roof', 0.059254039542202486), ('WLAN/Wifi hotspot', 0.05722305566124799), ('Autom. dimming side mirros', -0.05677660385228393), ('Voice control', -0.05410547387419289), ('Height adjustable suspension', 0.05392049974685336), ('Electrically foldable side mirrors', -0.05212987105274662), ('CD player', -0.05187623678799806), ('Automatic multi-zone A/C', -0.04848842326496749), ('Alcantara interior', 0.04839006413962158), ('Rear parking camera', -0.04783912948497313), ('Xenon headlights', -0.0445853123411192), ('Paddle shifters', 0.042451835113847085)]\n"
     ]
    }
   ],
   "source": [
    "from scipy.stats import pointbiserialr\n",
    "import pandas as pd\n",
    "\n",
    "def correlation_ratio(df, dummies, target):\n",
    "    correlations = {dummy: pointbiserialr(df[target], dummies[dummy]) for dummy in dummies.columns}\n",
    "    sorted_correlations = sorted([(dummy, corr) for dummy, (corr, pval) in correlations.items() if pval < 0.05], key=lambda x: abs(x[1]), reverse=True)\n",
    "    print(sorted_correlations)\n",
    "    return sorted_correlations\n",
    "\n",
    "def one_hot(df, col, target, multi=False):\n",
    "    dummies = df[col].str.get_dummies(sep='; ') if multi else pd.get_dummies(df[col], prefix=col)\n",
    "    if len(dummies.columns) > 10:\n",
    "        top_cols = [dummy for dummy, corr in correlation_ratio(df, dummies, target) if abs(corr) > 0.25][:10]\n",
    "        dummies = dummies[top_cols]\n",
    "    return pd.concat([df, dummies], axis=1).drop(col, axis=1)\n",
    "\n",
    "cols = ['Make', 'Body color', 'Interior color', 'Interior material', 'Body', 'Doors', 'Fuel', 'Transmission', 'Drive type', 'Emission class', 'Condition']\n",
    "for col in cols:\n",
    "    df = one_hot(df, col, 'Price(EUR)')\n",
    "\n",
    "df = one_hot(df, 'Tags', 'Price(EUR)', multi=True)\n"
   ]
  },
  {
   "cell_type": "code",
   "execution_count": 25,
   "metadata": {},
   "outputs": [],
   "source": [
    "\n",
    "\n",
    "# # Vẽ heatmap\n",
    "# plt.figure(figsize=(10, 8)) # Đặt kích thước của hình\n",
    "# sns.heatmap(corre.astype(float), annot=True, fmt=\".2f\") # Vẽ heatmap\n",
    "# plt.show()"
   ]
  },
  {
   "cell_type": "markdown",
   "metadata": {},
   "source": [
    "## Split data"
   ]
  },
  {
   "cell_type": "markdown",
   "metadata": {},
   "source": [
    "- To train and test a model:\n",
    "    - First we will split our data into X_train, X_valid, y_train, y_valid dataset.\n",
    "    - Second, we have to handle categorical features - one hot encoding."
   ]
  },
  {
   "cell_type": "code",
   "execution_count": 26,
   "metadata": {},
   "outputs": [
    {
     "data": {
      "text/plain": [
       "Index(['Seats', 'Power(kW)', 'CO2 emissions(g/km)', 'Mileage(km)',\n",
       "       'Consumption(l/100km or kWh/100km)', 'Price(EUR)',\n",
       "       'Engine capacity(ccm)', 'Previous owners', 'Year', 'Make_Ferrari',\n",
       "       'Make_Rolls-Royce', 'Make_Lamborghini', 'Interior color_Beige interior',\n",
       "       'Interior color_Black interior', 'Interior color_Brown interior',\n",
       "       'Interior color_Grey interior', 'Interior color_Other interior color',\n",
       "       'Interior material_Alcantara interior',\n",
       "       'Interior material_Cloth interior',\n",
       "       'Interior material_Full leather interior',\n",
       "       'Interior material_Other interior material',\n",
       "       'Interior material_Part leather interior',\n",
       "       'Interior material_Velour interior', 'Body_Cabriolet', 'Body_Cargo VAN',\n",
       "       'Body_Coupe', 'Body_Hatchback', 'Body_MPV', 'Body_MPV/VAN',\n",
       "       'Body_Pick-up', 'Body_SUV / offroad', 'Body_Sedans / saloons',\n",
       "       'Body_Station Wagon', 'Doors_2/3 doors', 'Doors_4/5 doors',\n",
       "       'Doors_6/7 doors', 'Fuel_CNG', 'Fuel_Diesel', 'Fuel_Electric',\n",
       "       'Fuel_Hybrid', 'Fuel_LPG', 'Fuel_Other fuel type', 'Fuel_Petrol',\n",
       "       'Transmission_Automatic', 'Transmission_Manual', 'Drive type_4x2',\n",
       "       'Drive type_4x4', 'Emission class_Euro 4', 'Emission class_Euro 5',\n",
       "       'Emission class_Euro 6', 'Emission class_Euro 6c',\n",
       "       'Emission class_Euro 6d', 'Emission class_Euro 6d-TEMP',\n",
       "       'Emission class_No emission class', 'Condition_Demonstration car',\n",
       "       'Condition_New', 'Condition_Used', 'Ventilated front seats',\n",
       "       'Electric adjustable front seats', 'Air suspension', 'Digital cockpit'],\n",
       "      dtype='object')"
      ]
     },
     "execution_count": 26,
     "metadata": {},
     "output_type": "execute_result"
    }
   ],
   "source": [
    "del df['CARNAME'], df['Model']\n",
    "df.columns"
   ]
  },
  {
   "cell_type": "code",
   "execution_count": 27,
   "metadata": {},
   "outputs": [],
   "source": [
    "X = df.copy()\n",
    "y = X[\"Price(EUR)\"].copy()\n",
    "X.drop([\"Price(EUR)\"], axis=1, inplace=True)\n",
    "X_train, X_valid, y_train, y_valid = train_test_split(X, y,\n",
    "                                                      train_size=0.8, test_size=0.2,\n",
    "                                                      random_state=42)"
   ]
  },
  {
   "cell_type": "code",
   "execution_count": 28,
   "metadata": {},
   "outputs": [],
   "source": [
    "# from sklearn.preprocessing import OneHotEncoder\n",
    "\n",
    "# OH_encoder = OneHotEncoder(handle_unknown='ignore', sparse=False)\n",
    "\n",
    "# OH_cols_train = pd.DataFrame(OH_encoder.fit_transform(X_train[low_cardinality_cols]))\n",
    "# OH_cols_valid = pd.DataFrame(OH_encoder.transform(X_valid[low_cardinality_cols]))\n",
    "\n",
    "# OH_cols_train.index = X_train.index\n",
    "# OH_cols_valid.index = X_valid.index\n",
    "\n",
    "# num_X_train = X_train.drop(object_cols, axis=1)\n",
    "# num_X_valid = X_valid.drop(object_cols, axis=1)\n",
    "\n",
    "# OH_X_train = pd.concat([num_X_train, OH_cols_train], axis=1)\n",
    "# OH_X_valid = pd.concat([num_X_valid, OH_cols_valid], axis=1)\n",
    "# OH_X_train.columns = OH_X_train.columns.astype(str)\n",
    "# OH_X_valid.columns = OH_X_valid.columns.astype(str)"
   ]
  },
  {
   "cell_type": "markdown",
   "metadata": {},
   "source": [
    "## Train model, Test and make Prediction"
   ]
  },
  {
   "cell_type": "code",
   "execution_count": 29,
   "metadata": {},
   "outputs": [
    {
     "name": "stdout",
     "output_type": "stream",
     "text": [
      "5412.665882870948\n"
     ]
    }
   ],
   "source": [
    "from sklearn.ensemble import RandomForestRegressor\n",
    "from sklearn.metrics import mean_absolute_error\n",
    "\n",
    "# function for comparing different approaches\n",
    "def score_dataset(X_train, X_valid, y_train, y_valid):\n",
    "    model = RandomForestRegressor(n_estimators=850, random_state=42)\n",
    "    model.fit(X_train, y_train)\n",
    "    preds = model.predict(X_valid)\n",
    "    return mean_absolute_error(y_valid, preds)\n",
    "\n",
    "print(score_dataset(X_train, X_valid, y_train, y_valid))"
   ]
  }
 ],
 "metadata": {
  "kernelspec": {
   "display_name": "Python 3",
   "language": "python",
   "name": "python3"
  },
  "language_info": {
   "codemirror_mode": {
    "name": "ipython",
    "version": 3
   },
   "file_extension": ".py",
   "mimetype": "text/x-python",
   "name": "python",
   "nbconvert_exporter": "python",
   "pygments_lexer": "ipython3",
   "version": "3.10.11"
  }
 },
 "nbformat": 4,
 "nbformat_minor": 2
}
