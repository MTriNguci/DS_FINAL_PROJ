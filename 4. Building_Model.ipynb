{
 "cells": [
  {
   "cell_type": "markdown",
   "metadata": {},
   "source": [
    "# 4.Build Model"
   ]
  },
  {
   "cell_type": "code",
   "execution_count": 1,
   "metadata": {},
   "outputs": [],
   "source": [
    "import pandas as pd\n",
    "import numpy as np\n",
    "import matplotlib.pyplot as plt\n",
    "import seaborn as sns\n",
    "from sklearn.model_selection import train_test_split\n",
    "from sklearn.pipeline import Pipeline\n",
    "from sklearn.ensemble import RandomForestRegressor\n",
    "from sklearn.metrics import mean_absolute_error\n",
    "from sklearn.compose import ColumnTransformer\n",
    "from sklearn.preprocessing import OneHotEncoder\n",
    "from sklearn.preprocessing import FunctionTransformer, OneHotEncoder, RobustScaler\n",
    "from sklearn.neighbors import KNeighborsRegressor\n",
    "from sklearn.model_selection import cross_val_score"
   ]
  },
  {
   "cell_type": "markdown",
   "metadata": {},
   "source": [
    "## 4.1 Prepare data"
   ]
  },
  {
   "cell_type": "markdown",
   "metadata": {},
   "source": [
    "### 4.1.1 Read data and create a column `Year` to help increase a feature for training model."
   ]
  },
  {
   "cell_type": "markdown",
   "metadata": {},
   "source": [
    "add a column `Year` - distance from First Registration's Year of the car to now."
   ]
  },
  {
   "cell_type": "code",
   "execution_count": 2,
   "metadata": {},
   "outputs": [],
   "source": [
    "\n",
    "# read data from csv .\n",
    "# initially (before presentation, there is only from cleaned_data.csv)\n",
    "\n",
    "data_1 = pd.read_csv(\"data/cleaned_data.csv\",index_col=\"ID\")\n",
    "data_2 = pd.read_csv(\"data/cleaned_add_data.csv\", index_col=\"ID\")\n",
    "data_2[\"First registration\"] = pd.to_datetime(data_2[\"First registration\"])\n",
    "data = pd.concat([data_1, data_2])\n",
    "\n",
    "data[\"First registration\"] = pd.to_datetime(data[\"First registration\"])\n",
    "data[\"Year\"] = 2023 - data[\"First registration\"].dt.year \n",
    "data.drop(columns=[\"First registration\"],inplace=True)"
   ]
  },
  {
   "cell_type": "markdown",
   "metadata": {},
   "source": [
    "### 4.1.2 Find object columns and low cardinality columns"
   ]
  },
  {
   "cell_type": "markdown",
   "metadata": {},
   "source": [
    "Due to our data have many categorical columns, we have to do one hot encoding for training model. Before handling one-hot, we have to:\n",
    "- Find categorical (object) columns.\n",
    "- Find columns that have low cardinality.\n",
    "\n",
    "Why have to find columns that have low cardinality?\n",
    "- For large datasets with many rows, one-hot encoding can greatly expand the size of the dataset.  For this reason, we typically will only one-hot encode columns with relatively low cardinality.  Then, high cardinality columns can either be dropped from the dataset, or we can use ordinal encoding."
   ]
  },
  {
   "cell_type": "code",
   "execution_count": 3,
   "metadata": {},
   "outputs": [
    {
     "name": "stdout",
     "output_type": "stream",
     "text": [
      "Categorical variables:\n",
      "['CARNAME', 'Make', 'Model', 'Body color', 'Interior color', 'Interior material', 'Body', 'Doors', 'Fuel', 'Transmission', 'Drive type', 'Emission class', 'Condition', 'Tags']\n",
      "Low cardinality col:\n",
      "['Interior color', 'Interior material', 'Doors', 'Fuel', 'Transmission', 'Drive type', 'Emission class', 'Condition']\n"
     ]
    }
   ],
   "source": [
    "s = (data.dtypes == 'object')\n",
    "object_cols = list(s[s].index)\n",
    "print(\"Categorical variables:\")\n",
    "print(object_cols)\n",
    "\n",
    "low_cardinality_cols = [col for col in object_cols if data[col].nunique() < 10]\n",
    "# low_cardinality_cols.append(\"Make\")\n",
    "print(\"Low cardinality col:\")\n",
    "print (low_cardinality_cols)"
   ]
  },
  {
   "cell_type": "markdown",
   "metadata": {},
   "source": [
    "### 4.1.3 Find tags\n"
   ]
  },
  {
   "cell_type": "markdown",
   "metadata": {},
   "source": [
    "- Due to the column `Tags` is a multiple value column, we have to choose which tag (special function) to do one hot encoding and put to the model "
   ]
  },
  {
   "cell_type": "code",
   "execution_count": 4,
   "metadata": {},
   "outputs": [
    {
     "data": {
      "text/plain": [
       "Index(['Ventilated front seats', 'Air suspension',\n",
       "       'Electric adjustable front seats', 'Burmester audio',\n",
       "       'Heated rear seats', 'Digital cockpit', 'Adaptive cruise control',\n",
       "       'Keyless entry'],\n",
       "      dtype='object')"
      ]
     },
     "execution_count": 4,
     "metadata": {},
     "output_type": "execute_result"
    }
   ],
   "source": [
    "\n",
    "one_hot_tags =  data[[\"Price(EUR)\",\"Tags\"]].copy()\n",
    "# scaler = RobustScaler()\n",
    "# # Fit và transform dữ liệu\n",
    "# one_hot_tags['Price(EUR)'] = scaler.fit_transform(one_hot_tags[['Price(EUR)']]) \n",
    "\n",
    "# Get each tag in each multiple value row\n",
    "tags = one_hot_tags['Tags'].str.split('; ', expand=True)\n",
    "\n",
    "# Stack to make the DataFrame long, then get_dummies and group by index before summing\n",
    "get_dummy = pd.get_dummies(tags.stack()).groupby(level=0).sum()\n",
    "\n",
    "# Join the one-hot encoded DataFrame back to the original DataFrame\n",
    "one_hot_tags = one_hot_tags.join(get_dummy)\n",
    "\n",
    "# Drop the `Tags` because we dont need it anymore\n",
    "one_hot_tags = one_hot_tags.drop(\"Tags\",axis=1)\n",
    "\n",
    "# Calculate correlation with 'Price(EUR)'\n",
    "correlation = one_hot_tags.corr()['Price(EUR)']\n",
    "\n",
    "# Get the top 10 tags with highest correlation with 'Price(EUR)'\n",
    "top_10_corr_tags = correlation.nlargest(9).index\n",
    "\n",
    "# Select only the top 10 tags with highest correlation with 'Price(EUR)'\n",
    "one_hot_tags = one_hot_tags[top_10_corr_tags].drop([\"Price(EUR)\"],axis=1)\n",
    "\n",
    "one_hot_tags.columns\n"
   ]
  },
  {
   "cell_type": "markdown",
   "metadata": {},
   "source": [
    "### 4.1.4 Find top Car Manufacturers that have high correlation rate with Price"
   ]
  },
  {
   "cell_type": "code",
   "execution_count": 5,
   "metadata": {},
   "outputs": [
    {
     "data": {
      "text/plain": [
       "Index(['Ferrari', 'Others'], dtype='object')"
      ]
     },
     "execution_count": 5,
     "metadata": {},
     "output_type": "execute_result"
    }
   ],
   "source": [
    "one_hot_Make = pd.get_dummies(data['Make'])\n",
    "data_encoded = data[['Price(EUR)']].join(one_hot_Make)\n",
    "\n",
    "\n",
    "correlation = data_encoded.corr()['Price(EUR)']\n",
    "\n",
    "#LẤy ra top 8 make có tương quan cao nhất > 0.25\n",
    "top_10_Make = correlation[correlation >= 0.25].index\n",
    "top_10_Make = top_10_Make.drop(\"Price(EUR)\")\n",
    "\n",
    "one_hot_Make = one_hot_Make[top_10_Make]\n",
    "one_hot_Make['Others'] = (one_hot_Make.sum(axis=1) == 0)\n",
    "one_hot_Make.columns\n"
   ]
  },
  {
   "cell_type": "markdown",
   "metadata": {},
   "source": [
    "## 4.2 Split data"
   ]
  },
  {
   "cell_type": "markdown",
   "metadata": {},
   "source": [
    "- To train and test a model:\n",
    "    - First we do some simple step to get **train set** and **test set**.\n",
    "    - Second, we have to handle categorical features - one hot encoding.\n",
    "- Last update (After presentation): \n",
    "    - we add a test set to test the K-neighbour Regression Model."
   ]
  },
  {
   "cell_type": "code",
   "execution_count": 6,
   "metadata": {},
   "outputs": [
    {
     "name": "stdout",
     "output_type": "stream",
     "text": [
      "(2636, 26)\n",
      "Index(['Interior color', 'Interior material', 'Doors', 'Fuel', 'Transmission',\n",
      "       'Drive type', 'Emission class', 'Condition', 'Seats', 'Power(kW)',\n",
      "       'CO2 emissions(g/km)', 'Mileage(km)',\n",
      "       'Consumption(l/100km or kWh/100km)', 'Engine capacity(ccm)',\n",
      "       'Previous owners', 'Year', 'Ventilated front seats', 'Air suspension',\n",
      "       'Electric adjustable front seats', 'Burmester audio',\n",
      "       'Heated rear seats', 'Digital cockpit', 'Adaptive cruise control',\n",
      "       'Keyless entry', 'Ferrari', 'Others'],\n",
      "      dtype='object')\n"
     ]
    }
   ],
   "source": [
    "numerical_cols = [cname for cname in data.columns if \n",
    "                data[cname].dtype in ['int64', 'float64', 'int32']]\n",
    "\n",
    "# Keep selected columns only\n",
    "my_cols = low_cardinality_cols + numerical_cols\n",
    "\n",
    "X = data[my_cols].copy().reset_index(drop=True)\n",
    "one_hot_tags = one_hot_tags.reset_index(drop=True)\n",
    "one_hot_Make = one_hot_Make.reset_index(drop=True)\n",
    "\n",
    "X = pd.concat([X, one_hot_tags, one_hot_Make], axis=1)\n",
    "y = X[\"Price(EUR)\"].copy()\n",
    "X.drop([\"Price(EUR)\"], axis=1, inplace=True)\n",
    "\n",
    "X_train, X_test, y_train, y_test = train_test_split(X, y,\n",
    "                                                      train_size=0.5, test_size=0.5,\n",
    "                                                      random_state=0)\n",
    "\n",
    "print(X_train.shape)\n",
    "print(X_train.columns)\n",
    "\n",
    "\n",
    "\n"
   ]
  },
  {
   "cell_type": "markdown",
   "metadata": {},
   "source": [
    "## 4.3 Create a PipeLine for Cross Validation"
   ]
  },
  {
   "cell_type": "markdown",
   "metadata": {},
   "source": [
    "### First, we have to define transformer for the Pipeline"
   ]
  },
  {
   "cell_type": "markdown",
   "metadata": {},
   "source": [
    "Transformer:\n",
    "- Preprocess Categorical columns.\n",
    "- Handle outliers in numerical columns."
   ]
  },
  {
   "cell_type": "code",
   "execution_count": 7,
   "metadata": {},
   "outputs": [],
   "source": [
    "# Preprocessing for numerical data\n",
    "numerical_transformer = Pipeline(steps=[\n",
    "    ('robustscaler', RobustScaler(with_centering=False)),\n",
    "])\n",
    "\n",
    "# Preprocessing for categorical data\n",
    "categorical_transformer = Pipeline(steps=[\n",
    "    ('onehot', OneHotEncoder(handle_unknown='ignore'))\n",
    "])\n",
    "\n",
    "# Exclude 'Price(EUR)' from numerical_cols\n",
    "numerical_cols_to_transform = [col for col in numerical_cols if col != 'Price(EUR)']\n",
    "\n",
    "# Bundle preprocessing for numerical and categorical data\n",
    "preprocessor = ColumnTransformer(\n",
    "    transformers=[\n",
    "        ('num', numerical_transformer, numerical_cols_to_transform),\n",
    "        ('cat', categorical_transformer, low_cardinality_cols)\n",
    "    ])"
   ]
  },
  {
   "cell_type": "markdown",
   "metadata": {},
   "source": [
    "### Second: Fit model and Predict"
   ]
  },
  {
   "cell_type": "code",
   "execution_count": 8,
   "metadata": {},
   "outputs": [
    {
     "name": "stdout",
     "output_type": "stream",
     "text": [
      "MAE: 4947.7315679794865\n"
     ]
    }
   ],
   "source": [
    "my_pipeline = Pipeline(steps=[('preprocessor', preprocessor),\n",
    "                              ('model', RandomForestRegressor(n_estimators=250))\n",
    "                             ])\n",
    "\n",
    "my_pipeline.fit(X_train, y_train)\n",
    "\n",
    "# Preprocessing of validation data, get predictions\n",
    "preds = my_pipeline.predict(X_test)\n",
    "\n",
    "# Evaluate the model\n",
    "score = mean_absolute_error(y_test, preds)\n",
    "print('MAE:', score)"
   ]
  },
  {
   "cell_type": "code",
   "execution_count": 9,
   "metadata": {},
   "outputs": [
    {
     "name": "stdout",
     "output_type": "stream",
     "text": [
      "MAE: 6882.241183162685\n"
     ]
    }
   ],
   "source": [
    "my_pipeline = Pipeline(steps=[('preprocessor', preprocessor),\n",
    "                              ('model', KNeighborsRegressor(n_neighbors=5))\n",
    "                             ])\n",
    "\n",
    "my_pipeline.fit(X_train, y_train)\n",
    "\n",
    "# Preprocessing of validation data, get predictions\n",
    "preds = my_pipeline.predict(X_test)\n",
    "\n",
    "# Evaluate the model\n",
    "score = mean_absolute_error(y_test, preds)\n",
    "print('MAE:', score)\n"
   ]
  },
  {
   "cell_type": "markdown",
   "metadata": {},
   "source": [
    "## 4.4 Cross Validation & Adjust Parameter\n"
   ]
  },
  {
   "cell_type": "markdown",
   "metadata": {},
   "source": [
    "Find the best \"n_estimators\" for RandomForestRegressor"
   ]
  },
  {
   "cell_type": "code",
   "execution_count": 10,
   "metadata": {},
   "outputs": [
    {
     "name": "stdout",
     "output_type": "stream",
     "text": [
      "--------50 estimators--------\n",
      "MAE: 5130.73093037655\n",
      "--------100 estimators--------\n",
      "MAE: 5066.149952941159\n",
      "--------150 estimators--------\n",
      "MAE: 5053.450842178677\n",
      "--------200 estimators--------\n",
      "MAE: 5054.5994164281055\n",
      "--------250 estimators--------\n",
      "MAE: 5059.770976811351\n",
      "--------300 estimators--------\n",
      "MAE: 5053.0217121033\n",
      "--------350 estimators--------\n",
      "MAE: 5057.290783789078\n"
     ]
    },
    {
     "data": {
      "image/png": "[encoded data removed]",
      "text/plain": [
       "<Figure size 640x480 with 1 Axes>"
      ]
     },
     "metadata": {},
     "output_type": "display_data"
    }
   ],
   "source": [
    "def get_score(n_estimate):\n",
    "    my_pipeline = Pipeline(steps=[('preprocessor', preprocessor),\n",
    "                              ('model', RandomForestRegressor(n_estimators = n_estimate,\n",
    "                                                              random_state=0))\n",
    "                             ])\n",
    "    scores = -1 * cross_val_score(my_pipeline, X_train, y_train ,\n",
    "                                    cv=5,\n",
    "                                    scoring='neg_mean_absolute_error')\n",
    "    return scores.mean()\n",
    "\n",
    "\n",
    "results = {}\n",
    "for i in range(1,8):\n",
    "    print(f'--------{50*i} estimators--------')\n",
    "    mae = get_score(50*i)\n",
    "    print(f'MAE: {mae}')\n",
    "    results[50*i] = mae\n",
    "\n",
    "%matplotlib inline\n",
    "\n",
    "plt.plot(list(results.keys()), list(results.values()))\n",
    "plt.show()"
   ]
  },
  {
   "cell_type": "markdown",
   "metadata": {},
   "source": [
    "Find the best k for KNN ( After presentation)"
   ]
  },
  {
   "cell_type": "code",
   "execution_count": 11,
   "metadata": {},
   "outputs": [
    {
     "data": {
      "image/png": "[encoded data removed]",
      "text/plain": [
       "<Figure size 640x480 with 1 Axes>"
      ]
     },
     "metadata": {},
     "output_type": "display_data"
    },
    {
     "data": {
      "text/plain": [
       "(4, 6913.114757633259)"
      ]
     },
     "execution_count": 11,
     "metadata": {},
     "output_type": "execute_result"
    }
   ],
   "source": [
    "def get_score(n):\n",
    "    my_pipeline = Pipeline(steps=[('preprocessor', preprocessor),\n",
    "                                ('model', KNeighborsRegressor(n_neighbors=n))\n",
    "                                ])\n",
    "    scores = -1 * cross_val_score(my_pipeline, X_train, y_train ,\n",
    "                                    cv=5,\n",
    "                                    scoring='neg_mean_absolute_error')\n",
    "    return scores.mean()\n",
    "\n",
    "\n",
    "results = {}\n",
    "for i in range(1,20):\n",
    "    mae = get_score(i)\n",
    "    results[i] = mae\n",
    "\n",
    "%matplotlib inline\n",
    "\n",
    "plt.plot(list(results.keys()), list(results.values()))\n",
    "plt.show()\n",
    "\n",
    "#In ra giá trị nhỏ nhất và mae tương ứng\n",
    "min(results.items(), key=lambda x: x[1])"
   ]
  },
  {
   "cell_type": "markdown",
   "metadata": {},
   "source": [
    "- As we can see, with **n_estimators** = 150, our random forest model seems result the most optimal MAE.\n",
    "- With **n_neighbors** = 4, our KNN model seems result the most optimal MAE."
   ]
  },
  {
   "cell_type": "markdown",
   "metadata": {},
   "source": [
    "## 4.5 Train, Test and Save model"
   ]
  },
  {
   "cell_type": "markdown",
   "metadata": {},
   "source": [
    "Setting up two machine learning algorithms with optimal parameters."
   ]
  },
  {
   "cell_type": "code",
   "execution_count": 12,
   "metadata": {},
   "outputs": [
    {
     "data": {
      "text/html": [
       "<style>#sk-container-id-1 {color: black;}#sk-container-id-1 pre{padding: 0;}#sk-container-id-1 div.sk-toggleable {background-color: white;}#sk-container-id-1 label.sk-toggleable__label {cursor: pointer;display: block;width: 100%;margin-bottom: 0;padding: 0.3em;box-sizing: border-box;text-align: center;}#sk-container-id-1 label.sk-toggleable__label-arrow:before {content: \"▸\";float: left;margin-right: 0.25em;color: #696969;}#sk-container-id-1 label.sk-toggleable__label-arrow:hover:before {color: black;}#sk-container-id-1 div.sk-estimator:hover label.sk-toggleable__label-arrow:before {color: black;}#sk-container-id-1 div.sk-toggleable__content {max-height: 0;max-width: 0;overflow: hidden;text-align: left;background-color: #f0f8ff;}#sk-container-id-1 div.sk-toggleable__content pre {margin: 0.2em;color: black;border-radius: 0.25em;background-color: #f0f8ff;}#sk-container-id-1 input.sk-toggleable__control:checked~div.sk-toggleable__content {max-height: 200px;max-width: 100%;overflow: auto;}#sk-container-id-1 input.sk-toggleable__control:checked~label.sk-toggleable__label-arrow:before {content: \"▾\";}#sk-container-id-1 div.sk-estimator input.sk-toggleable__control:checked~label.sk-toggleable__label {background-color: #d4ebff;}#sk-container-id-1 div.sk-label input.sk-toggleable__control:checked~label.sk-toggleable__label {background-color: #d4ebff;}#sk-container-id-1 input.sk-hidden--visually {border: 0;clip: rect(1px 1px 1px 1px);clip: rect(1px, 1px, 1px, 1px);height: 1px;margin: -1px;overflow: hidden;padding: 0;position: absolute;width: 1px;}#sk-container-id-1 div.sk-estimator {font-family: monospace;background-color: #f0f8ff;border: 1px dotted black;border-radius: 0.25em;box-sizing: border-box;margin-bottom: 0.5em;}#sk-container-id-1 div.sk-estimator:hover {background-color: #d4ebff;}#sk-container-id-1 div.sk-parallel-item::after {content: \"\";width: 100%;border-bottom: 1px solid gray;flex-grow: 1;}#sk-container-id-1 div.sk-label:hover label.sk-toggleable__label {background-color: #d4ebff;}#sk-container-id-1 div.sk-serial::before {content: \"\";position: absolute;border-left: 1px solid gray;box-sizing: border-box;top: 0;bottom: 0;left: 50%;z-index: 0;}#sk-container-id-1 div.sk-serial {display: flex;flex-direction: column;align-items: center;background-color: white;padding-right: 0.2em;padding-left: 0.2em;position: relative;}#sk-container-id-1 div.sk-item {position: relative;z-index: 1;}#sk-container-id-1 div.sk-parallel {display: flex;align-items: stretch;justify-content: center;background-color: white;position: relative;}#sk-container-id-1 div.sk-item::before, #sk-container-id-1 div.sk-parallel-item::before {content: \"\";position: absolute;border-left: 1px solid gray;box-sizing: border-box;top: 0;bottom: 0;left: 50%;z-index: -1;}#sk-container-id-1 div.sk-parallel-item {display: flex;flex-direction: column;z-index: 1;position: relative;background-color: white;}#sk-container-id-1 div.sk-parallel-item:first-child::after {align-self: flex-end;width: 50%;}#sk-container-id-1 div.sk-parallel-item:last-child::after {align-self: flex-start;width: 50%;}#sk-container-id-1 div.sk-parallel-item:only-child::after {width: 0;}#sk-container-id-1 div.sk-dashed-wrapped {border: 1px dashed gray;margin: 0 0.4em 0.5em 0.4em;box-sizing: border-box;padding-bottom: 0.4em;background-color: white;}#sk-container-id-1 div.sk-label label {font-family: monospace;font-weight: bold;display: inline-block;line-height: 1.2em;}#sk-container-id-1 div.sk-label-container {text-align: center;}#sk-container-id-1 div.sk-container {/* jupyter's `normalize.less` sets `[hidden] { display: none; }` but bootstrap.min.css set `[hidden] { display: none !important; }` so we also need the `!important` here to be able to override the default hidden behavior on the sphinx rendered scikit-learn.org. See: https://github.com/scikit-learn/scikit-learn/issues/21755 */display: inline-block !important;position: relative;}#sk-container-id-1 div.sk-text-repr-fallback {display: none;}</style><div id=\"sk-container-id-1\" class=\"sk-top-container\"><div class=\"sk-text-repr-fallback\"><pre>Pipeline(steps=[(&#x27;preprocessor&#x27;,\n",
       "                 ColumnTransformer(transformers=[(&#x27;num&#x27;,\n",
       "                                                  Pipeline(steps=[(&#x27;robustscaler&#x27;,\n",
       "                                                                   RobustScaler(with_centering=False))]),\n",
       "                                                  [&#x27;Seats&#x27;, &#x27;Power(kW)&#x27;,\n",
       "                                                   &#x27;CO2 emissions(g/km)&#x27;,\n",
       "                                                   &#x27;Mileage(km)&#x27;,\n",
       "                                                   &#x27;Consumption(l/100km or &#x27;\n",
       "                                                   &#x27;kWh/100km)&#x27;,\n",
       "                                                   &#x27;Engine capacity(ccm)&#x27;,\n",
       "                                                   &#x27;Previous owners&#x27;, &#x27;Year&#x27;]),\n",
       "                                                 (&#x27;cat&#x27;,\n",
       "                                                  Pipeline(steps=[(&#x27;onehot&#x27;,\n",
       "                                                                   OneHotEncoder(handle_unknown=&#x27;ignore&#x27;))]),\n",
       "                                                  [&#x27;Interior color&#x27;,\n",
       "                                                   &#x27;Interior material&#x27;, &#x27;Doors&#x27;,\n",
       "                                                   &#x27;Fuel&#x27;, &#x27;Transmission&#x27;,\n",
       "                                                   &#x27;Drive type&#x27;,\n",
       "                                                   &#x27;Emission class&#x27;,\n",
       "                                                   &#x27;Condition&#x27;])])),\n",
       "                (&#x27;model&#x27;, KNeighborsRegressor(n_neighbors=4))])</pre><b>In a Jupyter environment, please rerun this cell to show the HTML representation or trust the notebook. <br />On GitHub, the HTML representation is unable to render, please try loading this page with nbviewer.org.</b></div><div class=\"sk-container\" hidden><div class=\"sk-item sk-dashed-wrapped\"><div class=\"sk-label-container\"><div class=\"sk-label sk-toggleable\"><input class=\"sk-toggleable__control sk-hidden--visually\" id=\"sk-estimator-id-1\" type=\"checkbox\" ><label for=\"sk-estimator-id-1\" class=\"sk-toggleable__label sk-toggleable__label-arrow\">Pipeline</label><div class=\"sk-toggleable__content\"><pre>Pipeline(steps=[(&#x27;preprocessor&#x27;,\n",
       "                 ColumnTransformer(transformers=[(&#x27;num&#x27;,\n",
       "                                                  Pipeline(steps=[(&#x27;robustscaler&#x27;,\n",
       "                                                                   RobustScaler(with_centering=False))]),\n",
       "                                                  [&#x27;Seats&#x27;, &#x27;Power(kW)&#x27;,\n",
       "                                                   &#x27;CO2 emissions(g/km)&#x27;,\n",
       "                                                   &#x27;Mileage(km)&#x27;,\n",
       "                                                   &#x27;Consumption(l/100km or &#x27;\n",
       "                                                   &#x27;kWh/100km)&#x27;,\n",
       "                                                   &#x27;Engine capacity(ccm)&#x27;,\n",
       "                                                   &#x27;Previous owners&#x27;, &#x27;Year&#x27;]),\n",
       "                                                 (&#x27;cat&#x27;,\n",
       "                                                  Pipeline(steps=[(&#x27;onehot&#x27;,\n",
       "                                                                   OneHotEncoder(handle_unknown=&#x27;ignore&#x27;))]),\n",
       "                                                  [&#x27;Interior color&#x27;,\n",
       "                                                   &#x27;Interior material&#x27;, &#x27;Doors&#x27;,\n",
       "                                                   &#x27;Fuel&#x27;, &#x27;Transmission&#x27;,\n",
       "                                                   &#x27;Drive type&#x27;,\n",
       "                                                   &#x27;Emission class&#x27;,\n",
       "                                                   &#x27;Condition&#x27;])])),\n",
       "                (&#x27;model&#x27;, KNeighborsRegressor(n_neighbors=4))])</pre></div></div></div><div class=\"sk-serial\"><div class=\"sk-item sk-dashed-wrapped\"><div class=\"sk-label-container\"><div class=\"sk-label sk-toggleable\"><input class=\"sk-toggleable__control sk-hidden--visually\" id=\"sk-estimator-id-2\" type=\"checkbox\" ><label for=\"sk-estimator-id-2\" class=\"sk-toggleable__label sk-toggleable__label-arrow\">preprocessor: ColumnTransformer</label><div class=\"sk-toggleable__content\"><pre>ColumnTransformer(transformers=[(&#x27;num&#x27;,\n",
       "                                 Pipeline(steps=[(&#x27;robustscaler&#x27;,\n",
       "                                                  RobustScaler(with_centering=False))]),\n",
       "                                 [&#x27;Seats&#x27;, &#x27;Power(kW)&#x27;, &#x27;CO2 emissions(g/km)&#x27;,\n",
       "                                  &#x27;Mileage(km)&#x27;,\n",
       "                                  &#x27;Consumption(l/100km or kWh/100km)&#x27;,\n",
       "                                  &#x27;Engine capacity(ccm)&#x27;, &#x27;Previous owners&#x27;,\n",
       "                                  &#x27;Year&#x27;]),\n",
       "                                (&#x27;cat&#x27;,\n",
       "                                 Pipeline(steps=[(&#x27;onehot&#x27;,\n",
       "                                                  OneHotEncoder(handle_unknown=&#x27;ignore&#x27;))]),\n",
       "                                 [&#x27;Interior color&#x27;, &#x27;Interior material&#x27;,\n",
       "                                  &#x27;Doors&#x27;, &#x27;Fuel&#x27;, &#x27;Transmission&#x27;, &#x27;Drive type&#x27;,\n",
       "                                  &#x27;Emission class&#x27;, &#x27;Condition&#x27;])])</pre></div></div></div><div class=\"sk-parallel\"><div class=\"sk-parallel-item\"><div class=\"sk-item\"><div class=\"sk-label-container\"><div class=\"sk-label sk-toggleable\"><input class=\"sk-toggleable__control sk-hidden--visually\" id=\"sk-estimator-id-3\" type=\"checkbox\" ><label for=\"sk-estimator-id-3\" class=\"sk-toggleable__label sk-toggleable__label-arrow\">num</label><div class=\"sk-toggleable__content\"><pre>[&#x27;Seats&#x27;, &#x27;Power(kW)&#x27;, &#x27;CO2 emissions(g/km)&#x27;, &#x27;Mileage(km)&#x27;, &#x27;Consumption(l/100km or kWh/100km)&#x27;, &#x27;Engine capacity(ccm)&#x27;, &#x27;Previous owners&#x27;, &#x27;Year&#x27;]</pre></div></div></div><div class=\"sk-serial\"><div class=\"sk-item\"><div class=\"sk-serial\"><div class=\"sk-item\"><div class=\"sk-estimator sk-toggleable\"><input class=\"sk-toggleable__control sk-hidden--visually\" id=\"sk-estimator-id-4\" type=\"checkbox\" ><label for=\"sk-estimator-id-4\" class=\"sk-toggleable__label sk-toggleable__label-arrow\">RobustScaler</label><div class=\"sk-toggleable__content\"><pre>RobustScaler(with_centering=False)</pre></div></div></div></div></div></div></div></div><div class=\"sk-parallel-item\"><div class=\"sk-item\"><div class=\"sk-label-container\"><div class=\"sk-label sk-toggleable\"><input class=\"sk-toggleable__control sk-hidden--visually\" id=\"sk-estimator-id-5\" type=\"checkbox\" ><label for=\"sk-estimator-id-5\" class=\"sk-toggleable__label sk-toggleable__label-arrow\">cat</label><div class=\"sk-toggleable__content\"><pre>[&#x27;Interior color&#x27;, &#x27;Interior material&#x27;, &#x27;Doors&#x27;, &#x27;Fuel&#x27;, &#x27;Transmission&#x27;, &#x27;Drive type&#x27;, &#x27;Emission class&#x27;, &#x27;Condition&#x27;]</pre></div></div></div><div class=\"sk-serial\"><div class=\"sk-item\"><div class=\"sk-serial\"><div class=\"sk-item\"><div class=\"sk-estimator sk-toggleable\"><input class=\"sk-toggleable__control sk-hidden--visually\" id=\"sk-estimator-id-6\" type=\"checkbox\" ><label for=\"sk-estimator-id-6\" class=\"sk-toggleable__label sk-toggleable__label-arrow\">OneHotEncoder</label><div class=\"sk-toggleable__content\"><pre>OneHotEncoder(handle_unknown=&#x27;ignore&#x27;)</pre></div></div></div></div></div></div></div></div></div></div><div class=\"sk-item\"><div class=\"sk-estimator sk-toggleable\"><input class=\"sk-toggleable__control sk-hidden--visually\" id=\"sk-estimator-id-7\" type=\"checkbox\" ><label for=\"sk-estimator-id-7\" class=\"sk-toggleable__label sk-toggleable__label-arrow\">KNeighborsRegressor</label><div class=\"sk-toggleable__content\"><pre>KNeighborsRegressor(n_neighbors=4)</pre></div></div></div></div></div></div></div>"
      ],
      "text/plain": [
       "Pipeline(steps=[('preprocessor',\n",
       "                 ColumnTransformer(transformers=[('num',\n",
       "                                                  Pipeline(steps=[('robustscaler',\n",
       "                                                                   RobustScaler(with_centering=False))]),\n",
       "                                                  ['Seats', 'Power(kW)',\n",
       "                                                   'CO2 emissions(g/km)',\n",
       "                                                   'Mileage(km)',\n",
       "                                                   'Consumption(l/100km or '\n",
       "                                                   'kWh/100km)',\n",
       "                                                   'Engine capacity(ccm)',\n",
       "                                                   'Previous owners', 'Year']),\n",
       "                                                 ('cat',\n",
       "                                                  Pipeline(steps=[('onehot',\n",
       "                                                                   OneHotEncoder(handle_unknown='ignore'))]),\n",
       "                                                  ['Interior color',\n",
       "                                                   'Interior material', 'Doors',\n",
       "                                                   'Fuel', 'Transmission',\n",
       "                                                   'Drive type',\n",
       "                                                   'Emission class',\n",
       "                                                   'Condition'])])),\n",
       "                ('model', KNeighborsRegressor(n_neighbors=4))])"
      ]
     },
     "execution_count": 12,
     "metadata": {},
     "output_type": "execute_result"
    }
   ],
   "source": [
    "# pipe line for deploy model\n",
    "my_pipeline_rf = Pipeline(steps=[('preprocessor', preprocessor),\n",
    "                              ('model', RandomForestRegressor(n_estimators = 150,\n",
    "                                                              random_state=0))\n",
    "                             ])\n",
    "\n",
    "my_pipeline_knn = Pipeline(steps=[('preprocessor', preprocessor),\n",
    "                                ('model', KNeighborsRegressor(n_neighbors=4))\n",
    "                                ])\n",
    "\n",
    "my_pipeline_rf.fit(X_train, y_train)\n",
    "my_pipeline_knn.fit(X_train, y_train)"
   ]
  },
  {
   "cell_type": "markdown",
   "metadata": {},
   "source": [
    "Prediction and evaluation."
   ]
  },
  {
   "cell_type": "code",
   "execution_count": 13,
   "metadata": {},
   "outputs": [
    {
     "name": "stdout",
     "output_type": "stream",
     "text": [
      "MAE of Random Forest Regression: 4974.824406642951\n",
      "MAE of KNN: 6884.3572241183165\n"
     ]
    }
   ],
   "source": [
    "rf = my_pipeline_rf.predict(X_test)\n",
    "knn = my_pipeline_knn.predict(X_test)\n",
    "\n",
    "# Evaluate the model\n",
    "score = mean_absolute_error(y_test, rf)\n",
    "print('MAE of Random Forest Regression:', score)\n",
    "score = mean_absolute_error(y_test, knn)\n",
    "print('MAE of KNN:', score)\n"
   ]
  },
  {
   "cell_type": "markdown",
   "metadata": {},
   "source": [
    "As can be seen above, the RandomForestRegressor algorithm tends to provide higher accuracy compared to KNeighborsRegressor, but in return, KNeighborsRegressor has a much faster execution speed than RandomForestRegressor. This represents a trade-off in machine learning."
   ]
  },
  {
   "cell_type": "code",
   "execution_count": 14,
   "metadata": {},
   "outputs": [
    {
     "name": "stdout",
     "output_type": "stream",
     "text": [
      "Model 1 dumped!\n",
      "Model 2 dumped!\n"
     ]
    }
   ],
   "source": [
    "# Save model for deploy \n",
    "import joblib\n",
    "joblib.dump(my_pipeline_rf, 'deploy/model_rf.pkl')\n",
    "print(\"Model 1 dumped!\")\n",
    "\n",
    "joblib.dump(my_pipeline_knn, 'deploy/model_knn.pkl')\n",
    "print(\"Model 2 dumped!\")"
   ]
  }
 ],
 "metadata": {
  "kernelspec": {
   "display_name": "Python 3 (ipykernel)",
   "language": "python",
   "name": "python3"
  },
  "language_info": {
   "codemirror_mode": {
    "name": "ipython",
    "version": 3
   },
   "file_extension": ".py",
   "mimetype": "text/x-python",
   "name": "python",
   "nbconvert_exporter": "python",
   "pygments_lexer": "ipython3",
   "version": "3.9.18"
  }
 },
 "nbformat": 4,
 "nbformat_minor": 2
}
